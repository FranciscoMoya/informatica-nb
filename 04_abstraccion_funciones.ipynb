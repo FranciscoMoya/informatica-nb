{
  "nbformat": 4,
  "nbformat_minor": 0,
  "metadata": {
    "celltoolbar": "Attachments",
    "hide_code_all_hidden": true,
    "kernelspec": {
      "name": "python3",
      "display_name": "Python 3",
      "language": "python"
    },
    "language_info": {
      "mimetype": "text/x-python",
      "nbconvert_exporter": "python",
      "name": "python",
      "pygments_lexer": "ipython3",
      "version": "3.5.4",
      "file_extension": ".py",
      "codemirror_mode": {
        "version": 3,
        "name": "ipython"
      }
    },
    "colab": {
      "name": "04_abstraccion_funciones.ipynb",
      "provenance": [],
      "include_colab_link": true
    }
  },
  "cells": [
    {
      "cell_type": "markdown",
      "metadata": {
        "id": "view-in-github",
        "colab_type": "text"
      },
      "source": [
        "<a href=\"https://colab.research.google.com/github/FranciscoMoya/informatica-nb/blob/master/04_abstraccion_funciones.ipynb\" target=\"_parent\"><img src=\"https://colab.research.google.com/assets/colab-badge.svg\" alt=\"Open In Colab\"/></a>"
      ]
    },
    {
      "cell_type": "markdown",
      "metadata": {
        "collapsed": true,
        "hideCode": false,
        "hidePrompt": false,
        "id": "2vtFvv25GIVG"
      },
      "source": [
        "# Abstracción con funciones\n",
        "\n",
        "* Ámbitos de declaración\n",
        "* Especificación de software\n",
        "* Recursión\n",
        "* Diseño descendente (*top-down*)"
      ]
    },
    {
      "cell_type": "markdown",
      "metadata": {
        "collapsed": true,
        "hideCode": false,
        "hidePrompt": false,
        "id": "dm0KvuUoGIVH"
      },
      "source": [
        "# Funciones en Python\n",
        "\n",
        "* Elementos de la definición\n",
        "  * Palabra reservada `def` y **nombre**\n",
        "  * Parámetros formales\n",
        "  * Cuerpo de la función\n",
        "    * Sentencia `return`"
      ]
    },
    {
      "cell_type": "code",
      "metadata": {
        "hideCode": false,
        "hidePrompt": false,
        "trusted": false,
        "id": "_bFnIcJVGIVI"
      },
      "source": [
        "def max(x, y):\n",
        "    if x > y:\n",
        "        return x\n",
        "    return y"
      ],
      "execution_count": null,
      "outputs": []
    },
    {
      "cell_type": "markdown",
      "metadata": {
        "hideCode": false,
        "hidePrompt": false,
        "id": "FLir_d1rGIVL"
      },
      "source": [
        "La palabra `def` es una palabra reservada que le dice a Python que se va a definir una función. El nombre (en este caso `max`) se usa para referirse a esta función.  La secuencia de nombres entre paréntesis (`x , y` en este ejemplo) son los parámetros formales de la función.\n",
        "\n",
        "El cuerpo de la función es cualquier fragmento de código Python.  Además tenemos una sentencia especial, `return`, que solo puede usarse en el cuerpo de una función.  Como cualquier expresión, la expresión de llamada o invocación a una función también tiene un valor, que es devuelto con ayuda de `return`.\n",
        "\n",
        "Por ejemplo `max(3,4)*max(3,2)` es 12 , porque la primera invocación de `max` devuelve 4 y la segunda devuelve 3.  Es importante recordar que `return` termina la invocación de la función.  Por ese motivo no es necesaria una cláusula `else` en este caso."
      ]
    },
    {
      "cell_type": "markdown",
      "metadata": {
        "hideCode": false,
        "hidePrompt": false,
        "id": "lp0NeNv3GIVM"
      },
      "source": [
        "# Expresión de llamada\n",
        "\n",
        "* Llamar, invocar, usar una función.\n",
        "\n",
        "![fun-call.svg](https://cdn.jsdelivr.net/gh/FranciscoMoya/informatica-nb@master/2019/diag/fun-call.svg)"
      ]
    },
    {
      "cell_type": "markdown",
      "metadata": {
        "hideCode": false,
        "hidePrompt": false,
        "id": "-A0uRwYCGIVM"
      },
      "source": [
        "Cuando se llama a una función (se invoca, se llama), primero se evalúan las expresiones para construir los valores de los parámetros o argumentos. Entonces los parámetros formales se asocian a los parámetros reales que se le han pasado (que se han escrito entre paréntesis en la expresión de llamada). Este proceso de asociación es similar a la asignación.\n",
        "\n",
        "Entonces el **punto de ejecución** (la instrucción siguiente a ejecutar) cambia a la primera instrucción del cuerpo de la función, y el código de la función se va ejecutando hasta que se encuentra una sentencia `return` o terminan las sentencias del cuerpo. Si se acaban las sentencias la función devuelve `None`. También ocurre lo mismo cuando no hay expresión después de `return`.\n",
        "\n",
        "El valor retornado es el valor de la expresión de llamada.\n",
        "\n",
        "Al terminar, el **punto de ejecución** se transfiere de nuevo al código que viene inmediatamente a continuación de la llamada."
      ]
    },
    {
      "cell_type": "markdown",
      "metadata": {
        "hideCode": false,
        "hidePrompt": false,
        "id": "6ZyTM0WZGIVM"
      },
      "source": [
        "# Abstracción lambda\n",
        "\n",
        "* ¡`x` e `y` se refieren a `w` y `z`!\n",
        "\n",
        "![lambda-abstr.svg](https://cdn.jsdelivr.net/gh/FranciscoMoya/informatica-nb@master/2019/diag/lambda-abstr.svg)\n",
        "\n",
        "Los parámetros proporcionan un concepto llamado **abstracción lambda**. Tiene que ver con que podemos escribir código que no se refiere a objetos específicos, sino que puede trabjar con cualquier objeto que se le pase como argumento."
      ]
    },
    {
      "cell_type": "markdown",
      "metadata": {
        "hideCode": false,
        "hidePrompt": false,
        "id": "iazdtVXzGIVN"
      },
      "source": [
        "# Argumentos por defecto\n"
      ]
    },
    {
      "cell_type": "code",
      "metadata": {
        "hideCode": false,
        "hidePrompt": false,
        "trusted": false,
        "id": "EMGBhwobGIVN"
      },
      "source": [
        "def impr_nombre(nombre, apellido, inverso = False):\n",
        "    if inverso:\n",
        "        print(apellido + ', ' + nombre)\n",
        "    else:\n",
        "        print(nombre, apellido)"
      ],
      "execution_count": null,
      "outputs": []
    },
    {
      "cell_type": "code",
      "metadata": {
        "hideCode": false,
        "hidePrompt": false,
        "trusted": false,
        "id": "BqTFG7hOGIVP",
        "outputId": "bd3db2a6-5e20-4f99-d737-0f7556d69bcd"
      },
      "source": [
        "impr_nombre('Francisco', 'Moya')\n",
        "impr_nombre('Francisco', 'Moya', True)"
      ],
      "execution_count": null,
      "outputs": [
        {
          "output_type": "stream",
          "text": [
            "Francisco Moya\n",
            "Moya, Francisco\n"
          ],
          "name": "stdout"
        }
      ]
    },
    {
      "cell_type": "markdown",
      "metadata": {
        "hideCode": false,
        "hidePrompt": false,
        "id": "-VsTaNOuGIVS"
      },
      "source": [
        "# Argumentos etiquetados\n"
      ]
    },
    {
      "cell_type": "code",
      "metadata": {
        "hideCode": false,
        "hidePrompt": false,
        "trusted": false,
        "id": "SDfc7BxwGIVT",
        "outputId": "c4a503b6-3e7c-4685-e4ed-0ebca2ba791e"
      },
      "source": [
        "impr_nombre('Luis', 'Moya')\n",
        "impr_nombre('Luis', 'Moya', \n",
        "            inverso = False)\n",
        "impr_nombre('Luis', \n",
        "            apellido = 'Moya', \n",
        "            inverso = False)\n",
        "impr_nombre(apellido = 'Moya', \n",
        "            nombre = 'Luis', \n",
        "            inverso = False)"
      ],
      "execution_count": null,
      "outputs": [
        {
          "output_type": "stream",
          "text": [
            "Luis Moya\n",
            "Luis Moya\n",
            "Luis Moya\n",
            "Luis Moya\n"
          ],
          "name": "stdout"
        }
      ]
    },
    {
      "cell_type": "markdown",
      "metadata": {
        "hideCode": true,
        "hidePrompt": true,
        "id": "9_9wmVRiGIVV"
      },
      "source": [
        "# Expansión de argumentos\n",
        "\n",
        "Un contenedor puede usarse para almacenar argumentos."
      ]
    },
    {
      "cell_type": "code",
      "metadata": {
        "trusted": false,
        "id": "w_JecyheGIVV",
        "outputId": "28bc9bbe-7790-4cdf-869f-3738776b7638"
      },
      "source": [
        "L = (1, 2,'Hola', True)\n",
        "print(*L)"
      ],
      "execution_count": null,
      "outputs": [
        {
          "output_type": "stream",
          "text": [
            "1 2 Hola True\n"
          ],
          "name": "stdout"
        }
      ]
    },
    {
      "cell_type": "code",
      "metadata": {
        "trusted": false,
        "id": "qu0cjdyeGIVX",
        "outputId": "5a93a3cf-9996-4be7-f00b-a5dcd4a3bb1a"
      },
      "source": [
        "D = {'sep': ' | ', 'end':' ####'}\n",
        "print('Un diccionario', 'expande solo las claves:', *D)"
      ],
      "execution_count": null,
      "outputs": [
        {
          "output_type": "stream",
          "text": [
            "Un diccionario expande solo las claves: sep end\n"
          ],
          "name": "stdout"
        }
      ]
    },
    {
      "cell_type": "markdown",
      "metadata": {
        "id": "3AigWvBMGIVZ"
      },
      "source": [
        "Con doble asterisco se pueden expandir argumentos etiquetados: "
      ]
    },
    {
      "cell_type": "code",
      "metadata": {
        "trusted": false,
        "id": "jNANwNqWGIVa",
        "outputId": "a83af368-3e34-4e9a-f6e0-fce28ce1de84"
      },
      "source": [
        "print('Un diccionario', 'puede pasar argumentos etiquetados', **D)"
      ],
      "execution_count": null,
      "outputs": [
        {
          "output_type": "stream",
          "text": [
            "Un diccionario | puede pasar argumentos etiquetados ####"
          ],
          "name": "stdout"
        }
      ]
    },
    {
      "cell_type": "markdown",
      "metadata": {
        "hideCode": true,
        "hidePrompt": true,
        "id": "V4cRrJ1IGIVc"
      },
      "source": [
        "# Ámbito (scope)"
      ]
    },
    {
      "cell_type": "code",
      "metadata": {
        "hideCode": false,
        "hidePrompt": false,
        "trusted": false,
        "id": "0b_y8dajGIVd",
        "outputId": "fb7853b2-0977-4475-a5c4-54e156c4fafd"
      },
      "source": [
        "def f(x):\n",
        "    y = 1\n",
        "    x = x + y\n",
        "    print('x =', x)\n",
        "    return x\n",
        "x = 3; y = 2\n",
        "z = f(x)\n",
        "print('z =', z)\n",
        "print('x =', x)\n",
        "print('y =', y)"
      ],
      "execution_count": null,
      "outputs": [
        {
          "output_type": "stream",
          "text": [
            "x = 4\n",
            "z = 4\n",
            "x = 3\n",
            "y = 2\n"
          ],
          "name": "stdout"
        }
      ]
    },
    {
      "cell_type": "markdown",
      "metadata": {
        "hideCode": false,
        "hidePrompt": false,
        "id": "WPFUEf37GIVf"
      },
      "source": [
        "En el nivel superior, fuera de cualquier función, el intérprete mantiene una tabla de símbolos con los nombres asignados a los objetos correspondientes.\n",
        "\n",
        "Cuando se llama a una función se crea una nueva tabla de símbolos (se llama normalmente **marco de pila**). Esta tabla mantiene los símbolos definidos dentro de la función, incluidos los parámetros formales.  Si desde esta función se llama a otra, se crea una nueva tabla de símbolos y así sucesivamente.\n",
        "\n",
        "Cuando una función termina la tabla de símbolos correspondiente deja de existir. En Python se puede saber el ámbito de una variable simplemente mirando al texto del programa. Ésto se conoce como ámbitos léxicos o estáticos.\n"
      ]
    },
    {
      "cell_type": "markdown",
      "metadata": {
        "hideCode": false,
        "hidePrompt": false,
        "id": "P9saSlOqGIVf"
      },
      "source": [
        "# Ámbitos anidados (nested scopes)"
      ]
    },
    {
      "cell_type": "code",
      "metadata": {
        "hideCode": false,
        "hidePrompt": true,
        "pixiedust": {
          "displayParams": {}
        },
        "trusted": false,
        "id": "JkHc-rg8GIVf",
        "outputId": "e2ed3ed8-a048-4113-d52c-8c78ea3c6267"
      },
      "source": [
        "def f(x):\n",
        "    def g():\n",
        "        x = 'abc'\n",
        "        print('x =',x)\n",
        "    def h():\n",
        "        z = x\n",
        "        print('z =',z)\n",
        "    x = x + 1\n",
        "    print('x =',x)\n",
        "    h()\n",
        "    g()\n",
        "    print('x =', x)\n",
        "    return g\n",
        "x = 3\n",
        "z = f(x)\n",
        "print('x =', x)\n",
        "print('z =', z)\n",
        "z()"
      ],
      "execution_count": null,
      "outputs": [
        {
          "output_type": "stream",
          "text": [
            "x = 4\n",
            "z = 4\n",
            "x = abc\n",
            "x = 4\n",
            "x = 3\n",
            "z = <function f.<locals>.g at 0x000002AD770787B8>\n",
            "x = abc\n"
          ],
          "name": "stdout"
        }
      ]
    },
    {
      "cell_type": "markdown",
      "metadata": {
        "hideCode": false,
        "hidePrompt": false,
        "id": "HcgX_pYdGIVh"
      },
      "source": [
        "# Ejemplo\n",
        "\n",
        "* ¿Qué imprime?"
      ]
    },
    {
      "cell_type": "code",
      "metadata": {
        "hideCode": false,
        "hidePrompt": false,
        "pixiedust": {
          "displayParams": {}
        },
        "trusted": false,
        "id": "phJOIKSEGIVi",
        "outputId": "3e4f940c-21c2-4269-d217-69cfb4c99144"
      },
      "source": [
        "def f():\n",
        "    print(x)\n",
        "def g():\n",
        "    print(x)\n",
        "    x = 1\n",
        "x = 3\n",
        "f()\n",
        "x = 3\n",
        "g()"
      ],
      "execution_count": null,
      "outputs": [
        {
          "output_type": "stream",
          "text": [
            "3\n"
          ],
          "name": "stdout"
        },
        {
          "output_type": "error",
          "ename": "UnboundLocalError",
          "evalue": "local variable 'x' referenced before assignment",
          "traceback": [
            "\u001b[1;31m---------------------------------------------------------------------------\u001b[0m",
            "\u001b[1;31mUnboundLocalError\u001b[0m                         Traceback (most recent call last)",
            "\u001b[1;32m<ipython-input-43-36379fcca3ea>\u001b[0m in \u001b[0;36m<module>\u001b[1;34m()\u001b[0m\n\u001b[0;32m      7\u001b[0m \u001b[0mf\u001b[0m\u001b[1;33m(\u001b[0m\u001b[1;33m)\u001b[0m\u001b[1;33m\u001b[0m\u001b[0m\n\u001b[0;32m      8\u001b[0m \u001b[0mx\u001b[0m \u001b[1;33m=\u001b[0m \u001b[1;36m3\u001b[0m\u001b[1;33m\u001b[0m\u001b[0m\n\u001b[1;32m----> 9\u001b[1;33m \u001b[0mg\u001b[0m\u001b[1;33m(\u001b[0m\u001b[1;33m)\u001b[0m\u001b[1;33m\u001b[0m\u001b[0m\n\u001b[0m",
            "\u001b[1;32m<ipython-input-43-36379fcca3ea>\u001b[0m in \u001b[0;36mg\u001b[1;34m()\u001b[0m\n\u001b[0;32m      2\u001b[0m     \u001b[0mprint\u001b[0m\u001b[1;33m(\u001b[0m\u001b[0mx\u001b[0m\u001b[1;33m)\u001b[0m\u001b[1;33m\u001b[0m\u001b[0m\n\u001b[0;32m      3\u001b[0m \u001b[1;32mdef\u001b[0m \u001b[0mg\u001b[0m\u001b[1;33m(\u001b[0m\u001b[1;33m)\u001b[0m\u001b[1;33m:\u001b[0m\u001b[1;33m\u001b[0m\u001b[0m\n\u001b[1;32m----> 4\u001b[1;33m     \u001b[0mprint\u001b[0m\u001b[1;33m(\u001b[0m\u001b[0mx\u001b[0m\u001b[1;33m)\u001b[0m\u001b[1;33m\u001b[0m\u001b[0m\n\u001b[0m\u001b[0;32m      5\u001b[0m     \u001b[0mx\u001b[0m \u001b[1;33m=\u001b[0m \u001b[1;36m1\u001b[0m\u001b[1;33m\u001b[0m\u001b[0m\n\u001b[0;32m      6\u001b[0m \u001b[0mx\u001b[0m \u001b[1;33m=\u001b[0m \u001b[1;36m3\u001b[0m\u001b[1;33m\u001b[0m\u001b[0m\n",
            "\u001b[1;31mUnboundLocalError\u001b[0m: local variable 'x' referenced before assignment"
          ]
        }
      ]
    },
    {
      "cell_type": "markdown",
      "metadata": {
        "hideCode": false,
        "hidePrompt": false,
        "id": "cogYjV6KGIVj"
      },
      "source": [
        "La asignación de x en la función g hace que el símbolo x se considere un nombre local de g.  Por tanto su uso antes de la asignación se considera un error.  El mismo código que en f no genera ningún problema, porque se refiere a la variable global x, en g es un error porque se refiere a la variable local x que aún no ha sido asignada."
      ]
    },
    {
      "cell_type": "markdown",
      "metadata": {
        "hideCode": false,
        "hidePrompt": false,
        "id": "-VUNHvuwGIVk"
      },
      "source": [
        "# Funciones lambda\n",
        "\n",
        "Notación simplificada, expresión directa de la abstracción lambda. \n",
        "* Muy usadas para pasar funciones como parámetros."
      ]
    },
    {
      "cell_type": "code",
      "metadata": {
        "trusted": false,
        "id": "uhPWEKzWGIVk",
        "outputId": "e7018847-dd89-46b1-bcbf-2d3658fc7b56"
      },
      "source": [
        "cuadrado = lambda x: x**2\n",
        "cuadrado(5)"
      ],
      "execution_count": null,
      "outputs": [
        {
          "output_type": "execute_result",
          "data": {
            "text/plain": [
              "25"
            ]
          },
          "metadata": {
            "tags": []
          },
          "execution_count": 22
        }
      ]
    },
    {
      "cell_type": "code",
      "metadata": {
        "trusted": false,
        "id": "lmhNvxWnGIVn",
        "outputId": "f5a4312d-031b-4c41-cf0e-507a6f563b07"
      },
      "source": [
        "L = [('a',1), ('E',2), ('í',3), ('ò',4), ('ü',5)]\n",
        "sorted(L, key=lambda x: x[1])"
      ],
      "execution_count": null,
      "outputs": [
        {
          "output_type": "execute_result",
          "data": {
            "text/plain": [
              "[('a', 1), ('E', 2), ('í', 3), ('ò', 4), ('ü', 5)]"
            ]
          },
          "metadata": {
            "tags": []
          },
          "execution_count": 23
        }
      ]
    },
    {
      "cell_type": "markdown",
      "metadata": {
        "hideCode": false,
        "hidePrompt": false,
        "id": "rGL8u7a6GIVo"
      },
      "source": [
        "# Docstrings\n",
        "\n",
        "Simple cadena justo al cmienzo del cuerpo de la función."
      ]
    },
    {
      "cell_type": "code",
      "metadata": {
        "hideCode": false,
        "hidePrompt": false,
        "pixiedust": {
          "displayParams": {}
        },
        "trusted": false,
        "id": "UKANdf6gGIVp"
      },
      "source": [
        "def f(x):\n",
        "    'Devuelve el cuadrado de x'\n",
        "    return x**2"
      ],
      "execution_count": null,
      "outputs": []
    },
    {
      "cell_type": "code",
      "metadata": {
        "hideCode": false,
        "hidePrompt": false,
        "scrolled": true,
        "trusted": false,
        "id": "nlaMaS9RGIVq",
        "outputId": "6a35927a-3656-450a-ce8f-a4045880d090"
      },
      "source": [
        "help(f)"
      ],
      "execution_count": null,
      "outputs": [
        {
          "output_type": "stream",
          "text": [
            "Help on function f in module __main__:\n",
            "\n",
            "f(x)\n",
            "    Devuelve el cuadrado de x\n",
            "\n"
          ],
          "name": "stdout"
        }
      ]
    },
    {
      "cell_type": "markdown",
      "metadata": {
        "hideCode": false,
        "hidePrompt": false,
        "id": "_3rgtppJGIVt"
      },
      "source": [
        "# Documentando software\n"
      ]
    },
    {
      "cell_type": "code",
      "metadata": {
        "hideCode": false,
        "hidePrompt": false,
        "pixiedust": {
          "displayParams": {}
        },
        "trusted": false,
        "id": "XFLDUJkwGIVu"
      },
      "source": [
        "def findRoot(x, power, epsilon):\n",
        "    if x < 0 and power%2 == 0:\n",
        "        return None\n",
        "    low = min(-1.0, x)\n",
        "    high = max(1.0, x)\n",
        "    ans = (high + low)/2.0\n",
        "    while abs(ans**power - x) >= epsilon:\n",
        "        if ans**power < x:\n",
        "            low = ans\n",
        "        else:\n",
        "            high = ans\n",
        "        ans = (high + low)/2.0\n",
        "    return ans"
      ],
      "execution_count": null,
      "outputs": []
    },
    {
      "cell_type": "markdown",
      "metadata": {
        "hideCode": false,
        "hidePrompt": false,
        "id": "sj4lR9PUGIVw"
      },
      "source": [
        "# Documentando software\n",
        "\n",
        "* **Asume...** Suposiciones, precondiciones.\n",
        "* **Devuelve...** Garantías, postcondiciones.\n"
      ]
    },
    {
      "cell_type": "code",
      "metadata": {
        "hideCode": false,
        "hidePrompt": false,
        "pixiedust": {
          "displayParams": {}
        },
        "trusted": false,
        "id": "crul-EUKGIVw"
      },
      "source": [
        "def findRoot(x, power, epsilon):\n",
        "    ''' Asume x, epsilon son int o float, power es int, epsilon > 0, power >= 1\n",
        "        Devuelve un float y tal que y**power está a menos de epsilon de x.\n",
        "        Si no existe ese float devuelve None '''\n",
        "    \n",
        "    if x < 0 and power%2 == 0:\n",
        "        return None\n",
        "    low = min(-1.0, x)\n",
        "    high = max(1.0, x)\n",
        "    ans = (high + low)/2.0\n",
        "    while abs(ans**power - x) >= epsilon:\n",
        "        if ans**power < x:\n",
        "            low = ans\n",
        "        else:\n",
        "            high = ans\n",
        "        ans = (high + low)/2.0\n",
        "    return ans"
      ],
      "execution_count": null,
      "outputs": []
    },
    {
      "cell_type": "markdown",
      "metadata": {
        "hideCode": false,
        "hidePrompt": false,
        "id": "6CpElT59GIVy"
      },
      "source": [
        "Una especificación de una función define un contrato entre el que la implementa y los que escriben programas que van a usarla (los clientes). Este contrato tiene dos partes: Los supuestos iniciales que se asumen en la implementación de la función y las garantías que ofrece.\n",
        "\n",
        "Los supuestos son habitualmente restricciones en el tipo y los valores de los argumentos, como en la primera línea de la doctring. Las garantías describen las condiciones que debe cumplir la propia función."
      ]
    },
    {
      "cell_type": "markdown",
      "metadata": {
        "hideCode": false,
        "hidePrompt": false,
        "id": "-DW-EhIQGIVy"
      },
      "source": [
        "# Descomposición y abstracción\n",
        "\n",
        "* **Descomposición** crea estructura\n",
        "    * Problema dividido\n",
        "    * Posibilidad de reuso\n",
        "* **Abstracción** oculta detalle\n",
        "    * Información relevante disponible\n",
        "    * Información irrelevante se olvida"
      ]
    },
    {
      "cell_type": "markdown",
      "metadata": {
        "hideCode": false,
        "hidePrompt": false,
        "id": "aR-Ya_2GGIVz"
      },
      "source": [
        "Las funciones permiten crear objetos computacionales complejos que se comportan como primitivas. Esto lo consiguen proporcionando un mecanismo para descomponer y abstraer.\n",
        "\n",
        "La descomposición crea estructura. Permite romper el problema en subproblemas que son razonablemente auto-contenidos y que podrían reutilizarse en otros contextos.\n",
        "\n",
        "La abstracción oculta detalle haciendo ver el código como una caja negra. Es decir, algo cuyo interior no puede verse, ni se tiene que ver, ni debe verse.  La esencia de la programación es preservar la información relevante en cada contexto mientras se oculta la no relevante. La clave es encontrar la relación de relevancia que es apropiada tanto para los clientes como para el creador de la abstracción. En esto consiste el arte de programar de manera efectiva."
      ]
    },
    {
      "cell_type": "markdown",
      "metadata": {
        "hideCode": false,
        "hidePrompt": false,
        "id": "YB-XuJ7CGIVz"
      },
      "source": [
        "# Pruebas unitarias"
      ]
    },
    {
      "cell_type": "code",
      "metadata": {
        "hideCode": false,
        "hidePrompt": false,
        "trusted": false,
        "id": "SwciuPhOGIVz"
      },
      "source": [
        "def testFindRoot():\n",
        "    epsilon = 0.0001\n",
        "    for x in (0.25, -0.25, 2, -2):\n",
        "        for power in range(1, 4):\n",
        "            print('Testing x = ' + str(x) + \\\n",
        "             ' and power = ' + str(power))\n",
        "            result = findRoot(x, power, epsilon)\n",
        "            if result == None:\n",
        "                print('  No root')\n",
        "            else:\n",
        "                print('  ', result**power, '~=', x)"
      ],
      "execution_count": null,
      "outputs": []
    },
    {
      "cell_type": "code",
      "metadata": {
        "hideCode": false,
        "hidePrompt": false,
        "trusted": false,
        "id": "6a7i13LYGIV1",
        "outputId": "0b924669-ec3f-4665-9c89-74c0d61b1aec"
      },
      "source": [
        "testFindRoot()"
      ],
      "execution_count": null,
      "outputs": [
        {
          "output_type": "stream",
          "text": [
            "Testing x = 0.25 and power = 1\n",
            "   0.25 ~= 0.25\n",
            "Testing x = 0.25 and power = 2\n",
            "   0.25 ~= 0.25\n",
            "Testing x = 0.25 and power = 3\n",
            "   0.24990749079734087 ~= 0.25\n",
            "Testing x = -0.25 and power = 1\n",
            "   -0.25 ~= -0.25\n",
            "Testing x = -0.25 and power = 2\n",
            "  No root\n",
            "Testing x = -0.25 and power = 3\n",
            "   -0.24990749079734087 ~= -0.25\n",
            "Testing x = 2 and power = 1\n",
            "   1.999908447265625 ~= 2\n",
            "Testing x = 2 and power = 2\n",
            "   2.0000906325876713 ~= 2\n",
            "Testing x = 2 and power = 3\n",
            "   2.000059155646067 ~= 2\n",
            "Testing x = -2 and power = 1\n",
            "   -1.999908447265625 ~= -2\n",
            "Testing x = -2 and power = 2\n",
            "  No root\n",
            "Testing x = -2 and power = 3\n",
            "   -2.000059155646067 ~= -2\n"
          ],
          "name": "stdout"
        }
      ]
    },
    {
      "cell_type": "markdown",
      "metadata": {
        "hideCode": false,
        "hidePrompt": false,
        "id": "oBXZEdukGIV2"
      },
      "source": [
        "# Pruebas unitarias con unittest"
      ]
    },
    {
      "cell_type": "code",
      "metadata": {
        "hideCode": false,
        "hidePrompt": false,
        "trusted": false,
        "id": "38KP629HGIV3"
      },
      "source": [
        "import unittest\n",
        "\n",
        "epsilon = 0.000001\n",
        "class TestFindRoot(unittest.TestCase):\n",
        "    \n",
        "    def testTipicos(self):\n",
        "        self.compruebaValoresRaices((0.25, 2), (1, 2, 3))\n",
        "        self.compruebaValoresRaices((-0.25, -2), (1, 3))\n",
        "\n",
        "    def testNegativos(self):\n",
        "        self.compruebaValoresRaicesNone((-0.25, -2), (2,))\n",
        "        \n",
        "    def compruebaValoresRaices(self, valores, raices):\n",
        "        for x in valores:\n",
        "            self.compruebaRaices(x, raices)\n",
        "\n",
        "    def compruebaValoresRaicesNone(self, valores, raices):\n",
        "        for x in valores:\n",
        "            self.compruebaRaicesNone(x, raices)\n",
        "\n",
        "    def compruebaRaices(self, x, raices):\n",
        "        for power in raices:\n",
        "            self.assertAlmostEqual(findRoot(x, power, epsilon)**power, x, places=5)\n",
        "\n",
        "    def compruebaRaicesNone(self, x, raices):\n",
        "        for power in raices:\n",
        "            self.assertEqual(findRoot(x, power, epsilon), None)        "
      ],
      "execution_count": null,
      "outputs": []
    },
    {
      "cell_type": "markdown",
      "metadata": {
        "hideCode": false,
        "hidePrompt": false,
        "id": "kwga6eYYGIV5"
      },
      "source": [
        "## Ejecución de las pruebas unittest (runner)\n",
        "\n",
        "* Busca todas las pruebas (clases derivadas de `unittest.TestCase`)\n",
        "* Ejecuta todas las pruebas (funciones que empiezan por `test`)"
      ]
    },
    {
      "cell_type": "code",
      "metadata": {
        "hideCode": false,
        "hidePrompt": true,
        "trusted": false,
        "id": "jOjSiQeTGIV5",
        "outputId": "1dfaf55b-7d72-44b4-ec46-d5fa4aee9c50"
      },
      "source": [
        "unittest.main(argv=['first-arg-is-ignored'], exit=False)"
      ],
      "execution_count": null,
      "outputs": [
        {
          "output_type": "stream",
          "text": [
            "..\n",
            "----------------------------------------------------------------------\n",
            "Ran 2 tests in 0.000s\n",
            "\n",
            "OK\n"
          ],
          "name": "stderr"
        },
        {
          "output_type": "execute_result",
          "data": {
            "text/plain": [
              "<unittest.main.TestProgram at 0x2ad7708b5c0>"
            ]
          },
          "metadata": {
            "tags": []
          },
          "execution_count": 31
        }
      ]
    },
    {
      "cell_type": "markdown",
      "metadata": {
        "id": "nVM4ujiAJDNn"
      },
      "source": [
        "# Pruebas unitarias con PyTest\n",
        "\n",
        "[PyTest](https://pytest.org/) es un entorno de pruebas avanzado que simplifica aún más la escritura de casos de prueba.  Para reducir las pruebas a su mínima expresión:\n",
        "\n",
        "* Escribe las pruebas en un archivo cuyo nombre empiece por `test_`.\n",
        "\n",
        "* Todas las pruebas son simples funciones cuyos nombres empiezan por `test_`. Pueden llamar a otras funciones que no comiencen por `test_`.\n",
        "\n",
        "* Todas las comprobaciones utilizan simplemente `assert`.\n",
        "\n",
        "* El runner es un programa independiente: `pytest`."
      ]
    },
    {
      "cell_type": "code",
      "metadata": {
        "id": "Uxrg52rWP0Ld",
        "outputId": "767bc0d7-adf2-4341-d248-70395cae51a1",
        "colab": {
          "base_uri": "https://localhost:8080/"
        }
      },
      "source": [
        "%%file find_root.py\n",
        "def findRoot(x, power, epsilon):\n",
        "    ''' Asume x, epsilon son int o float, power es int, epsilon > 0, power >= 1\n",
        "        Devuelve un float y tal que y**power está a menos de epsilon de x.\n",
        "        Si no existe ese float devuelve None '''\n",
        "    \n",
        "    if x < 0 and power%2 == 0:\n",
        "        return None\n",
        "    low = min(-1.0, x)\n",
        "    high = max(1.0, x)\n",
        "    ans = (high + low)/2.0\n",
        "    while abs(ans**power - x) >= epsilon:\n",
        "        if ans**power < x:\n",
        "            low = ans\n",
        "        else:\n",
        "            high = ans\n",
        "        ans = (high + low)/2.0\n",
        "    return ans"
      ],
      "execution_count": 1,
      "outputs": [
        {
          "output_type": "stream",
          "text": [
            "Writing find_root.py\n"
          ],
          "name": "stdout"
        }
      ]
    },
    {
      "cell_type": "code",
      "metadata": {
        "id": "bV1jgo2cKv8P",
        "outputId": "3e836991-66f3-4ebe-dbd6-23400beb4a2b",
        "colab": {
          "base_uri": "https://localhost:8080/"
        }
      },
      "source": [
        "%%file test_find_root.py\n",
        "from find_root import *\n",
        "import pytest\n",
        "\n",
        "def test_Tipicos():\n",
        "  compruebaValoresRaices((0.25, 2), (1, 2, 3))\n",
        "  compruebaValoresRaices((-0.25, -2), (1, 3))\n",
        "\n",
        "def test_Negativos():\n",
        "  compruebaValoresRaicesNone((-0.25, -2), (2,))\n",
        "    \n",
        "def compruebaValoresRaices(valores, raices):\n",
        "  for x in valores:\n",
        "    compruebaRaices(x, raices)\n",
        "\n",
        "def compruebaValoresRaicesNone(valores, raices):\n",
        "  for x in valores:\n",
        "    compruebaRaicesNone(x, raices)\n",
        "\n",
        "epsilon = 0.00001\n",
        "\n",
        "def compruebaRaices(x, raices):\n",
        "  for power in raices:\n",
        "    assert findRoot(x, power, epsilon)**power == pytest.approx(x, abs=epsilon)\n",
        "\n",
        "def compruebaRaicesNone(x, raices):\n",
        "  for power in raices:\n",
        "    assert findRoot(x, power, epsilon) == None"
      ],
      "execution_count": 6,
      "outputs": [
        {
          "output_type": "stream",
          "text": [
            "Overwriting test_find_root.py\n"
          ],
          "name": "stdout"
        }
      ]
    },
    {
      "cell_type": "code",
      "metadata": {
        "id": "A6qZpK77Ps96",
        "outputId": "f2e44727-3b5a-4bbf-ed5f-8f73e48fbd5f",
        "colab": {
          "base_uri": "https://localhost:8080/"
        }
      },
      "source": [
        "!python -m pytest"
      ],
      "execution_count": 7,
      "outputs": [
        {
          "output_type": "stream",
          "text": [
            "\u001b[1m============================= test session starts ==============================\u001b[0m\n",
            "platform linux -- Python 3.6.9, pytest-3.6.4, py-1.9.0, pluggy-0.7.1\n",
            "rootdir: /content, inifile:\n",
            "plugins: typeguard-2.7.1\n",
            "\u001b[1m\rcollecting 0 items                                                             \u001b[0m\u001b[1m\rcollecting 2 items                                                             \u001b[0m\u001b[1m\rcollected 2 items                                                              \u001b[0m\n",
            "\n",
            "test_find_root.py ..\u001b[36m                                                     [100%]\u001b[0m\n",
            "\n",
            "\u001b[32m\u001b[1m=========================== 2 passed in 0.02 seconds ===========================\u001b[0m\n"
          ],
          "name": "stdout"
        }
      ]
    },
    {
      "cell_type": "markdown",
      "metadata": {
        "hideCode": false,
        "hidePrompt": false,
        "id": "pV3nuk7tGIV7"
      },
      "source": [
        "# Función recursiva\n",
        "\n",
        "* Caso base\n",
        "* Recurrencia o caso inductivo"
      ]
    },
    {
      "cell_type": "code",
      "metadata": {
        "hideCode": false,
        "hidePrompt": false,
        "trusted": false,
        "id": "joZkxgI1GIV7"
      },
      "source": [
        "def fib(n):\n",
        "    '''Asume n int, n >= 0\n",
        "       Devuelve n-simo término de sucesión de Fibonacci (int)''' \n",
        "    if n < 2:\n",
        "        return 1\n",
        "    return fib(n-1) + fib(n-2)"
      ],
      "execution_count": null,
      "outputs": []
    },
    {
      "cell_type": "markdown",
      "metadata": {
        "hideCode": false,
        "hidePrompt": false,
        "id": "obar8mc4GIV-"
      },
      "source": [
        "Las funciones recursivas son una forma natural de expresar las definiciones inductivas, en las que se define algún caso base y el valor n-simo en función de algún otro anterior.\n",
        "\n",
        "Son muy sencillas de entender, pero a veces pueden no ser nada eficientes.  Por ejemplo ¿cuántas veces se calcula fib(2) cuando llamamos a fib(5)?\n",
        "\n",
        "Una función recursiva no tiene nada de particular respecto al caso de una función que llama a otra función, pero evidentemente para que termine alguna vez tiene que tener dos partes:\n",
        "\n",
        "* Uno o varios casos base, en los que el resultado se puede obtener directamente.\n",
        "* Una recurrencia, o caso inductivo, o caso recursivo, en los que el resultado se determina en función de los resultados para casos más cercanos a los casos base."
      ]
    },
    {
      "cell_type": "markdown",
      "metadata": {
        "hideCode": false,
        "hideOutput": false,
        "hidePrompt": false,
        "id": "zJk2yjQaGIV-"
      },
      "source": [
        "# Ejercicio\n",
        "\n",
        "* Factorial de un número\n",
        "    * Recursivo e iterativo\n"
      ]
    },
    {
      "cell_type": "code",
      "metadata": {
        "hideCode": false,
        "hidePrompt": false,
        "trusted": false,
        "id": "Zx1oTZhqGIV-"
      },
      "source": [
        "def fact(n):\n",
        "    if n < 1: return 1\n",
        "    return n * fact(n-1)\n",
        "\n",
        "def fact_i(n):\n",
        "    ret = 1\n",
        "    for i in range(2,n+1):\n",
        "        ret *= i\n",
        "    return ret"
      ],
      "execution_count": null,
      "outputs": []
    },
    {
      "cell_type": "markdown",
      "metadata": {
        "hideCode": false,
        "hidePrompt": false,
        "id": "PNpkurDDGIWA"
      },
      "source": [
        "# Cadenas de texto\n",
        "## Subcadenas"
      ]
    },
    {
      "cell_type": "code",
      "metadata": {
        "hideCode": false,
        "hidePrompt": false,
        "trusted": false,
        "id": "uuDhJnrkGIWB",
        "outputId": "903f691f-7363-4015-d0ab-b7542ac323da"
      },
      "source": [
        "s = u'abcdefghijklmnñopqrstuvwxyz'\n",
        "\n",
        "s[:5]"
      ],
      "execution_count": null,
      "outputs": [
        {
          "output_type": "execute_result",
          "data": {
            "text/plain": [
              "'abcde'"
            ]
          },
          "metadata": {
            "tags": []
          },
          "execution_count": 381
        }
      ]
    },
    {
      "cell_type": "code",
      "metadata": {
        "hideCode": false,
        "hidePrompt": false,
        "trusted": false,
        "id": "j-lvixGFGIWC",
        "outputId": "ca5b6cf6-2305-4d8e-8cc6-303e4895937b"
      },
      "source": [
        "s[5:10]"
      ],
      "execution_count": null,
      "outputs": [
        {
          "output_type": "execute_result",
          "data": {
            "text/plain": [
              "'fghij'"
            ]
          },
          "metadata": {
            "tags": []
          },
          "execution_count": 378
        }
      ]
    },
    {
      "cell_type": "code",
      "metadata": {
        "hideCode": false,
        "hidePrompt": false,
        "trusted": false,
        "id": "zX7pgLdrGIWE",
        "outputId": "c9d722a5-995b-4d07-f87a-a8e292f0ed68"
      },
      "source": [
        "s[10:]"
      ],
      "execution_count": null,
      "outputs": [
        {
          "output_type": "execute_result",
          "data": {
            "text/plain": [
              "'klmnñopqrstuvwxyz'"
            ]
          },
          "metadata": {
            "tags": []
          },
          "execution_count": 379
        }
      ]
    },
    {
      "cell_type": "code",
      "metadata": {
        "hideCode": false,
        "hidePrompt": false,
        "trusted": false,
        "id": "ldYbo0p4GIWG",
        "outputId": "1263d609-06e6-4995-add3-0a9be4339212"
      },
      "source": [
        "s[-5:]"
      ],
      "execution_count": null,
      "outputs": [
        {
          "output_type": "execute_result",
          "data": {
            "text/plain": [
              "'vwxyz'"
            ]
          },
          "metadata": {
            "tags": []
          },
          "execution_count": 380
        }
      ]
    },
    {
      "cell_type": "markdown",
      "metadata": {
        "hideCode": false,
        "hidePrompt": false,
        "id": "08ITTCrfGIWI"
      },
      "source": [
        "# Ejercicio\n",
        "\n",
        "* Definir `es_palindromo(s)` que devuelve `True` si la cadena `s` es palíndromo.\n"
      ]
    },
    {
      "cell_type": "code",
      "metadata": {
        "hideCode": false,
        "hidePrompt": false,
        "trusted": false,
        "id": "z7xNWkkrGIWI",
        "outputId": "e30ba70c-b772-4165-eb37-dfdf2923ec6c"
      },
      "source": [
        "es_palindromo('dabalearrozalazorraelabad')"
      ],
      "execution_count": null,
      "outputs": [
        {
          "output_type": "execute_result",
          "data": {
            "text/plain": [
              "True"
            ]
          },
          "metadata": {
            "tags": []
          },
          "execution_count": 6
        }
      ]
    },
    {
      "cell_type": "code",
      "metadata": {
        "hideCode": false,
        "hidePrompt": false,
        "trusted": false,
        "id": "m58D39ceGIWK"
      },
      "source": [
        "def es_palindromo(s):\n",
        "    if len(s) < 2:\n",
        "        return True\n",
        "    return s[0] == s[-1] and es_palindromo(s[1:-1])"
      ],
      "execution_count": null,
      "outputs": []
    },
    {
      "cell_type": "markdown",
      "metadata": {
        "hideCode": false,
        "hidePrompt": false,
        "id": "BcRlcXYpGIWL"
      },
      "source": [
        "# Módulos\n"
      ]
    },
    {
      "cell_type": "code",
      "metadata": {
        "trusted": false,
        "id": "MPU9g7ZsGIWM",
        "outputId": "eac9be84-038c-46c4-edc9-554acc52f14a"
      },
      "source": [
        "%%file lab1.py\n",
        "def my_email():\n",
        "    return 'francisco.moya@uclm.es'"
      ],
      "execution_count": null,
      "outputs": [
        {
          "output_type": "stream",
          "text": [
            "Writing lab1.py\n"
          ],
          "name": "stdout"
        }
      ]
    },
    {
      "cell_type": "code",
      "metadata": {
        "trusted": false,
        "id": "NWVgmMBjGIWO",
        "outputId": "fc79ded3-f886-4a49-ea6d-d57025084d83"
      },
      "source": [
        "from lab1 import *\n",
        "my_email()"
      ],
      "execution_count": null,
      "outputs": [
        {
          "output_type": "execute_result",
          "data": {
            "text/plain": [
              "'francisco.moya@uclm.es'"
            ]
          },
          "metadata": {
            "tags": []
          },
          "execution_count": 9
        }
      ]
    },
    {
      "cell_type": "code",
      "metadata": {
        "trusted": false,
        "id": "Zs_r8RLqGIWQ",
        "outputId": "f552f8a4-82b0-4a24-9f0b-189eab9af57b"
      },
      "source": [
        "import lab1\n",
        "lab1.my_email()"
      ],
      "execution_count": null,
      "outputs": [
        {
          "output_type": "execute_result",
          "data": {
            "text/plain": [
              "'francisco.moya@uclm.es'"
            ]
          },
          "metadata": {
            "tags": []
          },
          "execution_count": 10
        }
      ]
    },
    {
      "cell_type": "code",
      "metadata": {
        "trusted": false,
        "id": "_T4EkP-UGIWS",
        "outputId": "a8d90db6-9bb4-4d02-c7d7-8306b423be52"
      },
      "source": [
        "import lab1 as x\n",
        "x.my_email()"
      ],
      "execution_count": null,
      "outputs": [
        {
          "output_type": "execute_result",
          "data": {
            "text/plain": [
              "'francisco.moya@uclm.es'"
            ]
          },
          "metadata": {
            "tags": []
          },
          "execution_count": 11
        }
      ]
    },
    {
      "cell_type": "markdown",
      "metadata": {
        "id": "DeKc-ZtWGIWV"
      },
      "source": [
        "## La curva de Batman\n",
        "* La [curva de Batman](https://plus.google.com/+RolandMieslinger/posts/R9ZRQdAurbN) se define con la ayuda de cuatro funciones que se mencionan en el enlace.  Solo está definida en el intervalo [-7,7]"
      ]
    },
    {
      "cell_type": "code",
      "metadata": {
        "trusted": false,
        "id": "JvFV5jRCGIWV"
      },
      "source": [
        "from math import sqrt\n",
        "\n",
        "def azul(x): return 2*sqrt(-abs(abs(x)-1)*abs(3-abs(x))/((abs(x)-1)*(3-abs(x))))*(1+abs(abs(x)-3)/(abs(x)-3))*sqrt(1-(x/7)**2)+(5+0.97*(abs(x-.5)+abs(x+.5))-3*(abs(x-.75)+abs(x+.75)))*(1+abs(1-abs(x))/(1-abs(x)))\n",
        "\n",
        "def verde(x): return (2.71052+(1.5-.5*abs(x))-1.35526*sqrt(4-(abs(x)-1)**2))*sqrt(abs(abs(x)-1)/(abs(x)-1))+0.9\n",
        "\n",
        "def roja(x): return (-3)*sqrt(1-(x/7)**2)*sqrt(abs(abs(x)-4)/(abs(x)-4))\n",
        "\n",
        "def naranja(x): return abs(x/2)-0.0913722*x**2-3+sqrt(1-(abs(abs(x)-2)-1)**2)"
      ],
      "execution_count": null,
      "outputs": []
    },
    {
      "cell_type": "markdown",
      "metadata": {
        "id": "FXDb5YAaGIWX"
      },
      "source": [
        "La función superior e inferior se define por trozos."
      ]
    },
    {
      "cell_type": "code",
      "metadata": {
        "trusted": false,
        "id": "BopPjTDVGIWX"
      },
      "source": [
        "def batman_superior(x):\n",
        "    if 1 < abs(x) < 3: return verde(x)\n",
        "    if abs(x) > 7: return None\n",
        "    return azul(x)\n",
        "\n",
        "def batman_inferior(x):\n",
        "    if abs(x) < 4: return naranja(x)\n",
        "    if abs(x) > 7: return None\n",
        "    return roja(x)"
      ],
      "execution_count": null,
      "outputs": []
    },
    {
      "cell_type": "markdown",
      "metadata": {
        "id": "Iy6HngPRGIWZ"
      },
      "source": [
        "Para estar seguros de que lo hemos hecho bien podemos dibujar la gráfica con `pyplot`."
      ]
    },
    {
      "cell_type": "code",
      "metadata": {
        "trusted": false,
        "id": "Xlbh-nmvGIWa",
        "outputId": "5621b327-a9e9-4bef-f760-b0c11ed5b59b"
      },
      "source": [
        "%matplotlib inline\n",
        "import matplotlib.pyplot as plt\n",
        "from numpy import arange\n",
        "xr = arange(-7, 7.01, 0.01)\n",
        "plt.plot(xr, [batman_superior(x) for x in xr])\n",
        "plt.plot(xr, [batman_inferior(x) for x in xr])\n",
        "plt.show()"
      ],
      "execution_count": null,
      "outputs": [
        {
          "output_type": "display_data",
          "data": {
            "image/png": "[encoded data removed]",
            "text/plain": [
              "<Figure size 432x288 with 1 Axes>"
            ]
          },
          "metadata": {
            "tags": []
          }
        }
      ]
    },
    {
      "cell_type": "markdown",
      "metadata": {
        "id": "6gts3ldLGIWc"
      },
      "source": [
        "## Fórmula de Ramanujan para π\n",
        "\n",
        "*Una de las fórmulas más utilizadas para aproximar el valor de pi se la debemos al genial matemático indio Srinivasa Ramanujan.*\n",
        "\n",
        "<img src=\"https://i1.wp.com/ucanalytics.com/blogs/wp-content/uploads/2014/01/ramanujan.png\">\n",
        "\n",
        "*Define una función que calcula la aproximación de pi con los <em>n</em> primeros términos del sumatorio.*"
      ]
    },
    {
      "cell_type": "markdown",
      "metadata": {
        "id": "m7o6CWgRGIWd"
      },
      "source": [
        "Ignoraremos los efectos de la imprecisión de los números reales."
      ]
    },
    {
      "cell_type": "code",
      "metadata": {
        "trusted": false,
        "id": "8WASDdhLGIWf"
      },
      "source": [
        "from math import factorial, sqrt\n",
        "\n",
        "def inv_pi(n):\n",
        "    return (2*sqrt(2)/9801) \\\n",
        "        *sum(factorial(4*k)*(1103+26390*k) \\\n",
        "             /(factorial(k)**4*396**(4*k)) \\\n",
        "             for k in range(n))\n",
        "\n",
        "def sr_pi(n):\n",
        "    return 1/inv_pi(n)"
      ],
      "execution_count": 10,
      "outputs": []
    },
    {
      "cell_type": "markdown",
      "metadata": {
        "id": "e-mKnixhGIWh"
      },
      "source": [
        "Incluso con valores bajos de *n* podemos comprobar que el resultado es excelente."
      ]
    },
    {
      "cell_type": "code",
      "metadata": {
        "trusted": false,
        "id": "6uYXWfa5GIWh",
        "outputId": "447f45cc-d4ef-486d-ddf9-42df2a25b691",
        "colab": {
          "base_uri": "https://localhost:8080/"
        }
      },
      "source": [
        "%precision 20\n",
        "sr_pi(10)"
      ],
      "execution_count": 11,
      "outputs": [
        {
          "output_type": "execute_result",
          "data": {
            "text/plain": [
              "3.14159265358979311600"
            ]
          },
          "metadata": {
            "tags": []
          },
          "execution_count": 11
        }
      ]
    },
    {
      "cell_type": "markdown",
      "metadata": {
        "id": "WS5-vQDSGIWj"
      },
      "source": [
        "## Producto escalar y producto vectorial\n",
        "\n",
        "*Define una función `escalar` y otra función `vectorial` que implementan el producto escalar y vectorial de dos vectores respectivamente.*\n",
        "\n",
        "*Cada vector se representa como una tupla de tres coordenadas cartesianas.*"
      ]
    },
    {
      "cell_type": "code",
      "metadata": {
        "trusted": false,
        "id": "DhvEm9-aGIWk"
      },
      "source": [
        "def escalar(a,b):\n",
        "    return sum(ai*bi for ai,bi in zip(a,b))\n",
        "\n",
        "def vectorial(a,b):\n",
        "    return (a[1]*b[2]-a[2]*b[1],\n",
        "            a[2]*b[0]-a[0]*b[2],\n",
        "            a[0]*b[1]-a[1]*b[0])"
      ],
      "execution_count": null,
      "outputs": []
    },
    {
      "cell_type": "markdown",
      "metadata": {
        "id": "WpwobZs8GIWl"
      },
      "source": [
        "He visto intentos de evitar errores utilizando programación dirigida por datos para el producto vectorial. Creo que en este caso es suficientemente sencillo y estable como para que no se necesite. Pero si lo consideras necesario podría ser así."
      ]
    },
    {
      "cell_type": "code",
      "metadata": {
        "trusted": false,
        "id": "FSyfovCqGIWl"
      },
      "source": [
        "def vectorial(a,b):\n",
        "    return tuple(a[i]*b[j]-a[j]*b[i] for i,j in ((1,2),(2,0),(0,1)))"
      ],
      "execution_count": null,
      "outputs": []
    },
    {
      "cell_type": "markdown",
      "metadata": {
        "id": "NvNhLh_tGIWn"
      },
      "source": [
        "# Archivos auxiliares\n",
        "\n",
        "Archivos utilizados en la generación de las imágenes de este capítulo. Puedes ignorarlos."
      ]
    },
    {
      "cell_type": "code",
      "metadata": {
        "trusted": false,
        "id": "LQhDArbvGIWn",
        "outputId": "73fab58e-8730-4566-b8d3-5009fd0c1fed"
      },
      "source": [
        "%%file diag/maxfn.svg\n",
        "<svg width=\"250\" height=\"120\">\n",
        "<rect x=\"0\" y=\"0\" width=\"100%\" height=\"100%\" fill=\"pink\" stroke-width=\"0\"/>\n",
        "<text style=\"font-family: monospace; font-size: 150%;\">\n",
        " <tspan dy=\"1em\" x=\"5\" >def max(x,y):</tspan>\n",
        " <tspan dy=\"1em\" x=\"2em\" >if x > y:</tspan>\n",
        " <tspan dy=\"1em\" x=\"4em\" >return x</tspan>\n",
        " <tspan dy=\"1em\" x=\"2em\" >return y</tspan>\n",
        "</text>\n",
        "</svg>"
      ],
      "execution_count": null,
      "outputs": [
        {
          "output_type": "stream",
          "text": [
            "Overwriting diag/maxfn.svg\n"
          ],
          "name": "stdout"
        }
      ]
    },
    {
      "cell_type": "code",
      "metadata": {
        "trusted": false,
        "id": "7G_ZlOEeGIWp",
        "outputId": "83036244-03b5-4023-d82c-0837c6c7929d"
      },
      "source": [
        "%%file diag/maxfncall.svg\n",
        "<svg width=\"250\" height=\"30\">\n",
        "<rect x=\"0\" y=\"0\" width=\"100%\" height=\"100%\" fill=\"pink\" stroke-width=\"0\"/>\n",
        "<text style=\"font-family: monospace; font-size: 150%;\">\n",
        " <tspan dy=\"1em\" x=\"5\" >max(3,4)</tspan>\n",
        "</text>\n",
        "</svg>"
      ],
      "execution_count": null,
      "outputs": [
        {
          "output_type": "stream",
          "text": [
            "Overwriting diag/maxfncall.svg\n"
          ],
          "name": "stdout"
        }
      ]
    },
    {
      "cell_type": "code",
      "metadata": {
        "hideCode": false,
        "hidePrompt": false,
        "trusted": false,
        "id": "2L4KXaIoGIWr"
      },
      "source": [
        "!magick convert diag/maxfn.svg diag/maxfn.png\n",
        "!magick convert diag/maxfncall.svg diag/maxfncall.png"
      ],
      "execution_count": null,
      "outputs": []
    },
    {
      "cell_type": "code",
      "metadata": {
        "hideCode": false,
        "hidePrompt": false,
        "scrolled": false,
        "trusted": false,
        "id": "RkgISfHwGIWs",
        "outputId": "677e5167-f7c6-47da-b07f-ae7ec77728da"
      },
      "source": [
        "%%file diag/fun-call.bd\n",
        "blockdiag {\n",
        "    default_fontsize = 18\n",
        "    default_node_color = \"orange\"\n",
        "    default_group_color = \"lightgray\"\n",
        "    span_width = 80\n",
        "    span_height = 25\n",
        "    \n",
        "    x,y,3,4 [width=20, height=30]\n",
        "    x,y [style=none, color=lightyellow]\n",
        "    fun [label=\"\", background=\"diag/maxfn.png\", color=\"pink\", height=80, width=150]\n",
        "    call [label=\"\", background=\"diag/maxfncall.png\", color=pink, height=80, width=150]\n",
        "\n",
        "    group { color=white; group { label=\"Parámetros formales\"; fontsize=14; orientation=portrait; x; y; }; fun; }\n",
        "    group { color=white; group{ label=\"Marco de pila\"; fontsize=14; orientation=portrait; 3; 4;}; call; }\n",
        "    x -> 3 [style=dashed]; y -> 4 [style=dashed]\n",
        "    x -> y [style=none]\n",
        "    3 -> 4 [style=none]\n",
        "    fun -> call [style=none]\n",
        "}"
      ],
      "execution_count": null,
      "outputs": [
        {
          "output_type": "stream",
          "text": [
            "Overwriting diag/fun-call.bd\n"
          ],
          "name": "stdout"
        }
      ]
    },
    {
      "cell_type": "code",
      "metadata": {
        "hideCode": false,
        "hidePrompt": false,
        "trusted": false,
        "id": "FoznOqTDGIWu"
      },
      "source": [
        "!blockdiag -Tsvg -f C:/Windows/Fonts/consola.ttf diag/fun-call.bd"
      ],
      "execution_count": null,
      "outputs": []
    },
    {
      "cell_type": "code",
      "metadata": {
        "trusted": false,
        "id": "vIkZZBjkGIWw",
        "outputId": "6c08ae71-87f3-406e-ccd8-8169ccf18273"
      },
      "source": [
        "%%file diag/maxfncall2.svg\n",
        "<svg width=\"250\" height=\"120\">\n",
        "<rect x=\"0\" y=\"0\" width=\"100%\" height=\"100%\" fill=\"pink\" stroke-width=\"0\"/>\n",
        "<text style=\"font-family: monospace; font-size: 150%;\">\n",
        " <tspan dy=\"1em\" x=\"5\" >max(w,z)</tspan>\n",
        "</text>\n",
        "</svg>"
      ],
      "execution_count": null,
      "outputs": [
        {
          "output_type": "stream",
          "text": [
            "Overwriting diag/maxfncall2.svg\n"
          ],
          "name": "stdout"
        }
      ]
    },
    {
      "cell_type": "code",
      "metadata": {
        "hideCode": false,
        "hidePrompt": false,
        "trusted": false,
        "id": "ME_CnERiGIWz"
      },
      "source": [
        "!magick convert diag/maxfncall2.svg diag/maxfncall2.png"
      ],
      "execution_count": null,
      "outputs": []
    },
    {
      "cell_type": "code",
      "metadata": {
        "hideCode": false,
        "hidePrompt": false,
        "scrolled": false,
        "trusted": false,
        "id": "_1ayEydsGIW1",
        "outputId": "2bfce67e-bdc8-4ea4-cb07-5fa45a96e385"
      },
      "source": [
        "%%file diag/lambda-abstr.bd\n",
        "blockdiag {\n",
        "    default_fontsize = 24\n",
        "    default_node_color = \"orange\"\n",
        "    default_group_color = \"lightgray\"\n",
        "    \n",
        "    fun [label=\"\", background=\"diag/maxfn.png\", height=120, width=250, color=pink]\n",
        "    call [label=\"\", background=\"diag/maxfncall2.png\", height=120, width=250, color=pink]\n",
        "\n",
        "    call -> fun [style=dashed]\n",
        "}"
      ],
      "execution_count": null,
      "outputs": [
        {
          "output_type": "stream",
          "text": [
            "Overwriting diag/lambda-abstr.bd\n"
          ],
          "name": "stdout"
        }
      ]
    },
    {
      "cell_type": "code",
      "metadata": {
        "hideCode": false,
        "hidePrompt": false,
        "trusted": false,
        "id": "DblSIb6lGIW2"
      },
      "source": [
        "!blockdiag -Tsvg -f C:\\Windows\\Fonts\\Consola.ttf diag/lambda-abstr.bd"
      ],
      "execution_count": null,
      "outputs": []
    }
  ]
}