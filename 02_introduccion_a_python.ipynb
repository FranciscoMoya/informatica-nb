{
  "nbformat": 4,
  "nbformat_minor": 0,
  "metadata": {
    "celltoolbar": "Attachments",
    "hide_code_all_hidden": true,
    "kernelspec": {
      "name": "python3",
      "display_name": "Python 3",
      "language": "python"
    },
    "language_info": {
      "mimetype": "text/x-python",
      "nbconvert_exporter": "python",
      "name": "python",
      "pygments_lexer": "ipython3",
      "version": "3.5.4",
      "file_extension": ".py",
      "codemirror_mode": {
        "version": 3,
        "name": "ipython"
      }
    },
    "colab": {
      "name": "02_introduccion_a_python.ipynb",
      "provenance": [],
      "include_colab_link": true
    }
  },
  "cells": [
    {
      "cell_type": "markdown",
      "metadata": {
        "id": "view-in-github",
        "colab_type": "text"
      },
      "source": [
        "<a href=\"https://colab.research.google.com/github/FranciscoMoya/informatica-nb/blob/master/02_introduccion_a_python.ipynb\" target=\"_parent\"><img src=\"https://colab.research.google.com/assets/colab-badge.svg\" alt=\"Open In Colab\"/></a>"
      ]
    },
    {
      "cell_type": "code",
      "metadata": {
        "hideCode": false,
        "hidePrompt": false,
        "trusted": false,
        "id": "BjDeGcAR5x5o"
      },
      "source": [
        "A = B = B1 = B2 = C = None\n",
        "condicion = cond1 = cond2 = True"
      ],
      "execution_count": null,
      "outputs": []
    },
    {
      "cell_type": "markdown",
      "metadata": {
        "hideCode": false,
        "hidePrompt": false,
        "id": "xxVKBQVP5x5r"
      },
      "source": [
        "# Ejecución condicional\n",
        "\n",
        "## if - elif - else"
      ]
    },
    {
      "cell_type": "markdown",
      "metadata": {
        "hideCode": false,
        "hidePrompt": false,
        "id": "02Wcugqu5x5r"
      },
      "source": [
        "# Ejecución secuencial\n",
        "\n",
        "* Normalmente las instrucciones se ejecutan en secuencia\n",
        "\n",
        "![seq.svg](https://cdn.jsdelivr.net/gh/FranciscoMoya/informatica-nb@master/diag/seq.svg)"
      ]
    },
    {
      "cell_type": "code",
      "metadata": {
        "hideCode": false,
        "hidePrompt": false,
        "trusted": false,
        "id": "l6_XlLFV5x5r"
      },
      "source": [
        "A\n",
        "B\n",
        "C"
      ],
      "execution_count": null,
      "outputs": []
    },
    {
      "cell_type": "markdown",
      "metadata": {
        "hideCode": false,
        "hidePrompt": false,
        "id": "L_D2TmyQ5x5t"
      },
      "source": [
        "# Ejecución condicional (if)\n",
        "\n",
        "* If añade un camino alternativo que solo se ejecuta si se cumple una condición\n",
        "\n",
        "![if.svg](https://cdn.jsdelivr.net/gh/FranciscoMoya/informatica-nb@master/diag/if.svg)"
      ]
    },
    {
      "cell_type": "code",
      "metadata": {
        "hideCode": false,
        "hidePrompt": false,
        "trusted": false,
        "id": "jPFqKbbh5x5u"
      },
      "source": [
        "A\n",
        "if condicion:\n",
        "    B\n",
        "C"
      ],
      "execution_count": null,
      "outputs": []
    },
    {
      "cell_type": "markdown",
      "metadata": {
        "hideCode": false,
        "hidePrompt": false,
        "id": "Rqw9MGqI5x5w"
      },
      "source": [
        "# Ejecución condicional (if-else)\n",
        "\n",
        "* If-else añade dos caminos alternativos que se ejecutan si se cumple/no se cumple una condición\n",
        "\n",
        "![if-else.svg](https://cdn.jsdelivr.net/gh/FranciscoMoya/informatica-nb@master/diag/if-else.svg)"
      ]
    },
    {
      "cell_type": "code",
      "metadata": {
        "hideCode": false,
        "hidePrompt": false,
        "trusted": false,
        "id": "7Iq4nwIO5x5w"
      },
      "source": [
        "A\n",
        "if condicion:\n",
        "    B1\n",
        "else:\n",
        "    B2\n",
        "C"
      ],
      "execution_count": null,
      "outputs": []
    },
    {
      "cell_type": "markdown",
      "metadata": {
        "hideCode": false,
        "hidePrompt": false,
        "id": "fBtTFMdi5x5y"
      },
      "source": [
        "# Ejecución condicional múltiple (if-elif-else)\n",
        "\n",
        "* Las escaleras de if añaden múltiples caminos alternativos.\n",
        "\n",
        "![if-elif-else.svg](https://cdn.jsdelivr.net/gh/FranciscoMoya/informatica-nb@master/diag/if-elif-else.svg)"
      ]
    },
    {
      "cell_type": "code",
      "metadata": {
        "hideCode": false,
        "hidePrompt": false,
        "trusted": false,
        "id": "c8bSuPp35x5y"
      },
      "source": [
        "A\n",
        "if cond1: B1\n",
        "elif cond2: B2\n",
        "else: B\n",
        "C"
      ],
      "execution_count": null,
      "outputs": []
    },
    {
      "cell_type": "markdown",
      "metadata": {
        "hideCode": false,
        "hidePrompt": false,
        "id": "903AVxYC5x50"
      },
      "source": [
        "# Ejemplo 1\n",
        "\n",
        "* Escribir una función `calificacion` que devuelva la calificación alfanumérica correspondiente a una calificación numérica."
      ]
    },
    {
      "cell_type": "code",
      "metadata": {
        "hideCode": false,
        "hidePrompt": false,
        "trusted": false,
        "id": "wYn2Jqny5x50"
      },
      "source": [
        "def calificacion(n):\n",
        "    if n < 5:\n",
        "        return 'Suspenso'\n",
        "    if n < 7:\n",
        "        return 'Aprobado'\n",
        "    if n < 9:\n",
        "        return 'Notable'\n",
        "    return 'Sobresaliente'"
      ],
      "execution_count": null,
      "outputs": []
    },
    {
      "cell_type": "markdown",
      "metadata": {
        "hideCode": false,
        "hidePrompt": false,
        "id": "NzERz07-5x53"
      },
      "source": [
        "# Ejemplo 2\n",
        "\n",
        "* En EEUU es frecuente un esquema de calificaciones basados en competición entre los estudiantes.  El 20% mejor recibe una A, el 20% siguiente una B, el 20% siguiente un C, el 20% siguiente una D y el 20% peor una F.  Escribir una función `letter_grade` que devuelva la letra correspondiente a un percentil dado.  El percentil es la proporción de estudiantes que tiene un resultado peor que el del alumno.  Por ejemplo, un percentil 1.0 significaría que todos los demás alumnos tienen peor calificación."
      ]
    },
    {
      "cell_type": "code",
      "metadata": {
        "hideCode": false,
        "hidePrompt": false,
        "trusted": false,
        "id": "YozW8Yfc5x53"
      },
      "source": [
        "def letter_grade(x):\n",
        "    if x < 0.2:\n",
        "        return \"F\"\n",
        "    if x < 0.4:\n",
        "        return \"D\"\n",
        "    if x < 0.6:\n",
        "        return \"C\"\n",
        "    if x < 0.8:\n",
        "        return \"B\"\n",
        "    return \"A\""
      ],
      "execution_count": null,
      "outputs": []
    },
    {
      "cell_type": "markdown",
      "metadata": {
        "hideCode": false,
        "hidePrompt": false,
        "id": "ZVhFWoWp5x55"
      },
      "source": [
        "# Ejemplo 3\n",
        "\n",
        "* Imprime un mensaje si `n` es divisible por 2 y/o por 3."
      ]
    },
    {
      "cell_type": "code",
      "metadata": {
        "hideCode": false,
        "hidePrompt": false,
        "trusted": false,
        "id": "fHr0E3y25x55"
      },
      "source": [
        "def es_divisible_por(n,d): \n",
        "    return n % d == 0\n",
        "\n",
        "n = 1245412"
      ],
      "execution_count": null,
      "outputs": []
    },
    {
      "cell_type": "code",
      "metadata": {
        "hideCode": false,
        "hidePrompt": false,
        "trusted": false,
        "id": "8iVukAxu5x57",
        "outputId": "06ec8bbf-2a53-4b88-fedf-a1661255387c",
        "colab": {
          "base_uri": "https://localhost:8080/",
          "height": 34
        }
      },
      "source": [
        "if es_divisible_por(n, 2):\n",
        "    if es_divisible_por(n, 3):\n",
        "        print('Divisible por 2 y por 3')\n",
        "    else:\n",
        "        print('Divisible por 2 pero no por 3')\n",
        "elif es_divisible_por(n, 3):\n",
        "    print('Divisible por 3 pero no por 2')\n",
        "else:\n",
        "    print('No divisible por 2 ni por 3')"
      ],
      "execution_count": null,
      "outputs": [
        {
          "output_type": "stream",
          "text": [
            "Divisible por 2 pero no por 3\n"
          ],
          "name": "stdout"
        }
      ]
    },
    {
      "cell_type": "markdown",
      "metadata": {
        "hideCode": false,
        "hidePrompt": false,
        "id": "e8wdmprg5x5-"
      },
      "source": [
        "# Ejemplo 4\n",
        "\n",
        "* Escribe una función `es_bisiesto` que devuelva `True` cuando el argumento es un año bisiesto y `False` en caso contrario."
      ]
    },
    {
      "cell_type": "code",
      "metadata": {
        "hideCode": false,
        "hidePrompt": true,
        "trusted": false,
        "id": "vrHn41665x5-"
      },
      "source": [
        "def es_bisiesto(x):\n",
        "    if es_divisible_por(x, 400):\n",
        "        return True\n",
        "    if es_divisible_por(x, 100):\n",
        "        return False\n",
        "    if es_divisible_por(x, 4):\n",
        "        return True\n",
        "    return False"
      ],
      "execution_count": null,
      "outputs": []
    },
    {
      "cell_type": "code",
      "metadata": {
        "hideCode": false,
        "hidePrompt": true,
        "trusted": false,
        "id": "X0v6E2Y25x6A"
      },
      "source": [
        "def es_bisiesto(x):\n",
        "    return es_divisible_por(x, 400) or not es_divisible_por(x, 100) and es_divisible_por(x, 4)"
      ],
      "execution_count": null,
      "outputs": []
    },
    {
      "cell_type": "code",
      "metadata": {
        "trusted": false,
        "id": "DESZxDy_5x6C",
        "outputId": "421d997f-153b-4b31-d4fa-2613b9bee3a4",
        "colab": {
          "base_uri": "https://localhost:8080/",
          "height": 34
        }
      },
      "source": [
        "es_bisiesto(1900)"
      ],
      "execution_count": null,
      "outputs": [
        {
          "output_type": "execute_result",
          "data": {
            "text/plain": [
              "False"
            ]
          },
          "metadata": {
            "tags": []
          },
          "execution_count": 26
        }
      ]
    },
    {
      "cell_type": "code",
      "metadata": {
        "trusted": false,
        "id": "YWLWSlWr7YdD"
      },
      "source": [
        "A = B = B1 = B2 = C = None\n",
        "condicion = cond1 = cond2 = True\n",
        "secuencia = []"
      ],
      "execution_count": null,
      "outputs": []
    },
    {
      "cell_type": "markdown",
      "metadata": {
        "collapsed": true,
        "id": "K7QkT1rd7YdH"
      },
      "source": [
        "# Repetición\n",
        "\n",
        "## while, for"
      ]
    },
    {
      "cell_type": "markdown",
      "metadata": {
        "id": "TVx3fHon7YdH"
      },
      "source": [
        "# Bucle while\n",
        "\n",
        "* Repite mientras se cumpla la condición.\n",
        "\n",
        "![while.svg](https://cdn.jsdelivr.net/gh/FranciscoMoya/informatica-nb@master/diag/while.svg)"
      ]
    },
    {
      "cell_type": "code",
      "metadata": {
        "trusted": false,
        "id": "h_0wGFh07YdI"
      },
      "source": [
        "A\n",
        "while condicion:\n",
        "    B\n",
        "C"
      ],
      "execution_count": null,
      "outputs": []
    },
    {
      "cell_type": "markdown",
      "metadata": {
        "id": "Z1X6vxVz7YdL"
      },
      "source": [
        "# Enumeración exhaustiva\n",
        "\n",
        "* A veces es posible probar **todas las posibilidades**."
      ]
    },
    {
      "cell_type": "code",
      "metadata": {
        "trusted": false,
        "id": "Vkc6VzSJ7YdL"
      },
      "source": [
        "def raiz_cubica(n):\n",
        "    i = 1\n",
        "    while i**3 < n:\n",
        "        i = i + 1\n",
        "\n",
        "    if i**3 == n:\n",
        "        return i"
      ],
      "execution_count": null,
      "outputs": []
    },
    {
      "cell_type": "code",
      "metadata": {
        "trusted": false,
        "id": "HJ-FKVb-7YdN",
        "outputId": "c138b084-f3d7-4f52-b0c5-9affd36cdff8",
        "colab": {
          "base_uri": "https://localhost:8080/",
          "height": 34
        }
      },
      "source": [
        "raiz_cubica(27)"
      ],
      "execution_count": null,
      "outputs": [
        {
          "output_type": "execute_result",
          "data": {
            "text/plain": [
              "3"
            ]
          },
          "metadata": {
            "tags": []
          },
          "execution_count": 2
        }
      ]
    },
    {
      "cell_type": "markdown",
      "metadata": {
        "id": "z4JeAplu7YdQ"
      },
      "source": [
        "# Función de decremento\n",
        "\n",
        "* Transforma variables a entero\n",
        "* Al entrar es **no negativo**\n",
        "* Cuando es $\\leq 0$ sale del bucle\n",
        "* Se decrementa en cada iteración\n"
      ]
    },
    {
      "cell_type": "markdown",
      "metadata": {
        "id": "SILXNxpX7YdQ"
      },
      "source": [
        "# Bucle for\n",
        "\n",
        "* Repite sustituyendo variable de control por cada elemento.\n",
        "\n",
        "![for.svg](https://cdn.jsdelivr.net/gh/FranciscoMoya/informatica-nb@master/diag/for.svg)"
      ]
    },
    {
      "cell_type": "code",
      "metadata": {
        "trusted": false,
        "id": "apiGyNJR7YdR"
      },
      "source": [
        "A\n",
        "for x in secuencia:\n",
        "    B\n",
        "C"
      ],
      "execution_count": null,
      "outputs": []
    },
    {
      "cell_type": "markdown",
      "metadata": {
        "id": "tLy3CgjL7YdT"
      },
      "source": [
        "# Enumeración exhaustiva (for)\n",
        "\n",
        "* Si podemos expresar **todas las posibilidades** como secuencia."
      ]
    },
    {
      "cell_type": "code",
      "metadata": {
        "trusted": false,
        "id": "IxFnaj957YdT"
      },
      "source": [
        "def raiz_cubica(n):\n",
        "    for i in range(n + 1):\n",
        "        if i**3 >= n:\n",
        "            break\n",
        "\n",
        "    if i**3 == n:\n",
        "        return i"
      ],
      "execution_count": null,
      "outputs": []
    },
    {
      "cell_type": "code",
      "metadata": {
        "trusted": false,
        "id": "xL4jkWwv7YdV",
        "outputId": "bb5b2261-1c2a-4b61-c117-84d433e16365"
      },
      "source": [
        "raiz_cubica(27)"
      ],
      "execution_count": null,
      "outputs": [
        {
          "output_type": "execute_result",
          "data": {
            "text/plain": [
              "3"
            ]
          },
          "metadata": {
            "tags": []
          },
          "execution_count": 58
        }
      ]
    },
    {
      "cell_type": "markdown",
      "metadata": {
        "id": "aWdI14Xo7YdY"
      },
      "source": [
        "# Ejemplo 1\n",
        "\n",
        "* Escribe una función `cuadrado` que imprima en pantalla un cuadrado del tamaño que se indica en el argumento. "
      ]
    },
    {
      "cell_type": "code",
      "metadata": {
        "trusted": false,
        "id": "2Z5QSq5J7YdZ"
      },
      "source": [
        "def cuadrado(n):\n",
        "    print('*'*n)\n",
        "    for i in range(n-2):\n",
        "        print('*' + ' '*(n-2) + '*')\n",
        "    print('*'*n)"
      ],
      "execution_count": null,
      "outputs": []
    },
    {
      "cell_type": "code",
      "metadata": {
        "trusted": false,
        "id": "5OgYhNRJ7Ydb",
        "outputId": "ea6f45a9-aba8-4915-c3a0-98b526c97a15"
      },
      "source": [
        "cuadrado(3)"
      ],
      "execution_count": null,
      "outputs": [
        {
          "output_type": "stream",
          "text": [
            "***\n",
            "* *\n",
            "***\n"
          ],
          "name": "stdout"
        }
      ]
    },
    {
      "cell_type": "markdown",
      "metadata": {
        "id": "KxvAuxE07Ydd"
      },
      "source": [
        "# Ejemplo 2\n",
        "\n",
        "* Escribe una función `cuadrado` que imprima en pantalla un cuadrado del tamaño que se indica en el argumento. "
      ]
    },
    {
      "cell_type": "code",
      "metadata": {
        "trusted": false,
        "id": "GSrmA7tz7Ydd"
      },
      "source": [
        "def cuadrado(n):\n",
        "    print('*'*n)\n",
        "    for i in range(n-2):\n",
        "        print('*' + ' '*(n-2) + '*')\n",
        "    print('*'*n)"
      ],
      "execution_count": null,
      "outputs": []
    },
    {
      "cell_type": "code",
      "metadata": {
        "trusted": false,
        "id": "GwIRp1dI7Ydf",
        "outputId": "26419101-8756-4833-d4d6-88c351697d79"
      },
      "source": [
        "cuadrado(3)"
      ],
      "execution_count": null,
      "outputs": [
        {
          "output_type": "stream",
          "text": [
            "***\n",
            "* *\n",
            "***\n"
          ],
          "name": "stdout"
        }
      ]
    },
    {
      "cell_type": "markdown",
      "metadata": {
        "hideCode": true,
        "hideOutput": false,
        "id": "hu47L1cp7Ydh"
      },
      "source": [
        "# Refinamiento sucesivo\n",
        "\n",
        "* Conjeturar y comprobar\n",
        "  * Enumeración exhaustiva\n",
        "  * **Búsqueda por bisección**\n",
        "  * Método de Newton-Raphson\n",
        "  \n",
        "![biseccion.svg](https://cdn.jsdelivr.net/gh/FranciscoMoya/informatica-nb@master/diag/biseccion.svg)"
      ]
    },
    {
      "cell_type": "markdown",
      "metadata": {
        "id": "wjT8nMpg7Ydi"
      },
      "source": [
        "# Búsqueda por bisección"
      ]
    },
    {
      "cell_type": "code",
      "metadata": {
        "trusted": false,
        "id": "ZLRe4IRi7Ydi"
      },
      "source": [
        "def raiz_cuadrada(x, epsilon):\n",
        "    low = 0.0\n",
        "    high = max(1.0, x)\n",
        "    r = (high + low)/2.0\n",
        "    while abs(r**2 - x) >= epsilon:\n",
        "        if r**2 < x: low = r\n",
        "        else: high = r\n",
        "        r = (high + low)/2.0\n",
        "    return r"
      ],
      "execution_count": null,
      "outputs": []
    },
    {
      "cell_type": "code",
      "metadata": {
        "trusted": false,
        "id": "cmb18C1I7Ydk"
      },
      "source": [
        ""
      ],
      "execution_count": null,
      "outputs": []
    },
    {
      "cell_type": "markdown",
      "metadata": {
        "id": "vFAy36Qg7Ydm"
      },
      "source": [
        "# Límites de representación"
      ]
    },
    {
      "cell_type": "code",
      "metadata": {
        "trusted": false,
        "id": "s2-ywWam7Ydm"
      },
      "source": [
        "x = 0.0\n",
        "for i in range(10):\n",
        "    x = x + 0.1\n",
        "\n",
        "if x == 1.0:\n",
        "    print(x, '= 1.0')\n",
        "else:\n",
        "    print(x, '!= 1.0')"
      ],
      "execution_count": null,
      "outputs": []
    },
    {
      "cell_type": "markdown",
      "metadata": {
        "id": "HdgVE2Q-7Ydo"
      },
      "source": [
        "# Método de Newton-Raphson\n",
        "\n",
        "* Encontrar las raíces de una función $f(x)$ continua y derivable.  Es decir, $x$ tal que $f(x) = 0$.\n",
        "\n",
        "  * Si $x_i$ conjetura, $x_i - p(x_i)/p'(x_i)$ es mejor conjetura\n",
        "  \n",
        "<img src=\"https://cdn.jsdelivr.net/gh/FranciscoMoya/informatica-nb@master/img/NewtonRaphson.jpg\">\n",
        "\n",
        "Fuente: [NewtonRaphson Wiki](http://newtons.wikia.com/wiki/NewtonRaphson_Wiki)"
      ]
    },
    {
      "cell_type": "markdown",
      "metadata": {
        "id": "4NEmFDHI7Ydo"
      },
      "source": [
        "# Raíz cuadrada con Newton-Raphson\n",
        "\n",
        "* Sea $f(x) = x^2 - k$"
      ]
    },
    {
      "cell_type": "code",
      "metadata": {
        "trusted": false,
        "id": "Bsk_imBx7Ydo"
      },
      "source": [
        "def raiz_cuadrada(k, epsilon):\n",
        "    x = k/2.0\n",
        "    while abs(x**2 - k) >= epsilon:\n",
        "        x -= (x**2 - k)/(2*x)\n",
        "    return x"
      ],
      "execution_count": null,
      "outputs": []
    },
    {
      "cell_type": "code",
      "metadata": {
        "trusted": false,
        "id": "8Kbunq_t7Ydr",
        "outputId": "41c7cd0e-c2ba-4422-fe58-f7e6a7881485"
      },
      "source": [
        "raiz_cuadrada(2,.0000001)"
      ],
      "execution_count": null,
      "outputs": [
        {
          "output_type": "execute_result",
          "data": {
            "text/plain": [
              "1.4142135623746899"
            ]
          },
          "metadata": {
            "tags": []
          },
          "execution_count": 44
        }
      ]
    },
    {
      "cell_type": "markdown",
      "metadata": {
        "id": "Ee4ve6kA7Ydt"
      },
      "source": [
        "## Rombo con caracteres ASCII"
      ]
    },
    {
      "cell_type": "code",
      "metadata": {
        "trusted": false,
        "id": "cLtmzCx97Ydt"
      },
      "source": [
        "def imprimir_rombo(n):\n",
        "    assert n % 2 == 0, 'El argumento debe ser par'\n",
        "    assert n >= 2, 'El argumento debe ser mayor o igual a 2'\n",
        "    for i in range(n//2):\n",
        "        imprimir_linea_rombo('/', '\\\\', i, n)\n",
        "    for i in reversed(range(n//2)):\n",
        "        imprimir_linea_rombo('\\\\', '/', i, n)\n",
        "\n",
        "def imprimir_linea_rombo(a,b,i,n):\n",
        "    print(' '*(n//2-i-1)+a+' '*(2*i)+b)"
      ],
      "execution_count": null,
      "outputs": []
    },
    {
      "cell_type": "code",
      "metadata": {
        "trusted": false,
        "id": "S2U1XbWD7Ydv",
        "outputId": "df380abb-2300-4672-b25b-f2556116c332"
      },
      "source": [
        "imprimir_rombo(8)"
      ],
      "execution_count": null,
      "outputs": [
        {
          "output_type": "stream",
          "text": [
            "   /\\\n",
            "  /  \\\n",
            " /    \\\n",
            "/      \\\n",
            "\\      /\n",
            " \\    /\n",
            "  \\  /\n",
            "   \\/\n"
          ],
          "name": "stdout"
        }
      ]
    },
    {
      "cell_type": "markdown",
      "metadata": {
        "id": "N8bGmaNa7Ydx"
      },
      "source": [
        "# Créditos\n",
        "\n",
        "* Extractos de MIT Open Courseware (6.00 [Introduction to Computer Science and Programming](http://ocw.mit.edu/courses/electrical-engineering-and-computer-science/6-00-introduction-to-computer-science-and-programming-fall-2008/)) de Eric Grimson y John Guttag."
      ]
    },
    {
      "cell_type": "markdown",
      "metadata": {
        "id": "-g26-lfu7Ydx"
      },
      "source": [
        "# Archivos auxiliares\n",
        "\n",
        "Archivos auxiliares para generar las imágenes de este capítulo.  Puedes ignorarlo."
      ]
    },
    {
      "cell_type": "code",
      "metadata": {
        "hideCode": false,
        "hidePrompt": false,
        "scrolled": true,
        "trusted": false,
        "id": "sU5LN8KJ5x6E",
        "outputId": "2a043ba3-81a3-4402-9630-f606699869ec",
        "colab": {
          "base_uri": "https://localhost:8080/",
          "height": 34
        }
      },
      "source": [
        "%%file diag/seq.bd\n",
        "blockdiag {\n",
        "    default_fontsize = 24\n",
        "    span_height = 80\n",
        "    default_node_color = \"orange\"\n",
        "\n",
        "    default_fontsize = 24\n",
        "    A -> B -> C\n",
        "}"
      ],
      "execution_count": null,
      "outputs": [
        {
          "output_type": "stream",
          "text": [
            "Writing diag/seq.bd\n"
          ],
          "name": "stdout"
        }
      ]
    },
    {
      "cell_type": "code",
      "metadata": {
        "hideCode": false,
        "hidePrompt": false,
        "scrolled": true,
        "trusted": false,
        "id": "nL8AEhcm5x6G",
        "outputId": "a220e74e-bb36-4716-b176-9a9efe69f0d9",
        "colab": {
          "base_uri": "https://localhost:8080/",
          "height": 34
        }
      },
      "source": [
        "%%file diag/if.bd\n",
        "blockdiag {\n",
        "    A -> IF,B -> C\n",
        "    \n",
        "    default_fontsize = 24\n",
        "    span_height = 80\n",
        "    default_node_color = \"orange\"\n",
        "    \n",
        "    IF[label=\"Condición\", shape=\"flowchart.condition\", width=180, fontsize=18]    \n",
        "    IF -> B [folded,label=\"True\",fontsize=14]\n",
        "    IF -> C [label=\"False\",fontsize=14]\n",
        "    A -> B [style=none]\n",
        "}"
      ],
      "execution_count": null,
      "outputs": [
        {
          "output_type": "stream",
          "text": [
            "Writing diag/if.bd\n"
          ],
          "name": "stdout"
        }
      ]
    },
    {
      "cell_type": "code",
      "metadata": {
        "hideCode": false,
        "hidePrompt": false,
        "scrolled": true,
        "trusted": false,
        "id": "NKuGx4GJ5x6H",
        "outputId": "a212d5bd-8a4a-4318-dc01-aae88a36effb",
        "colab": {
          "base_uri": "https://localhost:8080/",
          "height": 34
        }
      },
      "source": [
        "%%file diag/if-else.bd\n",
        "blockdiag {\n",
        "    A -> IF -> B1,B2 -> C\n",
        "    \n",
        "    default_fontsize = 24\n",
        "    default_node_color = \"orange\"\n",
        "    \n",
        "    IF[label=\"Condición\", shape=\"flowchart.condition\", width=180, fontsize=20]    \n",
        "    \n",
        "    A -> B1,B2 [style=none]\n",
        "    //IF -> C [style=none]\n",
        "    IF -> B1,B2 [fontsize=14]\n",
        "    IF -> B1 [label=\"True\"]\n",
        "    IF -> B2 [label=\"False\"]\n",
        "}"
      ],
      "execution_count": null,
      "outputs": [
        {
          "output_type": "stream",
          "text": [
            "Writing diag/if-else.bd\n"
          ],
          "name": "stdout"
        }
      ]
    },
    {
      "cell_type": "code",
      "metadata": {
        "hideCode": false,
        "hidePrompt": false,
        "scrolled": true,
        "trusted": false,
        "id": "eLdiu4sA5x6J",
        "outputId": "7a41a6cd-8938-43f5-9156-3d3be69b6a47",
        "colab": {
          "base_uri": "https://localhost:8080/",
          "height": 34
        }
      },
      "source": [
        "%%file diag/if-elif-else.bd\n",
        "blockdiag {\n",
        "    A -> IF1,IF2,IF3,B\n",
        "    IF1 -> B1\n",
        "    IF2 -> B2\n",
        "    IF3 -> B3\n",
        "    B1,B2,B3,B -> C\n",
        "    \n",
        "    default_fontsize = 24\n",
        "    default_node_color = \"orange\"\n",
        "    \n",
        "    IF1,IF2,IF3[shape=\"flowchart.condition\", fontsize=20]\n",
        "    IF1[label=\"cond1\"]\n",
        "    IF2[label=\"cond2\"]\n",
        "    IF3,B3[shape=\"dots\"]\n",
        "    \n",
        "    A -> IF2,IF3,B [style=none]\n",
        "    IF1 -> B1\n",
        "    IF2 -> B2\n",
        "    IF3 -> B3 [style=none]\n",
        "    IF1 -> IF2 [folded]\n",
        "    IF2 -> IF3 [folded]\n",
        "    IF3 -> B [label=\"else\", folded]\n",
        "}"
      ],
      "execution_count": null,
      "outputs": [
        {
          "output_type": "stream",
          "text": [
            "Writing diag/if-elif-else.bd\n"
          ],
          "name": "stdout"
        }
      ]
    },
    {
      "cell_type": "code",
      "metadata": {
        "hideCode": false,
        "hidePrompt": false,
        "trusted": false,
        "id": "v5ftE2Sv5x6L",
        "outputId": "8f90e3cd-2853-4fae-f3bf-fe14ccacb18c",
        "colab": {
          "base_uri": "https://localhost:8080/",
          "height": 85
        }
      },
      "source": [
        "!blockdiag -Tsvg diag/seq.bd\n",
        "!blockdiag -Tsvg diag/if.bd\n",
        "!blockdiag -Tsvg diag/if-else.bd\n",
        "!blockdiag -Tsvg diag/if-elif-else.bd"
      ],
      "execution_count": null,
      "outputs": [
        {
          "output_type": "stream",
          "text": [
            "/bin/bash: blockdiag: command not found\n",
            "/bin/bash: blockdiag: command not found\n",
            "/bin/bash: blockdiag: command not found\n",
            "/bin/bash: blockdiag: command not found\n"
          ],
          "name": "stdout"
        }
      ]
    },
    {
      "cell_type": "code",
      "metadata": {
        "scrolled": true,
        "trusted": false,
        "id": "UNcryOKu7Ydx",
        "outputId": "2a3a0241-9f8b-4214-c998-ab5bc92b1d80"
      },
      "source": [
        "%%file diag/while.bd\n",
        "blockdiag {\n",
        "    A -> IF,B -> C\n",
        "    IF -> B  \n",
        "    \n",
        "    default_fontsize = 24\n",
        "    span_height = 80\n",
        "    default_node_color = \"orange\"\n",
        "    default_group_color = \"lightgray\"\n",
        "    \n",
        "    IF[label=\"Condición\", shape=\"flowchart.condition\", width=170, fontsize=20]    \n",
        "    IF -> B [folded,label=\"True\",fontsize=14]\n",
        "    IF -> C [label=\"False\",fontsize=14]\n",
        "    A -> B [dir=none]\n",
        "    B -> C [style=none]\n",
        "    group { IF; B; }\n",
        "}"
      ],
      "execution_count": null,
      "outputs": [
        {
          "output_type": "stream",
          "text": [
            "Overwriting diag/while.bd\n"
          ],
          "name": "stdout"
        }
      ]
    },
    {
      "cell_type": "code",
      "metadata": {
        "scrolled": true,
        "trusted": false,
        "id": "Ct2BkeqZ7Ydz",
        "outputId": "a6c6d7be-7eae-4523-adfc-078c24c29a93"
      },
      "source": [
        "%%file diag/for.bd\n",
        "blockdiag {\n",
        "    A -> IN -> B -> OUT -> C\n",
        "    \n",
        "    default_fontsize = 24\n",
        "    default_node_color = \"orange\"\n",
        "    default_group_color = \"lightgray\"\n",
        "    \n",
        "    IN[label=\"Para x en ...\", shape=\"flowchart.loopin\", fontsize=20, width=150]    \n",
        "    OUT[label=\"\", shape=\"flowchart.loopout\", width=150]\n",
        "    group { orientation=portrait; IN; B; OUT; }\n",
        "}"
      ],
      "execution_count": null,
      "outputs": [
        {
          "output_type": "stream",
          "text": [
            "Overwriting diag/for.bd\n"
          ],
          "name": "stdout"
        }
      ]
    },
    {
      "cell_type": "code",
      "metadata": {
        "scrolled": true,
        "trusted": false,
        "id": "JHgjfOPv7Yd1",
        "outputId": "bd00ebcc-b22f-4a3b-98b1-37d4fd08fa86"
      },
      "source": [
        "%%file diag/biseccion.bd\n",
        "blockdiag {\n",
        "    G -> min -> A -> B -> C -> conjetura -> D -> E -> F -> max -> H [dir=none, style=dotted]\n",
        "    \n",
        "    default_fontsize = 24\n",
        "    default_node_color = \"orange\"\n",
        "    default_group_color = \"lightgray\"\n",
        "    \n",
        "    min,max,conjetura [style=none]\n",
        "    A,B,C,D,E,F [label=\"\",width=1]\n",
        "    G,H [shape=none]\n",
        "}"
      ],
      "execution_count": null,
      "outputs": [
        {
          "output_type": "stream",
          "text": [
            "Overwriting diag/biseccion.bd\n"
          ],
          "name": "stdout"
        }
      ]
    },
    {
      "cell_type": "code",
      "metadata": {
        "trusted": false,
        "id": "zpxyZvOk7Yd3"
      },
      "source": [
        "!blockdiag -Tsvg diag/while.bd\n",
        "!blockdiag -Tsvg diag/for.bd\n",
        "!blockdiag -Tsvg diag/biseccion.bd"
      ],
      "execution_count": null,
      "outputs": []
    }
  ]
}