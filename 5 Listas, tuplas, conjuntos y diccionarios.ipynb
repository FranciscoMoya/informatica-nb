{
 "cells": [
  {
   "cell_type": "code",
   "execution_count": null,
   "metadata": {
    "hideCode": false,
    "hidePrompt": false,
    "slideshow": {
     "slide_type": "skip"
    }
   },
   "outputs": [],
   "source": [
    "!pip install blockdiag\n",
    "!mkdir diag"
   ]
  },
  {
   "cell_type": "code",
   "execution_count": 2,
   "metadata": {
    "hideCode": false,
    "hidePrompt": true,
    "slideshow": {
     "slide_type": "skip"
    }
   },
   "outputs": [],
   "source": [
    "from IPython.display import Image"
   ]
  },
  {
   "cell_type": "markdown",
   "metadata": {
    "collapsed": true,
    "hideCode": false,
    "hidePrompt": false,
    "slideshow": {
     "slide_type": "slide"
    }
   },
   "source": [
    "# Contenedores en Python\n",
    "\n",
    "* Listas, tuplas, conjuntos, diccionarios"
   ]
  },
  {
   "cell_type": "code",
   "execution_count": 2,
   "metadata": {},
   "outputs": [
    {
     "data": {
      "text/plain": [
       "(dict, list, tuple, set)"
      ]
     },
     "execution_count": 2,
     "metadata": {},
     "output_type": "execute_result"
    }
   ],
   "source": [
    "a = [ 1, 2, 3 ]\n",
    "b = ( 1, 2, 3 )\n",
    "c = { 1, 2, 3 }\n",
    "d = {}\n",
    "type(d), type(a), type(b), type(c)"
   ]
  },
  {
   "cell_type": "markdown",
   "metadata": {
    "slideshow": {
     "slide_type": "notes"
    }
   },
   "source": [
    "Aparentemente listas y tuplas funcionan de forma parecida."
   ]
  },
  {
   "cell_type": "code",
   "execution_count": 3,
   "metadata": {
    "slideshow": {
     "slide_type": "subslide"
    }
   },
   "outputs": [
    {
     "name": "stdout",
     "output_type": "stream",
     "text": [
      "[2, 3]\n",
      "1\n",
      "2\n",
      "3\n",
      "El 3 está\n"
     ]
    }
   ],
   "source": [
    "print(a[1:])\n",
    "for i in a:\n",
    "    print(i)\n",
    "if 3 in a:\n",
    "    print('El 3 está')"
   ]
  },
  {
   "cell_type": "code",
   "execution_count": 4,
   "metadata": {
    "slideshow": {
     "slide_type": "subslide"
    }
   },
   "outputs": [
    {
     "name": "stdout",
     "output_type": "stream",
     "text": [
      "(2, 3)\n",
      "1\n",
      "2\n",
      "3\n",
      "El 3 está\n"
     ]
    }
   ],
   "source": [
    "print(b[1:])\n",
    "for i in b:\n",
    "    print(i)\n",
    "if 3 in b:\n",
    "    print('El 3 está')"
   ]
  },
  {
   "cell_type": "markdown",
   "metadata": {
    "slideshow": {
     "slide_type": "notes"
    }
   },
   "source": [
    "Los conjuntos son ligeramente diferentes, porque no permiten indexar, pero sí iterar y determinar pertenencia.  De hecho son especialmente eficientes en esta última operación."
   ]
  },
  {
   "cell_type": "code",
   "execution_count": 5,
   "metadata": {
    "slideshow": {
     "slide_type": "subslide"
    }
   },
   "outputs": [
    {
     "name": "stdout",
     "output_type": "stream",
     "text": [
      "1\n",
      "2\n",
      "3\n",
      "El 3 está\n"
     ]
    }
   ],
   "source": [
    "# c[1:] <- No podemos\n",
    "for i in c:\n",
    "    print(i)\n",
    "if 3 in c:\n",
    "    print('El 3 está')"
   ]
  },
  {
   "cell_type": "markdown",
   "metadata": {
    "slideshow": {
     "slide_type": "notes"
    }
   },
   "source": [
    "Los diccionarios se comportan como conjuntos, pero además tienen una operación de indexación especial, que permiten acceder a valores independientes de los elementos que actúan como índice."
   ]
  },
  {
   "cell_type": "code",
   "execution_count": 5,
   "metadata": {
    "slideshow": {
     "slide_type": "subslide"
    }
   },
   "outputs": [
    {
     "name": "stdout",
     "output_type": "stream",
     "text": [
      "1 uno\n",
      "2 dos\n",
      "3 tres\n",
      "El 3 está\n"
     ]
    }
   ],
   "source": [
    "d = { 1:'uno', 2:'dos', 3:'tres' }\n",
    "for i in d:\n",
    "    print(i, d[i])\n",
    "if 3 in d:\n",
    "    print('El 3 está')"
   ]
  },
  {
   "cell_type": "markdown",
   "metadata": {
    "slideshow": {
     "slide_type": "slide"
    }
   },
   "source": [
    "## Conjuntos y diccionarios no preservan orden"
   ]
  },
  {
   "cell_type": "markdown",
   "metadata": {
    "slideshow": {
     "slide_type": "notes"
    }
   },
   "source": [
    "Otra característica distintiva de conjuntos y diccionarios es que el orden no necesariamente refleja el orden en que se introdujeron los elementos.  Se dice que son contenedores sin orden."
   ]
  },
  {
   "cell_type": "code",
   "execution_count": 6,
   "metadata": {},
   "outputs": [
    {
     "name": "stdout",
     "output_type": "stream",
     "text": [
      "1\n",
      "2\n",
      "3\n",
      "1 uno\n",
      "2 dos\n",
      "3 tres\n"
     ]
    }
   ],
   "source": [
    "c = { 3, 1, 2 }\n",
    "d = { 2:'dos', 1:'uno', 3:'tres' }\n",
    "for i in c:\n",
    "    print(i)\n",
    "for i in d:\n",
    "    print(i, d[i])"
   ]
  },
  {
   "cell_type": "code",
   "execution_count": 33,
   "metadata": {},
   "outputs": [
    {
     "data": {
      "text/plain": [
       "'aou'"
      ]
     },
     "execution_count": 33,
     "metadata": {},
     "output_type": "execute_result"
    }
   ],
   "source": [
    "s = 'askdgouhdgasdfjahsdf'\n",
    "\n",
    "def vocales(s):\n",
    "    ret = ''\n",
    "    for vocal in 'aeiouAEIOU':\n",
    "        if vocal in s:\n",
    "            ret += vocal\n",
    "    return ret\n",
    "\n",
    "vocales(s)"
   ]
  },
  {
   "cell_type": "markdown",
   "metadata": {
    "slideshow": {
     "slide_type": "slide"
    }
   },
   "source": [
    "## Mutabilidad en listas"
   ]
  },
  {
   "cell_type": "markdown",
   "metadata": {
    "slideshow": {
     "slide_type": "notes"
    }
   },
   "source": [
    "Las listas tienen algunas características especiales, que deben ser conocidas para evitar sorpresas.  Por ejemplo, se trata de un tipo *mutable*.  Esto quiere decir que podemos usar el operador de indexación (corchetes) al lado izquierdo de una asignación."
   ]
  },
  {
   "cell_type": "code",
   "execution_count": 39,
   "metadata": {},
   "outputs": [
    {
     "name": "stdout",
     "output_type": "stream",
     "text": [
      "1919581434440 [0, 1, 2, 3, 4, 5, 6, 7, 8, 9, 10, 11, 12, 13, 14, 15, 16, 17, 18, 19]\n",
      "1919581434440 [0, 1, 2, 3, 4, 12, 13, 14, 15, 16, 17, 18, 58]\n"
     ]
    },
    {
     "data": {
      "text/plain": [
       "['__add__',\n",
       " '__class__',\n",
       " '__contains__',\n",
       " '__delattr__',\n",
       " '__delitem__',\n",
       " '__dir__',\n",
       " '__doc__',\n",
       " '__eq__',\n",
       " '__format__',\n",
       " '__ge__',\n",
       " '__getattribute__',\n",
       " '__getitem__',\n",
       " '__gt__',\n",
       " '__hash__',\n",
       " '__iadd__',\n",
       " '__imul__',\n",
       " '__init__',\n",
       " '__init_subclass__',\n",
       " '__iter__',\n",
       " '__le__',\n",
       " '__len__',\n",
       " '__lt__',\n",
       " '__mul__',\n",
       " '__ne__',\n",
       " '__new__',\n",
       " '__reduce__',\n",
       " '__reduce_ex__',\n",
       " '__repr__',\n",
       " '__reversed__',\n",
       " '__rmul__',\n",
       " '__setattr__',\n",
       " '__setitem__',\n",
       " '__sizeof__',\n",
       " '__str__',\n",
       " '__subclasshook__',\n",
       " 'append',\n",
       " 'clear',\n",
       " 'copy',\n",
       " 'count',\n",
       " 'extend',\n",
       " 'index',\n",
       " 'insert',\n",
       " 'pop',\n",
       " 'remove',\n",
       " 'reverse',\n",
       " 'sort']"
      ]
     },
     "execution_count": 39,
     "metadata": {},
     "output_type": "execute_result"
    }
   ],
   "source": [
    "a = list(range(20))\n",
    "print(id(a), a)\n",
    "a[19] = 58\n",
    "a[5:12] = []\n",
    "print(id(a), a)\n",
    "\n",
    "L = [1,2,3,4]\n",
    "L.append(5)\n",
    "\n",
    "dir(L)"
   ]
  },
  {
   "cell_type": "code",
   "execution_count": 41,
   "metadata": {},
   "outputs": [
    {
     "name": "stdout",
     "output_type": "stream",
     "text": [
      "Help on built-in function count:\n",
      "\n",
      "count(...) method of builtins.list instance\n",
      "    L.count(value) -> integer -- return number of occurrences of value\n",
      "\n"
     ]
    }
   ],
   "source": [
    "s=list('abcdefghijk')\n",
    "s[2:4]=''\n",
    "\n",
    "help(L.count)"
   ]
  },
  {
   "cell_type": "code",
   "execution_count": 13,
   "metadata": {},
   "outputs": [
    {
     "data": {
      "text/plain": [
       "'aáA'"
      ]
     },
     "execution_count": 13,
     "metadata": {},
     "output_type": "execute_result"
    }
   ],
   "source": [
    "from string import ascii_letters as s\n",
    "\n",
    "s = 'áaaaAáaaa'\n",
    "\n",
    "def encontrar_vocales(s):\n",
    "    ret = ''\n",
    "    for letra in s:\n",
    "        if letra in 'aeiouAEIOUáéíóúü':\n",
    "            ret = ret + letra\n",
    "    return ''.join(set(ret))\n",
    "\n",
    "encontrar_vocales(s)"
   ]
  },
  {
   "cell_type": "markdown",
   "metadata": {
    "slideshow": {
     "slide_type": "notes"
    }
   },
   "source": [
    "La mutabilidad tiene consecuencias muy importantes. Vamos a ver una serie de ejemplos para ilustrarlas."
   ]
  },
  {
   "cell_type": "code",
   "execution_count": 4,
   "metadata": {
    "slideshow": {
     "slide_type": "subslide"
    }
   },
   "outputs": [],
   "source": [
    "consonantes = ['b', 'c', 'd', 'f']\n",
    "vocales = ['a', 'e', 'i']\n",
    "letras = [consonantes, vocales]\n",
    "letras2 = [['b', 'c', 'd', 'f'], ['a', 'e', 'i']]"
   ]
  },
  {
   "cell_type": "markdown",
   "metadata": {},
   "source": [
    "Aparentemente `letras` y `letras2` son lo mismo."
   ]
  },
  {
   "cell_type": "code",
   "execution_count": 5,
   "metadata": {
    "slideshow": {
     "slide_type": "subslide"
    }
   },
   "outputs": [
    {
     "name": "stdout",
     "output_type": "stream",
     "text": [
      "letras = [['b', 'c', 'd', 'f'], ['a', 'e', 'i']]\n",
      "letras2 = [['b', 'c', 'd', 'f'], ['a', 'e', 'i']]\n",
      "True\n"
     ]
    }
   ],
   "source": [
    "print('letras =', letras)\n",
    "print('letras2 =', letras2)\n",
    "print(letras == letras2)"
   ]
  },
  {
   "cell_type": "markdown",
   "metadata": {
    "slideshow": {
     "slide_type": "subslide"
    }
   },
   "source": [
    "Pero fíjate en el resultado de manipular la lista `vocales` sin tocar en absoluto la lista `letras`."
   ]
  },
  {
   "cell_type": "code",
   "execution_count": 6,
   "metadata": {},
   "outputs": [
    {
     "name": "stdout",
     "output_type": "stream",
     "text": [
      "letras = [['b', 'c', 'd', 'f'], ['a', 'e', 'i', 'o']]\n",
      "letras2 = [['b', 'c', 'd', 'f'], ['a', 'e', 'i']]\n",
      "False\n"
     ]
    }
   ],
   "source": [
    "vocales.append('o')\n",
    "print('letras =', letras)\n",
    "print('letras2 =', letras2)\n",
    "print(letras == letras2)"
   ]
  },
  {
   "cell_type": "markdown",
   "metadata": {
    "slideshow": {
     "slide_type": "notes"
    }
   },
   "source": [
    "Python no guarda el contenido de las listas `consonantes` y `vocales` como elementos de `letras`, sino que guarda una referencia al objeto original, que puede manipularse afectando a todas las variables que contienen referencias a esas listas.\n",
    "\n",
    "Podemos ver que se trata de objetos diferentes empleando la función `id` o bien con [PythonTutor](http://www.pythontutor.com/visualize.html#code=consonantes+%3D+%5B'b',+'c',+'d',+'f'%5D%0Avocales+%3D+%5B'a',+'e',+'i'%5D%0Aletras+%3D+%5Bconsonantes,+vocales%5D%0Aletras2+%3D+%5B%5B'b',+'c',+'d',+'f'%5D,+%5B'a',+'e',+'i'%5D%5D%0A&mode=display&origin=opt-frontend.js&cumulative=false&heapPrimitives=false&textReferences=false&py=2&rawInputLstJSON=%5B%5D&curInstr=4)."
   ]
  },
  {
   "cell_type": "code",
   "execution_count": 11,
   "metadata": {},
   "outputs": [
    {
     "name": "stdout",
     "output_type": "stream",
     "text": [
      "912297503944 912316674440\n"
     ]
    }
   ],
   "source": [
    "(id(letras), id(letras2))"
   ]
  },
  {
   "cell_type": "markdown",
   "metadata": {
    "slideshow": {
     "slide_type": "notes"
    }
   },
   "source": [
    "Esto tiene más implicaciones de las que vemos a primera vista, porque el paso de parámetros no es más que un caso particular de todo esto."
   ]
  },
  {
   "cell_type": "code",
   "execution_count": 12,
   "metadata": {
    "slideshow": {
     "slide_type": "subslide"
    }
   },
   "outputs": [
    {
     "name": "stdout",
     "output_type": "stream",
     "text": [
      "[['b', 'c', 'd', 'f'], ['a', 'e', 'i', 'u']]\n"
     ]
    }
   ],
   "source": [
    "def f(lista):\n",
    "    lista[1].append('u')\n",
    "    \n",
    "f(letras2)\n",
    "\n",
    "print(letras2)"
   ]
  },
  {
   "cell_type": "markdown",
   "metadata": {
    "slideshow": {
     "slide_type": "notes"
    }
   },
   "source": [
    "Hasta ahora cuando pasábamos un valor a una función se trataba de una copia, que podía manipular a su antojo sin afectar al programa que llamaba.  Por ejemplo:"
   ]
  },
  {
   "cell_type": "code",
   "execution_count": 13,
   "metadata": {
    "slideshow": {
     "slide_type": "subslide"
    }
   },
   "outputs": [
    {
     "name": "stdout",
     "output_type": "stream",
     "text": [
      "5\n",
      "8\n",
      "9\n",
      "1\n",
      "1985\n"
     ]
    }
   ],
   "source": [
    "def cifras(n):\n",
    "    while n > 0:\n",
    "        print(n%10)\n",
    "        n //= 10\n",
    "\n",
    "n = 1985\n",
    "cifras(n)\n",
    "print(n)"
   ]
  },
  {
   "cell_type": "markdown",
   "metadata": {
    "slideshow": {
     "slide_type": "subslide"
    }
   },
   "source": [
    "Al pasar una lista se está pasando una referencia al objeto correspondiente.  Al tratarse de un objeto mutable la función puede devolver resultados a la función que llama sin ni siquiera usar `return`.  Nunca hagas esto."
   ]
  },
  {
   "cell_type": "code",
   "execution_count": 14,
   "metadata": {
    "slideshow": {
     "slide_type": "-"
    }
   },
   "outputs": [
    {
     "name": "stdout",
     "output_type": "stream",
     "text": [
      "[5, 8, 9, 1]\n"
     ]
    }
   ],
   "source": [
    "def cifras(n, lista):  # Nunca hagas esto\n",
    "    while n > 0:\n",
    "        lista.append(n%10)\n",
    "        n //= 10\n",
    "\n",
    "n = []\n",
    "cifras(1985, n)\n",
    "print(n)"
   ]
  },
  {
   "cell_type": "markdown",
   "metadata": {
    "slideshow": {
     "slide_type": "subslide"
    }
   },
   "source": [
    "Recuerda que programas para que otros lean tus programas.  Si escondes el valor de retorno solo estás dificultando la lectura."
   ]
  },
  {
   "cell_type": "code",
   "execution_count": 15,
   "metadata": {},
   "outputs": [
    {
     "name": "stdout",
     "output_type": "stream",
     "text": [
      "[5, 8, 9, 1]\n"
     ]
    }
   ],
   "source": [
    "def cifras(n):\n",
    "    lista = []\n",
    "    while n > 0:\n",
    "        lista.append(n%10)\n",
    "        n //= 10\n",
    "    return lista\n",
    "\n",
    "print(cifras(1985))"
   ]
  },
  {
   "cell_type": "markdown",
   "metadata": {
    "slideshow": {
     "slide_type": "slide"
    }
   },
   "source": [
    "## Slicing en listas\n",
    "\n",
    "Se llama *slicing* (partir en rodajas) a las operaciones que seleccionan una parte de la lista, generando una nueva lista en principio más pequeña.  Familiarízate con las operaciones de *slicing*, son las más frecuentes y no solo en listas.\n",
    "\n",
    "Veamos algunos ejemplos."
   ]
  },
  {
   "cell_type": "code",
   "execution_count": 16,
   "metadata": {},
   "outputs": [
    {
     "name": "stdout",
     "output_type": "stream",
     "text": [
      "[0, 1, 2, 3, 4, 5, 6, 7, 8, 9]\n",
      "[0, 1, 2, 3, 4, 5, 6, 7, 8, 9]\n"
     ]
    }
   ],
   "source": [
    "L1 = list(range(10))\n",
    "L2 = list(range(10))\n",
    "print(L1)\n",
    "print(L2)"
   ]
  },
  {
   "cell_type": "markdown",
   "metadata": {
    "slideshow": {
     "slide_type": "notes"
    }
   },
   "source": [
    "Cuando se selecciona una parte de la lista el resultado es una lista.  En cambio si se usa un índice concreto (operación de indexación) el resultado es un elemento concreto.  Eso es muy importante para manipular la lista.  Veamos dos ejemplos en los que sustituimos el segundo elemento.  \n",
    "\n",
    "En el primer caso usamos indexación, metemos como segundo elemento el resultado de la operación de slicing `L1[5:]`. Es decir, a partir del elemento 5.\n",
    "\n",
    "En el segundo caso sustituimos la lista `L2[1:1]` por la lista `L2[5:]`.  Aunque `L2[1:1]` solo tenga un elemento sigue siendo una lista, no un elemento.  Por eso al sustituir una lista por otra estamos insertando."
   ]
  },
  {
   "cell_type": "code",
   "execution_count": 17,
   "metadata": {
    "slideshow": {
     "slide_type": "subslide"
    }
   },
   "outputs": [
    {
     "name": "stdout",
     "output_type": "stream",
     "text": [
      "[0, [5, 6, 7, 8, 9], 2, 3, 4, 5, 6, 7, 8, 9]\n",
      "[0, 5, 6, 7, 8, 9, 1, 2, 3, 4, 5, 6, 7, 8, 9]\n"
     ]
    }
   ],
   "source": [
    "L1[1] = L1[5:]\n",
    "L2[1:1] = L2[5:]\n",
    "print(L1)\n",
    "print(L2)"
   ]
  },
  {
   "cell_type": "markdown",
   "metadata": {
    "slideshow": {
     "slide_type": "subslide"
    }
   },
   "source": [
    "Un ejercicio interesante es practicar *slicing* para seleccionar las distintas partes de un Sudoku."
   ]
  },
  {
   "cell_type": "code",
   "execution_count": 18,
   "metadata": {},
   "outputs": [],
   "source": [
    "sudoku = [\n",
    "[4,9,1,3,6,2,8,7,5],\n",
    "[5,2,6,8,7,1,4,9,3],\n",
    "[7,8,3,9,5,4,6,1,2],\n",
    "[2,3,9,4,1,7,5,8,6],\n",
    "[1,5,7,6,3,8,9,2,4],\n",
    "[6,4,8,2,9,5,7,3,1],\n",
    "[8,7,2,1,4,6,3,5,9],\n",
    "[9,1,4,5,8,3,2,6,7],\n",
    "[3,6,5,7,2,9,1,4,8]]"
   ]
  },
  {
   "cell_type": "markdown",
   "metadata": {},
   "source": [
    "Practica con filas, y con elementos de una fila.  Pero hasta que domines las *list comprehensions* que se cuentan más adelante no serás capaz de seleccionar los cuadrantes. "
   ]
  },
  {
   "cell_type": "markdown",
   "metadata": {
    "slideshow": {
     "slide_type": "slide"
    }
   },
   "source": [
    "## Métodos de una lista\n",
    "\n",
    "Familiarízate con los métodos de las listas.  Se utilizan muchísimo."
   ]
  },
  {
   "cell_type": "code",
   "execution_count": 7,
   "metadata": {},
   "outputs": [],
   "source": [
    "L = list(range(10))"
   ]
  },
  {
   "cell_type": "markdown",
   "metadata": {
    "slideshow": {
     "slide_type": "subslide"
    }
   },
   "source": [
    "Añadir un elemento al final."
   ]
  },
  {
   "cell_type": "code",
   "execution_count": 8,
   "metadata": {},
   "outputs": [
    {
     "data": {
      "text/plain": [
       "[0, 1, 2, 3, 4, 5, 6, 7, 8, 9, 4]"
      ]
     },
     "execution_count": 8,
     "metadata": {},
     "output_type": "execute_result"
    }
   ],
   "source": [
    "L.append(4)\n",
    "L"
   ]
  },
  {
   "cell_type": "markdown",
   "metadata": {
    "slideshow": {
     "slide_type": "subslide"
    }
   },
   "source": [
    "Contar todas las apariciones del elemento `4`."
   ]
  },
  {
   "cell_type": "code",
   "execution_count": 9,
   "metadata": {},
   "outputs": [
    {
     "data": {
      "text/plain": [
       "2"
      ]
     },
     "execution_count": 9,
     "metadata": {},
     "output_type": "execute_result"
    }
   ],
   "source": [
    "L.count(4)"
   ]
  },
  {
   "cell_type": "markdown",
   "metadata": {
    "slideshow": {
     "slide_type": "subslide"
    }
   },
   "source": [
    "Insertar el elemento `80` en la posición `3`."
   ]
  },
  {
   "cell_type": "code",
   "execution_count": 10,
   "metadata": {},
   "outputs": [
    {
     "data": {
      "text/plain": [
       "[0, 1, 2, 80, 3, 4, 5, 6, 7, 8, 9, 4]"
      ]
     },
     "execution_count": 10,
     "metadata": {},
     "output_type": "execute_result"
    }
   ],
   "source": [
    "L.insert(3, 80)\n",
    "L"
   ]
  },
  {
   "cell_type": "markdown",
   "metadata": {
    "slideshow": {
     "slide_type": "subslide"
    }
   },
   "source": [
    "Añadir al final los elementos de otra lista."
   ]
  },
  {
   "cell_type": "code",
   "execution_count": 23,
   "metadata": {},
   "outputs": [
    {
     "name": "stdout",
     "output_type": "stream",
     "text": [
      "[0, 1, 2, 80, 3, 4, 5, 6, 7, 8, 9, 4, 2, 3, 4]\n"
     ]
    }
   ],
   "source": [
    "L.extend([2,3,4])\n",
    "L"
   ]
  },
  {
   "cell_type": "markdown",
   "metadata": {
    "slideshow": {
     "slide_type": "subslide"
    }
   },
   "source": [
    "Eliminar la primera ocurrencia del elemento `4`."
   ]
  },
  {
   "cell_type": "code",
   "execution_count": 24,
   "metadata": {},
   "outputs": [
    {
     "name": "stdout",
     "output_type": "stream",
     "text": [
      "[0, 1, 2, 80, 3, 5, 6, 7, 8, 9, 4, 2, 3, 4]\n"
     ]
    }
   ],
   "source": [
    "L.remove(4)\n",
    "L"
   ]
  },
  {
   "cell_type": "markdown",
   "metadata": {
    "slideshow": {
     "slide_type": "subslide"
    }
   },
   "source": [
    "Imprimir la posición del primer elemento de valor `4`."
   ]
  },
  {
   "cell_type": "code",
   "execution_count": 25,
   "metadata": {},
   "outputs": [
    {
     "name": "stdout",
     "output_type": "stream",
     "text": [
      "10\n"
     ]
    }
   ],
   "source": [
    "L.index(4)"
   ]
  },
  {
   "cell_type": "markdown",
   "metadata": {
    "slideshow": {
     "slide_type": "subslide"
    }
   },
   "source": [
    "Eliminar el último de la lista devolviendo su valor.  También se puede indicar una posición para eliminar uno cualquiera de la lista."
   ]
  },
  {
   "cell_type": "code",
   "execution_count": 26,
   "metadata": {},
   "outputs": [
    {
     "name": "stdout",
     "output_type": "stream",
     "text": [
      "4\n"
     ]
    }
   ],
   "source": [
    "L.pop()"
   ]
  },
  {
   "cell_type": "markdown",
   "metadata": {
    "slideshow": {
     "slide_type": "subslide"
    }
   },
   "source": [
    "Ordenar los elementos de la lista en orden creciente."
   ]
  },
  {
   "cell_type": "code",
   "execution_count": 27,
   "metadata": {},
   "outputs": [
    {
     "name": "stdout",
     "output_type": "stream",
     "text": [
      "[0, 1, 2, 2, 3, 3, 4, 5, 6, 7, 8, 9, 80]\n"
     ]
    }
   ],
   "source": [
    "L.sort()\n",
    "L"
   ]
  },
  {
   "cell_type": "markdown",
   "metadata": {
    "slideshow": {
     "slide_type": "subslide"
    }
   },
   "source": [
    "Invertir el orden de todos los elementos de la lista."
   ]
  },
  {
   "cell_type": "code",
   "execution_count": 28,
   "metadata": {},
   "outputs": [
    {
     "name": "stdout",
     "output_type": "stream",
     "text": [
      "[80, 9, 8, 7, 6, 5, 4, 3, 3, 2, 2, 1, 0]\n"
     ]
    }
   ],
   "source": [
    "L.reverse()\n",
    "L"
   ]
  },
  {
   "cell_type": "markdown",
   "metadata": {
    "slideshow": {
     "slide_type": "slide"
    }
   },
   "source": [
    "## Clonado de listas\n",
    "\n",
    "Al modificar el contenido de la lista se puede afectar al recorrido de la lista. Por ejemplo, considera la siguiente función:"
   ]
  },
  {
   "cell_type": "code",
   "execution_count": 1,
   "metadata": {},
   "outputs": [],
   "source": [
    "def borraDuplicados(L1, L2): # ¡OJO! ¡Esta función es incorrecta!\n",
    "    '''Asume que L1 y L2 son listas.\n",
    "    Elimina todos los elementos de L1 que estén presentes en L2.'''\n",
    "    for e in L1:\n",
    "        if e in L2:\n",
    "            L1.remove(e)"
   ]
  },
  {
   "cell_type": "markdown",
   "metadata": {
    "slideshow": {
     "slide_type": "subslide"
    }
   },
   "source": [
    "Veamos un posible uso de la función."
   ]
  },
  {
   "cell_type": "code",
   "execution_count": 2,
   "metadata": {},
   "outputs": [
    {
     "name": "stdout",
     "output_type": "stream",
     "text": [
      "L1 = [2, 3, 4]\n"
     ]
    }
   ],
   "source": [
    "L1 = [1,2,3,4]\n",
    "L2 = [1,2,5,6]\n",
    "borraDuplicados(L1, L2)\n",
    "print('L1 =', L1)"
   ]
  },
  {
   "cell_type": "markdown",
   "metadata": {
    "slideshow": {
     "slide_type": "notes"
    }
   },
   "source": [
    "¡Sorpresa! El número 2 está presente en `L2` pero no es eliminado de `L1`. ¿Qué ha pasado?\n",
    "\n",
    "El motivo es que el recorrido de la lista se realiza internamente con un contador que va desde el 0 (primer elemento) hasta `len(L1)` (sin incluirlo).  En la primera iteración comprueba el elemento 0 y descubre que es un duplicado.  Por tanto lo elimina, pero al eliminarlo el primer elemento deja de existir y su lugar es ocupado por el segundo elemento.  El bucle `for` no tiene forma de saber que se ha cambiado el orden de los elementos y sigue por donde iba, por el segundo elemento.  Pero el que ahora ocupa el segundo lugar es el que antes era el tercero. Se ha saltado el `2`.\n",
    "\n",
    "**La lección a recordar es que la mutación de una lista invalida los iteradores.  Todos los `for` que recorran la lista y que se estén ejecutando en el momento de la mutación dejan de tener sentido.**\n",
    "\n",
    "Por tanto el recorrido debe separarse de la mutación, debe hacerse sobre objetos distintos.  La forma más sencilla es clonando la lista.  Es decir, creando otra lista con los mismos elementos.  Y eso ya sabemos hacerlo:"
   ]
  },
  {
   "cell_type": "code",
   "execution_count": 32,
   "metadata": {
    "slideshow": {
     "slide_type": "subslide"
    }
   },
   "outputs": [],
   "source": [
    "def borraDuplicados(L1, L2):\n",
    "    '''Asume que L1 y L2 son listas.\n",
    "    Elimina todos los elementos de L1 que estén presentes en L2.'''\n",
    "    for e in L1[:]:\n",
    "        if e in L2:\n",
    "            L1.remove(e)"
   ]
  },
  {
   "cell_type": "markdown",
   "metadata": {},
   "source": [
    "La expresión `L1[:]` es una nueva lista que contiene todos los elementos de `L1`. Ahora el recorrido se hace sobre esa nueva lista, mientras que la operación de mutación `remove` se realiza sobre la lista `L1` original."
   ]
  },
  {
   "cell_type": "code",
   "execution_count": 33,
   "metadata": {
    "slideshow": {
     "slide_type": "-"
    }
   },
   "outputs": [
    {
     "name": "stdout",
     "output_type": "stream",
     "text": [
      "L1 = [3, 4]\n"
     ]
    }
   ],
   "source": [
    "L1 = [1,2,3,4]\n",
    "L2 = [1,2,5,6]\n",
    "borraDuplicados(L1, L2)\n",
    "print('L1 =', L1)"
   ]
  },
  {
   "cell_type": "markdown",
   "metadata": {
    "slideshow": {
     "slide_type": "subslide"
    }
   },
   "source": [
    "El mismo resultado se obtiene con la llamada a la función `list(L1)`.  Crea una nueva lista con los elementos de la que se pasa como argumento."
   ]
  },
  {
   "cell_type": "code",
   "execution_count": 34,
   "metadata": {},
   "outputs": [],
   "source": [
    "def borraDuplicados(L1, L2):\n",
    "    '''Asume que L1 y L2 son listas.\n",
    "    Elimina todos los elementos de L1 que estén presentes en L2.'''\n",
    "    for e in list(L1):\n",
    "        if e in L2:\n",
    "            L1.remove(e)"
   ]
  },
  {
   "cell_type": "markdown",
   "metadata": {},
   "source": [
    "Ambas opciones son perfectamente razonables en un programa Python. Cuál usar es un tema de gusto personal."
   ]
  },
  {
   "cell_type": "code",
   "execution_count": 35,
   "metadata": {
    "slideshow": {
     "slide_type": "skip"
    }
   },
   "outputs": [
    {
     "name": "stdout",
     "output_type": "stream",
     "text": [
      "L1 = [3, 4]\n"
     ]
    }
   ],
   "source": [
    "L1 = [1,2,3,4]\n",
    "L2 = [1,2,5,6]\n",
    "borraDuplicados(L1, L2)\n",
    "print('L1 =', L1)"
   ]
  },
  {
   "cell_type": "markdown",
   "metadata": {
    "slideshow": {
     "slide_type": "slide"
    }
   },
   "source": [
    "¿Y si los elementos de la lista son a su vez mutables? Volvemos a tener el mismo problema. Al copiar los elementos cada uno de ellos debe crearse una nueva copia de su contenido.  Veamos un ejemplo."
   ]
  },
  {
   "cell_type": "code",
   "execution_count": 13,
   "metadata": {},
   "outputs": [
    {
     "data": {
      "text/plain": [
       "[['pera', 'manzana', 'naranja', 'melon'], ['tomate', 'apio', 'puerro']]"
      ]
     },
     "execution_count": 13,
     "metadata": {},
     "output_type": "execute_result"
    }
   ],
   "source": [
    "frutas = [ 'pera', 'manzana', 'naranja' ]\n",
    "verduras = [ 'tomate', 'apio', 'puerro' ]\n",
    "productos = [ frutas, verduras ]\n",
    "\n",
    "productos2 = productos[:]\n",
    "frutas.append('melon')\n",
    "productos2"
   ]
  },
  {
   "cell_type": "markdown",
   "metadata": {
    "slideshow": {
     "slide_type": "subslide"
    }
   },
   "source": [
    "La forma más sencilla de realizar copias de objetos complejos es mediante la biblioteca `copy`."
   ]
  },
  {
   "cell_type": "code",
   "execution_count": 12,
   "metadata": {},
   "outputs": [
    {
     "data": {
      "text/plain": [
       "[['pera', 'manzana', 'naranja', 'melon'], ['tomate', 'apio', 'puerro']]"
      ]
     },
     "execution_count": 12,
     "metadata": {},
     "output_type": "execute_result"
    }
   ],
   "source": [
    "from copy import deepcopy\n",
    "\n",
    "productos2 = deepcopy(productos)\n",
    "verduras.append('calabaza')\n",
    "productos2"
   ]
  },
  {
   "cell_type": "markdown",
   "metadata": {},
   "source": [
    "Ahora las dos estructuras de datos son completamente independientes y al alterar una o parte de ella no notamos cambio alguno en la otra."
   ]
  },
  {
   "cell_type": "markdown",
   "metadata": {
    "slideshow": {
     "slide_type": "slide"
    }
   },
   "source": [
    "## Comprensiones de listas\n",
    "\n",
    "Una construcción muy importante en Python es la denominada *list comprehension* o comprensión de lista.  Se trata de una notación compacta para generar listas (u otros contenedores) cuyos elementos se puedan escribir en forma de expresiones con los elementos de otra lista.\n",
    "\n",
    "Por ejemplo, una lista con los primeros 10 cuadrados de números naturales."
   ]
  },
  {
   "cell_type": "code",
   "execution_count": 38,
   "metadata": {},
   "outputs": [
    {
     "data": {
      "text/plain": [
       "[1, 4, 9, 16, 25, 36, 49, 64, 81, 100]"
      ]
     },
     "execution_count": 38,
     "metadata": {},
     "output_type": "execute_result"
    }
   ],
   "source": [
    "[ x**2 for x in range(1,11) ]"
   ]
  },
  {
   "cell_type": "markdown",
   "metadata": {
    "slideshow": {
     "slide_type": "slide"
    }
   },
   "source": [
    "# Comprensiones de lista con filtros\n",
    "\n",
    "* Solo se incluyen los que cumplen la condición.  \n",
    "  * Ejemplo: `os.listdir` dice el contenido de una carpeta."
   ]
  },
  {
   "cell_type": "code",
   "execution_count": 10,
   "metadata": {},
   "outputs": [
    {
     "data": {
      "text/plain": [
       "['biseccion.bd',\n",
       " 'biseccion.png',\n",
       " 'biseccion.svg',\n",
       " 'for.bd',\n",
       " 'for.png',\n",
       " 'for.svg',\n",
       " 'fun-call.bd',\n",
       " 'fun-call.png',\n",
       " 'fun-call.svg',\n",
       " 'if-elif-else.bd',\n",
       " 'if-elif-else.png',\n",
       " 'if-elif-else.svg',\n",
       " 'if-else.bd',\n",
       " 'if-else.png',\n",
       " 'if-else.svg',\n",
       " 'if.bd',\n",
       " 'if.png',\n",
       " 'if.svg',\n",
       " 'lambda-abstr.bd',\n",
       " 'lambda-abstr.png',\n",
       " 'lambda-abstr.svg',\n",
       " 'maxfn.png',\n",
       " 'maxfn.svg',\n",
       " 'maxfncall.png',\n",
       " 'maxfncall.svg',\n",
       " 'maxfncall2.png',\n",
       " 'maxfncall2.svg',\n",
       " 'seq.bd',\n",
       " 'seq.png',\n",
       " 'seq.svg',\n",
       " 'while.bd',\n",
       " 'while.png',\n",
       " 'while.svg']"
      ]
     },
     "execution_count": 10,
     "metadata": {},
     "output_type": "execute_result"
    }
   ],
   "source": [
    "import os\n",
    "os.listdir('diag')"
   ]
  },
  {
   "cell_type": "markdown",
   "metadata": {
    "slideshow": {
     "slide_type": "notes"
    }
   },
   "source": [
    "También se puede añadir una condición que actúa como filtro.  Es decir, de los elementos generados solo los que cumplen la condición se incluyen en la lista.  Por ejemplo, tenemos la función `os.listdir` que nos dice el contenido de una carpeta.  Veamos que pasa si la llamo en el directorio de los diagramas de la asignatura."
   ]
  },
  {
   "cell_type": "markdown",
   "metadata": {
    "slideshow": {
     "slide_type": "subslide"
    }
   },
   "source": [
    "Hay archivos que acaban en `.bd`  que son diagramas y otros `.png` que son el resultado de dibujarlos.  Veamos, por ejemplo, los diagramas que muestran varias formas de `if`."
   ]
  },
  {
   "cell_type": "code",
   "execution_count": 16,
   "metadata": {},
   "outputs": [
    {
     "data": {
      "text/plain": [
       "['if-elif-else.bd', 'if-else.bd', 'if.bd']"
      ]
     },
     "execution_count": 16,
     "metadata": {},
     "output_type": "execute_result"
    }
   ],
   "source": [
    "[ f for f in os.listdir('diag') if f.endswith('.bd') and f.startswith('if') ]"
   ]
  },
  {
   "cell_type": "markdown",
   "metadata": {
    "slideshow": {
     "slide_type": "slide"
    }
   },
   "source": [
    "# Sudoku\n",
    "\n",
    "* Vamos a seleccionar partes de él ahora que sabemos todo acerca de las *list comprehensions*."
   ]
  },
  {
   "cell_type": "code",
   "execution_count": 1,
   "metadata": {},
   "outputs": [],
   "source": [
    "sudoku = [\n",
    "[4,9,1,3,6,2,8,7,5],\n",
    "[5,2,6,8,7,1,4,9,3],\n",
    "[7,8,3,9,5,4,6,1,2],\n",
    "[2,3,9,4,1,7,5,8,6],\n",
    "[1,5,7,6,3,8,9,2,4],\n",
    "[6,4,8,2,9,5,7,3,1],\n",
    "[8,7,2,1,4,6,3,5,9],\n",
    "[9,1,4,5,8,3,2,6,7],\n",
    "[3,6,5,7,2,9,1,4,8]]"
   ]
  },
  {
   "cell_type": "code",
   "execution_count": 18,
   "metadata": {},
   "outputs": [
    {
     "data": {
      "text/plain": [
       "[4, 1, 7, 6, 3, 8, 2, 9, 5]"
      ]
     },
     "execution_count": 18,
     "metadata": {},
     "output_type": "execute_result"
    }
   ],
   "source": [
    "[fila[3:6] for fila in sudoku[3:6]]"
   ]
  },
  {
   "cell_type": "markdown",
   "metadata": {
    "slideshow": {
     "slide_type": "subslide"
    }
   },
   "source": [
    "Seleccionemos el cuadrante superior izquierdo."
   ]
  },
  {
   "cell_type": "code",
   "execution_count": 18,
   "metadata": {},
   "outputs": [
    {
     "data": {
      "text/plain": [
       "[[4, 9, 1], [5, 2, 6], [7, 8, 3]]"
      ]
     },
     "execution_count": 18,
     "metadata": {},
     "output_type": "execute_result"
    }
   ],
   "source": [
    "[fila[:3] for fila in sudoku[:3]]"
   ]
  },
  {
   "cell_type": "markdown",
   "metadata": {
    "slideshow": {
     "slide_type": "subslide"
    }
   },
   "source": [
    "Ahora el inferior derecho."
   ]
  },
  {
   "cell_type": "code",
   "execution_count": 19,
   "metadata": {},
   "outputs": [
    {
     "data": {
      "text/plain": [
       "[[3, 5, 9], [2, 6, 7], [1, 4, 8]]"
      ]
     },
     "execution_count": 19,
     "metadata": {},
     "output_type": "execute_result"
    }
   ],
   "source": [
    "[s[6:] for s in sudoku[6:]]"
   ]
  },
  {
   "cell_type": "markdown",
   "metadata": {
    "slideshow": {
     "slide_type": "subslide"
    }
   },
   "source": [
    "Ahora el del medio."
   ]
  },
  {
   "cell_type": "code",
   "execution_count": 20,
   "metadata": {},
   "outputs": [
    {
     "data": {
      "text/plain": [
       "[[4, 1, 7], [6, 3, 8], [2, 9, 5]]"
      ]
     },
     "execution_count": 20,
     "metadata": {},
     "output_type": "execute_result"
    }
   ],
   "source": [
    "[s[3:6] for s in sudoku[3:6]]"
   ]
  },
  {
   "cell_type": "markdown",
   "metadata": {
    "slideshow": {
     "slide_type": "subslide"
    }
   },
   "source": [
    "Ahora la tercera columna."
   ]
  },
  {
   "cell_type": "code",
   "execution_count": 21,
   "metadata": {},
   "outputs": [
    {
     "data": {
      "text/plain": [
       "[1, 6, 3, 9, 7, 8, 2, 4, 5]"
      ]
     },
     "execution_count": 21,
     "metadata": {},
     "output_type": "execute_result"
    }
   ],
   "source": [
    "[ s[2] for s in sudoku ]"
   ]
  },
  {
   "cell_type": "markdown",
   "metadata": {
    "slideshow": {
     "slide_type": "notes"
    }
   },
   "source": [
    "Practica tú. Haz por ejemplo que los cuadrantes aparezcan como una lista simple en lugar de una lista de listas.\n",
    "\n",
    "Piénsalo un poco por tí mismo y si no llegas a la solución sigue leyendo.  A partir de aquí se puede considerar un uso avanzado de las *list comprehensions*. No te preocupes si no las entiendes."
   ]
  },
  {
   "cell_type": "markdown",
   "metadata": {
    "slideshow": {
     "slide_type": "subslide"
    }
   },
   "source": [
    "El cuadrante superior izquierdo como lista simple:"
   ]
  },
  {
   "cell_type": "code",
   "execution_count": 15,
   "metadata": {},
   "outputs": [
    {
     "data": {
      "text/plain": [
       "[4, 9, 1, 5, 2, 6, 7, 8, 3]"
      ]
     },
     "execution_count": 15,
     "metadata": {},
     "output_type": "execute_result"
    }
   ],
   "source": [
    "[ i for fila in sudoku[:3] for i in fila[:3] ]"
   ]
  },
  {
   "cell_type": "code",
   "execution_count": 17,
   "metadata": {},
   "outputs": [
    {
     "data": {
      "text/plain": [
       "[4, 9, 1, 5, 2, 6]"
      ]
     },
     "execution_count": 17,
     "metadata": {},
     "output_type": "execute_result"
    }
   ],
   "source": [
    "[4,9,1] + [5,2,6]"
   ]
  },
  {
   "cell_type": "markdown",
   "metadata": {
    "slideshow": {
     "slide_type": "subslide"
    }
   },
   "source": [
    "El cuadrante inferior derecho como lista simple:"
   ]
  },
  {
   "cell_type": "code",
   "execution_count": 23,
   "metadata": {},
   "outputs": [
    {
     "data": {
      "text/plain": [
       "[3, 5, 9, 2, 6, 7, 1, 4, 8]"
      ]
     },
     "execution_count": 23,
     "metadata": {},
     "output_type": "execute_result"
    }
   ],
   "source": [
    "[ i for s in sudoku[6:] for i in s[6:] ]"
   ]
  },
  {
   "cell_type": "markdown",
   "metadata": {
    "slideshow": {
     "slide_type": "subslide"
    }
   },
   "source": [
    "El del medio como lista simple:"
   ]
  },
  {
   "cell_type": "code",
   "execution_count": 24,
   "metadata": {},
   "outputs": [
    {
     "data": {
      "text/plain": [
       "[4, 1, 7, 6, 3, 8, 2, 9, 5]"
      ]
     },
     "execution_count": 24,
     "metadata": {},
     "output_type": "execute_result"
    }
   ],
   "source": [
    "[ i for s in sudoku[3:6] for i in s[3:6] ]"
   ]
  },
  {
   "cell_type": "markdown",
   "metadata": {
    "slideshow": {
     "slide_type": "subslide"
    }
   },
   "source": [
    "Elabora una función para devolver el cuadrante (x, y) siendo x e y números entre 0 y 2."
   ]
  },
  {
   "cell_type": "code",
   "execution_count": 21,
   "metadata": {},
   "outputs": [],
   "source": [
    "def cuadrante(sudoku, x, y):\n",
    "    return [ i for s in sudoku[3*y:][:3] for i in s[3*x:][:3] ]"
   ]
  },
  {
   "cell_type": "markdown",
   "metadata": {
    "slideshow": {
     "slide_type": "subslide"
    }
   },
   "source": [
    "Veamos para probarlo los cuadrantes centrales."
   ]
  },
  {
   "cell_type": "code",
   "execution_count": 22,
   "metadata": {},
   "outputs": [
    {
     "data": {
      "text/plain": [
       "[2, 3, 9, 1, 5, 7, 6, 4, 8]"
      ]
     },
     "execution_count": 22,
     "metadata": {},
     "output_type": "execute_result"
    }
   ],
   "source": [
    "cuadrante(sudoku, 0, 1)"
   ]
  },
  {
   "cell_type": "code",
   "execution_count": 28,
   "metadata": {},
   "outputs": [
    {
     "data": {
      "text/plain": [
       "[4, 1, 7, 6, 3, 8, 2, 9, 5]"
      ]
     },
     "execution_count": 28,
     "metadata": {},
     "output_type": "execute_result"
    }
   ],
   "source": [
    "cuadrante(sudoku, 1, 1)"
   ]
  },
  {
   "cell_type": "code",
   "execution_count": 29,
   "metadata": {},
   "outputs": [
    {
     "data": {
      "text/plain": [
       "[5, 8, 6, 9, 2, 4, 7, 3, 1]"
      ]
     },
     "execution_count": 29,
     "metadata": {},
     "output_type": "execute_result"
    }
   ],
   "source": [
    "cuadrante(sudoku, 2, 1)"
   ]
  },
  {
   "cell_type": "markdown",
   "metadata": {
    "slideshow": {
     "slide_type": "slide"
    }
   },
   "source": [
    "# Iteradores\n",
    "\n",
    "* Objeto que encapsula recorrido de un contenedor.\n",
    "  * `iter` devuelve iterador, `next` accede al elemento actual."
   ]
  },
  {
   "cell_type": "code",
   "execution_count": 15,
   "metadata": {},
   "outputs": [],
   "source": [
    "L = [1, 5, 2, 0]\n",
    "i = iter(L)"
   ]
  },
  {
   "cell_type": "code",
   "execution_count": 22,
   "metadata": {},
   "outputs": [],
   "source": [
    "i1,i2 = iter(L), iter(L)"
   ]
  },
  {
   "cell_type": "code",
   "execution_count": 25,
   "metadata": {},
   "outputs": [
    {
     "data": {
      "text/plain": [
       "1"
      ]
     },
     "execution_count": 25,
     "metadata": {},
     "output_type": "execute_result"
    }
   ],
   "source": [
    "next(i2)"
   ]
  },
  {
   "cell_type": "code",
   "execution_count": 2,
   "metadata": {},
   "outputs": [],
   "source": [
    "iterador = iter(sudoku)"
   ]
  },
  {
   "cell_type": "code",
   "execution_count": 3,
   "metadata": {},
   "outputs": [
    {
     "data": {
      "text/plain": [
       "[4, 9, 1, 3, 6, 2, 8, 7, 5]"
      ]
     },
     "execution_count": 3,
     "metadata": {},
     "output_type": "execute_result"
    }
   ],
   "source": [
    "next(iterador)"
   ]
  },
  {
   "cell_type": "markdown",
   "metadata": {
    "slideshow": {
     "slide_type": "slide"
    }
   },
   "source": [
    "# Generadores\n",
    "\n",
    "* Pueden detener *temporalmente* su ejecución (`yield`)."
   ]
  },
  {
   "cell_type": "code",
   "execution_count": 27,
   "metadata": {},
   "outputs": [],
   "source": [
    "def gen():\n",
    "    for i in range(5):\n",
    "        yield i**3"
   ]
  },
  {
   "cell_type": "code",
   "execution_count": 29,
   "metadata": {},
   "outputs": [
    {
     "data": {
      "text/plain": [
       "<generator object gen at 0x0000017114969468>"
      ]
     },
     "execution_count": 29,
     "metadata": {},
     "output_type": "execute_result"
    }
   ],
   "source": [
    "gen()"
   ]
  },
  {
   "cell_type": "code",
   "execution_count": 30,
   "metadata": {},
   "outputs": [
    {
     "name": "stdout",
     "output_type": "stream",
     "text": [
      "0\n",
      "1\n",
      "8\n",
      "27\n",
      "64\n"
     ]
    }
   ],
   "source": [
    "for i in gen():\n",
    "    print(i)"
   ]
  },
  {
   "cell_type": "markdown",
   "metadata": {
    "slideshow": {
     "slide_type": "subslide"
    }
   },
   "source": [
    "Pueden iterarse como un contenedor, con `for` o directamente con `iter` y `next`."
   ]
  },
  {
   "cell_type": "code",
   "execution_count": 31,
   "metadata": {},
   "outputs": [],
   "source": [
    "it1, it2 = iter(gen()), iter(gen())"
   ]
  },
  {
   "cell_type": "code",
   "execution_count": 36,
   "metadata": {},
   "outputs": [
    {
     "data": {
      "text/plain": [
       "1"
      ]
     },
     "execution_count": 36,
     "metadata": {},
     "output_type": "execute_result"
    }
   ],
   "source": [
    "next(it2)"
   ]
  },
  {
   "cell_type": "markdown",
   "metadata": {
    "slideshow": {
     "slide_type": "subslide"
    }
   },
   "source": [
    "Pero son mucho más eficientes que las listas con o sin comprensiones."
   ]
  },
  {
   "cell_type": "code",
   "execution_count": 38,
   "metadata": {},
   "outputs": [],
   "source": [
    "def gen_infinito():\n",
    "    i = 0\n",
    "    while True:\n",
    "        yield i**3\n",
    "        i += 1"
   ]
  },
  {
   "cell_type": "code",
   "execution_count": 40,
   "metadata": {},
   "outputs": [
    {
     "name": "stdout",
     "output_type": "stream",
     "text": [
      "0\n",
      "1\n",
      "8\n",
      "27\n",
      "64\n"
     ]
    }
   ],
   "source": [
    "it = iter(gen_infinito())\n",
    "for i in range(5):\n",
    "    print(next(it))"
   ]
  },
  {
   "cell_type": "code",
   "execution_count": 41,
   "metadata": {},
   "outputs": [],
   "source": [
    "def fib():\n",
    "    a, b = 1, 1\n",
    "    yield a\n",
    "    while True:\n",
    "        yield b\n",
    "        a, b = b, a+b"
   ]
  },
  {
   "cell_type": "code",
   "execution_count": 43,
   "metadata": {},
   "outputs": [
    {
     "name": "stdout",
     "output_type": "stream",
     "text": [
      "1\n",
      "1\n",
      "2\n",
      "3\n",
      "5\n",
      "8\n",
      "13\n",
      "21\n",
      "34\n",
      "55\n"
     ]
    }
   ],
   "source": [
    "it = iter(fib())\n",
    "for i in range(10):\n",
    "    print(next(it))"
   ]
  },
  {
   "cell_type": "markdown",
   "metadata": {
    "slideshow": {
     "slide_type": "subslide"
    }
   },
   "source": [
    "# Expresiones generadoras\n",
    "\n",
    "* Son a generadores lo que *list comprehensions* son a listas"
   ]
  },
  {
   "cell_type": "code",
   "execution_count": 58,
   "metadata": {},
   "outputs": [],
   "source": [
    "gen = (x**3 for x in range(5))"
   ]
  },
  {
   "cell_type": "code",
   "execution_count": 57,
   "metadata": {},
   "outputs": [
    {
     "name": "stdout",
     "output_type": "stream",
     "text": [
      "0\n",
      "1\n",
      "8\n",
      "27\n",
      "64\n"
     ]
    }
   ],
   "source": [
    "for i in gen:\n",
    "    print(i)"
   ]
  },
  {
   "cell_type": "markdown",
   "metadata": {
    "slideshow": {
     "slide_type": "subslide"
    }
   },
   "source": [
    "* No ocupan memoria, solo el último generado"
   ]
  },
  {
   "cell_type": "code",
   "execution_count": 47,
   "metadata": {},
   "outputs": [
    {
     "data": {
      "text/plain": [
       "[0, 1, 8, 27, 64]"
      ]
     },
     "execution_count": 47,
     "metadata": {},
     "output_type": "execute_result"
    }
   ],
   "source": [
    "gen = (x**3 for x in range(5000000000000000))\n",
    "it = iter(gen)\n",
    "[next(it) for i in range(5)]"
   ]
  },
  {
   "cell_type": "markdown",
   "metadata": {
    "slideshow": {
     "slide_type": "slide"
    }
   },
   "source": [
    "# Conversiones y construcción\n",
    "\n",
    "* Un contenedor puede construirse a partir de un iterable "
   ]
  },
  {
   "cell_type": "code",
   "execution_count": 44,
   "metadata": {},
   "outputs": [
    {
     "data": {
      "text/plain": [
       "(['a', 'b', 'c', 'd', 'e'], [0, 1, 2, 3, 4])"
      ]
     },
     "execution_count": 44,
     "metadata": {},
     "output_type": "execute_result"
    }
   ],
   "source": [
    "list('abcde'), list(range(5))"
   ]
  },
  {
   "cell_type": "code",
   "execution_count": 47,
   "metadata": {},
   "outputs": [
    {
     "data": {
      "text/plain": [
       "(0, 1, 8, 27, 64)"
      ]
     },
     "execution_count": 47,
     "metadata": {},
     "output_type": "execute_result"
    }
   ],
   "source": [
    "def cube(L): return (x**3 for x in L)\n",
    "tuple(cube(range(5)))"
   ]
  },
  {
   "cell_type": "code",
   "execution_count": 49,
   "metadata": {},
   "outputs": [
    {
     "data": {
      "text/plain": [
       "{1: 'uno', 2: 'dos', 3: 'tres'}"
      ]
     },
     "execution_count": 49,
     "metadata": {},
     "output_type": "execute_result"
    }
   ],
   "source": [
    "palabras = ['uno', 'dos', 'tres']\n",
    "numpal = ((i, palabras[i-1]) for i in [1,2,3])\n",
    "dict(numpal)"
   ]
  },
  {
   "cell_type": "markdown",
   "metadata": {
    "slideshow": {
     "slide_type": "slide"
    }
   },
   "source": [
    "# Generadores incluidos"
   ]
  },
  {
   "cell_type": "code",
   "execution_count": 41,
   "metadata": {},
   "outputs": [],
   "source": [
    "s,t = 'ABCDE', 'zyxwv'"
   ]
  },
  {
   "cell_type": "code",
   "execution_count": 40,
   "metadata": {},
   "outputs": [
    {
     "data": {
      "text/plain": [
       "[(0, 'A'), (1, 'B'), (2, 'C'), (3, 'D'), (4, 'E')]"
      ]
     },
     "execution_count": 40,
     "metadata": {},
     "output_type": "execute_result"
    }
   ],
   "source": [
    "list(enumerate(s))"
   ]
  },
  {
   "cell_type": "code",
   "execution_count": 51,
   "metadata": {},
   "outputs": [
    {
     "data": {
      "text/plain": [
       "[('A', 'z'), ('B', 'y'), ('C', 'x'), ('D', 'w'), ('E', 'v')]"
      ]
     },
     "execution_count": 51,
     "metadata": {},
     "output_type": "execute_result"
    }
   ],
   "source": [
    "list(zip(s,t))"
   ]
  },
  {
   "cell_type": "code",
   "execution_count": 50,
   "metadata": {},
   "outputs": [
    {
     "data": {
      "text/plain": [
       "{'A': 'z', 'B': 'y', 'C': 'x', 'D': 'w', 'E': 'v'}"
      ]
     },
     "execution_count": 50,
     "metadata": {},
     "output_type": "execute_result"
    }
   ],
   "source": [
    "dict(zip(s,t))"
   ]
  },
  {
   "cell_type": "markdown",
   "metadata": {
    "slideshow": {
     "slide_type": "slide"
    }
   },
   "source": [
    "# Iteración revisada"
   ]
  },
  {
   "cell_type": "code",
   "execution_count": 33,
   "metadata": {
    "slideshow": {
     "slide_type": "skip"
    }
   },
   "outputs": [],
   "source": [
    "L = L1 = L2 = []\n",
    "cond = False\n",
    "def do_something(x=None, y=None): pass"
   ]
  },
  {
   "cell_type": "code",
   "execution_count": 34,
   "metadata": {},
   "outputs": [],
   "source": [
    "for i in L:                # Sabemos qué iterar\n",
    "    do_something(i)"
   ]
  },
  {
   "cell_type": "code",
   "execution_count": 35,
   "metadata": {},
   "outputs": [],
   "source": [
    "for pos,i in enumerate(L): # Necesitamos posiciones\n",
    "    do_something(pos, i)"
   ]
  },
  {
   "cell_type": "code",
   "execution_count": 36,
   "metadata": {},
   "outputs": [],
   "source": [
    "for a,b in zip(L1,L2):     # Varios iterables sincronizados\n",
    "    do_something(a,b)"
   ]
  },
  {
   "cell_type": "code",
   "execution_count": 37,
   "metadata": {},
   "outputs": [],
   "source": [
    "while cond:                # General, ¡necesita f. decr.!\n",
    "    do_something()"
   ]
  },
  {
   "cell_type": "code",
   "execution_count": 44,
   "metadata": {},
   "outputs": [
    {
     "data": {
      "text/plain": [
       "[[1, 0, 0], [0, 1, 0], [0, 0, 1]]"
      ]
     },
     "execution_count": 44,
     "metadata": {},
     "output_type": "execute_result"
    }
   ],
   "source": [
    "[[1,0,0],\n",
    " [0,1,0],\n",
    " [0,0,1]]"
   ]
  },
  {
   "cell_type": "code",
   "execution_count": null,
   "metadata": {},
   "outputs": [],
   "source": [
    "def mul(A,B):\n",
    "    "
   ]
  },
  {
   "cell_type": "markdown",
   "metadata": {
    "slideshow": {
     "slide_type": "slide"
    }
   },
   "source": [
    "## Sucesión de Fibonacci"
   ]
  },
  {
   "cell_type": "code",
   "execution_count": 59,
   "metadata": {},
   "outputs": [],
   "source": [
    "def f():\n",
    "    for i in range(5):\n",
    "        yield i**3"
   ]
  },
  {
   "cell_type": "code",
   "execution_count": null,
   "metadata": {},
   "outputs": [],
   "source": []
  },
  {
   "cell_type": "code",
   "execution_count": 23,
   "metadata": {},
   "outputs": [],
   "source": [
    "def fib():\n",
    "    yield 0\n",
    "    yield 1\n",
    "    for f1, f2 in zip(fib(), fib1()):\n",
    "        yield f1 + f2\n",
    "\n",
    "def fib1():\n",
    "    it = fib(); next(it)\n",
    "    yield from it"
   ]
  },
  {
   "cell_type": "code",
   "execution_count": 24,
   "metadata": {},
   "outputs": [
    {
     "data": {
      "text/plain": [
       "[0, 1, 1, 2, 3, 5, 8, 13, 21, 34]"
      ]
     },
     "execution_count": 24,
     "metadata": {},
     "output_type": "execute_result"
    }
   ],
   "source": [
    "f = fib()\n",
    "[next(f) for i in range(10)]"
   ]
  },
  {
   "cell_type": "markdown",
   "metadata": {
    "slideshow": {
     "slide_type": "slide"
    }
   },
   "source": [
    "## Triángulo de Pascal\n",
    "\n",
    "*El triángulo de Pascal es un triángulo de números que se construye de la siguiente manera.  Empieza con un 1 en la fila superior.  Cada fila posterior se construye a partir de la anterior, donde el primer y el último número de cada fila son iguales que el primer y último número de la anterior, y cada número entre ellos es la suma de los dos a la izquierda y a la derecha en la fila inmediatamente superior.*\n",
    "\n",
    "```\n",
    "      1\n",
    "     1 1\n",
    "    1 2 1\n",
    "   1 3 3 1\n",
    "  1 4 6 4 1\n",
    "1 5 10 10 5 1\n",
    "```"
   ]
  },
  {
   "cell_type": "code",
   "execution_count": 1,
   "metadata": {
    "slideshow": {
     "slide_type": "subslide"
    }
   },
   "outputs": [],
   "source": [
    "def triangulo_pascal(n):\n",
    "    L = [' '.join([str(i) for i in x]) for x in pascal(n)]\n",
    "    for s in L:\n",
    "        print(('{:^'+str(len(L[-1]))+'}').format(s))"
   ]
  },
  {
   "cell_type": "markdown",
   "metadata": {
    "slideshow": {
     "slide_type": "notes"
    }
   },
   "source": [
    "Como siempre utilizamos una estrategia top-down. Asumimos que los números están calculados y los imprimimos como dice el enunciado.  En esta solución aprovecha el [método `format`](https://docs.python.org/3/library/stdtypes.html#str.format) de las cadenas. La expresión `'{:^30}'.format(s)` es una cadena de 30 caracteres que contiene la cadena `s` centrada y todos los demás caracteres como espacios.  En este caso el ancho de la cadena es el ancho de la última fila, por lo que habrá que calcularlo. \n",
    "\n",
    "Por supuesto, también se puede hacer escribiendo los espacios a mano."
   ]
  },
  {
   "cell_type": "code",
   "execution_count": 2,
   "metadata": {},
   "outputs": [],
   "source": [
    "def triangulo_pascal(n):\n",
    "    L = [' '.join([str(i) for i in x]) for x in pascal(n)]\n",
    "    for s in L:\n",
    "        espacios = (len(L[-1])-len(s))//2 \n",
    "        print(' '*espacios + s)"
   ]
  },
  {
   "cell_type": "markdown",
   "metadata": {
    "slideshow": {
     "slide_type": "subslide"
    }
   },
   "source": [
    "Ya solo queda calcular los números correspondientes a cada línea."
   ]
  },
  {
   "cell_type": "code",
   "execution_count": 3,
   "metadata": {},
   "outputs": [],
   "source": [
    "def pascal(n):\n",
    "    if n == 1: return [[1]]\n",
    "    L = pascal(n-1)\n",
    "    return L + [linea_siguiente(L[-1])]\n",
    "\n",
    "def linea_siguiente(L):\n",
    "    return [a+b for a,b in zip(L+[0], [0]+L)]"
   ]
  },
  {
   "cell_type": "markdown",
   "metadata": {
    "slideshow": {
     "slide_type": "subslide"
    }
   },
   "source": [
    "Es todavía mas simple usar un generador para producir los números."
   ]
  },
  {
   "cell_type": "code",
   "execution_count": 4,
   "metadata": {},
   "outputs": [],
   "source": [
    "def pascal(n):\n",
    "    L = [1]\n",
    "    for i in range(n):\n",
    "        yield L\n",
    "        L = linea_siguiente(L)"
   ]
  },
  {
   "cell_type": "code",
   "execution_count": 5,
   "metadata": {
    "scrolled": true,
    "slideshow": {
     "slide_type": "subslide"
    }
   },
   "outputs": [
    {
     "name": "stdout",
     "output_type": "stream",
     "text": [
      "      1\n",
      "     1 1\n",
      "    1 2 1\n",
      "   1 3 3 1\n",
      "  1 4 6 4 1\n",
      "1 5 10 10 5 1\n"
     ]
    }
   ],
   "source": [
    "triangulo_pascal(6)"
   ]
  },
  {
   "cell_type": "markdown",
   "metadata": {
    "slideshow": {
     "slide_type": "slide"
    }
   },
   "source": [
    "## Sumar días a una fecha\n"
   ]
  },
  {
   "cell_type": "code",
   "execution_count": 124,
   "metadata": {},
   "outputs": [],
   "source": [
    "def dia(fecha): return fecha[0]\n",
    "def mes(fecha): return fecha[1]\n",
    "def año(fecha): return fecha[2]\n",
    "\n",
    "from itertools import islice, accumulate, cycle, dropwhile, repeat\n",
    "\n",
    "def sumar_dias(fecha, dias):\n",
    "    dias += dia(fecha)\n",
    "    dias_min, dias_max, mes, año = next(dropwhile(lambda x: x[1] < dias, dias_hasta_mes(fecha)))\n",
    "    return dias - dias_min, mes, año\n",
    "\n",
    "def dias_hasta_mes(fecha):\n",
    "    por_mes = ((0,d,m,a) for d,m,a in dias_por_mes(fecha))\n",
    "    yield from accumulate(por_mes, lambda a,b: (a[1], a[1] + b[1], b[2], b[3]))\n",
    "    \n",
    "def dias_por_mes(fecha):\n",
    "    dias_mes = dropwhile(lambda x: mes(x) != mes(fecha), dias_por_mes_desde(año(fecha)))\n",
    "    yield from dias_mes\n",
    "\n",
    "def dias_por_mes_desde(año):\n",
    "    ndias = ((31,28,31,30,31,30,31,31,30,31,30,31),\n",
    "             (31,29,31,30,31,30,31,31,30,31,30,31))\n",
    "    while True:\n",
    "        yield from zip(ndias[es_bisiesto(año)], range(1,13), repeat(año))\n",
    "        año += 1\n",
    "\n",
    "def es_bisiesto(año):\n",
    "    return año % 400 == 0 or año % 100 !=0 and año % 4 == 0"
   ]
  },
  {
   "cell_type": "markdown",
   "metadata": {
    "slideshow": {
     "slide_type": "subslide"
    }
   },
   "source": [
    "Algunas pruebas para verificar que todo funciona como debe."
   ]
  },
  {
   "cell_type": "code",
   "execution_count": 125,
   "metadata": {},
   "outputs": [
    {
     "data": {
      "text/plain": [
       "(5, 2, 2016)"
      ]
     },
     "execution_count": 125,
     "metadata": {},
     "output_type": "execute_result"
    }
   ],
   "source": [
    "sumar_dias((21,1,2016), 15)"
   ]
  },
  {
   "cell_type": "code",
   "execution_count": 126,
   "metadata": {},
   "outputs": [
    {
     "data": {
      "text/plain": [
       "(22, 1, 2016)"
      ]
     },
     "execution_count": 126,
     "metadata": {},
     "output_type": "execute_result"
    }
   ],
   "source": [
    "sumar_dias((21,1,2016), 1)"
   ]
  },
  {
   "cell_type": "code",
   "execution_count": 127,
   "metadata": {},
   "outputs": [
    {
     "data": {
      "text/plain": [
       "(1, 2, 2016)"
      ]
     },
     "execution_count": 127,
     "metadata": {},
     "output_type": "execute_result"
    }
   ],
   "source": [
    "sumar_dias((31,1,2016), 1)"
   ]
  },
  {
   "cell_type": "code",
   "execution_count": 128,
   "metadata": {},
   "outputs": [
    {
     "data": {
      "text/plain": [
       "(31, 1, 2016)"
      ]
     },
     "execution_count": 128,
     "metadata": {},
     "output_type": "execute_result"
    }
   ],
   "source": [
    "sumar_dias((31,1,2016), 0)"
   ]
  },
  {
   "cell_type": "code",
   "execution_count": 129,
   "metadata": {},
   "outputs": [
    {
     "data": {
      "text/plain": [
       "(21, 1, 2017)"
      ]
     },
     "execution_count": 129,
     "metadata": {},
     "output_type": "execute_result"
    }
   ],
   "source": [
    "sumar_dias((21,1,2016), 366)"
   ]
  }
 ],
 "metadata": {
  "kernelspec": {
   "display_name": "Python 3",
   "language": "python",
   "name": "python3"
  },
  "language_info": {
   "codemirror_mode": {
    "name": "ipython",
    "version": 3
   },
   "file_extension": ".py",
   "mimetype": "text/x-python",
   "name": "python",
   "nbconvert_exporter": "python",
   "pygments_lexer": "ipython3",
   "version": "3.6.3"
  }
 },
 "nbformat": 4,
 "nbformat_minor": 2
}
