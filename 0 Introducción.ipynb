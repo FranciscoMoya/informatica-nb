{
  "cells": [
    {
      "metadata": {
        "slideshow": {
          "slide_type": "notes"
        }
      },
      "cell_type": "markdown",
      "source": "Si te perdiste la clase tienes la introducción en [este enlace](https://franciscomoya.github.io/informatica-doc/docs/intro.html)."
    },
    {
      "metadata": {
        "slideshow": {
          "slide_type": "skip"
        },
        "trusted": true
      },
      "cell_type": "code",
      "source": "from IPython.display import Image, IFrame",
      "execution_count": 2,
      "outputs": []
    },
    {
      "metadata": {
        "slideshow": {
          "slide_type": "slide"
        }
      },
      "cell_type": "markdown",
      "source": "# Tema 0. Introducción\n\n## Aprender a programar programando"
    },
    {
      "metadata": {
        "slideshow": {
          "slide_type": "slide"
        }
      },
      "cell_type": "markdown",
      "source": "## Hola Mundo"
    },
    {
      "metadata": {
        "trusted": false
      },
      "cell_type": "code",
      "source": "print('Hola, Mundo')",
      "execution_count": null,
      "outputs": []
    },
    {
      "metadata": {
        "slideshow": {
          "slide_type": "subslide"
        }
      },
      "cell_type": "markdown",
      "source": "## Hola Mundo"
    },
    {
      "metadata": {
        "trusted": false
      },
      "cell_type": "code",
      "source": "print('Hola,', 'Mundo')",
      "execution_count": 3,
      "outputs": [
        {
          "name": "stdout",
          "output_type": "stream",
          "text": "Hola, Mundo\n"
        }
      ]
    },
    {
      "metadata": {
        "trusted": false
      },
      "cell_type": "code",
      "source": "print('Hola,', end=' ')\nprint('Mundo')",
      "execution_count": 4,
      "outputs": [
        {
          "name": "stdout",
          "output_type": "stream",
          "text": "Hola, Mundo\n"
        }
      ]
    },
    {
      "metadata": {
        "slideshow": {
          "slide_type": "slide"
        }
      },
      "cell_type": "markdown",
      "source": "## Variables"
    },
    {
      "metadata": {
        "trusted": false
      },
      "cell_type": "code",
      "source": "persona = 'Paco'\nprint('Hola,', persona)",
      "execution_count": 6,
      "outputs": [
        {
          "name": "stdout",
          "output_type": "stream",
          "text": "Hola, Paco\n"
        }
      ]
    },
    {
      "metadata": {
        "slideshow": {
          "slide_type": "skip"
        }
      },
      "cell_type": "markdown",
      "source": "La memoria del ordenador puede verse como un conjunto de casillas numeradas que pueden contener valores. Estos valores pueden corresponder a números en el programa, o a códigos que representan caracteres o cadenas de texto.\n\nLas variables de Python permiten poner nombre a algunas de estas casillas y también podemos indicar qué tipo de valor queremos guardar. Por ejemplo, en este caso la variables pers almacena una cadena de texto. A este tipo de órdenes se les llama sentencias de asignación."
    },
    {
      "metadata": {
        "slideshow": {
          "slide_type": "slide"
        }
      },
      "cell_type": "markdown",
      "source": "## Ejecución condicional"
    },
    {
      "metadata": {
        "slideshow": {
          "slide_type": "skip"
        }
      },
      "cell_type": "markdown",
      "source": "Las variables permiten escribir expresiones relativamente complejas y hacer que el comportamiento del programa varíe dependiendo del valor de dichas variables. Éste es un ejemplo de sentencia de ejecución condicional."
    },
    {
      "metadata": {
        "trusted": false
      },
      "cell_type": "code",
      "source": "if n > 100:\n    print('Demasiado')",
      "execution_count": null,
      "outputs": []
    },
    {
      "metadata": {
        "slideshow": {
          "slide_type": "slide"
        }
      },
      "cell_type": "markdown",
      "source": "## Repetición"
    },
    {
      "metadata": {
        "slideshow": {
          "slide_type": "skip"
        }
      },
      "cell_type": "markdown",
      "source": "Los ordenadores se usan muchas veces para tareas repetitivas. Vamos por ejemplo a escribir la tabla de multiplicar del 3."
    },
    {
      "metadata": {
        "trusted": false
      },
      "cell_type": "code",
      "source": "tabla = 3\ni = 0\nwhile i < 10:\n    print(tabla,'x',i,'=',tabla*i)\n    i = i + 1",
      "execution_count": 19,
      "outputs": [
        {
          "name": "stdout",
          "output_type": "stream",
          "text": "3 x 0 = 0\n3 x 1 = 3\n3 x 2 = 6\n3 x 3 = 9\n3 x 4 = 12\n3 x 5 = 15\n3 x 6 = 18\n3 x 7 = 21\n3 x 8 = 24\n3 x 9 = 27\n"
        }
      ]
    },
    {
      "metadata": {
        "slideshow": {
          "slide_type": "slide"
        }
      },
      "cell_type": "markdown",
      "source": "## Ejecución paso a paso\n\n* Vamos a ejecutar el ejemplo paso a paso."
    },
    {
      "metadata": {
        "hideCode": false,
        "hideOutput": false,
        "hidePrompt": false,
        "slideshow": {
          "slide_type": "skip"
        },
        "trusted": false
      },
      "cell_type": "code",
      "source": "#!pip install pixiedust\n#!pip install matplotlib\n#!pip install pandas\nimport pixiedust\n# Los print en ejecución paso a paso no funcionan.  Un workaround es \n# poner un breakpoint después de cada print y pulsar el botón Run para\n# ejecutar los print.",
      "execution_count": null,
      "outputs": []
    },
    {
      "metadata": {
        "hideCode": true,
        "hideOutput": false,
        "hidePrompt": true,
        "pixiedust": {
          "displayParams": {}
        },
        "slideshow": {
          "slide_type": "subslide"
        },
        "trusted": false
      },
      "cell_type": "code",
      "source": "%%pixie_debugger -b 5 8\ntabla = 3\ni = 0\nwhile i < 10:\n    print(tabla, 'x', i, '=', tabla*i)\n    i = i + 1",
      "execution_count": 2,
      "outputs": [
        {
          "data": {
            "text/html": "<style type=\"text/css\">.pd_warning{display:none;}</style><div class=\"pd_warning\"><em>Hey, there's something awesome here! To see it, open this notebook outside GitHub, in a viewer like Jupyter</em></div>",
            "text/plain": "<IPython.core.display.HTML object>"
          },
          "metadata": {
            "pixieapp_metadata": null
          },
          "output_type": "display_data"
        }
      ]
    },
    {
      "metadata": {
        "collapsed": true,
        "slideshow": {
          "slide_type": "slide"
        }
      },
      "cell_type": "markdown",
      "source": "# Concepto de algoritmo"
    },
    {
      "metadata": {
        "collapsed": true,
        "slideshow": {
          "slide_type": "subslide"
        }
      },
      "cell_type": "markdown",
      "source": "## Conocimiento declarativo\n\n$\\sqrt{x}$ es un $y$ tal que $y\\cdot y = x$"
    },
    {
      "metadata": {
        "collapsed": true,
        "slideshow": {
          "slide_type": "subslide"
        }
      },
      "cell_type": "markdown",
      "source": "## Conocimiento imperativo\n\n1. Elige una conjetura $g$\n1. Si $g\\cdot g \\simeq x$, la respuesta es $g$\n1. Si no, elegir nueva conjetura $$g = \\frac{g + x/g}{2}$$\n1. Volver al paso 2"
    },
    {
      "metadata": {
        "slideshow": {
          "slide_type": "subslide"
        }
      },
      "cell_type": "markdown",
      "source": "## Algoritmo\n\nLista finita de instrucciones que describen un cómputo. \n\nCuando se ejecuta sobre un **conjunto de entradas** que se proporcionan, pasa por un conjunto de **estados** bien definido, y eventualmente **produce una salida**\n"
    },
    {
      "metadata": {
        "collapsed": true,
        "slideshow": {
          "slide_type": "slide"
        }
      },
      "cell_type": "markdown",
      "source": "# Programa fijo vs. almacenado\n\n<img style=\"display:float; width:30%\" src=\"https://target.scene7.com/is/image/Target/13646060_Alt01?wid=488&hei=488&fmt=pjpeg\" align=\"left\">\n<img style=\"display:float; width:40%\" src=\"https://www.recruitment.guru/wp-content/uploads/2017/09/Computer.jpg\" align=\"right\">"
    },
    {
      "metadata": {
        "collapsed": true,
        "slideshow": {
          "slide_type": "slide"
        }
      },
      "cell_type": "markdown",
      "source": "# La tesis de Church - Turing\n\n* <img src=\"https://upload.wikimedia.org/wikipedia/commons/thumb/a/ab/Alan_Turing_Aged_16_%28cropped%29.jpg/250px-Alan_Turing_Aged_16_%28cropped%29.jpg\" align=\"right\" style=\"display:float\"> Si una función es **computable**, la máquina de Turing *puede programarse* para computarla.<img src=\"https://upload.wikimedia.org/wikipedia/en/b/bb/Turing_machine_1.JPG\" style=\"display:float-left; width:50%\">"
    },
    {
      "metadata": {
        "slideshow": {
          "slide_type": "slide"
        }
      },
      "cell_type": "markdown",
      "source": "# La tesis de Church - Turing\n\n* Un lenguaje es **Turing complete** si puede usarse para simular la máquina de Turing."
    },
    {
      "metadata": {
        "trusted": true
      },
      "cell_type": "code",
      "source": "IFrame(\"https://rawgit.com/FranciscoMoya/notebooks-eii/master/html/turing%20machine%20python%20-%20Buscar%20con%20Google.html\", \"100%\", 400)",
      "execution_count": 3,
      "outputs": [
        {
          "output_type": "execute_result",
          "execution_count": 3,
          "data": {
            "text/plain": "<IPython.lib.display.IFrame at 0x7f93cc1b3828>",
            "text/html": "\n        <iframe\n            width=\"100%\"\n            height=\"400\"\n            src=\"https://rawgit.com/FranciscoMoya/notebooks-eii/master/html/turing%20machine%20python%20-%20Buscar%20con%20Google.html\"\n            frameborder=\"0\"\n            allowfullscreen\n        ></iframe>\n        "
          },
          "metadata": {}
        }
      ]
    },
    {
      "metadata": {},
      "cell_type": "markdown",
      "source": "* **Python es Turing Complete**\n  * ¡Incluso el subconjunto que hemos visto es *Turing complete*!\n  * Puede representar cualquier función computable"
    },
    {
      "metadata": {
        "slideshow": {
          "slide_type": "slide"
        }
      },
      "cell_type": "markdown",
      "source": "# Elementos de un lenguaje de programación\n\n* Primitivas\n  * Palabras reservadas\n  * Literales\n  * Operadores infijos\n* Sintaxis\n* Semántica estática\n* Semántica"
    },
    {
      "metadata": {
        "slideshow": {
          "slide_type": "slide"
        }
      },
      "cell_type": "markdown",
      "source": "# Créditos\n\nExtractos de MIT Open Courseware (6.00 [Introduction to Computer Science and Programming](http://ocw.mit.edu/courses/electrical-engineering-and-computer-science/6-00-introduction-to-computer-science-and-programming-fall-2008/)) de Eric Grimson y John Guttag\n"
    }
  ],
  "metadata": {
    "celltoolbar": "Slideshow",
    "kernelspec": {
      "name": "python3",
      "display_name": "Python 3",
      "language": "python"
    },
    "language_info": {
      "mimetype": "text/x-python",
      "nbconvert_exporter": "python",
      "name": "python",
      "file_extension": ".py",
      "version": "3.5.4",
      "pygments_lexer": "ipython3",
      "codemirror_mode": {
        "version": 3,
        "name": "ipython"
      }
    }
  },
  "nbformat": 4,
  "nbformat_minor": 2
}