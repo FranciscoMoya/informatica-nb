{
  "cells": [
    {
      "metadata": {},
      "cell_type": "markdown",
      "source": "# Torres de Hanoi\n\nLas Torres de Hanoi es un juego infantil que consiste en un armazón con tres palos (torres) en los que se inserta un conjunto de discos de distinto tamaño con un agujero en su punto medio.\n\n<img src=\"https://upload.wikimedia.org/wikipedia/commons/0/07/Tower_of_Hanoi.jpeg\">\n\nEl juego consiste en mover los discos uno a uno desde un palo a otro manteniendo siempre una regla: *un disco nunca puede posarse sobre otro disco de menor tamaño*.  Esto exige utilizar el tercer palo como un punto intermedio.  Vamos a construir un programa para resolverlo."
    },
    {
      "metadata": {},
      "cell_type": "markdown",
      "source": "La solución es trivial si empleamos una función recursiva.  Mover los ocho discos de la imagen al palo de la derecha solo se puede hacer si movemos los siete discos superiores al palo central, movemos entonces el disco mayor al palo de la derecha y entonces movemos los siete discos del palo central al palo de la derecha.  No hay otra posible solución, para que el disco mayor se mueva al palo de la derecha la única posibilidad es que no haya ningún disco en este palo y por tanto todos tienen que estar en el central.\n\nLo interesante de este análisis es que ya tenemos la solución final, porque mover los siete discos superiores al palo central es un problema complétamente análogo al anterior.  Hay que mover los seis discos superiores al derecho, mover el séptimo al palo central y entonces mover los seis discos superiores al palo central.\n\nPodemos, por ejemplo, generar la lista completa de movimientos usando este método.  El algoritmo es sumamente sencillo.\n\n1. Si no hay que mover ningún disco la lista de movimientos es la lista vacía.\n1. Para mover N discos desde el palo X al palo Y:\n    1. Determinar el otro palo Z.\n    1. Mover N-1 discos de X a Z.\n    1. Mover el disco N-simo de X a Y. Generar el movimiento `X -> Y`\n    1. Mover N-1 discos de Z a Y.\n\nSe trata de un algoritmo recursivo donde el primer caso es el caso base, que rompe la recursión."
    },
    {
      "metadata": {
        "trusted": false
      },
      "cell_type": "code",
      "source": "def hanoi(ndiscos, desde=0, hasta=2):\n    if ndiscos == 0:\n        return []\n    tmp = ({0,1,2} - {desde,hasta}).pop()\n    return hanoi(ndiscos-1, desde, tmp) + [(desde, hasta)] + hanoi(ndiscos-1, tmp, hasta)",
      "execution_count": 1,
      "outputs": []
    },
    {
      "metadata": {},
      "cell_type": "markdown",
      "source": "La forma en que determinamos el otro palo puede parecerte extraña en este momento.  Vamos a explicarla un poco.  Nuestra implementación utiliza conjuntos de Python.  Un conjunto es similar a una lista pero los elementos no pueden repetirse y se colocan en orden.  Se definen con llaves en lugar de corchetes: "
    },
    {
      "metadata": {
        "trusted": false
      },
      "cell_type": "code",
      "source": "A = {1,2,5,3,2,1,4}\nA",
      "execution_count": 2,
      "outputs": [
        {
          "data": {
            "text/plain": "{1, 2, 3, 4, 5}"
          },
          "execution_count": 2,
          "metadata": {},
          "output_type": "execute_result"
        }
      ]
    },
    {
      "metadata": {},
      "cell_type": "markdown",
      "source": "Los conjuntos permiten las operaciones normales del álgebra de Boole.  En particular la resta de conjuntos elimina del conjunto minuendo todos los elementos del sustraendo:"
    },
    {
      "metadata": {
        "trusted": false
      },
      "cell_type": "code",
      "source": "A - {2,5,9}",
      "execution_count": 3,
      "outputs": [
        {
          "data": {
            "text/plain": "{1, 3, 4}"
          },
          "execution_count": 3,
          "metadata": {},
          "output_type": "execute_result"
        }
      ]
    },
    {
      "metadata": {},
      "cell_type": "markdown",
      "source": "Si los palos los numeramos del 0 al 2, el conjunto de todos los palos es `{0,1,2}` y el conjunto de todos los palos menos el origen y el destino es el conjunto `{0,1,2} - {desde,hasta}`.  Por ejemplo si el origen es el `0` y el destino el `2` tendríamos:"
    },
    {
      "metadata": {
        "trusted": false
      },
      "cell_type": "code",
      "source": "{0,1,2} - {0,2}",
      "execution_count": 4,
      "outputs": [
        {
          "data": {
            "text/plain": "{1}"
          },
          "execution_count": 4,
          "metadata": {},
          "output_type": "execute_result"
        }
      ]
    },
    {
      "metadata": {},
      "cell_type": "markdown",
      "source": "Esto es un conjunto de un único elemento, que podemos extraer usando la función `pop` que tienen todos los contenedores (las listas también).\n\nLo demás no es más que la expresión directa del algoritmo teniendo en cuenta que debe devolver una lista con los movimientos y que cada movimiento no es más que la pareja de valores del palo origen y el palo destino.  Cuando movemos N-1 discos tenemos que recoger la lista de movimientos correspondientes y añadirla en el punto adecuado a nuestro valor de retorno.\n\nVamos a hacer una prueba."
    },
    {
      "metadata": {
        "trusted": false
      },
      "cell_type": "code",
      "source": "hanoi(3)",
      "execution_count": 5,
      "outputs": [
        {
          "data": {
            "text/plain": "[(0, 2), (0, 1), (2, 1), (0, 2), (1, 0), (1, 2), (0, 2)]"
          },
          "execution_count": 5,
          "metadata": {},
          "output_type": "execute_result"
        }
      ]
    },
    {
      "metadata": {},
      "cell_type": "markdown",
      "source": "## Usando generadores\n\nYa hemos resuelto el problema y funciona correctamente, pero ¿qué pasaría si el número de discos es 10? ¿y 12? ¿y 20?"
    },
    {
      "metadata": {
        "trusted": false
      },
      "cell_type": "code",
      "source": "len(hanoi(10)), len(hanoi(12)), len(hanoi(20))",
      "execution_count": 6,
      "outputs": [
        {
          "data": {
            "text/plain": "(1023, 4095, 1048575)"
          },
          "execution_count": 6,
          "metadata": {},
          "output_type": "execute_result"
        }
      ]
    },
    {
      "metadata": {},
      "cell_type": "markdown",
      "source": "En general para $n$ discos obtenemos una lista de $2^n - 1$ movimientos.  Eso es mucho.  ¿Es necesario guardar todos los números en memoria?\n\nEn muchas situaciones podemos ahorrar un montón de memoria si hacemos lo mismo que la función `range`.  Podemos ir generando los números conforme los vaya pidiendo el usuario.  Para eso están los generadores en Python.  Basta producir los movimientos con `yield`.  Esta palabra reservada suspende la ejecución de la función hasta que el usuario llame a la función `next`.  Escribir la función de esta forma es un poco más lioso pero tampoco mucho."
    },
    {
      "metadata": {
        "trusted": true
      },
      "cell_type": "code",
      "source": "def hanoi(ndiscos, desde=0, hasta=2):\n    if ndiscos == 0:\n        return []\n    tmp = ({*range(3)} - {desde,hasta}).pop()\n    yield from hanoi(ndiscos-1, desde, tmp)\n    yield (desde, hasta)\n    yield from hanoi(ndiscos-1, tmp, hasta)",
      "execution_count": 8,
      "outputs": []
    },
    {
      "metadata": {},
      "cell_type": "markdown",
      "source": "Ya no construimos una lista sino que producimos movimientos con `yield`.  Cuando necesitamos mover N-1 discos tendremos que llamar de forma recursiva a `hanoi`, pero ahora se usa igual que `range`, tendremos que iterar sobre sus elementos con un `for`.\n\nLa forma en que se usa ahora es similar a `range`."
    },
    {
      "metadata": {
        "trusted": true
      },
      "cell_type": "code",
      "source": "print(*hanoi(3))",
      "execution_count": 9,
      "outputs": [
        {
          "output_type": "stream",
          "text": "(0, 2) (0, 1) (2, 1) (0, 2) (1, 0) (1, 2) (0, 2)\n",
          "name": "stdout"
        }
      ]
    },
    {
      "metadata": {
        "trusted": true
      },
      "cell_type": "code",
      "source": "for mov in hanoi(3):\n    print(mov, end=' ')",
      "execution_count": 10,
      "outputs": [
        {
          "output_type": "stream",
          "text": "(0, 2) (0, 1) (2, 1) (0, 2) (1, 0) (1, 2) (0, 2) ",
          "name": "stdout"
        }
      ]
    },
    {
      "metadata": {},
      "cell_type": "markdown",
      "source": "Habrás notado que no hemos representado las torres de ninguna forma en ningún momento.  No es necesario para resolver el problema pero puede ser útil para visualizar el estado de las torres en cada paso.  Eso se puede hacer a posteriori fácilmente si usamos generadores."
    },
    {
      "metadata": {
        "trusted": true
      },
      "cell_type": "code",
      "source": "def torres_hanoi(ndiscos, desde=0, hasta=2):\n    torres = [[],[],[]]\n    torres[desde] = list(reversed(range(ndiscos)))\n    yield torres\n    for desde, hasta in hanoi(ndiscos, desde, hasta):\n        torres[hasta].append(torres[desde].pop())\n        yield torres",
      "execution_count": 11,
      "outputs": []
    },
    {
      "metadata": {
        "trusted": true
      },
      "cell_type": "code",
      "source": "for torres in torres_hanoi(3):\n    print(*torres, sep='\\t\\t')",
      "execution_count": 12,
      "outputs": [
        {
          "output_type": "stream",
          "text": "[2, 1, 0]\t\t[]\t\t[]\n[2, 1]\t\t[]\t\t[0]\n[2]\t\t[1]\t\t[0]\n[2]\t\t[1, 0]\t\t[]\n[]\t\t[1, 0]\t\t[2]\n[0]\t\t[1]\t\t[2]\n[0]\t\t[]\t\t[2, 1]\n[]\t\t[]\t\t[2, 1, 0]\n",
          "name": "stdout"
        }
      ]
    },
    {
      "metadata": {},
      "cell_type": "markdown",
      "source": "También es sencillo obtener el estado después de *n* iteraciones del algoritmo."
    },
    {
      "metadata": {
        "trusted": true
      },
      "cell_type": "code",
      "source": "def torres_hanoi_nth(n, ndiscos=8):\n    mov = torres_hanoi(ndiscos, desde=0, hasta=2)\n    for i in range(n):\n        next(mov)\n    return next(mov)",
      "execution_count": 13,
      "outputs": []
    },
    {
      "metadata": {},
      "cell_type": "markdown",
      "source": "Por ejemplo, veamos el estado después de 20 iteraciones en el caso de 8 discos."
    },
    {
      "metadata": {
        "trusted": true
      },
      "cell_type": "code",
      "source": "print(*torres_hanoi_nth(20, ndiscos=8))",
      "execution_count": 14,
      "outputs": [
        {
          "output_type": "stream",
          "text": "[7, 6, 5, 2] [4, 1, 0] [3]\n",
          "name": "stdout"
        }
      ]
    },
    {
      "metadata": {},
      "cell_type": "markdown",
      "source": "En realidad esto mismo se puede hacer con funciones de la biblioteca estándar.  Por ejemplo, `islice` es un generador que solo produce un rango de elementos de otro generador.  En este caso simplemente nos saltamos hasta el elemento *n-simo*  y producimos un elemento entonces."
    },
    {
      "metadata": {
        "trusted": true
      },
      "cell_type": "code",
      "source": "from itertools import islice\n\ndef torres_hanoi_nth(n, ndiscos=8):\n    return next(islice(torres_hanoi(ndiscos, desde=0, hasta=2), n, None))",
      "execution_count": 15,
      "outputs": []
    },
    {
      "metadata": {
        "trusted": true
      },
      "cell_type": "code",
      "source": "print(*torres_hanoi_nth(20, ndiscos=8))",
      "execution_count": 16,
      "outputs": [
        {
          "output_type": "stream",
          "text": "[7, 6, 5, 2] [4, 1, 0] [3]\n",
          "name": "stdout"
        }
      ]
    },
    {
      "metadata": {},
      "cell_type": "markdown",
      "source": "## Interfaces de usuario con Jupyter Notebook\n\nEste tipo de ejercicios se presta a una visualización más gráfica.  Vamos a ver lo mínimo para construir interfaces de usuario con Jupyter.  \n\nNecesitaremos una forma de dibujar las torres y una forma de proporcionar una interfaz de usuario para controlar lo que ya hemos hecho.\n\nEn Jupyter Notebook (y por tanto [tmpnb.org](http://tmpnb.org) tenemos acceso a todas las capacidades del navegador.  En particular podemos dibujar gráficos escalables utilizando el [estándar SVG](https://www.w3.org/Graphics/SVG/).  Los gráficos SVG se pueden generar con cualquier programa de dibujo vectorial (e.g. [Inkscape](http://www.inkscape.org)) pero en este ejemplo lo vamos a hacer a mano."
    },
    {
      "metadata": {
        "trusted": true
      },
      "cell_type": "code",
      "source": "from IPython.display import SVG\nSVG(data='''\n<svg width=\"320\" height=\"200\">\n  <line x1=\"150\" x2=\"150\" y1=\"10\" y2=\"150\" stroke=\"gray\" stroke-width=\"20\"/>\n  <rect x=\"50\" y=\"150\" rx=\"15\" ry=\"15\" width=\"200\" height=\"30\" \n        stroke=\"gray\" fill=\"lightblue\" stroke-width=\"1\"/>\n</svg>\n''')",
      "execution_count": 17,
      "outputs": [
        {
          "output_type": "execute_result",
          "execution_count": 17,
          "data": {
            "text/plain": "<IPython.core.display.SVG object>",
            "image/svg+xml": "<svg height=\"200\" width=\"320\">\n  <line stroke=\"gray\" stroke-width=\"20\" x1=\"150\" x2=\"150\" y1=\"10\" y2=\"150\"/>\n  <rect fill=\"lightblue\" height=\"30\" rx=\"15\" ry=\"15\" stroke=\"gray\" stroke-width=\"1\" width=\"200\" x=\"50\" y=\"150\"/>\n</svg>"
          },
          "metadata": {}
        }
      ]
    },
    {
      "metadata": {},
      "cell_type": "markdown",
      "source": "No es muy complicado, ¿verdad?  Vamos a construir una función que dado un conjunto de torres con sus discos correspondientes dibuje el SVG equivalente."
    },
    {
      "metadata": {
        "trusted": true
      },
      "cell_type": "code",
      "source": "grosor = 30\ndiametro_max = 9*grosor\n\ndef torres_svg(torres):\n    ndiscos = sum([len(t) for t in torres])\n    return SVG(data='<svg width=\"{}\" height=\"{}\">{}</svg>'.format(\n            3*diametro_max,\n            ndiscos*grosor,\n            ''.join([torre_svg(t,i,ndiscos) for i, t in enumerate(torres)])))\n\ndef torre_svg(torre, pos, ndiscos):\n    return '''<line x1=\"{0}\" x2=\"{0}\" \n                    y1=\"0\" y2=\"{1}\" \n                    stroke=\"gray\" \n                    stroke-width=\"20\"/>{2}'''.format(\n        (0.5 + pos)*diametro_max,\n        ndiscos*grosor,\n        ''.join([disco_svg(tamano, pos, posy, ndiscos) for posy, tamano in enumerate(torre)]))\n\ndef disco_svg(tamano, posx, posy, ndiscos):\n    diametro = diametro_max - (ndiscos - tamano - 1)*grosor\n    return '''<rect x=\"{0}\" y=\"{1}\" \n                    width=\"{2}\" height=\"{3}\" \n                    rx=\"{4}\" ry=\"{4}\" \n                    stroke=\"gray\" fill=\"lightblue\" stroke-width=\"1\"/>'''.format(\n        (0.5 + posx)*diametro_max - diametro/2,\n        ndiscos*grosor - (posy + 1)*grosor,\n        diametro, grosor, grosor/2)",
      "execution_count": 18,
      "outputs": []
    },
    {
      "metadata": {
        "trusted": true
      },
      "cell_type": "code",
      "source": "torres_svg([[6, 5, 4, 3, 2, 1], [0], [7]])",
      "execution_count": 19,
      "outputs": [
        {
          "output_type": "execute_result",
          "execution_count": 19,
          "data": {
            "text/plain": "<IPython.core.display.SVG object>",
            "image/svg+xml": "<svg height=\"240\" width=\"810\"><line stroke=\"gray\" stroke-width=\"20\" x1=\"135.0\" x2=\"135.0\" y1=\"0\" y2=\"240\"/><rect fill=\"lightblue\" height=\"30\" rx=\"15.0\" ry=\"15.0\" stroke=\"gray\" stroke-width=\"1\" width=\"240\" x=\"15.0\" y=\"210\"/><rect fill=\"lightblue\" height=\"30\" rx=\"15.0\" ry=\"15.0\" stroke=\"gray\" stroke-width=\"1\" width=\"210\" x=\"30.0\" y=\"180\"/><rect fill=\"lightblue\" height=\"30\" rx=\"15.0\" ry=\"15.0\" stroke=\"gray\" stroke-width=\"1\" width=\"180\" x=\"45.0\" y=\"150\"/><rect fill=\"lightblue\" height=\"30\" rx=\"15.0\" ry=\"15.0\" stroke=\"gray\" stroke-width=\"1\" width=\"150\" x=\"60.0\" y=\"120\"/><rect fill=\"lightblue\" height=\"30\" rx=\"15.0\" ry=\"15.0\" stroke=\"gray\" stroke-width=\"1\" width=\"120\" x=\"75.0\" y=\"90\"/><rect fill=\"lightblue\" height=\"30\" rx=\"15.0\" ry=\"15.0\" stroke=\"gray\" stroke-width=\"1\" width=\"90\" x=\"90.0\" y=\"60\"/><line stroke=\"gray\" stroke-width=\"20\" x1=\"405.0\" x2=\"405.0\" y1=\"0\" y2=\"240\"/><rect fill=\"lightblue\" height=\"30\" rx=\"15.0\" ry=\"15.0\" stroke=\"gray\" stroke-width=\"1\" width=\"60\" x=\"375.0\" y=\"210\"/><line stroke=\"gray\" stroke-width=\"20\" x1=\"675.0\" x2=\"675.0\" y1=\"0\" y2=\"240\"/><rect fill=\"lightblue\" height=\"30\" rx=\"15.0\" ry=\"15.0\" stroke=\"gray\" stroke-width=\"1\" width=\"270\" x=\"540.0\" y=\"210\"/></svg>"
          },
          "metadata": {}
        }
      ]
    },
    {
      "metadata": {
        "trusted": true
      },
      "cell_type": "code",
      "source": "torres_hanoi_nth(20, ndiscos=8)",
      "execution_count": 20,
      "outputs": [
        {
          "output_type": "execute_result",
          "execution_count": 20,
          "data": {
            "text/plain": "[[7, 6, 5, 2], [4, 1, 0], [3]]"
          },
          "metadata": {}
        }
      ]
    },
    {
      "metadata": {
        "trusted": true
      },
      "cell_type": "code",
      "source": "from ipywidgets import interact\n\n@interact(n=(0,255), ndiscos=(2,8))\ndef torres_svg_nth(n, ndiscos=8):\n    return torres_svg(torres_hanoi_nth(n, ndiscos))\n\n# O con código\n#interact(torres_svg_nth, n=(0,255), ndiscos=(2,8))",
      "execution_count": 21,
      "outputs": [
        {
          "output_type": "display_data",
          "data": {
            "application/vnd.jupyter.widget-view+json": {
              "model_id": "326513930a0d49058fb224ffbfb13f4f",
              "version_minor": 0,
              "version_major": 2
            },
            "text/plain": "interactive(children=(IntSlider(value=127, description='n', max=255), IntSlider(value=8, description='ndiscos'…"
          },
          "metadata": {}
        }
      ]
    },
    {
      "metadata": {
        "trusted": false
      },
      "cell_type": "code",
      "source": "",
      "execution_count": null,
      "outputs": []
    }
  ],
  "metadata": {
    "kernelspec": {
      "name": "python3",
      "display_name": "Python 3",
      "language": "python"
    },
    "language_info": {
      "mimetype": "text/x-python",
      "nbconvert_exporter": "python",
      "name": "python",
      "file_extension": ".py",
      "version": "3.5.4",
      "pygments_lexer": "ipython3",
      "codemirror_mode": {
        "version": 3,
        "name": "ipython"
      }
    }
  },
  "nbformat": 4,
  "nbformat_minor": 1
}