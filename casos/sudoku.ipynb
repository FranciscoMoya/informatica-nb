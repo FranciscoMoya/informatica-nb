{
  "cells": [
    {
      "metadata": {
        "trusted": true
      },
      "cell_type": "code",
      "source": "casillas = tuple((x,y) for y in range(1,10) for x in range(1,10))\ncolumnas = tuple(tuple((x,y) for y in range(1,10)) for x in range(1,10))\nfilas = tuple(tuple((x,y) for x in range(1,10)) for y in range(1,10))\ndef bloque(x,y): return  tuple((i,j) for i in range(x,x+3) for j in range(y,y+3))\nbloques = tuple(bloque(x,y) for x in (1,4,7) for y in (1,4,7))\nunidades = columnas + filas + bloques\ndef unidades_xy(c): return tuple(u for u in unidades if c in u)\ndef afectadas(c): return sum(unidades_xy(c),tuple())\ndef colegas_xy(c): return tuple(w for w in afectadas(c) if c != w)\ncolegas = { c: colegas_xy(c) for c in casillas }",
      "execution_count": 29,
      "outputs": []
    },
    {
      "metadata": {
        "trusted": true
      },
      "cell_type": "code",
      "source": "s = {c: list(range(1,10)) for c in casillas}  ",
      "execution_count": 30,
      "outputs": []
    },
    {
      "metadata": {
        "trusted": true
      },
      "cell_type": "code",
      "source": "def imprimir_s(s):\n    for i,f in enumerate(filas):\n        if i in (3,6):\n            print('-'*93)\n        imprimir_fila(s,f)\n\ndef imprimir_fila(s,f):\n    for i,c in enumerate(f):\n        if i in (3,6):\n            print('| ', end='')\n        imprimir_casilla(s,c)\n    print()\n    \ndef imprimir_casilla(s,c):\n    print(*s[c], sep='', end=' '*(10-len(s[c])))",
      "execution_count": 31,
      "outputs": []
    },
    {
      "metadata": {
        "trusted": true
      },
      "cell_type": "code",
      "source": "imprimir_s(s)",
      "execution_count": 32,
      "outputs": [
        {
          "output_type": "stream",
          "text": "123456789 123456789 123456789 | 123456789 123456789 123456789 | 123456789 123456789 123456789 \n123456789 123456789 123456789 | 123456789 123456789 123456789 | 123456789 123456789 123456789 \n123456789 123456789 123456789 | 123456789 123456789 123456789 | 123456789 123456789 123456789 \n---------------------------------------------------------------------------------------------\n123456789 123456789 123456789 | 123456789 123456789 123456789 | 123456789 123456789 123456789 \n123456789 123456789 123456789 | 123456789 123456789 123456789 | 123456789 123456789 123456789 \n123456789 123456789 123456789 | 123456789 123456789 123456789 | 123456789 123456789 123456789 \n---------------------------------------------------------------------------------------------\n123456789 123456789 123456789 | 123456789 123456789 123456789 | 123456789 123456789 123456789 \n123456789 123456789 123456789 | 123456789 123456789 123456789 | 123456789 123456789 123456789 \n123456789 123456789 123456789 | 123456789 123456789 123456789 | 123456789 123456789 123456789 \n",
          "name": "stdout"
        }
      ]
    },
    {
      "metadata": {
        "trusted": true
      },
      "cell_type": "code",
      "source": "def init(config):\n    s = {c: list(range(1,10)) for c in casillas}\n    cadena = (i for i in config if i in '123456789.')\n    for ch,casilla in zip(cadena,casillas):\n        fijar_casilla(ch,s,casilla)\n    return s\n\ndef fijar_casilla(v, s, casilla):\n    if v == '.': return\n    v = int(v)\n    \n    s[casilla]= [v]\n    for c in colegas[casilla]:\n        quitar(v, s, c)\n\n        \ndef quitar(v, s, c):\n    if v not in s[c]:\n        return\n    s[c].remove(v)\n    if len(s[c])==1:\n        fijar_casilla(s[c][0],s,c)\n    ",
      "execution_count": 36,
      "outputs": []
    },
    {
      "metadata": {
        "trusted": true
      },
      "cell_type": "code",
      "source": "ej1 = '''\n. . . 7 . . 8 . .\n. . . . 4 . . 3 .\n. . . . . 9 . . 1\n6 . . 5 . . . . .\n. 1 . . 3 . . 4 .\n. . 5 . . 1 . . 7\n5 . . 2 . . 6 . .\n. 3 . . 8 . . 9 .\n. . 7 . . . . . 2\n'''\n\ns = init(ej1)",
      "execution_count": 37,
      "outputs": []
    },
    {
      "metadata": {
        "trusted": true,
        "scrolled": false
      },
      "cell_type": "code",
      "source": "imprimir_s(s)",
      "execution_count": 38,
      "outputs": [
        {
          "output_type": "stream",
          "text": "12349     24569     123469    | 7         1256      2356      | 8         256       4569      \n12789     256789    12689     | 168       4         2568      | 2579      3         569       \n23478     245678    23468     | 368       256       9         | 2457      2567      1         \n---------------------------------------------------------------------------------------------\n6         24789     23489     | 5         279       2478      | 1239      128       389       \n2789      1         289       | 689       3         2678      | 259       4         5689      \n23489     2489      5         | 4689      269       1         | 239       268       7         \n---------------------------------------------------------------------------------------------\n5         489       1489      | 2         179       347       | 6         178       348       \n124       3         1246      | 146       8         4567      | 1457      9         45        \n1489      4689      7         | 13469     1569      3456      | 1345      158       2         \n",
          "name": "stdout"
        }
      ]
    },
    {
      "metadata": {
        "trusted": true
      },
      "cell_type": "code",
      "source": "from copy import deepcopy\ndef resolver(s):\n    sig = min((len(s[c]), c) for c in casillas if len(s[c])>1)\n    for v in s[sig]:\n        posible = deepcopy(s)\n        fijar_casilla(v, s, sig)\n        try:\n            resolver(posible)\n        except ValueError:\n            pass\n    raise ValueError('Sin solucion')",
      "execution_count": 40,
      "outputs": [
        {
          "output_type": "execute_result",
          "execution_count": 40,
          "data": {
            "text/plain": "[0, 1, 2, 2, 5, 7]"
          },
          "metadata": {}
        }
      ]
    },
    {
      "metadata": {
        "trusted": true
      },
      "cell_type": "code",
      "source": "min((len(s[c]), c) for c in casillas if len(s[c])>1)",
      "execution_count": 44,
      "outputs": [
        {
          "output_type": "execute_result",
          "execution_count": 44,
          "data": {
            "text/plain": "(2, (9, 8))"
          },
          "metadata": {}
        }
      ]
    },
    {
      "metadata": {
        "trusted": true
      },
      "cell_type": "code",
      "source": "",
      "execution_count": null,
      "outputs": []
    }
  ],
  "metadata": {
    "kernelspec": {
      "name": "python36",
      "display_name": "Python 3.6",
      "language": "python"
    },
    "language_info": {
      "mimetype": "text/x-python",
      "nbconvert_exporter": "python",
      "name": "python",
      "pygments_lexer": "ipython3",
      "version": "3.6.6",
      "file_extension": ".py",
      "codemirror_mode": {
        "version": 3,
        "name": "ipython"
      }
    }
  },
  "nbformat": 4,
  "nbformat_minor": 1
}