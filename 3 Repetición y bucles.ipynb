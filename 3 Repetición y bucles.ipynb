{
  "cells": [
    {
      "metadata": {
        "slideshow": {
          "slide_type": "skip"
        },
        "trusted": false
      },
      "cell_type": "code",
      "source": "A = B = B1 = B2 = C = None\ncondicion = cond1 = cond2 = True\nsecuencia = []",
      "execution_count": 1,
      "outputs": []
    },
    {
      "metadata": {
        "collapsed": true,
        "slideshow": {
          "slide_type": "slide"
        }
      },
      "cell_type": "markdown",
      "source": "# Repetición\n\n## while, for"
    },
    {
      "metadata": {
        "slideshow": {
          "slide_type": "slide"
        }
      },
      "cell_type": "markdown",
      "source": "# Bucle while\n\n* Repite mientras se cumpla la condición.\n\n![while.svg](//rawgit.com/FranciscoMoya/notebooks-eii/master/diag/while.svg)"
    },
    {
      "metadata": {
        "trusted": false
      },
      "cell_type": "code",
      "source": "A\nwhile condicion:\n    B\nC",
      "execution_count": null,
      "outputs": []
    },
    {
      "metadata": {
        "slideshow": {
          "slide_type": "slide"
        }
      },
      "cell_type": "markdown",
      "source": "# Enumeración exhaustiva\n\n* A veces es posible probar **todas las posibilidades**."
    },
    {
      "metadata": {
        "trusted": false
      },
      "cell_type": "code",
      "source": "def raiz_cubica(n):\n    i = 1\n    while i**3 < n:\n        i = i + 1\n\n    if i**3 == n:\n        return i",
      "execution_count": 23,
      "outputs": []
    },
    {
      "metadata": {
        "trusted": false
      },
      "cell_type": "code",
      "source": "raiz_cubica(27)",
      "execution_count": 24,
      "outputs": [
        {
          "data": {
            "text/plain": "3"
          },
          "execution_count": 24,
          "metadata": {},
          "output_type": "execute_result"
        }
      ]
    },
    {
      "metadata": {
        "slideshow": {
          "slide_type": "slide"
        }
      },
      "cell_type": "markdown",
      "source": "# Función de decremento\n\n* Transforma variables a entero\n* Al entrar es **no negativo**\n* Cuando es $\\leq 0$ sale del bucle\n* Se decrementa en cada iteración\n"
    },
    {
      "metadata": {
        "slideshow": {
          "slide_type": "slide"
        }
      },
      "cell_type": "markdown",
      "source": "# Bucle for\n\n* Repite sustituyendo variable de control por cada elemento.\n\n![for.svg](//rawgit.com/FranciscoMoya/notebooks-eii/master/diag/for.svg)"
    },
    {
      "metadata": {
        "trusted": false
      },
      "cell_type": "code",
      "source": "A\nfor x in secuencia:\n    B\nC",
      "execution_count": 47,
      "outputs": []
    },
    {
      "metadata": {
        "slideshow": {
          "slide_type": "slide"
        }
      },
      "cell_type": "markdown",
      "source": "# Enumeración exhaustiva (for)\n\n* Si podemos expresar **todas las posibilidades** como secuencia."
    },
    {
      "metadata": {
        "trusted": false
      },
      "cell_type": "code",
      "source": "def raiz_cubica(n):\n    for i in range(n + 1):\n        if i**3 >= n:\n            break\n\n    if i**3 == n:\n        return i",
      "execution_count": 57,
      "outputs": []
    },
    {
      "metadata": {
        "trusted": false
      },
      "cell_type": "code",
      "source": "raiz_cubica(27)",
      "execution_count": 58,
      "outputs": [
        {
          "data": {
            "text/plain": "3"
          },
          "execution_count": 58,
          "metadata": {},
          "output_type": "execute_result"
        }
      ]
    },
    {
      "metadata": {
        "slideshow": {
          "slide_type": "slide"
        }
      },
      "cell_type": "markdown",
      "source": "# Ejemplo 1\n\n* Escribe una función `cuadrado` que imprima en pantalla un cuadrado del tamaño que se indica en el argumento. "
    },
    {
      "metadata": {
        "trusted": false
      },
      "cell_type": "code",
      "source": "def cuadrado(n):\n    print('*'*n)\n    for i in range(n-2):\n        print('*' + ' '*(n-2) + '*')\n    print('*'*n)",
      "execution_count": 59,
      "outputs": []
    },
    {
      "metadata": {
        "trusted": false
      },
      "cell_type": "code",
      "source": "cuadrado(3)",
      "execution_count": 63,
      "outputs": [
        {
          "name": "stdout",
          "output_type": "stream",
          "text": "***\n* *\n***\n"
        }
      ]
    },
    {
      "metadata": {
        "slideshow": {
          "slide_type": "slide"
        }
      },
      "cell_type": "markdown",
      "source": "# Ejemplo 2\n\n* Escribe una función `cuadrado` que imprima en pantalla un cuadrado del tamaño que se indica en el argumento. "
    },
    {
      "metadata": {
        "trusted": false
      },
      "cell_type": "code",
      "source": "def cuadrado(n):\n    print('*'*n)\n    for i in range(n-2):\n        print('*' + ' '*(n-2) + '*')\n    print('*'*n)",
      "execution_count": 59,
      "outputs": []
    },
    {
      "metadata": {
        "trusted": false
      },
      "cell_type": "code",
      "source": "cuadrado(3)",
      "execution_count": 63,
      "outputs": [
        {
          "name": "stdout",
          "output_type": "stream",
          "text": "***\n* *\n***\n"
        }
      ]
    },
    {
      "metadata": {
        "hideCode": true,
        "hideOutput": false,
        "slideshow": {
          "slide_type": "slide"
        }
      },
      "cell_type": "markdown",
      "source": "# Refinamiento sucesivo\n\n* Conjeturar y comprobar\n  * Enumeración exhaustiva\n  * **Búsqueda por bisección**\n  * Método de Newton-Raphson\n  \n![biseccion.svg](//rawgit.com/FranciscoMoya/notebooks-eii/master/diag/biseccion.svg)"
    },
    {
      "metadata": {
        "slideshow": {
          "slide_type": "slide"
        }
      },
      "cell_type": "markdown",
      "source": "# Búsqueda por bisección"
    },
    {
      "metadata": {
        "trusted": false
      },
      "cell_type": "code",
      "source": "def raiz_cuadrada(x, epsilon):\n    low = 0.0\n    high = max(1.0, x)\n    r = (high + low)/2.0\n    while abs(r**2 - x) >= epsilon:\n        if r**2 < x: low = r\n        else: high = r\n        r = (high + low)/2.0\n    return r",
      "execution_count": 37,
      "outputs": []
    },
    {
      "metadata": {
        "trusted": false
      },
      "cell_type": "code",
      "source": "",
      "execution_count": null,
      "outputs": []
    },
    {
      "metadata": {
        "slideshow": {
          "slide_type": "slide"
        }
      },
      "cell_type": "markdown",
      "source": "# Límites de representación"
    },
    {
      "metadata": {
        "trusted": false
      },
      "cell_type": "code",
      "source": "x = 0.0\nfor i in range(10):\n    x = x + 0.1\n\nif x == 1.0:\n    print(x, '= 1.0')\nelse:\n    print(x, '!= 1.0')",
      "execution_count": null,
      "outputs": []
    },
    {
      "metadata": {
        "slideshow": {
          "slide_type": "slide"
        }
      },
      "cell_type": "markdown",
      "source": "# Método de Newton-Raphson\n\n* Encontrar las raíces de una función $f(x)$ continua y derivable.  Es decir, $x$ tal que $f(x) = 0$.\n\n  * Si $x_i$ conjetura, $x_i - p(x_i)/p'(x_i)$ es mejor conjetura\n  \n<img src=\"//rawgit.com/FranciscoMoya/notebooks-eii/master/img/NewtonRaphson.jpg\">\n\nFuente: [NewtonRaphson Wiki](http://newtons.wikia.com/wiki/NewtonRaphson_Wiki)"
    },
    {
      "metadata": {
        "slideshow": {
          "slide_type": "slide"
        }
      },
      "cell_type": "markdown",
      "source": "# Raíz cuadrada con Newton-Raphson\n\n* Sea $f(x) = x^2 - k$"
    },
    {
      "metadata": {
        "trusted": false
      },
      "cell_type": "code",
      "source": "def raiz_cuadrada(k, epsilon):\n    x = k/2.0\n    while abs(x**2 - k) >= epsilon:\n        x -= (x**2 - k)/(2*x)\n    return x",
      "execution_count": 39,
      "outputs": []
    },
    {
      "metadata": {
        "trusted": false
      },
      "cell_type": "code",
      "source": "raiz_cuadrada(2,.0000001)",
      "execution_count": 44,
      "outputs": [
        {
          "data": {
            "text/plain": "1.4142135623746899"
          },
          "execution_count": 44,
          "metadata": {},
          "output_type": "execute_result"
        }
      ]
    },
    {
      "metadata": {
        "slideshow": {
          "slide_type": "slide"
        }
      },
      "cell_type": "markdown",
      "source": "## Rombo con caracteres ASCII"
    },
    {
      "metadata": {
        "trusted": false
      },
      "cell_type": "code",
      "source": "def imprimir_rombo(n):\n    assert n % 2 == 0, 'El argumento debe ser par'\n    assert n >= 2, 'El argumento debe ser mayor o igual a 2'\n    for i in range(n//2):\n        imprimir_linea_rombo('/', '\\\\', i, n)\n    for i in reversed(range(n//2)):\n        imprimir_linea_rombo('\\\\', '/', i, n)\n\ndef imprimir_linea_rombo(a,b,i,n):\n    print(' '*(n//2-i-1)+a+' '*(2*i)+b)",
      "execution_count": 6,
      "outputs": []
    },
    {
      "metadata": {
        "trusted": false
      },
      "cell_type": "code",
      "source": "imprimir_rombo(8)",
      "execution_count": 7,
      "outputs": [
        {
          "name": "stdout",
          "output_type": "stream",
          "text": "   /\\\n  /  \\\n /    \\\n/      \\\n\\      /\n \\    /\n  \\  /\n   \\/\n"
        }
      ]
    },
    {
      "metadata": {
        "slideshow": {
          "slide_type": "slide"
        }
      },
      "cell_type": "markdown",
      "source": "# Créditos\n\n* Extractos de MIT Open Courseware (6.00 [Introduction to Computer Science and Programming](http://ocw.mit.edu/courses/electrical-engineering-and-computer-science/6-00-introduction-to-computer-science-and-programming-fall-2008/)) de Eric Grimson y John Guttag."
    },
    {
      "metadata": {
        "slideshow": {
          "slide_type": "slide"
        }
      },
      "cell_type": "markdown",
      "source": "# Archivos auxiliares\n\nArchivos auxiliares para generar las imágenes de este capítulo.  Puedes ignorarlo."
    },
    {
      "metadata": {
        "scrolled": true,
        "slideshow": {
          "slide_type": "skip"
        },
        "trusted": false
      },
      "cell_type": "code",
      "source": "%%file diag/while.bd\nblockdiag {\n    A -> IF,B -> C\n    IF -> B  \n    \n    default_fontsize = 24\n    span_height = 80\n    default_node_color = \"orange\"\n    default_group_color = \"lightgray\"\n    \n    IF[label=\"Condición\", shape=\"flowchart.condition\", width=170, fontsize=20]    \n    IF -> B [folded,label=\"True\",fontsize=14]\n    IF -> C [label=\"False\",fontsize=14]\n    A -> B [dir=none]\n    B -> C [style=none]\n    group { IF; B; }\n}",
      "execution_count": 2,
      "outputs": [
        {
          "name": "stdout",
          "output_type": "stream",
          "text": "Overwriting diag/while.bd\n"
        }
      ]
    },
    {
      "metadata": {
        "scrolled": true,
        "slideshow": {
          "slide_type": "skip"
        },
        "trusted": false
      },
      "cell_type": "code",
      "source": "%%file diag/for.bd\nblockdiag {\n    A -> IN -> B -> OUT -> C\n    \n    default_fontsize = 24\n    default_node_color = \"orange\"\n    default_group_color = \"lightgray\"\n    \n    IN[label=\"Para x en ...\", shape=\"flowchart.loopin\", fontsize=20, width=150]    \n    OUT[label=\"\", shape=\"flowchart.loopout\", width=150]\n    group { orientation=portrait; IN; B; OUT; }\n}",
      "execution_count": 49,
      "outputs": [
        {
          "name": "stdout",
          "output_type": "stream",
          "text": "Overwriting diag/for.bd\n"
        }
      ]
    },
    {
      "metadata": {
        "scrolled": true,
        "slideshow": {
          "slide_type": "skip"
        },
        "trusted": false
      },
      "cell_type": "code",
      "source": "%%file diag/biseccion.bd\nblockdiag {\n    G -> min -> A -> B -> C -> conjetura -> D -> E -> F -> max -> H [dir=none, style=dotted]\n    \n    default_fontsize = 24\n    default_node_color = \"orange\"\n    default_group_color = \"lightgray\"\n    \n    min,max,conjetura [style=none]\n    A,B,C,D,E,F [label=\"\",width=1]\n    G,H [shape=none]\n}",
      "execution_count": 34,
      "outputs": [
        {
          "name": "stdout",
          "output_type": "stream",
          "text": "Overwriting diag/biseccion.bd\n"
        }
      ]
    },
    {
      "metadata": {
        "trusted": false
      },
      "cell_type": "code",
      "source": "!blockdiag -Tsvg diag/while.bd\n!blockdiag -Tsvg diag/for.bd\n!blockdiag -Tsvg diag/biseccion.bd",
      "execution_count": 4,
      "outputs": []
    },
    {
      "metadata": {
        "trusted": false
      },
      "cell_type": "code",
      "source": "",
      "execution_count": null,
      "outputs": []
    }
  ],
  "metadata": {
    "celltoolbar": "Slideshow",
    "kernelspec": {
      "name": "python3",
      "display_name": "Python 3",
      "language": "python"
    },
    "language_info": {
      "mimetype": "text/x-python",
      "nbconvert_exporter": "python",
      "name": "python",
      "pygments_lexer": "ipython3",
      "version": "3.5.4",
      "file_extension": ".py",
      "codemirror_mode": {
        "version": 3,
        "name": "ipython"
      }
    }
  },
  "nbformat": 4,
  "nbformat_minor": 2
}