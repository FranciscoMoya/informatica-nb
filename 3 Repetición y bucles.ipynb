{
 "cells": [
  {
   "cell_type": "code",
   "execution_count": null,
   "metadata": {
    "slideshow": {
     "slide_type": "skip"
    }
   },
   "outputs": [],
   "source": [
    "!pip install blockdiag\n",
    "!mkdir diag"
   ]
  },
  {
   "cell_type": "code",
   "execution_count": 5,
   "metadata": {
    "slideshow": {
     "slide_type": "skip"
    }
   },
   "outputs": [],
   "source": [
    "A = B = B1 = B2 = C = None\n",
    "condicion = cond1 = cond2 = True\n",
    "secuencia = []\n",
    "from IPython.display import Image"
   ]
  },
  {
   "cell_type": "markdown",
   "metadata": {
    "collapsed": true,
    "slideshow": {
     "slide_type": "slide"
    }
   },
   "source": [
    "# Repetición\n",
    "\n",
    "## while, for"
   ]
  },
  {
   "cell_type": "markdown",
   "metadata": {
    "slideshow": {
     "slide_type": "slide"
    }
   },
   "source": [
    "# Bucle while\n",
    "\n",
    "* Repite mientras se cumpla la condición."
   ]
  },
  {
   "cell_type": "code",
   "execution_count": 19,
   "metadata": {
    "scrolled": true,
    "slideshow": {
     "slide_type": "skip"
    }
   },
   "outputs": [
    {
     "name": "stdout",
     "output_type": "stream",
     "text": [
      "Overwriting diag/while.bd\n"
     ]
    }
   ],
   "source": [
    "%%file diag/while.bd\n",
    "blockdiag {\n",
    "    A -> IF,B -> C\n",
    "    IF -> B  \n",
    "    \n",
    "    default_fontsize = 24\n",
    "    span_height = 80\n",
    "    default_node_color = \"orange\"\n",
    "    default_group_color = \"lightgray\"\n",
    "    \n",
    "    IF[label=\"Condición\", shape=\"flowchart.condition\", width=170, fontsize=20]    \n",
    "    IF -> B [folded,label=\"True\",fontsize=14]\n",
    "    IF -> C [label=\"False\",fontsize=14]\n",
    "    A -> B [dir=none]\n",
    "    B -> C [style=none]\n",
    "    group { IF; B; }\n",
    "}"
   ]
  },
  {
   "cell_type": "code",
   "execution_count": 20,
   "metadata": {
    "hideCode": false,
    "hidePrompt": false,
    "slideshow": {
     "slide_type": "skip"
    }
   },
   "outputs": [],
   "source": [
    "!blockdiag diag/while.bd"
   ]
  },
  {
   "cell_type": "code",
   "execution_count": 21,
   "metadata": {
    "hideCode": true,
    "hidePrompt": true
   },
   "outputs": [
    {
     "data": {
      "image/png": "[encoded data removed]",
      "text/plain": [
       "<IPython.core.display.Image object>"
      ]
     },
     "execution_count": 21,
     "metadata": {},
     "output_type": "execute_result"
    }
   ],
   "source": [
    "Image(\"diag/while.png\")"
   ]
  },
  {
   "cell_type": "code",
   "execution_count": null,
   "metadata": {},
   "outputs": [],
   "source": [
    "A\n",
    "while condicion:\n",
    "    B\n",
    "C"
   ]
  },
  {
   "cell_type": "markdown",
   "metadata": {
    "slideshow": {
     "slide_type": "slide"
    }
   },
   "source": [
    "# Enumeración exhaustiva\n",
    "\n",
    "* A veces es posible probar **todas las posibilidades**."
   ]
  },
  {
   "cell_type": "code",
   "execution_count": 23,
   "metadata": {},
   "outputs": [],
   "source": [
    "def raiz_cubica(n):\n",
    "    i = 1\n",
    "    while i**3 < n:\n",
    "        i = i + 1\n",
    "\n",
    "    if i**3 == n:\n",
    "        return i"
   ]
  },
  {
   "cell_type": "code",
   "execution_count": 24,
   "metadata": {},
   "outputs": [
    {
     "data": {
      "text/plain": [
       "3"
      ]
     },
     "execution_count": 24,
     "metadata": {},
     "output_type": "execute_result"
    }
   ],
   "source": [
    "raiz_cubica(27)"
   ]
  },
  {
   "cell_type": "markdown",
   "metadata": {
    "slideshow": {
     "slide_type": "slide"
    }
   },
   "source": [
    "# Función de decremento\n",
    "\n",
    "* Transforma variables a entero\n",
    "* Al entrar es **no negativo**\n",
    "* Cuando es $\\leq 0$ sale del bucle\n",
    "* Se decrementa en cada iteración\n"
   ]
  },
  {
   "cell_type": "markdown",
   "metadata": {
    "slideshow": {
     "slide_type": "slide"
    }
   },
   "source": [
    "# Bucle for\n",
    "\n",
    "* Repite sustituyendo variable de control por cada elemento."
   ]
  },
  {
   "cell_type": "code",
   "execution_count": 49,
   "metadata": {
    "scrolled": true,
    "slideshow": {
     "slide_type": "skip"
    }
   },
   "outputs": [
    {
     "name": "stdout",
     "output_type": "stream",
     "text": [
      "Overwriting diag/for.bd\n"
     ]
    }
   ],
   "source": [
    "%%file diag/for.bd\n",
    "blockdiag {\n",
    "    A -> IN -> B -> OUT -> C\n",
    "    \n",
    "    default_fontsize = 24\n",
    "    default_node_color = \"orange\"\n",
    "    default_group_color = \"lightgray\"\n",
    "    \n",
    "    IN[label=\"Para x en ...\", shape=\"flowchart.loopin\", fontsize=20, width=150]    \n",
    "    OUT[label=\"\", shape=\"flowchart.loopout\", width=150]\n",
    "    group { orientation=portrait; IN; B; OUT; }\n",
    "}"
   ]
  },
  {
   "cell_type": "code",
   "execution_count": 50,
   "metadata": {
    "hideCode": false,
    "hidePrompt": false,
    "slideshow": {
     "slide_type": "skip"
    }
   },
   "outputs": [],
   "source": [
    "!blockdiag diag/for.bd"
   ]
  },
  {
   "cell_type": "code",
   "execution_count": 51,
   "metadata": {
    "hideCode": true,
    "hidePrompt": true
   },
   "outputs": [
    {
     "data": {
      "image/png": "[encoded data removed]",
      "text/plain": [
       "<IPython.core.display.Image object>"
      ]
     },
     "execution_count": 51,
     "metadata": {},
     "output_type": "execute_result"
    }
   ],
   "source": [
    "Image(\"diag/for.png\")"
   ]
  },
  {
   "cell_type": "code",
   "execution_count": 47,
   "metadata": {},
   "outputs": [],
   "source": [
    "A\n",
    "for x in secuencia:\n",
    "    B\n",
    "C"
   ]
  },
  {
   "cell_type": "markdown",
   "metadata": {
    "slideshow": {
     "slide_type": "slide"
    }
   },
   "source": [
    "# Enumeración exhaustiva (for)\n",
    "\n",
    "* Si podemos expresar **todas las posibilidades** como secuencia."
   ]
  },
  {
   "cell_type": "code",
   "execution_count": 57,
   "metadata": {},
   "outputs": [],
   "source": [
    "def raiz_cubica(n):\n",
    "    for i in range(n + 1):\n",
    "        if i**3 >= n:\n",
    "            break\n",
    "\n",
    "    if i**3 == n:\n",
    "        return i"
   ]
  },
  {
   "cell_type": "code",
   "execution_count": 58,
   "metadata": {},
   "outputs": [
    {
     "data": {
      "text/plain": [
       "3"
      ]
     },
     "execution_count": 58,
     "metadata": {},
     "output_type": "execute_result"
    }
   ],
   "source": [
    "raiz_cubica(27)"
   ]
  },
  {
   "cell_type": "markdown",
   "metadata": {
    "slideshow": {
     "slide_type": "slide"
    }
   },
   "source": [
    "# Ejemplo 1\n",
    "\n",
    "* Escribe una función `cuadrado` que imprima en pantalla un cuadrado del tamaño que se indica en el argumento. "
   ]
  },
  {
   "cell_type": "code",
   "execution_count": 59,
   "metadata": {},
   "outputs": [],
   "source": [
    "def cuadrado(n):\n",
    "    print('*'*n)\n",
    "    for i in range(n-2):\n",
    "        print('*' + ' '*(n-2) + '*')\n",
    "    print('*'*n)"
   ]
  },
  {
   "cell_type": "code",
   "execution_count": 63,
   "metadata": {},
   "outputs": [
    {
     "name": "stdout",
     "output_type": "stream",
     "text": [
      "***\n",
      "* *\n",
      "***\n"
     ]
    }
   ],
   "source": [
    "cuadrado(3)"
   ]
  },
  {
   "cell_type": "markdown",
   "metadata": {
    "slideshow": {
     "slide_type": "slide"
    }
   },
   "source": [
    "# Ejemplo 2\n",
    "\n",
    "* Escribe una función `cuadrado` que imprima en pantalla un cuadrado del tamaño que se indica en el argumento. "
   ]
  },
  {
   "cell_type": "code",
   "execution_count": 59,
   "metadata": {},
   "outputs": [],
   "source": [
    "def cuadrado(n):\n",
    "    print('*'*n)\n",
    "    for i in range(n-2):\n",
    "        print('*' + ' '*(n-2) + '*')\n",
    "    print('*'*n)"
   ]
  },
  {
   "cell_type": "code",
   "execution_count": 63,
   "metadata": {},
   "outputs": [
    {
     "name": "stdout",
     "output_type": "stream",
     "text": [
      "***\n",
      "* *\n",
      "***\n"
     ]
    }
   ],
   "source": [
    "cuadrado(3)"
   ]
  },
  {
   "cell_type": "markdown",
   "metadata": {
    "hideCode": true,
    "hideOutput": false,
    "slideshow": {
     "slide_type": "slide"
    }
   },
   "source": [
    "# Refinamiento sucesivo\n",
    "\n",
    "* Conjeturar y comprobar\n",
    "  * Enumeración exhaustiva\n",
    "  * **Búsqueda por bisección**\n",
    "  * Método de Newton-Raphson"
   ]
  },
  {
   "cell_type": "code",
   "execution_count": 34,
   "metadata": {
    "scrolled": true,
    "slideshow": {
     "slide_type": "skip"
    }
   },
   "outputs": [
    {
     "name": "stdout",
     "output_type": "stream",
     "text": [
      "Overwriting diag/biseccion.bd\n"
     ]
    }
   ],
   "source": [
    "%%file diag/biseccion.bd\n",
    "blockdiag {\n",
    "    G -> min -> A -> B -> C -> conjetura -> D -> E -> F -> max -> H [dir=none, style=dotted]\n",
    "    \n",
    "    default_fontsize = 24\n",
    "    default_node_color = \"orange\"\n",
    "    default_group_color = \"lightgray\"\n",
    "    \n",
    "    min,max,conjetura [style=none]\n",
    "    A,B,C,D,E,F [label=\"\",width=1]\n",
    "    G,H [shape=none]\n",
    "}"
   ]
  },
  {
   "cell_type": "code",
   "execution_count": 35,
   "metadata": {
    "hideCode": false,
    "hidePrompt": false,
    "slideshow": {
     "slide_type": "skip"
    }
   },
   "outputs": [],
   "source": [
    "!blockdiag diag/biseccion.bd"
   ]
  },
  {
   "cell_type": "code",
   "execution_count": 36,
   "metadata": {
    "hideCode": true,
    "hidePrompt": true
   },
   "outputs": [
    {
     "data": {
      "image/png": "[encoded data removed]",
      "text/plain": [
       "<IPython.core.display.Image object>"
      ]
     },
     "execution_count": 36,
     "metadata": {},
     "output_type": "execute_result"
    }
   ],
   "source": [
    "Image(\"diag/biseccion.png\")"
   ]
  },
  {
   "cell_type": "markdown",
   "metadata": {
    "slideshow": {
     "slide_type": "slide"
    }
   },
   "source": [
    "# Búsqueda por bisección"
   ]
  },
  {
   "cell_type": "code",
   "execution_count": 37,
   "metadata": {},
   "outputs": [],
   "source": [
    "def raiz_cuadrada(x, epsilon):\n",
    "    low = 0.0\n",
    "    high = max(1.0, x)\n",
    "    r = (high + low)/2.0\n",
    "    while abs(r**2 - x) >= epsilon:\n",
    "        if r**2 < x: low = r\n",
    "        else: high = r\n",
    "        r = (high + low)/2.0\n",
    "    return r"
   ]
  },
  {
   "cell_type": "code",
   "execution_count": null,
   "metadata": {},
   "outputs": [],
   "source": []
  },
  {
   "cell_type": "markdown",
   "metadata": {
    "slideshow": {
     "slide_type": "slide"
    }
   },
   "source": [
    "# Límites de representación"
   ]
  },
  {
   "cell_type": "code",
   "execution_count": null,
   "metadata": {},
   "outputs": [],
   "source": [
    "x = 0.0\n",
    "for i in range(10):\n",
    "    x = x + 0.1\n",
    "\n",
    "if x == 1.0:\n",
    "    print(x, '= 1.0')\n",
    "else:\n",
    "    print(x, '!= 1.0')"
   ]
  },
  {
   "cell_type": "markdown",
   "metadata": {
    "slideshow": {
     "slide_type": "slide"
    }
   },
   "source": [
    "# Método de Newton-Raphson\n",
    "\n",
    "* Encontrar las raíces de una función $f(x)$ continua y derivable.  Es decir, $x$ tal que $f(x) = 0$.\n",
    "\n",
    "  * Si $x_i$ conjetura, $x_i - p(x_i)/p'(x_i)$ es mejor conjetura\n",
    "  \n",
    "<img src=\"img/NewtonRaphson.jpg\">\n",
    "\n",
    "Fuente: [NewtonRaphson Wiki](http://newtons.wikia.com/wiki/NewtonRaphson_Wiki)"
   ]
  },
  {
   "cell_type": "markdown",
   "metadata": {
    "slideshow": {
     "slide_type": "slide"
    }
   },
   "source": [
    "# Raíz cuadrada con Newton-Raphson\n",
    "\n",
    "* Sea $f(x) = x^2 - k$"
   ]
  },
  {
   "cell_type": "code",
   "execution_count": 39,
   "metadata": {},
   "outputs": [],
   "source": [
    "def raiz_cuadrada(k, epsilon):\n",
    "    x = k/2.0\n",
    "    while abs(x**2 - k) >= epsilon:\n",
    "        x -= (x**2 - k)/(2*x)\n",
    "    return x"
   ]
  },
  {
   "cell_type": "code",
   "execution_count": 44,
   "metadata": {},
   "outputs": [
    {
     "data": {
      "text/plain": [
       "1.4142135623746899"
      ]
     },
     "execution_count": 44,
     "metadata": {},
     "output_type": "execute_result"
    }
   ],
   "source": [
    "raiz_cuadrada(2,.0000001)"
   ]
  },
  {
   "cell_type": "markdown",
   "metadata": {
    "slideshow": {
     "slide_type": "slide"
    }
   },
   "source": [
    "## Rombo con caracteres ASCII"
   ]
  },
  {
   "cell_type": "code",
   "execution_count": 6,
   "metadata": {},
   "outputs": [],
   "source": [
    "def imprimir_rombo(n):\n",
    "    assert n % 2 == 0, 'El argumento debe ser par'\n",
    "    assert n >= 2, 'El argumento debe ser mayor o igual a 2'\n",
    "    for i in range(n//2):\n",
    "        imprimir_linea_rombo('/', '\\\\', i, n)\n",
    "    for i in reversed(range(n//2)):\n",
    "        imprimir_linea_rombo('\\\\', '/', i, n)\n",
    "\n",
    "def imprimir_linea_rombo(a,b,i,n):\n",
    "    print(' '*(n//2-i-1)+a+' '*(2*i)+b)"
   ]
  },
  {
   "cell_type": "code",
   "execution_count": 7,
   "metadata": {},
   "outputs": [
    {
     "name": "stdout",
     "output_type": "stream",
     "text": [
      "   /\\\n",
      "  /  \\\n",
      " /    \\\n",
      "/      \\\n",
      "\\      /\n",
      " \\    /\n",
      "  \\  /\n",
      "   \\/\n"
     ]
    }
   ],
   "source": [
    "imprimir_rombo(8)"
   ]
  },
  {
   "cell_type": "markdown",
   "metadata": {
    "slideshow": {
     "slide_type": "slide"
    }
   },
   "source": [
    "# Créditos\n",
    "\n",
    "* Extractos de MIT Open Courseware (6.00 [Introduction to Computer Science and Programming](http://ocw.mit.edu/courses/electrical-engineering-and-computer-science/6-00-introduction-to-computer-science-and-programming-fall-2008/)) de Eric Grimson y John Guttag."
   ]
  }
 ],
 "metadata": {
  "celltoolbar": "Slideshow",
  "kernelspec": {
   "display_name": "Python 3",
   "language": "python",
   "name": "python3"
  },
  "language_info": {
   "codemirror_mode": {
    "name": "ipython",
    "version": 3
   },
   "file_extension": ".py",
   "mimetype": "text/x-python",
   "name": "python",
   "nbconvert_exporter": "python",
   "pygments_lexer": "ipython3",
   "version": "3.6.3"
  }
 },
 "nbformat": 4,
 "nbformat_minor": 2
}
