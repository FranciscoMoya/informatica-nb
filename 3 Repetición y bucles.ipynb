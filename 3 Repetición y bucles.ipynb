{
 "cells": [
  {
   "cell_type": "code",
   "execution_count": 1,
   "metadata": {
    "slideshow": {
     "slide_type": "skip"
    }
   },
   "outputs": [],
   "source": [
    "A = B = B1 = B2 = C = None\n",
    "condicion = cond1 = cond2 = True\n",
    "secuencia = []"
   ]
  },
  {
   "cell_type": "markdown",
   "metadata": {
    "collapsed": true,
    "slideshow": {
     "slide_type": "slide"
    }
   },
   "source": [
    "# Repetición\n",
    "\n",
    "## while, for"
   ]
  },
  {
   "attachments": {
    "while.svg": {
     "image/svg+xml": [
      "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"
     ]
    }
   },
   "cell_type": "markdown",
   "metadata": {
    "slideshow": {
     "slide_type": "slide"
    }
   },
   "source": [
    "# Bucle while\n",
    "\n",
    "* Repite mientras se cumpla la condición.\n",
    "\n",
    "![while.svg](attachment:while.svg)"
   ]
  },
  {
   "cell_type": "code",
   "execution_count": null,
   "metadata": {},
   "outputs": [],
   "source": [
    "A\n",
    "while condicion:\n",
    "    B\n",
    "C"
   ]
  },
  {
   "cell_type": "markdown",
   "metadata": {
    "slideshow": {
     "slide_type": "slide"
    }
   },
   "source": [
    "# Enumeración exhaustiva\n",
    "\n",
    "* A veces es posible probar **todas las posibilidades**."
   ]
  },
  {
   "cell_type": "code",
   "execution_count": 23,
   "metadata": {},
   "outputs": [],
   "source": [
    "def raiz_cubica(n):\n",
    "    i = 1\n",
    "    while i**3 < n:\n",
    "        i = i + 1\n",
    "\n",
    "    if i**3 == n:\n",
    "        return i"
   ]
  },
  {
   "cell_type": "code",
   "execution_count": 24,
   "metadata": {},
   "outputs": [
    {
     "data": {
      "text/plain": [
       "3"
      ]
     },
     "execution_count": 24,
     "metadata": {},
     "output_type": "execute_result"
    }
   ],
   "source": [
    "raiz_cubica(27)"
   ]
  },
  {
   "cell_type": "markdown",
   "metadata": {
    "slideshow": {
     "slide_type": "slide"
    }
   },
   "source": [
    "# Función de decremento\n",
    "\n",
    "* Transforma variables a entero\n",
    "* Al entrar es **no negativo**\n",
    "* Cuando es $\\leq 0$ sale del bucle\n",
    "* Se decrementa en cada iteración\n"
   ]
  },
  {
   "attachments": {
    "for.svg": {
     "image/svg+xml": [
      "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"
     ]
    }
   },
   "cell_type": "markdown",
   "metadata": {
    "slideshow": {
     "slide_type": "slide"
    }
   },
   "source": [
    "# Bucle for\n",
    "\n",
    "* Repite sustituyendo variable de control por cada elemento.\n",
    "\n",
    "![for.svg](attachment:for.svg)"
   ]
  },
  {
   "cell_type": "code",
   "execution_count": 47,
   "metadata": {},
   "outputs": [],
   "source": [
    "A\n",
    "for x in secuencia:\n",
    "    B\n",
    "C"
   ]
  },
  {
   "cell_type": "markdown",
   "metadata": {
    "slideshow": {
     "slide_type": "slide"
    }
   },
   "source": [
    "# Enumeración exhaustiva (for)\n",
    "\n",
    "* Si podemos expresar **todas las posibilidades** como secuencia."
   ]
  },
  {
   "cell_type": "code",
   "execution_count": 57,
   "metadata": {},
   "outputs": [],
   "source": [
    "def raiz_cubica(n):\n",
    "    for i in range(n + 1):\n",
    "        if i**3 >= n:\n",
    "            break\n",
    "\n",
    "    if i**3 == n:\n",
    "        return i"
   ]
  },
  {
   "cell_type": "code",
   "execution_count": 58,
   "metadata": {},
   "outputs": [
    {
     "data": {
      "text/plain": [
       "3"
      ]
     },
     "execution_count": 58,
     "metadata": {},
     "output_type": "execute_result"
    }
   ],
   "source": [
    "raiz_cubica(27)"
   ]
  },
  {
   "cell_type": "markdown",
   "metadata": {
    "slideshow": {
     "slide_type": "slide"
    }
   },
   "source": [
    "# Ejemplo 1\n",
    "\n",
    "* Escribe una función `cuadrado` que imprima en pantalla un cuadrado del tamaño que se indica en el argumento. "
   ]
  },
  {
   "cell_type": "code",
   "execution_count": 59,
   "metadata": {},
   "outputs": [],
   "source": [
    "def cuadrado(n):\n",
    "    print('*'*n)\n",
    "    for i in range(n-2):\n",
    "        print('*' + ' '*(n-2) + '*')\n",
    "    print('*'*n)"
   ]
  },
  {
   "cell_type": "code",
   "execution_count": 63,
   "metadata": {},
   "outputs": [
    {
     "name": "stdout",
     "output_type": "stream",
     "text": [
      "***\n",
      "* *\n",
      "***\n"
     ]
    }
   ],
   "source": [
    "cuadrado(3)"
   ]
  },
  {
   "cell_type": "markdown",
   "metadata": {
    "slideshow": {
     "slide_type": "slide"
    }
   },
   "source": [
    "# Ejemplo 2\n",
    "\n",
    "* Escribe una función `cuadrado` que imprima en pantalla un cuadrado del tamaño que se indica en el argumento. "
   ]
  },
  {
   "cell_type": "code",
   "execution_count": 59,
   "metadata": {},
   "outputs": [],
   "source": [
    "def cuadrado(n):\n",
    "    print('*'*n)\n",
    "    for i in range(n-2):\n",
    "        print('*' + ' '*(n-2) + '*')\n",
    "    print('*'*n)"
   ]
  },
  {
   "cell_type": "code",
   "execution_count": 63,
   "metadata": {},
   "outputs": [
    {
     "name": "stdout",
     "output_type": "stream",
     "text": [
      "***\n",
      "* *\n",
      "***\n"
     ]
    }
   ],
   "source": [
    "cuadrado(3)"
   ]
  },
  {
   "attachments": {
    "biseccion.svg": {
     "image/svg+xml": [
      "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"
     ]
    }
   },
   "cell_type": "markdown",
   "metadata": {
    "hideCode": true,
    "hideOutput": false,
    "slideshow": {
     "slide_type": "slide"
    }
   },
   "source": [
    "# Refinamiento sucesivo\n",
    "\n",
    "* Conjeturar y comprobar\n",
    "  * Enumeración exhaustiva\n",
    "  * **Búsqueda por bisección**\n",
    "  * Método de Newton-Raphson\n",
    "  \n",
    "![biseccion.svg](attachment:biseccion.svg)"
   ]
  },
  {
   "cell_type": "markdown",
   "metadata": {
    "slideshow": {
     "slide_type": "slide"
    }
   },
   "source": [
    "# Búsqueda por bisección"
   ]
  },
  {
   "cell_type": "code",
   "execution_count": 37,
   "metadata": {},
   "outputs": [],
   "source": [
    "def raiz_cuadrada(x, epsilon):\n",
    "    low = 0.0\n",
    "    high = max(1.0, x)\n",
    "    r = (high + low)/2.0\n",
    "    while abs(r**2 - x) >= epsilon:\n",
    "        if r**2 < x: low = r\n",
    "        else: high = r\n",
    "        r = (high + low)/2.0\n",
    "    return r"
   ]
  },
  {
   "cell_type": "code",
   "execution_count": null,
   "metadata": {},
   "outputs": [],
   "source": []
  },
  {
   "cell_type": "markdown",
   "metadata": {
    "slideshow": {
     "slide_type": "slide"
    }
   },
   "source": [
    "# Límites de representación"
   ]
  },
  {
   "cell_type": "code",
   "execution_count": null,
   "metadata": {},
   "outputs": [],
   "source": [
    "x = 0.0\n",
    "for i in range(10):\n",
    "    x = x + 0.1\n",
    "\n",
    "if x == 1.0:\n",
    "    print(x, '= 1.0')\n",
    "else:\n",
    "    print(x, '!= 1.0')"
   ]
  },
  {
   "cell_type": "markdown",
   "metadata": {
    "slideshow": {
     "slide_type": "slide"
    }
   },
   "source": [
    "# Método de Newton-Raphson\n",
    "\n",
    "* Encontrar las raíces de una función $f(x)$ continua y derivable.  Es decir, $x$ tal que $f(x) = 0$.\n",
    "\n",
    "  * Si $x_i$ conjetura, $x_i - p(x_i)/p'(x_i)$ es mejor conjetura\n",
    "  \n",
    "<img src=\"img/NewtonRaphson.jpg\">\n",
    "\n",
    "Fuente: [NewtonRaphson Wiki](http://newtons.wikia.com/wiki/NewtonRaphson_Wiki)"
   ]
  },
  {
   "cell_type": "markdown",
   "metadata": {
    "slideshow": {
     "slide_type": "slide"
    }
   },
   "source": [
    "# Raíz cuadrada con Newton-Raphson\n",
    "\n",
    "* Sea $f(x) = x^2 - k$"
   ]
  },
  {
   "cell_type": "code",
   "execution_count": 39,
   "metadata": {},
   "outputs": [],
   "source": [
    "def raiz_cuadrada(k, epsilon):\n",
    "    x = k/2.0\n",
    "    while abs(x**2 - k) >= epsilon:\n",
    "        x -= (x**2 - k)/(2*x)\n",
    "    return x"
   ]
  },
  {
   "cell_type": "code",
   "execution_count": 44,
   "metadata": {},
   "outputs": [
    {
     "data": {
      "text/plain": [
       "1.4142135623746899"
      ]
     },
     "execution_count": 44,
     "metadata": {},
     "output_type": "execute_result"
    }
   ],
   "source": [
    "raiz_cuadrada(2,.0000001)"
   ]
  },
  {
   "cell_type": "markdown",
   "metadata": {
    "slideshow": {
     "slide_type": "slide"
    }
   },
   "source": [
    "## Rombo con caracteres ASCII"
   ]
  },
  {
   "cell_type": "code",
   "execution_count": 6,
   "metadata": {},
   "outputs": [],
   "source": [
    "def imprimir_rombo(n):\n",
    "    assert n % 2 == 0, 'El argumento debe ser par'\n",
    "    assert n >= 2, 'El argumento debe ser mayor o igual a 2'\n",
    "    for i in range(n//2):\n",
    "        imprimir_linea_rombo('/', '\\\\', i, n)\n",
    "    for i in reversed(range(n//2)):\n",
    "        imprimir_linea_rombo('\\\\', '/', i, n)\n",
    "\n",
    "def imprimir_linea_rombo(a,b,i,n):\n",
    "    print(' '*(n//2-i-1)+a+' '*(2*i)+b)"
   ]
  },
  {
   "cell_type": "code",
   "execution_count": 7,
   "metadata": {},
   "outputs": [
    {
     "name": "stdout",
     "output_type": "stream",
     "text": [
      "   /\\\n",
      "  /  \\\n",
      " /    \\\n",
      "/      \\\n",
      "\\      /\n",
      " \\    /\n",
      "  \\  /\n",
      "   \\/\n"
     ]
    }
   ],
   "source": [
    "imprimir_rombo(8)"
   ]
  },
  {
   "cell_type": "markdown",
   "metadata": {
    "slideshow": {
     "slide_type": "slide"
    }
   },
   "source": [
    "# Créditos\n",
    "\n",
    "* Extractos de MIT Open Courseware (6.00 [Introduction to Computer Science and Programming](http://ocw.mit.edu/courses/electrical-engineering-and-computer-science/6-00-introduction-to-computer-science-and-programming-fall-2008/)) de Eric Grimson y John Guttag."
   ]
  },
  {
   "cell_type": "markdown",
   "metadata": {},
   "source": [
    "Archivos auxiliares para generar las imágenes."
   ]
  },
  {
   "cell_type": "code",
   "execution_count": 2,
   "metadata": {
    "scrolled": true,
    "slideshow": {
     "slide_type": "skip"
    }
   },
   "outputs": [
    {
     "name": "stdout",
     "output_type": "stream",
     "text": [
      "Overwriting diag/while.bd\n"
     ]
    }
   ],
   "source": [
    "%%file diag/while.bd\n",
    "blockdiag {\n",
    "    A -> IF,B -> C\n",
    "    IF -> B  \n",
    "    \n",
    "    default_fontsize = 24\n",
    "    span_height = 80\n",
    "    default_node_color = \"orange\"\n",
    "    default_group_color = \"lightgray\"\n",
    "    \n",
    "    IF[label=\"Condición\", shape=\"flowchart.condition\", width=170, fontsize=20]    \n",
    "    IF -> B [folded,label=\"True\",fontsize=14]\n",
    "    IF -> C [label=\"False\",fontsize=14]\n",
    "    A -> B [dir=none]\n",
    "    B -> C [style=none]\n",
    "    group { IF; B; }\n",
    "}"
   ]
  },
  {
   "cell_type": "code",
   "execution_count": 49,
   "metadata": {
    "scrolled": true,
    "slideshow": {
     "slide_type": "skip"
    }
   },
   "outputs": [
    {
     "name": "stdout",
     "output_type": "stream",
     "text": [
      "Overwriting diag/for.bd\n"
     ]
    }
   ],
   "source": [
    "%%file diag/for.bd\n",
    "blockdiag {\n",
    "    A -> IN -> B -> OUT -> C\n",
    "    \n",
    "    default_fontsize = 24\n",
    "    default_node_color = \"orange\"\n",
    "    default_group_color = \"lightgray\"\n",
    "    \n",
    "    IN[label=\"Para x en ...\", shape=\"flowchart.loopin\", fontsize=20, width=150]    \n",
    "    OUT[label=\"\", shape=\"flowchart.loopout\", width=150]\n",
    "    group { orientation=portrait; IN; B; OUT; }\n",
    "}"
   ]
  },
  {
   "cell_type": "code",
   "execution_count": 34,
   "metadata": {
    "scrolled": true,
    "slideshow": {
     "slide_type": "skip"
    }
   },
   "outputs": [
    {
     "name": "stdout",
     "output_type": "stream",
     "text": [
      "Overwriting diag/biseccion.bd\n"
     ]
    }
   ],
   "source": [
    "%%file diag/biseccion.bd\n",
    "blockdiag {\n",
    "    G -> min -> A -> B -> C -> conjetura -> D -> E -> F -> max -> H [dir=none, style=dotted]\n",
    "    \n",
    "    default_fontsize = 24\n",
    "    default_node_color = \"orange\"\n",
    "    default_group_color = \"lightgray\"\n",
    "    \n",
    "    min,max,conjetura [style=none]\n",
    "    A,B,C,D,E,F [label=\"\",width=1]\n",
    "    G,H [shape=none]\n",
    "}"
   ]
  },
  {
   "cell_type": "code",
   "execution_count": 4,
   "metadata": {},
   "outputs": [],
   "source": [
    "!blockdiag -Tsvg diag/while.bd\n",
    "!blockdiag -Tsvg diag/for.bd\n",
    "!blockdiag -Tsvg diag/biseccion.bd"
   ]
  },
  {
   "cell_type": "code",
   "execution_count": null,
   "metadata": {},
   "outputs": [],
   "source": []
  }
 ],
 "metadata": {
  "celltoolbar": "Hide code",
  "kernelspec": {
   "display_name": "Python 3",
   "language": "python",
   "name": "python3"
  },
  "language_info": {
   "codemirror_mode": {
    "name": "ipython",
    "version": 3
   },
   "file_extension": ".py",
   "mimetype": "text/x-python",
   "name": "python",
   "nbconvert_exporter": "python",
   "pygments_lexer": "ipython3",
   "version": "3.6.3"
  }
 },
 "nbformat": 4,
 "nbformat_minor": 2
}
