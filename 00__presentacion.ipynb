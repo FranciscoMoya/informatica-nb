{
  "nbformat": 4,
  "nbformat_minor": 0,
  "metadata": {
    "celltoolbar": "Attachments",
    "kernelspec": {
      "name": "python3",
      "display_name": "Python 3",
      "language": "python"
    },
    "language_info": {
      "mimetype": "text/x-python",
      "nbconvert_exporter": "python",
      "name": "python",
      "pygments_lexer": "ipython3",
      "version": "3.5.4",
      "file_extension": ".py",
      "codemirror_mode": {
        "version": 3,
        "name": "ipython"
      }
    },
    "colab": {
      "name": "0-presentacion.ipynb",
      "provenance": [],
      "collapsed_sections": [],
      "toc_visible": true
    }
  },
  "cells": [
    {
      "cell_type": "markdown",
      "metadata": {
        "id": "0XvuNjaP0xcb"
      },
      "source": [
        "# **Informática 2020 - 2021**\n",
        "# Tema 0. Presentación de la asignatura"
      ]
    },
    {
      "cell_type": "markdown",
      "metadata": {
        "id": "f2of06RZ0xcf"
      },
      "source": [
        "# Información sobre la asignatura\n",
        "\n",
        "* [Guía-e](https://guiae.uclm.es/es/vistaPrevia/26263). La guía-e es un documento vinculante. En la medida que la pandemia lo permita, se seguirá fielmente.\n",
        "\n",
        "* [Libro de texto](https://www.amazon.es/Introduction-Computation-Programming-Python-second-ebook/dp/B08BT7YCSW/ref=sr_1_2?dchild=1&qid=1601246728&refinements=p_27%3AJohn+V.+Guttag&s=digital-text&sr=1-2&text=John+V.+Guttag)\n",
        "\n",
        "## Otros documentos de interés\n",
        "\n",
        "* [Proyecto docente](https://uclm-eiia-to.github.io/informatica/inf-pd-2020.pdf). El proyecto docente puede dar un mayor detalle sobre los aspectos de la asignatura que se pretenden destacar y por qué.  Sin embargo, hay que tomarlo como una declaración de principios y no como un proyecto inamovible.  Por ejemplo, intentamos innovar continuamente en las herramientas empleadas para la docencia y para la evaluación.\n",
        "\n",
        "* [Library Genesis](http://libgen.rs/). Fuente muy completa de recursos electrónicos.  Más detalles [en Wikipedia](https://es.wikipedia.org/wiki/Library_Genesis).\n",
        "\n",
        "\n",
        "# Evaluación\n",
        "\n",
        "La evaluación consta de cuatro partes que es preciso superar.  **Todas ellas deben superarse** para poder dar por superada la asignatura.  Todas ellas pueden recuperarse el día del examen final.\n",
        "\n",
        "1. (25%) Pruebas de seguimiento con contenido teórico-práctico. Tres cuestionarios *online* repartidos en el semestre.\n",
        "\n",
        "2. (25%) Examen de prácticas.  Tras cada bloque de prácticas será preciso resolver un ejercicio en un tiempo limitado para dar por adquiridas las competencias correspondientes.\n",
        "\n",
        "3. (10%) A partir de la mitad del semestre y hasta el día del examen se deberá realizar un trabajo de programación en grupos de como máximo dos personas.\n",
        "\n",
        "4. (40%) En enero se realizará una prueba final con contenido teórico-práctico."
      ]
    },
    {
      "cell_type": "markdown",
      "metadata": {
        "id": "K0F324ic0xch"
      },
      "source": [
        "# Profesorado\n",
        "\n",
        "* **Francisco Moya** <francisco.moya@uclm.es>\n",
        "  * I. Electrónica Industrial y Automática\n",
        "\n",
        "* **Encarnación Moyano** <encarnacion.moyano@uclm.es>\n",
        "  * I. Eléctrica\n",
        "  * I. Aeroespacial"
      ]
    },
    {
      "cell_type": "markdown",
      "metadata": {
        "id": "050a3DlE0xcj"
      },
      "source": [
        "# Objetivos\n",
        "\n",
        "* Pensar como un programador\n",
        "    * Leer programas\n",
        "    * Elaborar algoritmos\n",
        "    * Escribir programas"
      ]
    },
    {
      "cell_type": "markdown",
      "metadata": {
        "id": "52IVVtiu0xcj"
      },
      "source": [
        "# Temario\n",
        "\n",
        "1. Elementos de programación\n",
        "2. Introducción a Python\n",
        "3. Introducción a la arquitectura de computadores\n",
        "4. Abstracción con funciones\n",
        "5. Problemas numéricos sencillos\n",
        "6. Tipos estructurados\n",
        "7. Prueba y depuración\n",
        "8. Excepciones y aserciones\n",
        "9. Complejidad de algoritmos\n",
        "10. Problema de la mochila y optimización de grafos\n",
        "11. Programación dinámica\n",
        "12. Programación orientada a objetos\n",
        "13. Programas estocásticos, probabilidad y estadística\n",
        "14. Casos de estudio"
      ]
    },
    {
      "cell_type": "markdown",
      "metadata": {
        "id": "-VbQpFpJ0xck"
      },
      "source": [
        "# Errores frecuentes\n",
        "\n",
        "* Empezar tarde\n",
        "* Copiar descaradamente\n",
        "* Abandonar pronto"
      ]
    },
    {
      "cell_type": "markdown",
      "metadata": {
        "id": "8H1CF0Ek0xck"
      },
      "source": [
        "# Empieza ahora\n",
        "\n",
        "* Accede a [notebooks.azure.com](https://notebooks.azure.com/) o a [colab.research.google.com](https://colab.research.google.com/) con tu usuario de la UCLM.\n",
        "* Instala Python en tu propio ordenador como se describe [aquí](https://franciscomoya.github.io/informatica-doc/docs/intro.html#instalacion-del-software).\n",
        "* Lee la introducción completa [aquí](https://franciscomoya.github.io/informatica-doc/docs/intro.html)."
      ]
    }
  ]
}