{
  "nbformat": 4,
  "nbformat_minor": 0,
  "metadata": {
    "celltoolbar": "Slideshow",
    "kernelspec": {
      "display_name": "Python 3",
      "language": "python",
      "name": "python3"
    },
    "language_info": {
      "codemirror_mode": {
        "name": "ipython",
        "version": 3
      },
      "file_extension": ".py",
      "mimetype": "text/x-python",
      "name": "python",
      "nbconvert_exporter": "python",
      "pygments_lexer": "ipython3",
      "version": "3.6.3"
    },
    "colab": {
      "name": "00_introduccion.ipynb",
      "provenance": [],
      "collapsed_sections": []
    }
  },
  "cells": [
    {
      "cell_type": "markdown",
      "metadata": {
        "id": "gPTTfQbA2SEv"
      },
      "source": [
        "# **Tema 0. Introducción**\n",
        "# Aprender a programar programando"
      ]
    },
    {
      "cell_type": "markdown",
      "metadata": {
        "id": "FBwdi6lw2SEw"
      },
      "source": [
        "## Hola Mundo"
      ]
    },
    {
      "cell_type": "code",
      "metadata": {
        "id": "_X_h0Brl2SEx",
        "outputId": "57974565-b400-4c26-f1a3-10fa6c1e4893",
        "colab": {
          "base_uri": "https://localhost:8080/",
          "height": 34
        }
      },
      "source": [
        "print('Hola, Mundo')"
      ],
      "execution_count": 1,
      "outputs": [
        {
          "output_type": "stream",
          "text": [
            "Hola, Mundo\n"
          ],
          "name": "stdout"
        }
      ]
    },
    {
      "cell_type": "code",
      "metadata": {
        "id": "y3ram4ur2SE1",
        "outputId": "dfc2b5e1-8308-4e39-9156-668a3630416b",
        "colab": {
          "base_uri": "https://localhost:8080/",
          "height": 34
        }
      },
      "source": [
        "print('Hola,', 'Mundo')"
      ],
      "execution_count": 2,
      "outputs": [
        {
          "output_type": "stream",
          "text": [
            "Hola, Mundo\n"
          ],
          "name": "stdout"
        }
      ]
    },
    {
      "cell_type": "code",
      "metadata": {
        "id": "FjkfKO9j2SE6",
        "outputId": "addefcf3-ac0b-4262-c093-3d87bbcc98cf",
        "colab": {
          "base_uri": "https://localhost:8080/",
          "height": 34
        }
      },
      "source": [
        "print('Hola,', end=' ')\n",
        "print('Mundo')"
      ],
      "execution_count": 3,
      "outputs": [
        {
          "output_type": "stream",
          "text": [
            "Hola, Mundo\n"
          ],
          "name": "stdout"
        }
      ]
    },
    {
      "cell_type": "markdown",
      "metadata": {
        "id": "7JISNCiV2SE8"
      },
      "source": [
        "## Variables"
      ]
    },
    {
      "cell_type": "code",
      "metadata": {
        "id": "gcmOXtDf2SE9",
        "outputId": "21756e7e-8c8c-4306-fa96-00afd2c6b906",
        "colab": {
          "base_uri": "https://localhost:8080/",
          "height": 34
        }
      },
      "source": [
        "persona = 'Paco'\n",
        "print('Hola,', persona)"
      ],
      "execution_count": 4,
      "outputs": [
        {
          "output_type": "stream",
          "text": [
            "Hola, Paco\n"
          ],
          "name": "stdout"
        }
      ]
    },
    {
      "cell_type": "markdown",
      "metadata": {
        "id": "wMn55sDJ2SE_"
      },
      "source": [
        "La memoria del ordenador puede verse como un conjunto de casillas numeradas que pueden contener valores. Estos valores pueden corresponder a números en el programa, o a códigos que representan caracteres o cadenas de texto.\n",
        "\n",
        "Las variables de Python permiten poner nombre a algunas de estas casillas y también podemos indicar qué tipo de valor queremos guardar. Por ejemplo, en este caso la variables pers almacena una cadena de texto. A este tipo de órdenes se les llama sentencias de asignación."
      ]
    },
    {
      "cell_type": "markdown",
      "metadata": {
        "id": "hF1VscdP2SE_"
      },
      "source": [
        "## Ejecución condicional"
      ]
    },
    {
      "cell_type": "markdown",
      "metadata": {
        "id": "7A2scJga2SFA"
      },
      "source": [
        "Las variables permiten escribir expresiones relativamente complejas y hacer que el comportamiento del programa varíe dependiendo del valor de dichas variables. Éste es un ejemplo de sentencia de ejecución condicional."
      ]
    },
    {
      "cell_type": "code",
      "metadata": {
        "id": "KQlt81yt2SFB"
      },
      "source": [
        "if n > 100:\n",
        "    print('Demasiado')"
      ],
      "execution_count": null,
      "outputs": []
    },
    {
      "cell_type": "markdown",
      "metadata": {
        "id": "vAOge_kR2SFD"
      },
      "source": [
        "## Repetición"
      ]
    },
    {
      "cell_type": "markdown",
      "metadata": {
        "id": "-dFAyshc2SFD"
      },
      "source": [
        "Los ordenadores se usan muchas veces para tareas repetitivas. Vamos por ejemplo a escribir la tabla de multiplicar del 3."
      ]
    },
    {
      "cell_type": "code",
      "metadata": {
        "id": "2rbreGcs2SFE",
        "outputId": "d5c223c0-2992-4954-988b-11157439b3af"
      },
      "source": [
        "tabla = 3\n",
        "i = 0\n",
        "while i < 10:\n",
        "    print(tabla,'x',i,'=',tabla*i)\n",
        "    i = i + 1"
      ],
      "execution_count": null,
      "outputs": [
        {
          "output_type": "stream",
          "text": [
            "3 x 0 = 0\n",
            "3 x 1 = 3\n",
            "3 x 2 = 6\n",
            "3 x 3 = 9\n",
            "3 x 4 = 12\n",
            "3 x 5 = 15\n",
            "3 x 6 = 18\n",
            "3 x 7 = 21\n",
            "3 x 8 = 24\n",
            "3 x 9 = 27\n"
          ],
          "name": "stdout"
        }
      ]
    },
    {
      "cell_type": "markdown",
      "metadata": {
        "id": "DnVKq0-O2SFG"
      },
      "source": [
        "## Ejecución paso a paso\n",
        "\n",
        "* Vamos a ejecutar el ejemplo paso a paso."
      ]
    },
    {
      "cell_type": "markdown",
      "metadata": {
        "hideCode": true,
        "hideOutput": false,
        "hidePrompt": true,
        "pixiedust": {
          "displayParams": {}
        },
        "id": "1WTyiT0w2SFG"
      },
      "source": [
        "[Examínalo en Python Tutor](http://pythontutor.com/composingprograms.html#code=tabla%20%3D%203%0Ai%20%3D%200%0Awhile%20i%20%3C%2010%3A%0A%20%20%20%20print%28tabla,%20'x',%20i,%20'%3D',%20tabla*i%29%0A%20%20%20%20i%20%3D%20i%20%2B%201&cumulative=true&curInstr=0&mode=display&origin=composingprograms.js&py=3&rawInputLstJSON=%5B%5D)"
      ]
    },
    {
      "cell_type": "markdown",
      "metadata": {
        "collapsed": true,
        "id": "GodxJgda2SFH"
      },
      "source": [
        "# Concepto de algoritmo"
      ]
    },
    {
      "cell_type": "markdown",
      "metadata": {
        "collapsed": true,
        "id": "CGVIfBiZ2SFH"
      },
      "source": [
        "## Conocimiento declarativo\n",
        "\n",
        "$\\sqrt{x}$ es un $y$ tal que $y\\cdot y = x$"
      ]
    },
    {
      "cell_type": "markdown",
      "metadata": {
        "collapsed": true,
        "id": "pVcCohZv2SFH"
      },
      "source": [
        "## Conocimiento imperativo\n",
        "\n",
        "1. Elige una conjetura $g$\n",
        "1. Si $g\\cdot g \\simeq x$, la respuesta es $g$\n",
        "1. Si no, elegir nueva conjetura $$g = \\frac{g + x/g}{2}$$\n",
        "1. Volver al paso 2"
      ]
    },
    {
      "cell_type": "markdown",
      "metadata": {
        "id": "m-HP7LaT2SFI"
      },
      "source": [
        "## Algoritmo\n",
        "\n",
        "Lista finita de instrucciones que describen un cómputo. \n",
        "\n",
        "Cuando se ejecuta sobre un **conjunto de entradas** que se proporcionan, pasa por un conjunto de **estados** bien definido, y eventualmente **produce una salida**\n"
      ]
    },
    {
      "cell_type": "markdown",
      "metadata": {
        "collapsed": true,
        "id": "PLpEWpbE2SFI"
      },
      "source": [
        "# Programa fijo vs. almacenado\n",
        "\n",
        "<img width=\"30%\" style=\"display:float; width:30%\" src=\"http://1.bp.blogspot.com/-W20rbC9Z2-A/UkXSWVIHNcI/AAAAAAAAAhE/F5B-oSAyYzI/s1600/Garmin-n%C3%BCvi-50LM-5-Inch-Portable-GPS-Navigator-.jpg\" align=\"left\">\n",
        "<img width=\"40%\" style=\"display:float; width:40%\" src=\"https://www.recruitment.guru/wp-content/uploads/2017/09/Computer.jpg\" align=\"right\">"
      ]
    },
    {
      "cell_type": "markdown",
      "metadata": {
        "collapsed": true,
        "id": "t3WJoRGC2SFI"
      },
      "source": [
        "# La tesis de Church - Turing\n",
        "\n",
        "* <img src=\"https://upload.wikimedia.org/wikipedia/commons/thumb/a/ab/Alan_Turing_Aged_16_%28cropped%29.jpg/250px-Alan_Turing_Aged_16_%28cropped%29.jpg\" align=\"right\" style=\"display:float\"> Si una función es **computable**, la máquina de Turing *puede programarse* para computarla.<img src=\"https://upload.wikimedia.org/wikipedia/en/b/bb/Turing_machine_1.JPG\" style=\"display:float-left; width:50%\">"
      ]
    },
    {
      "cell_type": "markdown",
      "metadata": {
        "id": "orOAehlt2SFJ"
      },
      "source": [
        "# La tesis de Church - Turing\n",
        "\n",
        "* Un lenguaje es **Turing complete** si puede usarse para simular la máquina de Turing.\n",
        "\n",
        "  * [Busca con Google](https://www.google.es/search?q=turing+machine+python&rlz=1C1GCEA_enES765ES765&oq=turing+machine+python&aqs=chrome..69i57j69i60.5802j0j8&sourceid=chrome&ie=UTF-8)"
      ]
    },
    {
      "cell_type": "markdown",
      "metadata": {
        "id": "b9fja51p2SFJ"
      },
      "source": [
        "* **Python es Turing Complete**\n",
        "  * ¡Incluso el subconjunto que hemos visto es *Turing complete*!\n",
        "  * Puede representar cualquier función computable"
      ]
    },
    {
      "cell_type": "markdown",
      "metadata": {
        "id": "qmW_zkf72SFJ"
      },
      "source": [
        "# Elementos de un lenguaje de programación\n",
        "\n",
        "* Primitivas\n",
        "  * Palabras reservadas\n",
        "  * Literales\n",
        "  * Operadores infijos\n",
        "* Sintaxis\n",
        "* Semántica estática\n",
        "* Semántica"
      ]
    },
    {
      "cell_type": "markdown",
      "metadata": {
        "id": "fboLZFQY2SFK"
      },
      "source": [
        "# Créditos\n",
        "\n",
        "Extractos de MIT Open Courseware (6.00 [Introduction to Computer Science and Programming](http://ocw.mit.edu/courses/electrical-engineering-and-computer-science/6-00-introduction-to-computer-science-and-programming-fall-2008/)) de Eric Grimson y John Guttag\n"
      ]
    }
  ]
}