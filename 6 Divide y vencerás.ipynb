{
 "cells": [
  {
   "cell_type": "code",
   "execution_count": null,
   "metadata": {
    "hideCode": false,
    "hidePrompt": false,
    "slideshow": {
     "slide_type": "skip"
    }
   },
   "outputs": [],
   "source": [
    "!pip install blockdiag\n",
    "!mkdir diag"
   ]
  },
  {
   "cell_type": "code",
   "execution_count": 189,
   "metadata": {
    "hideCode": false,
    "hidePrompt": true,
    "slideshow": {
     "slide_type": "skip"
    }
   },
   "outputs": [],
   "source": [
    "from IPython.display import Image,SVG"
   ]
  },
  {
   "cell_type": "markdown",
   "metadata": {
    "collapsed": true,
    "hideCode": false,
    "hidePrompt": false,
    "slideshow": {
     "slide_type": "slide"
    }
   },
   "source": [
    "# Divide y vencerás\n",
    "\n",
    "* Complejidad de algoritmos\n",
    "* Estrategia de divide y vencerás\n",
    "* Ejemplos"
   ]
  },
  {
   "cell_type": "markdown",
   "metadata": {
    "collapsed": true,
    "hideCode": false,
    "hidePrompt": false,
    "slideshow": {
     "slide_type": "slide"
    }
   },
   "source": [
    "# Complejidad de algoritmos\n",
    "\n",
    "* Corrección / rendimiento\n",
    "  * ¿Y cuando el rendimiento es parte de la corrección?"
   ]
  },
  {
   "cell_type": "markdown",
   "metadata": {
    "slideshow": {
     "slide_type": "notes"
    }
   },
   "source": [
    "Lo más importante a la hora de realizar un programa es que podamos confiar en los resultados que produzca. Queremos que el balance de nuestra cuenta sea calculado correctamente, que los inyectores de los automóviles faciliten la cantidad correcta de combustible en cada momento, y no queremos que los sistemas operativos fallen o los aviones se estrellen.\n",
    "\n",
    "Pero a veces la corrección es tan importante como el rendimiento, de hecho el rendimiento puede ser parte de la corrección.  Es el caso de los sistemas de tiempo real, en los que la respuesta debe estar disponible dentro de unos márgenes de tiempo estricto."
   ]
  },
  {
   "cell_type": "markdown",
   "metadata": {
    "collapsed": true,
    "hideCode": false,
    "hidePrompt": false,
    "slideshow": {
     "slide_type": "slide"
    }
   },
   "source": [
    "# ¿Cuánto tarda?\n",
    "\n",
    "Depende de:\n",
    " * Ordenador\n",
    " * Python\n",
    " * **Entrada**"
   ]
  },
  {
   "cell_type": "code",
   "execution_count": null,
   "metadata": {},
   "outputs": [],
   "source": [
    "def fact(n):\n",
    "    ret = 1\n",
    "    while i > 1:\n",
    "        ret *= n\n",
    "        n -= 1\n",
    "    return ret"
   ]
  },
  {
   "cell_type": "markdown",
   "metadata": {
    "slideshow": {
     "slide_type": "notes"
    }
   },
   "source": [
    "Para saber cuánto tarda podemos ejecutar el programa para un conjunto de entradas determinado y medir cuánto tarda, pero no sería particularmente informativo porque depende de:\n",
    "* El modelo y velocidad del ordenador que ejecuta el programa\n",
    "* De la implementación concreta del intérprete de Python\n",
    "* De la entrada proporcionada\n",
    "\n",
    "Los dos primeros pueden soslayarse si usamos una representación más abstracta del tiempo, el paso de ejecución.  Se trata de cualquier operación que tarda un tiempo fijo (una operación aritmética, la asociación de un valor a un nombre, ejecutar una comparación, o acceder a un objeto de la memoria).  Por simplicidad utilizaremos un modelo de máquina de acceso aleatorio, en la que los pasos se ejecutan en secuencia y los accesos a cualquier objeto tardan lo mismo.  Hoy en día sería más correcto un modelo de máquina de acceso aleatorio paralela, pero complicaría demasiado el análisis y en términos cualitativos no supone diferencia significativa."
   ]
  },
  {
   "cell_type": "markdown",
   "metadata": {
    "collapsed": true,
    "hideCode": false,
    "hidePrompt": false,
    "slideshow": {
     "slide_type": "subslide"
    }
   },
   "source": [
    "## Depende de valores \n",
    "\n",
    "Tres casos:\n",
    "* Caso mejor\n",
    "* Caso peor\n",
    "* Caso típico"
   ]
  },
  {
   "cell_type": "code",
   "execution_count": null,
   "metadata": {},
   "outputs": [],
   "source": [
    "def buscar(L, x):\n",
    "    for e in L:\n",
    "        if e == x:\n",
    "            return True\n",
    "    return False"
   ]
  },
  {
   "cell_type": "markdown",
   "metadata": {
    "slideshow": {
     "slide_type": "notes"
    }
   },
   "source": [
    "El tiempo de ejecución de un algoritmo no solo depende del tamaño de las entradas sino de los propios valores.  Considera el caso de la transparencia que corresponde  a una búsqueda lineal. L puede tener un millón de elementos, pero ¿qué pasaría si el primer elemento coincide con x? Devolvería True de manera inmediata.  En cambio si el valor de x no está en L la función tendrá que examinar un millón de elementos antes de devolver False.\n",
    "\n",
    "Hay tres grandes casos que examinar:\n",
    "* El caso mejor, aquél en el que el algoritmo tardaría menos tiempo porque las entradas son tan favorables como sea posible. Por ejemplo, para la búsqueda lineal de la transparencia el caso mejor no depende del tamaño de L.\n",
    "* El caso peor, que corresponde al tiempo de ejecución mayor que puede darse.  Para la función buscar sería lineal respecto al tamaño de la lista.\n",
    "* El caso típico, caso medio, o caso esperado. Normalmente será la media de los tiempos de ejecución para todas las entradas posibles del mismo tamaño.  Si se tiene información a priori de la distribución de los valores de entrada puede tenerse en cuenta en el cálculo. Por ejemplo, *el 90% de las veces x está en L*.\n",
    "\n",
    "El caso peor define una cota superior, y por tanto suele ser donde se concentra el interés de los ingenieros. No nos vale que un avión funcione la mayor parte de las veces, o que el sistema de control aéreo detecte posibles colisiones después de que se han producido."
   ]
  },
  {
   "cell_type": "markdown",
   "metadata": {
    "collapsed": true,
    "hideCode": false,
    "hidePrompt": false,
    "slideshow": {
     "slide_type": "subslide"
    }
   },
   "source": [
    "## Calculemos\n",
    "\n",
    "* Asignación inicial y `return`: 2\n",
    "* Bucle:\n",
    "  * Comparación: 1\n",
    "  * Multiplicación y asignación: 2\n",
    "  * Resta y asignación: 2"
   ]
  },
  {
   "cell_type": "code",
   "execution_count": 19,
   "metadata": {},
   "outputs": [],
   "source": [
    "def fact(n):\n",
    "    ret = 1\n",
    "    while i > 1:\n",
    "        ret *= n\n",
    "        n -= 1\n",
    "    return ret"
   ]
  },
  {
   "cell_type": "markdown",
   "metadata": {
    "slideshow": {
     "slide_type": "notes"
    }
   },
   "source": [
    "El número de pasos que ejecuta el algoritmo de cálculo del factorial de $n$ es de $2 + 5n$.  Los 2 corresponden a la primera asignación y al `return`. En cada iteración se ejecutan 5 pasos (uno de la comparación, y dos de cada una de las asignaciones). Las asignaciones del bucle requieren realizar una operación aritmética y luego asociar el nombre.\n",
    "\n",
    "Sin embargo la constante sumativa puede ser ignorada para casi cualquier n a partir de un valor de unos 4. El valor exacto sería $4\\cdot 5 + 2 = 22$, y despreciando la constante sería menos de un 10% inferior. Cuando $n$ es grande, que es cuando el uso de un ordenador empieza a ser interesante, la diferencia es francamente despreciable."
   ]
  },
  {
   "cell_type": "code",
   "execution_count": 54,
   "metadata": {
    "hideCode": false,
    "hidePrompt": false,
    "slideshow": {
     "slide_type": "skip"
    }
   },
   "outputs": [],
   "source": [
    "% matplotlib inline\n",
    "import matplotlib.pyplot as plt\n",
    "import numpy as np\n",
    "import math\n",
    "plt.rc('figure', figsize = [10,6])\n",
    "plt.rc('font', size = 24)"
   ]
  },
  {
   "cell_type": "markdown",
   "metadata": {
    "slideshow": {
     "slide_type": "subslide"
    }
   },
   "source": [
    "No importan las constantes que se suman a un término que depende de $n$."
   ]
  },
  {
   "cell_type": "code",
   "execution_count": 60,
   "metadata": {
    "hideCode": false,
    "hidePrompt": false,
    "slideshow": {
     "slide_type": "-"
    }
   },
   "outputs": [
    {
     "data": {
      "image/png": "[encoded data removed]",
      "text/plain": [
       "<Figure size 720x432 with 1 Axes>"
      ]
     },
     "metadata": {},
     "output_type": "display_data"
    }
   ],
   "source": [
    "n = np.linspace(0, 10, 10)\n",
    "plt.plot(n, 5*n,   '-^', label='$5n$') \n",
    "plt.plot(n, 5*n+2, '-^', label='$5n + 2$')\n",
    "plt.legend(bbox_to_anchor=(1.05, 1), loc=2, borderaxespad=0.)\n",
    "plt.show()"
   ]
  },
  {
   "cell_type": "markdown",
   "metadata": {
    "collapsed": true,
    "hideCode": false,
    "hidePrompt": false,
    "slideshow": {
     "slide_type": "subslide"
    }
   },
   "source": [
    "## Calculemos (raíz, enumeración exhaustiva)\n",
    "\n",
    "* Despreciamos lo que está fuera del bucle\n",
    "* Bucle: $\\sim O(6n)$, donde $n = x/\\epsilon$\n",
    "  * Multiplicación, resta, valor absoluto y comparación: 4\n",
    "  * Suma y asignación: 2"
   ]
  },
  {
   "cell_type": "code",
   "execution_count": 19,
   "metadata": {},
   "outputs": [],
   "source": [
    "def raiz(x, epsilon):\n",
    "    inc = epsilon**2\n",
    "    r = 0.\n",
    "    while abs(r*r - x) >= epsilon:\n",
    "        r += inc\n",
    "    if r*r > x:\n",
    "        raise ValueError\n",
    "    return r"
   ]
  },
  {
   "cell_type": "markdown",
   "metadata": {
    "collapsed": true,
    "hideCode": false,
    "hidePrompt": false,
    "slideshow": {
     "slide_type": "subslide"
    }
   },
   "source": [
    "## Calculemos (raíz, bisección)\n",
    "\n",
    "* Despreciamos lo que está fuera del bucle\n",
    "* Bucle: $\\sim O(10\\log_2 n)$, donde $n = x/\\epsilon$\n",
    "  * Multiplicación, resta, valor absoluto y comparación: 4\n",
    "  * Multiplicación y comparación: 2\n",
    "  * Asignación: 1\n",
    "  * Suma, división y asignación: 3"
   ]
  },
  {
   "cell_type": "code",
   "execution_count": 19,
   "metadata": {},
   "outputs": [],
   "source": [
    "def raizBi(x, epsilon):\n",
    "    low = 0.0\n",
    "    high = max(1.0, x)\n",
    "    r = (high + low)/2.0\n",
    "    while abs(r*r - x) >= epsilon:\n",
    "        if r*r < x: low = r\n",
    "        else: high = r\n",
    "        r = (high + low)/2.0\n",
    "    return r"
   ]
  },
  {
   "cell_type": "markdown",
   "metadata": {
    "slideshow": {
     "slide_type": "subslide"
    }
   },
   "source": [
    "## Comparando algoritmos\n",
    "\n",
    "* No importan las constantes multiplicativas en un término que depende de $n$"
   ]
  },
  {
   "cell_type": "code",
   "execution_count": 73,
   "metadata": {
    "hideCode": false,
    "hidePrompt": false,
    "slideshow": {
     "slide_type": "subslide"
    }
   },
   "outputs": [
    {
     "data": {
      "image/png": "[encoded data removed]",
      "text/plain": [
       "<Figure size 720x432 with 1 Axes>"
      ]
     },
     "metadata": {},
     "output_type": "display_data"
    }
   ],
   "source": [
    "n = np.linspace(1, 1000, 1000)\n",
    "plt.plot(n, 6*n,           label='$6n$') \n",
    "plt.plot(n, 10*np.log2(n), label='$10\\log_2 n$')\n",
    "plt.plot(n, np.log2(n), label='$\\log_2 n$')\n",
    "#plt.plot(n, np.log(n), label='$\\log n$')\n",
    "plt.legend(bbox_to_anchor=(1.05, 1), loc=2, borderaxespad=0.)\n",
    "plt.show()"
   ]
  },
  {
   "cell_type": "code",
   "execution_count": 76,
   "metadata": {
    "slideshow": {
     "slide_type": "skip"
    }
   },
   "outputs": [
    {
     "data": {
      "text/html": [
       "<style>\n",
       ".rendered_html table, .rendered_html th, .rendered_html tr, .rendered_html td {\n",
       "     font-size: 100%;\n",
       "}\n",
       "</style>"
      ],
      "text/plain": [
       "<IPython.core.display.HTML object>"
      ]
     },
     "metadata": {},
     "output_type": "display_data"
    }
   ],
   "source": [
    "%%HTML\n",
    "<style>\n",
    ".rendered_html table, .rendered_html th, .rendered_html tr, .rendered_html td {\n",
    "     font-size: 100%;\n",
    "}\n",
    "</style>"
   ]
  },
  {
   "cell_type": "markdown",
   "metadata": {
    "collapsed": true,
    "hideCode": false,
    "hidePrompt": false,
    "slideshow": {
     "slide_type": "slide"
    }
   },
   "source": [
    "# Aproximación asintótica (*big O*)\n",
    "\n",
    "* Si $t = t_1 + t_2$\n",
    "  * Solo el de mayor tasa de crecimiento\n",
    "* Si $t = k\\cdot t_1 \\cdot t_2$\n",
    "  * Sin constantes\n",
    "\n",
    "| BigO | Nombre |\n",
    "| :- |:---|\n",
    "| $O(1)$ | Constante |\n",
    "| $O(\\log n)$ | Logarítmico |\n",
    "| $O(n)$ | Lineal |\n",
    "| $O(n\\log n)$ | Log-lineal |\n",
    "| $O(n^k)$ | Polinómico |\n",
    "| $O(e^n)$ | Exponencial |"
   ]
  },
  {
   "cell_type": "markdown",
   "metadata": {
    "collapsed": true,
    "hideCode": false,
    "hidePrompt": false,
    "slideshow": {
     "slide_type": "slide"
    }
   },
   "source": [
    "# Gráficas en Python\n",
    "\n",
    "Ejemplo de gráfica:"
   ]
  },
  {
   "cell_type": "code",
   "execution_count": 79,
   "metadata": {},
   "outputs": [
    {
     "data": {
      "image/png": "[encoded data removed]",
      "text/plain": [
       "<Figure size 432x288 with 1 Axes>"
      ]
     },
     "metadata": {},
     "output_type": "display_data"
    }
   ],
   "source": [
    "%matplotlib inline\n",
    "import matplotlib.pyplot as plt\n",
    "import numpy as np\n",
    "\n",
    "t = np.linspace(0, 10, 400)\n",
    "plt.plot(t, np.sin(t), t, np.cos(t))\n",
    "plt.show()"
   ]
  },
  {
   "cell_type": "markdown",
   "metadata": {
    "collapsed": true,
    "hideCode": false,
    "hidePrompt": false,
    "slideshow": {
     "slide_type": "slide"
    }
   },
   "source": [
    "# Divide y vencerás\n",
    "\n",
    "* Si el problema es fácil, resolverlo\n",
    "* Si es difícil, dividirlo en partes más pequeñas\n",
    "\n"
   ]
  },
  {
   "cell_type": "markdown",
   "metadata": {
    "slideshow": {
     "slide_type": "subslide"
    }
   },
   "source": [
    "# Ejemplos\n",
    "\n",
    "* Encontrar el coche en un parking\n",
    "* Buscar un nombre en la guía\n",
    "* Encontrar la salida de un hotel"
   ]
  },
  {
   "cell_type": "markdown",
   "metadata": {
    "slideshow": {
     "slide_type": "subslide"
    }
   },
   "source": [
    "## Estrategia de EncontrarSalida\n",
    "\n",
    "* Prueba con la puerta a tu lado\n",
    "* Si no es la salida, avanza a la siguiente puerta y reintenta la estrategia `EncontrarSalida`"
   ]
  },
  {
   "cell_type": "markdown",
   "metadata": {
    "slideshow": {
     "slide_type": "subslide"
    }
   },
   "source": [
    "## Elementos de la solución\n",
    "\n",
    "* Intentar solución directa\n",
    "  * *Comprobar puerta a tu lado*\n",
    "* Si no funciona → misma estrategia, problema más pequeño\n",
    "  * *Avanzar a la siguiente puerta*\n"
   ]
  },
  {
   "cell_type": "markdown",
   "metadata": {
    "slideshow": {
     "slide_type": "slide"
    }
   },
   "source": [
    "# Ejemplo: $x^n$\n",
    "\n",
    "Solución directa, $O(n)$"
   ]
  },
  {
   "cell_type": "code",
   "execution_count": 1,
   "metadata": {
    "slideshow": {
     "slide_type": "subslide"
    }
   },
   "outputs": [],
   "source": [
    "def pot(x, n):\n",
    "    res = 1\n",
    "    for i in range(n):\n",
    "        res *= x\n",
    "    return res"
   ]
  },
  {
   "cell_type": "markdown",
   "metadata": {
    "slideshow": {
     "slide_type": "subslide"
    }
   },
   "source": [
    "# Ejemplo: $x^n$\n",
    "\n",
    "Divide y vencerás, dos casos, $O(\\log n)$\n",
    " * $x_{n/2} \\cdot x_{n/2}$ si $n$ es par\n",
    " * $x_{(n-1)/2} \\cdot x_{(n-1)/2} \\cdot x$ si $n$ es impar"
   ]
  },
  {
   "cell_type": "code",
   "execution_count": 16,
   "metadata": {
    "slideshow": {
     "slide_type": "-"
    }
   },
   "outputs": [],
   "source": [
    "def pot(x, n):\n",
    "    if n == 1: return x\n",
    "    if n % 2 == 0:\n",
    "        y = pot(x, n//2)\n",
    "        return y*y\n",
    "    y = pot(x, (n-1)//2)\n",
    "    return y*y*x"
   ]
  },
  {
   "cell_type": "markdown",
   "metadata": {
    "slideshow": {
     "slide_type": "subslide"
    }
   },
   "source": [
    "# Ejemplo: Números de Fibonacci\n",
    "\n",
    "Algoritmo trivial recursivo, $O(\\Phi^n)$"
   ]
  },
  {
   "cell_type": "code",
   "execution_count": 3,
   "metadata": {
    "slideshow": {
     "slide_type": "-"
    }
   },
   "outputs": [],
   "source": [
    "def fib(n):\n",
    "    '''Asume n entero positivo\n",
    "     Retorna el término n de la sucesión de Fibonacci'''\n",
    "    if (n<2): return 1\n",
    "    return fib(n-1) + fib(n-2)\n"
   ]
  },
  {
   "cell_type": "markdown",
   "metadata": {
    "slideshow": {
     "slide_type": "subslide"
    }
   },
   "source": [
    "# Ejemplo: Números de Fibonacci\n",
    "\n",
    "Algoritmo *bottom-up*, $O(n)$"
   ]
  },
  {
   "cell_type": "code",
   "execution_count": 3,
   "metadata": {
    "slideshow": {
     "slide_type": "-"
    }
   },
   "outputs": [],
   "source": [
    "def fib(n):\n",
    "    f = [ 0, 1 ]\n",
    "    for i in range(2, n+1):\n",
    "        f.append(f[i-1]+f[i-2])\n",
    "    return f[-1]"
   ]
  },
  {
   "cell_type": "markdown",
   "metadata": {
    "slideshow": {
     "slide_type": "subslide"
    }
   },
   "source": [
    "# Ejemplo: Números de Fibonacci\n",
    "\n",
    "Algoritmo trivial con potencia de GR, $O(\\log n)$\n",
    "* Problemas con recondeos en operaciones con reales"
   ]
  },
  {
   "cell_type": "code",
   "execution_count": 14,
   "metadata": {
    "slideshow": {
     "slide_type": "-"
    }
   },
   "outputs": [],
   "source": [
    "def fib(n):\n",
    "    from math import sqrt\n",
    "    sq5 = sqrt(5)\n",
    "    phi = (sq5 + 1.)/2.\n",
    "    return round(pot(phi, n)/sq5, 0)"
   ]
  },
  {
   "cell_type": "markdown",
   "metadata": {
    "slideshow": {
     "slide_type": "subslide"
    }
   },
   "source": [
    "# Ejemplo: Números de Fibonacci\n",
    "\n",
    "Algoritmo con potencia de matrices, $O(\\log n)$\n",
    "$$\n",
    "\\begin{bmatrix}\n",
    "    F_{n+1} & F_n \\\\\n",
    "    F_n & F_{n-1} \n",
    "\\end{bmatrix}\n",
    "=\n",
    "\\begin{bmatrix}\n",
    "    1 & 1 \\\\\n",
    "    1 & 0 \n",
    "\\end{bmatrix}^n\n",
    "$$"
   ]
  },
  {
   "cell_type": "code",
   "execution_count": 5,
   "metadata": {
    "slideshow": {
     "slide_type": "-"
    }
   },
   "outputs": [],
   "source": [
    "def fib(n):\n",
    "    if n<2: return n\n",
    "    return pot([1, 1, 1, 0], n-1)[0]"
   ]
  },
  {
   "cell_type": "markdown",
   "metadata": {
    "slideshow": {
     "slide_type": "subslide"
    }
   },
   "source": [
    "## Potencia de matrices 2x2\n",
    "\n",
    "Mismo algoritmo de la potencia normal, pero con matrices"
   ]
  },
  {
   "cell_type": "code",
   "execution_count": 8,
   "metadata": {
    "slideshow": {
     "slide_type": "-"
    }
   },
   "outputs": [],
   "source": [
    "def pot(x, n):\n",
    "    if n == 0: return [1, 0, 0, 1 ]\n",
    "    if n == 1: return x\n",
    "    if n % 2 == 0:\n",
    "        y = pot(x, n//2)\n",
    "        return mul(y,y)\n",
    "    y = pot(x, (n-1)//2)\n",
    "    return mul(mul(y,y),x)"
   ]
  },
  {
   "cell_type": "markdown",
   "metadata": {
    "slideshow": {
     "slide_type": "subslide"
    }
   },
   "source": [
    "## Multiplicar matrices 2x2"
   ]
  },
  {
   "cell_type": "code",
   "execution_count": 9,
   "metadata": {
    "slideshow": {
     "slide_type": "-"
    }
   },
   "outputs": [],
   "source": [
    "def mul(a,b):\n",
    "    return (dot(a[0:2],b[0:4:2]),\n",
    "            dot(a[0:2],b[1:4:2]),\n",
    "            dot(a[2:4],b[0:4:2]),\n",
    "            dot(a[2:4],b[1:4:2]))\n",
    "\n",
    "def dot(a,b):\n",
    "      return a[0]*b[0]+a[1]*b[1]"
   ]
  },
  {
   "cell_type": "markdown",
   "metadata": {
    "slideshow": {
     "slide_type": "slide"
    }
   },
   "source": [
    "## Multiplicar matrices $n\\times n$\n",
    "\n",
    "Para cada elemento de la matriz resultado hay que multiplicar $n\\times n$ elementos.\n",
    "$$ c_{ij} = \\sum_k a_{ik} b_{kj} $$"
   ]
  },
  {
   "cell_type": "markdown",
   "metadata": {
    "slideshow": {
     "slide_type": "subslide"
    }
   },
   "source": [
    "## Multiplicar matrices $n\\times n$\n",
    "\n",
    "Algoritmo trivial, $O(n^3)$"
   ]
  },
  {
   "cell_type": "code",
   "execution_count": 41,
   "metadata": {
    "slideshow": {
     "slide_type": "-"
    }
   },
   "outputs": [],
   "source": [
    "def mul(a,b):\n",
    "    n = len(a)\n",
    "    c = tuple(tuple(0 for i in range(n)) for j in range(n))\n",
    "    for i in range(n):\n",
    "        for j in range(n):\n",
    "            for k in range(n):\n",
    "                c[i][j] += a[i][k]*b[k][j]\n",
    "    return c"
   ]
  },
  {
   "cell_type": "markdown",
   "metadata": {
    "slideshow": {
     "slide_type": "subslide"
    }
   },
   "source": [
    "## Multiplicar matrices $n\\times n$\n",
    "\n",
    "Algoritmo de divide y vencerás, descomponiendo en matrices $\\frac{n}{2} \\times \\frac{n}{2}$\n",
    "\n",
    "$$\n",
    "\\begin{bmatrix}\n",
    "    A_{11} & A_{12} \\\\\n",
    "    A_{21} & A_{22} \n",
    "\\end{bmatrix}\n",
    "\\begin{bmatrix}\n",
    "    B_{11} & B_{12} \\\\\n",
    "    B_{21} & B_{22} \n",
    "\\end{bmatrix}\n",
    "=\n",
    "\\begin{bmatrix}\n",
    "    C_{11} & C_{12} \\\\\n",
    "    C_{21} & C_{22} \n",
    "\\end{bmatrix}\\\\ ~ \\\\\n",
    "C_{11} = A_{11}B_{11} + A_{12}B_{21} \\\\\n",
    "C_{12} = A_{11}B_{12} + A_{12}B_{22} \\\\\n",
    "C_{21} = A_{21}B_{11} + A_{22}B_{21} \\\\\n",
    "C_{22} = A_{21}B_{12} + A_{22}B_{22}\n",
    "$$\n",
    "\n",
    "8 productos de $\\frac{n}{2} \\times \\frac{n}{2}$:\n",
    "\n",
    "$ T(n) \\sim 8T(n/2) + O(n^2) \\sim O(n^{\\log_2 8}) = O(n^3) $"
   ]
  },
  {
   "cell_type": "code",
   "execution_count": 68,
   "metadata": {
    "slideshow": {
     "slide_type": "subslide"
    }
   },
   "outputs": [],
   "source": [
    "def mul(A,B):\n",
    "    assert len(A) == len(A[0]) == len(B) == len(B[0])\n",
    "    if len(A) == 1:\n",
    "        return ((A[0][0] * B[0][0],),)\n",
    "    assert len(A) % 2 == 0\n",
    "    A11, A12, A21, A22 = split(A)\n",
    "    B11, B12, B21, B22 = split(B)\n",
    "    C11 = mul(A11,B11) + mul(A12,B21)\n",
    "    C12 = mul(A11,B12) + mul(A12,B22)\n",
    "    C21 = mul(A21,B11) + mul(A22,B21)\n",
    "    C22 = mul(A21,B12) + mul(A22,B22)\n",
    "    return merge(C11, C12, C21, C22)\n",
    "\n",
    "def split(M):\n",
    "    mid = len(M) // 2\n",
    "    return  tuple(a[:mid] for a in M[:mid]), \\\n",
    "            tuple(a[mid:] for a in M[:mid]), \\\n",
    "            tuple(a[:mid] for a in M[mid:]), \\\n",
    "            tuple(a[mid:] for a in M[mid:])\n",
    "\n",
    "def merge(M11, M12, M21, M22):\n",
    "    return tuple( a + b for a,b in zip(M11 + M21, M12 + M22) )    "
   ]
  },
  {
   "cell_type": "code",
   "execution_count": 69,
   "metadata": {},
   "outputs": [
    {
     "data": {
      "text/plain": [
       "((1, 0), (0, 1), (0, 0), (0, 1))"
      ]
     },
     "execution_count": 69,
     "metadata": {},
     "output_type": "execute_result"
    }
   ],
   "source": [
    "mul(((1,1),(0,1)), ((1,0),(0,1)))"
   ]
  },
  {
   "cell_type": "markdown",
   "metadata": {
    "slideshow": {
     "slide_type": "subslide"
    }
   },
   "source": [
    "## Multiplicar matrices $n\\times n$\n",
    "\n",
    "Algoritmo de Strassen, descomponiendo en matrices $\\frac{n}{2} \\times \\frac{n}{2}$\n",
    "\n",
    "$$\n",
    "\\begin{align}\n",
    "M_1 &= (A_{11}+ A_{22})\\cdot (B_{11}+ B_{22}) \\\\\n",
    "M_2 &= (A_{21}+ A_{22}) \\cdot B_{11} \\\\\n",
    "M_3 &= A_{11} \\cdot (B_{12}- B_{22}) \\\\\n",
    "M_4 &= A_{22} \\cdot (B_{21}- B_{11}) \\\\\n",
    "M_5 &= (A_{11}+ A_{12}) \\cdot B_{22} \\\\\n",
    "M_6 &= (A_{21}- A_{11}) \\cdot (B_{11}+ B_{12}) \\\\\n",
    "M_7 &= (A_{12}- A_{22}) \\cdot (B_{21}+ B_{22}) \\\\\n",
    "\\end{align}\n",
    "$$\n",
    "\n",
    "$$\n",
    "\\begin{align}\n",
    "C_{11} &= M_1+ M_4- M_5+ M_7 \\\\\n",
    "C_{12} &= M_3+ M_5 \\\\\n",
    "C_{21} &= M_2+ M_4 \\\\\n",
    "C_{22} &= M_1- M_2+ M_3+ M_6 \\\\\n",
    "\\end{align}\n",
    "$$\n",
    "\n",
    "7 productos de $\\frac{n}{2} \\times \\frac{n}{2}$:\n",
    "\n",
    "$ T(n) \\sim 7T(n/2) + O(n^2) \\sim O(n^{2.8074})$"
   ]
  },
  {
   "cell_type": "code",
   "execution_count": 70,
   "metadata": {
    "slideshow": {
     "slide_type": "subslide"
    }
   },
   "outputs": [],
   "source": [
    "def mul(A,B):\n",
    "    assert len(A) == len(A[0]) == len(B) == len(B[0])\n",
    "    if len(A) == 1:\n",
    "        return ((A[0][0] * B[0][0],),)\n",
    "    assert len(A) % 2 == 0\n",
    "    A11, A12, A21, A22 = split(A)\n",
    "    B11, B12, B21, B22 = split(B)\n",
    "    M1 = mul(add(A11,A22), add(B11,B22))\n",
    "    M2 = mul(add(A21,A22), B11)\n",
    "    M3 = mul(A11, sub(B12, B22))\n",
    "    M4 = mul(A22, sub(B21, B11))\n",
    "    M5 = mul(add(A11,A12), B22)\n",
    "    M6 = mul(sub(A21,A11), add(B11,B12))\n",
    "    M7 = mul(sub(A11,A22), add(B21,B22))\n",
    "    C11 = add(sub(add(M1, M4), M5), M7)\n",
    "    C12 = add(M3, M5)\n",
    "    C21 = add(M2, M4)\n",
    "    C22 = add(add(sub(M1, M2), M3), M6)\n",
    "    return merge(C11, C12, C21, C22)\n",
    "\n",
    "def add(A,B):\n",
    "    return tuple(tuple(a+b for a,b in zip(Ai,Bi)) for Ai,Bi in zip(A,B))\n",
    "\n",
    "def sub(A,B):\n",
    "    return tuple(tuple(a-b for a,b in zip(Ai,Bi)) for Ai,Bi in zip(A,B))"
   ]
  },
  {
   "cell_type": "code",
   "execution_count": 72,
   "metadata": {},
   "outputs": [
    {
     "data": {
      "text/plain": [
       "((2, 2), (0, 2))"
      ]
     },
     "execution_count": 72,
     "metadata": {},
     "output_type": "execute_result"
    }
   ],
   "source": [
    "mul(((1,1),(0,1)), ((2,0),(0,2)))"
   ]
  },
  {
   "cell_type": "markdown",
   "metadata": {
    "slideshow": {
     "slide_type": "slide"
    }
   },
   "source": [
    "# Torres de Hanoi\n",
    "\n",
    "<img src=\"https://upload.wikimedia.org/wikipedia/commons/0/07/Tower_of_Hanoi.jpeg\">\n",
    "\n",
    "Mover $n$ discos del palo $A$ hasta el palo $B$. Mas detalles en [este cuaderno](hanoi.ipynb)."
   ]
  },
  {
   "cell_type": "markdown",
   "metadata": {
    "slideshow": {
     "slide_type": "slide"
    }
   },
   "source": [
    "## Torres de Hanoi con divide y vencerás\n",
    "\n",
    "Para mover $n$ discos de *origen* a *destino*:\n",
    "* Si $n = 0$ no hay nada que hacer\n",
    "* Mover $n-1$ discos de *origen* a otro palo temporalmente\n",
    "* Mover un disco de *origen* a *destino*\n",
    "* Mover $n-1$ discos del otro palo a *destino*"
   ]
  },
  {
   "cell_type": "code",
   "execution_count": 97,
   "metadata": {},
   "outputs": [],
   "source": [
    "def hanoi(ndiscos, desde = 0, hasta = 2):\n",
    "    if ndiscos == 0: return []\n",
    "    tmp = ({0,1,2} - {desde,hasta}).pop()\n",
    "    return hanoi(ndiscos-1, desde, tmp) + [(desde, hasta)] + hanoi(ndiscos-1, tmp, hasta)"
   ]
  },
  {
   "cell_type": "code",
   "execution_count": 98,
   "metadata": {},
   "outputs": [
    {
     "data": {
      "text/plain": [
       "[(0, 2), (0, 1), (2, 1), (0, 2), (1, 0), (1, 2), (0, 2)]"
      ]
     },
     "execution_count": 98,
     "metadata": {},
     "output_type": "execute_result"
    }
   ],
   "source": [
    "hanoi(3)"
   ]
  },
  {
   "cell_type": "markdown",
   "metadata": {
    "slideshow": {
     "slide_type": "subslide"
    }
   },
   "source": [
    "## Determinar el otro palo temporal\n",
    "\n",
    "Se pueden numerar los palos, o usar letras para identificarlos.\n",
    "* El que no es ni *origen* ni *destino* se puede calcular con resta de conjuntos"
   ]
  },
  {
   "cell_type": "code",
   "execution_count": 80,
   "metadata": {},
   "outputs": [
    {
     "data": {
      "text/plain": [
       "{2}"
      ]
     },
     "execution_count": 80,
     "metadata": {},
     "output_type": "execute_result"
    }
   ],
   "source": [
    "{1,2,3} - {1,3}"
   ]
  },
  {
   "cell_type": "code",
   "execution_count": 90,
   "metadata": {},
   "outputs": [
    {
     "data": {
      "text/plain": [
       "2"
      ]
     },
     "execution_count": 90,
     "metadata": {},
     "output_type": "execute_result"
    }
   ],
   "source": [
    "{2}.pop()"
   ]
  },
  {
   "cell_type": "markdown",
   "metadata": {
    "slideshow": {
     "slide_type": "subslide"
    }
   },
   "source": [
    "## Torres de Hanoi con generadores"
   ]
  },
  {
   "cell_type": "code",
   "execution_count": 101,
   "metadata": {},
   "outputs": [],
   "source": [
    "def hanoi(ndiscos, desde = 0, hasta = 2):\n",
    "    if ndiscos == 0: return\n",
    "    tmp = ({0,1,2} - {desde,hasta}).pop()\n",
    "    yield from hanoi(ndiscos-1, desde, tmp)\n",
    "    yield (desde, hasta)\n",
    "    yield from hanoi(ndiscos-1, tmp, hasta)"
   ]
  },
  {
   "cell_type": "code",
   "execution_count": 102,
   "metadata": {},
   "outputs": [
    {
     "data": {
      "text/plain": [
       "[(0, 2), (0, 1), (2, 1), (0, 2), (1, 0), (1, 2), (0, 2)]"
      ]
     },
     "execution_count": 102,
     "metadata": {},
     "output_type": "execute_result"
    }
   ],
   "source": [
    "list(hanoi(3))"
   ]
  },
  {
   "cell_type": "markdown",
   "metadata": {
    "collapsed": true,
    "slideshow": {
     "slide_type": "slide"
    }
   },
   "source": [
    "# Créditos\n",
    "\n",
    "Basado en http://web.eecs.umich.edu/~aprakash/eecs282/lectures/11-recursion.pdf\n"
   ]
  },
  {
   "cell_type": "code",
   "execution_count": null,
   "metadata": {},
   "outputs": [],
   "source": []
  }
 ],
 "metadata": {
  "celltoolbar": "Slideshow",
  "kernelspec": {
   "display_name": "Python 3",
   "language": "python",
   "name": "python3"
  },
  "language_info": {
   "codemirror_mode": {
    "name": "ipython",
    "version": 3
   },
   "file_extension": ".py",
   "mimetype": "text/x-python",
   "name": "python",
   "nbconvert_exporter": "python",
   "pygments_lexer": "ipython3",
   "version": "3.5.4"
  }
 },
 "nbformat": 4,
 "nbformat_minor": 2
}
