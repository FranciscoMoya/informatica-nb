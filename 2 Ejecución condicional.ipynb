{
 "cells": [
  {
   "cell_type": "code",
   "execution_count": 1,
   "metadata": {
    "hideCode": false,
    "hidePrompt": false,
    "slideshow": {
     "slide_type": "skip"
    }
   },
   "outputs": [],
   "source": [
    "A = B = B1 = B2 = C = None\n",
    "condicion = cond1 = cond2 = True"
   ]
  },
  {
   "cell_type": "markdown",
   "metadata": {
    "hideCode": false,
    "hidePrompt": false,
    "slideshow": {
     "slide_type": "slide"
    }
   },
   "source": [
    "# Ejecución condicional\n",
    "\n",
    "## if - elif - else"
   ]
  },
  {
   "cell_type": "markdown",
   "metadata": {
    "hideCode": false,
    "hidePrompt": false,
    "slideshow": {
     "slide_type": "slide"
    }
   },
   "source": [
    "# Ejecución secuencial\n",
    "\n",
    "* Normalmente las instrucciones se ejecutan en secuencia\n",
    "\n",
    "![seq.svg](//rawgit.com/FranciscoMoya/notebooks-eii/master/diag/seq.svg)"
   ]
  },
  {
   "cell_type": "code",
   "execution_count": 5,
   "metadata": {
    "hideCode": false,
    "hidePrompt": false
   },
   "outputs": [],
   "source": [
    "A\n",
    "B\n",
    "C"
   ]
  },
  {
   "cell_type": "markdown",
   "metadata": {
    "hideCode": false,
    "hidePrompt": false,
    "slideshow": {
     "slide_type": "slide"
    }
   },
   "source": [
    "# Ejecución condicional (if)\n",
    "\n",
    "* If añade un camino alternativo que solo se ejecuta si se cumple una condición\n",
    "\n",
    "![if.svg](//rawgit.com/FranciscoMoya/notebooks-eii/master/diag/if.svg)"
   ]
  },
  {
   "cell_type": "code",
   "execution_count": 9,
   "metadata": {
    "hideCode": false,
    "hidePrompt": false
   },
   "outputs": [],
   "source": [
    "A\n",
    "if condicion:\n",
    "    B\n",
    "C"
   ]
  },
  {
   "cell_type": "markdown",
   "metadata": {
    "hideCode": false,
    "hidePrompt": false,
    "slideshow": {
     "slide_type": "slide"
    }
   },
   "source": [
    "# Ejecución condicional (if-else)\n",
    "\n",
    "* If-else añade dos caminos alternativos que se ejecutan si se cumple/no se cumple una condición\n",
    "\n",
    "![if-else.svg](//rawgit.com/FranciscoMoya/notebooks-eii/master/diag/if-else.svg)"
   ]
  },
  {
   "cell_type": "code",
   "execution_count": 13,
   "metadata": {
    "hideCode": false,
    "hidePrompt": false
   },
   "outputs": [],
   "source": [
    "A\n",
    "if condicion:\n",
    "    B1\n",
    "else:\n",
    "    B2\n",
    "C"
   ]
  },
  {
   "cell_type": "markdown",
   "metadata": {
    "hideCode": false,
    "hidePrompt": false,
    "slideshow": {
     "slide_type": "slide"
    }
   },
   "source": [
    "# Ejecución condicional múltiple (if-elif-else)\n",
    "\n",
    "* Las escaleras de if añaden múltiples caminos alternativos.\n",
    "\n",
    "![if-elif-else.svg](//rawgit.com/FranciscoMoya/notebooks-eii/master/diag/if-elif-else.svg)"
   ]
  },
  {
   "cell_type": "code",
   "execution_count": 17,
   "metadata": {
    "hideCode": false,
    "hidePrompt": false
   },
   "outputs": [],
   "source": [
    "A\n",
    "if cond1: B1\n",
    "elif cond2: B2\n",
    "else: B\n",
    "C"
   ]
  },
  {
   "cell_type": "markdown",
   "metadata": {
    "hideCode": false,
    "hidePrompt": false,
    "slideshow": {
     "slide_type": "slide"
    }
   },
   "source": [
    "# Ejemplo 1\n",
    "\n",
    "* Escribir una función `calificacion` que devuelva la calificación alfanumérica correspondiente a una calificación numérica."
   ]
  },
  {
   "cell_type": "code",
   "execution_count": 31,
   "metadata": {
    "hideCode": false,
    "hidePrompt": false
   },
   "outputs": [],
   "source": [
    "def calificacion(n):\n",
    "    if n < 5:\n",
    "        return 'Suspenso'\n",
    "    if n < 7:\n",
    "        return 'Aprobado'\n",
    "    if n < 9:\n",
    "        return 'Notable'\n",
    "    return 'Sobresaliente'"
   ]
  },
  {
   "cell_type": "markdown",
   "metadata": {
    "hideCode": false,
    "hidePrompt": false,
    "slideshow": {
     "slide_type": "slide"
    }
   },
   "source": [
    "# Ejemplo 2\n",
    "\n",
    "* En EEUU es frecuente un esquema de calificaciones basados en competición entre los estudiantes.  El 20% mejor recibe una A, el 20% siguiente una B, el 20% siguiente un C, el 20% siguiente una D y el 20% peor una F.  Escribir una función `letter_grade` que devuelva la letra correspondiente a un percentil dado.  El percentil es la proporción de estudiantes que tiene un resultado peor que el del alumno.  Por ejemplo, un percentil 1.0 significaría que todos los demás alumnos tienen peor calificación."
   ]
  },
  {
   "cell_type": "code",
   "execution_count": 8,
   "metadata": {
    "hideCode": false,
    "hidePrompt": false,
    "slideshow": {
     "slide_type": "fragment"
    }
   },
   "outputs": [],
   "source": [
    "def letter_grade(x):\n",
    "    if x < 0.2:\n",
    "        return \"F\"\n",
    "    if x < 0.4:\n",
    "        return \"D\"\n",
    "    if x < 0.6:\n",
    "        return \"C\"\n",
    "    if x < 0.8:\n",
    "        return \"B\"\n",
    "    return \"A\""
   ]
  },
  {
   "cell_type": "markdown",
   "metadata": {
    "hideCode": false,
    "hidePrompt": false,
    "slideshow": {
     "slide_type": "slide"
    }
   },
   "source": [
    "# Ejemplo 3\n",
    "\n",
    "* Imprime un mensaje si `n` es divisible por 2 y/o por 3."
   ]
  },
  {
   "cell_type": "code",
   "execution_count": 19,
   "metadata": {
    "hideCode": false,
    "hidePrompt": false
   },
   "outputs": [],
   "source": [
    "def es_divisible_por(n,d): \n",
    "    return n % d == 0\n",
    "\n",
    "n = 1245412"
   ]
  },
  {
   "cell_type": "code",
   "execution_count": 7,
   "metadata": {
    "hideCode": false,
    "hidePrompt": false
   },
   "outputs": [
    {
     "name": "stdout",
     "output_type": "stream",
     "text": [
      "Divisible por 2 pero no por 3\n"
     ]
    }
   ],
   "source": [
    "if es_divisible_por(n, 2):\n",
    "    if es_divisible_por(n, 3):\n",
    "        print('Divisible por 2 y por 3')\n",
    "    else:\n",
    "        print('Divisible por 2 pero no por 3')\n",
    "elif es_divisible_por(n, 3):\n",
    "    print('Divisible por 3 pero no por 2')\n",
    "else:\n",
    "    print('No divisible por 2 ni por 3')"
   ]
  },
  {
   "cell_type": "markdown",
   "metadata": {
    "hideCode": false,
    "hidePrompt": false,
    "slideshow": {
     "slide_type": "slide"
    }
   },
   "source": [
    "# Ejemplo 4\n",
    "\n",
    "* Escribe una función `es_bisiesto` que devuelva `True` cuando el argumento es un año bisiesto y `False` en caso contrario."
   ]
  },
  {
   "cell_type": "code",
   "execution_count": 20,
   "metadata": {
    "hideCode": false,
    "hidePrompt": true,
    "slideshow": {
     "slide_type": "fragment"
    }
   },
   "outputs": [],
   "source": [
    "def es_bisiesto(x):\n",
    "    if es_divisible_por(x, 400):\n",
    "        return True\n",
    "    if es_divisible_por(x, 100):\n",
    "        return False\n",
    "    if es_divisible_por(x, 4):\n",
    "        return True\n",
    "    return False"
   ]
  },
  {
   "cell_type": "code",
   "execution_count": 23,
   "metadata": {
    "hideCode": false,
    "hidePrompt": true,
    "slideshow": {
     "slide_type": "fragment"
    }
   },
   "outputs": [],
   "source": [
    "def es_bisiesto(x):\n",
    "    return es_divisible_por(x, 400) or not es_divisible_por(x, 100) and es_divisible_por(x, 4)"
   ]
  },
  {
   "cell_type": "code",
   "execution_count": 23,
   "metadata": {},
   "outputs": [
    {
     "data": {
      "text/plain": [
       "False"
      ]
     },
     "execution_count": 23,
     "metadata": {},
     "output_type": "execute_result"
    }
   ],
   "source": [
    "es_bisiesto(1900)"
   ]
  },
  {
   "cell_type": "markdown",
   "metadata": {},
   "source": [
    "# Archivos auxiliares\n",
    "\n",
    "Archivos utilizados para generar las imágenes de este tema.  Puedes ignorarlos."
   ]
  },
  {
   "cell_type": "code",
   "execution_count": 1,
   "metadata": {
    "hideCode": false,
    "hidePrompt": false,
    "scrolled": true,
    "slideshow": {
     "slide_type": "skip"
    }
   },
   "outputs": [
    {
     "name": "stdout",
     "output_type": "stream",
     "text": [
      "Overwriting diag/seq.bd\n"
     ]
    }
   ],
   "source": [
    "%%file diag/seq.bd\n",
    "blockdiag {\n",
    "    default_fontsize = 24\n",
    "    span_height = 80\n",
    "    default_node_color = \"orange\"\n",
    "\n",
    "    default_fontsize = 24\n",
    "    A -> B -> C\n",
    "}"
   ]
  },
  {
   "cell_type": "code",
   "execution_count": 2,
   "metadata": {
    "hideCode": false,
    "hidePrompt": false,
    "scrolled": true,
    "slideshow": {
     "slide_type": "skip"
    }
   },
   "outputs": [
    {
     "name": "stdout",
     "output_type": "stream",
     "text": [
      "Overwriting diag/if.bd\n"
     ]
    }
   ],
   "source": [
    "%%file diag/if.bd\n",
    "blockdiag {\n",
    "    A -> IF,B -> C\n",
    "    \n",
    "    default_fontsize = 24\n",
    "    span_height = 80\n",
    "    default_node_color = \"orange\"\n",
    "    \n",
    "    IF[label=\"Condición\", shape=\"flowchart.condition\", width=180, fontsize=18]    \n",
    "    IF -> B [folded,label=\"True\",fontsize=14]\n",
    "    IF -> C [label=\"False\",fontsize=14]\n",
    "    A -> B [style=none]\n",
    "}"
   ]
  },
  {
   "cell_type": "code",
   "execution_count": 3,
   "metadata": {
    "hideCode": false,
    "hidePrompt": false,
    "scrolled": true,
    "slideshow": {
     "slide_type": "skip"
    }
   },
   "outputs": [
    {
     "name": "stdout",
     "output_type": "stream",
     "text": [
      "Overwriting diag/if-else.bd\n"
     ]
    }
   ],
   "source": [
    "%%file diag/if-else.bd\n",
    "blockdiag {\n",
    "    A -> IF -> B1,B2 -> C\n",
    "    \n",
    "    default_fontsize = 24\n",
    "    default_node_color = \"orange\"\n",
    "    \n",
    "    IF[label=\"Condición\", shape=\"flowchart.condition\", width=180, fontsize=20]    \n",
    "    \n",
    "    A -> B1,B2 [style=none]\n",
    "    //IF -> C [style=none]\n",
    "    IF -> B1,B2 [fontsize=14]\n",
    "    IF -> B1 [label=\"True\"]\n",
    "    IF -> B2 [label=\"False\"]\n",
    "}"
   ]
  },
  {
   "cell_type": "code",
   "execution_count": 4,
   "metadata": {
    "hideCode": false,
    "hidePrompt": false,
    "scrolled": true,
    "slideshow": {
     "slide_type": "skip"
    }
   },
   "outputs": [
    {
     "name": "stdout",
     "output_type": "stream",
     "text": [
      "Overwriting diag/if-elif-else.bd\n"
     ]
    }
   ],
   "source": [
    "%%file diag/if-elif-else.bd\n",
    "blockdiag {\n",
    "    A -> IF1,IF2,IF3,B\n",
    "    IF1 -> B1\n",
    "    IF2 -> B2\n",
    "    IF3 -> B3\n",
    "    B1,B2,B3,B -> C\n",
    "    \n",
    "    default_fontsize = 24\n",
    "    default_node_color = \"orange\"\n",
    "    \n",
    "    IF1,IF2,IF3[shape=\"flowchart.condition\", fontsize=20]\n",
    "    IF1[label=\"cond1\"]\n",
    "    IF2[label=\"cond2\"]\n",
    "    IF3,B3[shape=\"dots\"]\n",
    "    \n",
    "    A -> IF2,IF3,B [style=none]\n",
    "    IF1 -> B1\n",
    "    IF2 -> B2\n",
    "    IF3 -> B3 [style=none]\n",
    "    IF1 -> IF2 [folded]\n",
    "    IF2 -> IF3 [folded]\n",
    "    IF3 -> B [label=\"else\", folded]\n",
    "}"
   ]
  },
  {
   "cell_type": "code",
   "execution_count": 5,
   "metadata": {
    "hideCode": false,
    "hidePrompt": false,
    "slideshow": {
     "slide_type": "skip"
    }
   },
   "outputs": [],
   "source": [
    "!blockdiag -Tsvg diag/seq.bd\n",
    "!blockdiag -Tsvg diag/if.bd\n",
    "!blockdiag -Tsvg diag/if-else.bd\n",
    "!blockdiag -Tsvg diag/if-elif-else.bd"
   ]
  }
 ],
 "metadata": {
  "celltoolbar": "Attachments",
  "hide_code_all_hidden": true,
  "kernelspec": {
   "display_name": "Python 3",
   "language": "python",
   "name": "python3"
  },
  "language_info": {
   "codemirror_mode": {
    "name": "ipython",
    "version": 3
   },
   "file_extension": ".py",
   "mimetype": "text/x-python",
   "name": "python",
   "nbconvert_exporter": "python",
   "pygments_lexer": "ipython3",
   "version": "3.6.3"
  }
 },
 "nbformat": 4,
 "nbformat_minor": 2
}
