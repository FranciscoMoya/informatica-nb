{
  "cells": [
    {
      "metadata": {
        "hideCode": false,
        "hidePrompt": false,
        "slideshow": {
          "slide_type": "skip"
        },
        "trusted": false
      },
      "cell_type": "code",
      "source": "A = B = B1 = B2 = C = None\ncondicion = cond1 = cond2 = True",
      "execution_count": 1,
      "outputs": []
    },
    {
      "metadata": {
        "hideCode": false,
        "hidePrompt": false,
        "slideshow": {
          "slide_type": "slide"
        }
      },
      "cell_type": "markdown",
      "source": "# Ejecución condicional\n\n## if - elif - else"
    },
    {
      "metadata": {
        "hideCode": false,
        "hidePrompt": false,
        "slideshow": {
          "slide_type": "slide"
        }
      },
      "cell_type": "markdown",
      "source": "# Ejecución secuencial\n\n* Normalmente las instrucciones se ejecutan en secuencia\n\n![seq.svg](//rawgit.com/FranciscoMoya/notebooks-eii/master/diag/seq.svg)"
    },
    {
      "metadata": {
        "hideCode": false,
        "hidePrompt": false,
        "trusted": false
      },
      "cell_type": "code",
      "source": "A\nB\nC",
      "execution_count": 5,
      "outputs": []
    },
    {
      "metadata": {
        "hideCode": false,
        "hidePrompt": false,
        "slideshow": {
          "slide_type": "slide"
        }
      },
      "cell_type": "markdown",
      "source": "# Ejecución condicional (if)\n\n* If añade un camino alternativo que solo se ejecuta si se cumple una condición\n\n![if.svg](//rawgit.com/FranciscoMoya/notebooks-eii/master/diag/if.svg)"
    },
    {
      "metadata": {
        "hideCode": false,
        "hidePrompt": false,
        "trusted": false
      },
      "cell_type": "code",
      "source": "A\nif condicion:\n    B\nC",
      "execution_count": 9,
      "outputs": []
    },
    {
      "metadata": {
        "hideCode": false,
        "hidePrompt": false,
        "slideshow": {
          "slide_type": "slide"
        }
      },
      "cell_type": "markdown",
      "source": "# Ejecución condicional (if-else)\n\n* If-else añade dos caminos alternativos que se ejecutan si se cumple/no se cumple una condición\n\n![if-else.svg](//rawgit.com/FranciscoMoya/notebooks-eii/master/diag/if-else.svg)"
    },
    {
      "metadata": {
        "hideCode": false,
        "hidePrompt": false,
        "trusted": false
      },
      "cell_type": "code",
      "source": "A\nif condicion:\n    B1\nelse:\n    B2\nC",
      "execution_count": 13,
      "outputs": []
    },
    {
      "metadata": {
        "hideCode": false,
        "hidePrompt": false,
        "slideshow": {
          "slide_type": "slide"
        }
      },
      "cell_type": "markdown",
      "source": "# Ejecución condicional múltiple (if-elif-else)\n\n* Las escaleras de if añaden múltiples caminos alternativos.\n\n![if-elif-else.svg](//rawgit.com/FranciscoMoya/notebooks-eii/master/diag/if-elif-else.svg)"
    },
    {
      "metadata": {
        "hideCode": false,
        "hidePrompt": false,
        "trusted": false
      },
      "cell_type": "code",
      "source": "A\nif cond1: B1\nelif cond2: B2\nelse: B\nC",
      "execution_count": 17,
      "outputs": []
    },
    {
      "metadata": {
        "hideCode": false,
        "hidePrompt": false,
        "slideshow": {
          "slide_type": "slide"
        }
      },
      "cell_type": "markdown",
      "source": "# Ejemplo 1\n\n* Escribir una función `calificacion` que devuelva la calificación alfanumérica correspondiente a una calificación numérica."
    },
    {
      "metadata": {
        "hideCode": false,
        "hidePrompt": false,
        "trusted": false
      },
      "cell_type": "code",
      "source": "def calificacion(n):\n    if n < 5:\n        return 'Suspenso'\n    if n < 7:\n        return 'Aprobado'\n    if n < 9:\n        return 'Notable'\n    return 'Sobresaliente'",
      "execution_count": 31,
      "outputs": []
    },
    {
      "metadata": {
        "hideCode": false,
        "hidePrompt": false,
        "slideshow": {
          "slide_type": "slide"
        }
      },
      "cell_type": "markdown",
      "source": "# Ejemplo 2\n\n* En EEUU es frecuente un esquema de calificaciones basados en competición entre los estudiantes.  El 20% mejor recibe una A, el 20% siguiente una B, el 20% siguiente un C, el 20% siguiente una D y el 20% peor una F.  Escribir una función `letter_grade` que devuelva la letra correspondiente a un percentil dado.  El percentil es la proporción de estudiantes que tiene un resultado peor que el del alumno.  Por ejemplo, un percentil 1.0 significaría que todos los demás alumnos tienen peor calificación."
    },
    {
      "metadata": {
        "hideCode": false,
        "hidePrompt": false,
        "slideshow": {
          "slide_type": "fragment"
        },
        "trusted": false
      },
      "cell_type": "code",
      "source": "def letter_grade(x):\n    if x < 0.2:\n        return \"F\"\n    if x < 0.4:\n        return \"D\"\n    if x < 0.6:\n        return \"C\"\n    if x < 0.8:\n        return \"B\"\n    return \"A\"",
      "execution_count": 8,
      "outputs": []
    },
    {
      "metadata": {
        "hideCode": false,
        "hidePrompt": false,
        "slideshow": {
          "slide_type": "slide"
        }
      },
      "cell_type": "markdown",
      "source": "# Ejemplo 3\n\n* Imprime un mensaje si `n` es divisible por 2 y/o por 3."
    },
    {
      "metadata": {
        "hideCode": false,
        "hidePrompt": false,
        "trusted": false
      },
      "cell_type": "code",
      "source": "def es_divisible_por(n,d): \n    return n % d == 0\n\nn = 1245412",
      "execution_count": 19,
      "outputs": []
    },
    {
      "metadata": {
        "hideCode": false,
        "hidePrompt": false,
        "trusted": false
      },
      "cell_type": "code",
      "source": "if es_divisible_por(n, 2):\n    if es_divisible_por(n, 3):\n        print('Divisible por 2 y por 3')\n    else:\n        print('Divisible por 2 pero no por 3')\nelif es_divisible_por(n, 3):\n    print('Divisible por 3 pero no por 2')\nelse:\n    print('No divisible por 2 ni por 3')",
      "execution_count": 7,
      "outputs": [
        {
          "name": "stdout",
          "output_type": "stream",
          "text": "Divisible por 2 pero no por 3\n"
        }
      ]
    },
    {
      "metadata": {
        "hideCode": false,
        "hidePrompt": false,
        "slideshow": {
          "slide_type": "slide"
        }
      },
      "cell_type": "markdown",
      "source": "# Ejemplo 4\n\n* Escribe una función `es_bisiesto` que devuelva `True` cuando el argumento es un año bisiesto y `False` en caso contrario."
    },
    {
      "metadata": {
        "hideCode": false,
        "hidePrompt": true,
        "slideshow": {
          "slide_type": "fragment"
        },
        "trusted": false
      },
      "cell_type": "code",
      "source": "def es_bisiesto(x):\n    if es_divisible_por(x, 400):\n        return True\n    if es_divisible_por(x, 100):\n        return False\n    if es_divisible_por(x, 4):\n        return True\n    return False",
      "execution_count": 20,
      "outputs": []
    },
    {
      "metadata": {
        "hideCode": false,
        "hidePrompt": true,
        "slideshow": {
          "slide_type": "fragment"
        },
        "trusted": false
      },
      "cell_type": "code",
      "source": "def es_bisiesto(x):\n    return es_divisible_por(x, 400) or not es_divisible_por(x, 100) and es_divisible_por(x, 4)",
      "execution_count": 23,
      "outputs": []
    },
    {
      "metadata": {
        "trusted": false
      },
      "cell_type": "code",
      "source": "es_bisiesto(1900)",
      "execution_count": 23,
      "outputs": [
        {
          "data": {
            "text/plain": "False"
          },
          "execution_count": 23,
          "metadata": {},
          "output_type": "execute_result"
        }
      ]
    },
    {
      "metadata": {},
      "cell_type": "markdown",
      "source": "# Archivos auxiliares\n\nArchivos utilizados para generar las imágenes de este tema.  Puedes ignorarlos."
    },
    {
      "metadata": {
        "hideCode": false,
        "hidePrompt": false,
        "scrolled": true,
        "slideshow": {
          "slide_type": "skip"
        },
        "trusted": false
      },
      "cell_type": "code",
      "source": "%%file diag/seq.bd\nblockdiag {\n    default_fontsize = 24\n    span_height = 80\n    default_node_color = \"orange\"\n\n    default_fontsize = 24\n    A -> B -> C\n}",
      "execution_count": 1,
      "outputs": [
        {
          "name": "stdout",
          "output_type": "stream",
          "text": "Overwriting diag/seq.bd\n"
        }
      ]
    },
    {
      "metadata": {
        "hideCode": false,
        "hidePrompt": false,
        "scrolled": true,
        "slideshow": {
          "slide_type": "skip"
        },
        "trusted": false
      },
      "cell_type": "code",
      "source": "%%file diag/if.bd\nblockdiag {\n    A -> IF,B -> C\n    \n    default_fontsize = 24\n    span_height = 80\n    default_node_color = \"orange\"\n    \n    IF[label=\"Condición\", shape=\"flowchart.condition\", width=180, fontsize=18]    \n    IF -> B [folded,label=\"True\",fontsize=14]\n    IF -> C [label=\"False\",fontsize=14]\n    A -> B [style=none]\n}",
      "execution_count": 2,
      "outputs": [
        {
          "name": "stdout",
          "output_type": "stream",
          "text": "Overwriting diag/if.bd\n"
        }
      ]
    },
    {
      "metadata": {
        "hideCode": false,
        "hidePrompt": false,
        "scrolled": true,
        "slideshow": {
          "slide_type": "skip"
        },
        "trusted": false
      },
      "cell_type": "code",
      "source": "%%file diag/if-else.bd\nblockdiag {\n    A -> IF -> B1,B2 -> C\n    \n    default_fontsize = 24\n    default_node_color = \"orange\"\n    \n    IF[label=\"Condición\", shape=\"flowchart.condition\", width=180, fontsize=20]    \n    \n    A -> B1,B2 [style=none]\n    //IF -> C [style=none]\n    IF -> B1,B2 [fontsize=14]\n    IF -> B1 [label=\"True\"]\n    IF -> B2 [label=\"False\"]\n}",
      "execution_count": 3,
      "outputs": [
        {
          "name": "stdout",
          "output_type": "stream",
          "text": "Overwriting diag/if-else.bd\n"
        }
      ]
    },
    {
      "metadata": {
        "hideCode": false,
        "hidePrompt": false,
        "scrolled": true,
        "slideshow": {
          "slide_type": "skip"
        },
        "trusted": false
      },
      "cell_type": "code",
      "source": "%%file diag/if-elif-else.bd\nblockdiag {\n    A -> IF1,IF2,IF3,B\n    IF1 -> B1\n    IF2 -> B2\n    IF3 -> B3\n    B1,B2,B3,B -> C\n    \n    default_fontsize = 24\n    default_node_color = \"orange\"\n    \n    IF1,IF2,IF3[shape=\"flowchart.condition\", fontsize=20]\n    IF1[label=\"cond1\"]\n    IF2[label=\"cond2\"]\n    IF3,B3[shape=\"dots\"]\n    \n    A -> IF2,IF3,B [style=none]\n    IF1 -> B1\n    IF2 -> B2\n    IF3 -> B3 [style=none]\n    IF1 -> IF2 [folded]\n    IF2 -> IF3 [folded]\n    IF3 -> B [label=\"else\", folded]\n}",
      "execution_count": 4,
      "outputs": [
        {
          "name": "stdout",
          "output_type": "stream",
          "text": "Overwriting diag/if-elif-else.bd\n"
        }
      ]
    },
    {
      "metadata": {
        "hideCode": false,
        "hidePrompt": false,
        "slideshow": {
          "slide_type": "skip"
        },
        "trusted": false
      },
      "cell_type": "code",
      "source": "!blockdiag -Tsvg diag/seq.bd\n!blockdiag -Tsvg diag/if.bd\n!blockdiag -Tsvg diag/if-else.bd\n!blockdiag -Tsvg diag/if-elif-else.bd",
      "execution_count": 5,
      "outputs": []
    }
  ],
  "metadata": {
    "celltoolbar": "Attachments",
    "hide_code_all_hidden": true,
    "kernelspec": {
      "name": "python3",
      "display_name": "Python 3",
      "language": "python"
    },
    "language_info": {
      "mimetype": "text/x-python",
      "nbconvert_exporter": "python",
      "name": "python",
      "pygments_lexer": "ipython3",
      "version": "3.5.4",
      "file_extension": ".py",
      "codemirror_mode": {
        "version": 3,
        "name": "ipython"
      }
    }
  },
  "nbformat": 4,
  "nbformat_minor": 2
}