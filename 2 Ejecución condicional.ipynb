{
 "cells": [
  {
   "cell_type": "markdown",
   "metadata": {
    "slideshow": {
     "slide_type": "slide"
    }
   },
   "source": [
    "# Ejecución condicional\n",
    "\n",
    "## if - elif - else"
   ]
  },
  {
   "cell_type": "code",
   "execution_count": null,
   "metadata": {
    "slideshow": {
     "slide_type": "skip"
    }
   },
   "outputs": [],
   "source": [
    "!conda install -c damianavila82 rise"
   ]
  },
  {
   "cell_type": "code",
   "execution_count": null,
   "metadata": {
    "slideshow": {
     "slide_type": "skip"
    }
   },
   "outputs": [],
   "source": [
    "!pip install hide_code\n",
    "!jupyter nbextension install --py --sys-prefix hide_code\n",
    "!jupyter nbextension enable --py --sys-prefix hide_code\n",
    "!jupyter serverextension enable --py --sys-prefix hide_code"
   ]
  },
  {
   "cell_type": "code",
   "execution_count": null,
   "metadata": {
    "slideshow": {
     "slide_type": "skip"
    }
   },
   "outputs": [],
   "source": [
    "!pip install blockdiag\n",
    "!mkdir diag"
   ]
  },
  {
   "cell_type": "code",
   "execution_count": 1,
   "metadata": {
    "slideshow": {
     "slide_type": "skip"
    }
   },
   "outputs": [],
   "source": [
    "A = B = B1 = B2 = C = None\n",
    "condicion = cond1 = cond2 = True\n",
    "from IPython.display import Image"
   ]
  },
  {
   "cell_type": "markdown",
   "metadata": {
    "slideshow": {
     "slide_type": "slide"
    }
   },
   "source": [
    "# Ejecución secuencial\n",
    "\n",
    "* Normalmente las instrucciones se ejecutan en secuencia"
   ]
  },
  {
   "cell_type": "code",
   "execution_count": 2,
   "metadata": {
    "scrolled": true,
    "slideshow": {
     "slide_type": "skip"
    }
   },
   "outputs": [
    {
     "name": "stdout",
     "output_type": "stream",
     "text": [
      "Overwriting diag/seq.bd\n"
     ]
    }
   ],
   "source": [
    "%%file diag/seq.bd\n",
    "blockdiag {\n",
    "    default_fontsize = 24\n",
    "    span_height = 80\n",
    "    default_node_color = \"orange\"\n",
    "\n",
    "    default_fontsize = 24\n",
    "    A -> B -> C\n",
    "}"
   ]
  },
  {
   "cell_type": "code",
   "execution_count": 3,
   "metadata": {
    "slideshow": {
     "slide_type": "skip"
    }
   },
   "outputs": [],
   "source": [
    "!blockdiag diag/seq.bd"
   ]
  },
  {
   "cell_type": "code",
   "execution_count": 4,
   "metadata": {
    "hideCode": true,
    "hidePrompt": true,
    "scrolled": true
   },
   "outputs": [
    {
     "data": {
      "image/png": "[encoded data removed]",
      "text/plain": [
       "<IPython.core.display.Image object>"
      ]
     },
     "execution_count": 4,
     "metadata": {},
     "output_type": "execute_result"
    }
   ],
   "source": [
    "Image(\"diag/seq.png\")"
   ]
  },
  {
   "cell_type": "code",
   "execution_count": 299,
   "metadata": {},
   "outputs": [],
   "source": [
    "A\n",
    "B\n",
    "C"
   ]
  },
  {
   "cell_type": "markdown",
   "metadata": {
    "slideshow": {
     "slide_type": "slide"
    }
   },
   "source": [
    "# Ejecución condicional (if)\n",
    "\n",
    "* If añade un camino alternativo que solo se ejecuta si se cumple una condición"
   ]
  },
  {
   "cell_type": "code",
   "execution_count": 5,
   "metadata": {
    "scrolled": true,
    "slideshow": {
     "slide_type": "skip"
    }
   },
   "outputs": [
    {
     "name": "stdout",
     "output_type": "stream",
     "text": [
      "Overwriting diag/if.bd\n"
     ]
    }
   ],
   "source": [
    "%%file diag/if.bd\n",
    "blockdiag {\n",
    "    A -> IF,B -> C\n",
    "    \n",
    "    default_fontsize = 24\n",
    "    span_height = 80\n",
    "    default_node_color = \"orange\"\n",
    "    \n",
    "    IF[label=\"Condición\", shape=\"flowchart.condition\", width=180, fontsize=20]    \n",
    "    IF -> B [folded,label=\"True\",fontsize=14]\n",
    "    IF -> C [label=\"False\",fontsize=14]\n",
    "    A -> B [style=none]\n",
    "}"
   ]
  },
  {
   "cell_type": "code",
   "execution_count": 6,
   "metadata": {
    "hideCode": false,
    "hidePrompt": false,
    "slideshow": {
     "slide_type": "skip"
    }
   },
   "outputs": [],
   "source": [
    "!blockdiag diag/if.bd"
   ]
  },
  {
   "cell_type": "code",
   "execution_count": 7,
   "metadata": {
    "hideCode": true,
    "hidePrompt": true
   },
   "outputs": [
    {
     "data": {
      "image/png": "[encoded data removed]",
      "text/plain": [
       "<IPython.core.display.Image object>"
      ]
     },
     "execution_count": 7,
     "metadata": {},
     "output_type": "execute_result"
    }
   ],
   "source": [
    "Image(\"diag/if.png\")"
   ]
  },
  {
   "cell_type": "code",
   "execution_count": 311,
   "metadata": {
    "hidePrompt": true
   },
   "outputs": [],
   "source": [
    "A\n",
    "if condicion:\n",
    "    B\n",
    "C"
   ]
  },
  {
   "cell_type": "markdown",
   "metadata": {
    "slideshow": {
     "slide_type": "slide"
    }
   },
   "source": [
    "# Ejecución condicional (if-else)\n",
    "\n",
    "* If-else añade dos caminos alternativos que se ejecutan si se cumple/no se cumple una condición"
   ]
  },
  {
   "cell_type": "code",
   "execution_count": 11,
   "metadata": {
    "scrolled": true,
    "slideshow": {
     "slide_type": "skip"
    }
   },
   "outputs": [
    {
     "name": "stdout",
     "output_type": "stream",
     "text": [
      "Overwriting diag/if-else.bd\n"
     ]
    }
   ],
   "source": [
    "%%file diag/if-else.bd\n",
    "blockdiag {\n",
    "    A -> IF -> B1,B2 -> C\n",
    "    \n",
    "    default_fontsize = 24\n",
    "    default_node_color = \"orange\"\n",
    "    \n",
    "    IF[label=\"Condición\", shape=\"flowchart.condition\", width=180, fontsize=20]    \n",
    "    \n",
    "    A -> B1,B2 [style=none]\n",
    "    //IF -> C [style=none]\n",
    "    IF -> B1,B2 [fontsize=14]\n",
    "    IF -> B1 [label=\"True\"]\n",
    "    IF -> B2 [label=\"False\"]\n",
    "}"
   ]
  },
  {
   "cell_type": "code",
   "execution_count": 12,
   "metadata": {
    "slideshow": {
     "slide_type": "skip"
    }
   },
   "outputs": [],
   "source": [
    "!blockdiag diag/if-else.bd"
   ]
  },
  {
   "cell_type": "code",
   "execution_count": 13,
   "metadata": {
    "hideCode": true,
    "hidePrompt": true
   },
   "outputs": [
    {
     "data": {
      "image/png": "[encoded data removed]",
      "text/plain": [
       "<IPython.core.display.Image object>"
      ]
     },
     "execution_count": 13,
     "metadata": {},
     "output_type": "execute_result"
    }
   ],
   "source": [
    "Image(\"diag/if-else.png\")"
   ]
  },
  {
   "cell_type": "code",
   "execution_count": null,
   "metadata": {},
   "outputs": [],
   "source": [
    "A\n",
    "if condicion:\n",
    "    B1\n",
    "else:\n",
    "    B2\n",
    "C"
   ]
  },
  {
   "cell_type": "markdown",
   "metadata": {
    "slideshow": {
     "slide_type": "slide"
    }
   },
   "source": [
    "# Ejecución condicional múltiple (if-elif-else)\n",
    "\n",
    "* Las escaleras de if añaden múltiples caminos alternativos."
   ]
  },
  {
   "cell_type": "code",
   "execution_count": 489,
   "metadata": {
    "scrolled": true,
    "slideshow": {
     "slide_type": "skip"
    }
   },
   "outputs": [
    {
     "name": "stdout",
     "output_type": "stream",
     "text": [
      "Overwriting diag/if-elif-else.bd\n"
     ]
    }
   ],
   "source": [
    "%%file diag/if-elif-else.bd\n",
    "blockdiag {\n",
    "    A -> IF1,IF2,IF3,B\n",
    "    IF1 -> B1\n",
    "    IF2 -> B2\n",
    "    IF3 -> B3\n",
    "    B1,B2,B3,B -> C\n",
    "    \n",
    "    default_fontsize = 24\n",
    "    default_node_color = \"orange\"\n",
    "    \n",
    "    IF1,IF2,IF3[shape=\"flowchart.condition\", fontsize=20]\n",
    "    IF1[label=\"cond1\"]\n",
    "    IF2[label=\"cond2\"]\n",
    "    IF3,B3[shape=\"dots\"]\n",
    "    \n",
    "    A -> IF2,IF3,B [style=none]\n",
    "    IF1 -> B1\n",
    "    IF2 -> B2\n",
    "    IF3 -> B3 [style=none]\n",
    "    IF1 -> IF2 [folded]\n",
    "    IF2 -> IF3 [folded]\n",
    "    IF3 -> B [label=\"else\", folded]\n",
    "}"
   ]
  },
  {
   "cell_type": "code",
   "execution_count": 14,
   "metadata": {
    "slideshow": {
     "slide_type": "skip"
    }
   },
   "outputs": [],
   "source": [
    "!blockdiag diag/if-elif-else.bd"
   ]
  },
  {
   "cell_type": "code",
   "execution_count": 15,
   "metadata": {
    "hideCode": true,
    "hidePrompt": true
   },
   "outputs": [
    {
     "data": {
      "image/png": "[encoded data removed]",
      "text/plain": [
       "<IPython.core.display.Image object>"
      ]
     },
     "execution_count": 15,
     "metadata": {},
     "output_type": "execute_result"
    }
   ],
   "source": [
    "Image(\"diag/if-elif-else.png\")"
   ]
  },
  {
   "cell_type": "code",
   "execution_count": 488,
   "metadata": {},
   "outputs": [],
   "source": [
    "A\n",
    "if cond1: B1\n",
    "elif cond2: B2\n",
    "else: B\n",
    "C"
   ]
  },
  {
   "cell_type": "markdown",
   "metadata": {
    "slideshow": {
     "slide_type": "slide"
    }
   },
   "source": [
    "# Ejemplo 1\n",
    "\n",
    "* Escribir una función `calificacion` que devuelva la calificación alfanumérica correspondiente a una calificación numérica."
   ]
  },
  {
   "cell_type": "code",
   "execution_count": null,
   "metadata": {},
   "outputs": [],
   "source": []
  },
  {
   "cell_type": "code",
   "execution_count": 15,
   "metadata": {
    "hidePrompt": true,
    "slideshow": {
     "slide_type": "fragment"
    }
   },
   "outputs": [],
   "source": [
    "def calificacion(x):\n",
    "    if x < 5:\n",
    "        return \"Suspenso\"\n",
    "    if x < 7:\n",
    "        return \"Aprobado\"\n",
    "    if x < 9:\n",
    "        return \"Notable\"\n",
    "    return \"Sobresaliente\""
   ]
  },
  {
   "cell_type": "markdown",
   "metadata": {
    "slideshow": {
     "slide_type": "slide"
    }
   },
   "source": [
    "# Ejemplo 2\n",
    "\n",
    "* En EEUU es frecuente un esquema de calificaciones basados en competición entre los estudiantes.  El 20% mejor recibe una A, el 20% siguiente una B, el 20% siguiente un C, el 20% siguiente una D y el 20% peor una F.  Escribir una función `letter_grade` que devuelva la letra correspondiente a un percentil dado.  El percentil es la proporción de estudiantes que tiene un resultado peor que el del alumno.  Por ejemplo, un percentil 1.0 significaría que todos los demás alumnos tienen peor calificación."
   ]
  },
  {
   "cell_type": "code",
   "execution_count": null,
   "metadata": {},
   "outputs": [],
   "source": []
  },
  {
   "cell_type": "code",
   "execution_count": 8,
   "metadata": {
    "slideshow": {
     "slide_type": "fragment"
    }
   },
   "outputs": [],
   "source": [
    "def letter_grade(x):\n",
    "    if x < 0.2:\n",
    "        return \"F\"\n",
    "    if x < 0.4:\n",
    "        return \"D\"\n",
    "    if x < 0.6:\n",
    "        return \"C\"\n",
    "    if x < 0.8:\n",
    "        return \"B\"\n",
    "    return \"A\""
   ]
  },
  {
   "cell_type": "markdown",
   "metadata": {
    "slideshow": {
     "slide_type": "slide"
    }
   },
   "source": [
    "# Ejemplo 3\n",
    "\n",
    "* Imprime un mensaje si `n` es divisible por 2 y/o por 3."
   ]
  },
  {
   "cell_type": "code",
   "execution_count": 6,
   "metadata": {},
   "outputs": [],
   "source": [
    "def es_divisible_por(n,d): return n % d == 0\n",
    "\n",
    "n = 1245412"
   ]
  },
  {
   "cell_type": "code",
   "execution_count": 7,
   "metadata": {},
   "outputs": [
    {
     "name": "stdout",
     "output_type": "stream",
     "text": [
      "Divisible por 2 pero no por 3\n"
     ]
    }
   ],
   "source": [
    "if es_divisible_por(n, 2):\n",
    "    if es_divisible_por(n, 3):\n",
    "        print('Divisible por 2 y por 3')\n",
    "    else:\n",
    "        print('Divisible por 2 pero no por 3')\n",
    "elif es_divisible_por(n, 3):\n",
    "    print('Divisible por 3 pero no por 2')\n",
    "else:\n",
    "    print('No divisible por 2 ni por 3')"
   ]
  },
  {
   "cell_type": "markdown",
   "metadata": {
    "slideshow": {
     "slide_type": "slide"
    }
   },
   "source": [
    "# Ejemplo 4\n",
    "\n",
    "* Escribe una función `es_bisiesto` que devuelva `True` cuando el argumento es un año bisiesto y `False` en caso contrario."
   ]
  },
  {
   "cell_type": "code",
   "execution_count": null,
   "metadata": {},
   "outputs": [],
   "source": []
  },
  {
   "cell_type": "code",
   "execution_count": 21,
   "metadata": {
    "slideshow": {
     "slide_type": "fragment"
    }
   },
   "outputs": [],
   "source": [
    "def es_bisiesto(x):\n",
    "    if es_divisible_por(x, 400):\n",
    "        return True\n",
    "    if es_divisible_por(x, 100):\n",
    "        return False\n",
    "    if es_divisible_por(x, 4):\n",
    "        return True\n",
    "    return False"
   ]
  },
  {
   "cell_type": "code",
   "execution_count": 23,
   "metadata": {
    "slideshow": {
     "slide_type": "fragment"
    }
   },
   "outputs": [],
   "source": [
    "def es_bisiesto(x):\n",
    "    return es_divisible_por(x, 400) or not es_divisible_por(x, 100) and es_divisible_por(x, 4)"
   ]
  }
 ],
 "metadata": {
  "celltoolbar": "Hide code",
  "kernelspec": {
   "display_name": "Python 3",
   "language": "python",
   "name": "python3"
  },
  "language_info": {
   "codemirror_mode": {
    "name": "ipython",
    "version": 3
   },
   "file_extension": ".py",
   "mimetype": "text/x-python",
   "name": "python",
   "nbconvert_exporter": "python",
   "pygments_lexer": "ipython3",
   "version": "3.6.3"
  }
 },
 "nbformat": 4,
 "nbformat_minor": 2
}
