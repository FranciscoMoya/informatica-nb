{
  "cells": [
    {
      "metadata": {
        "slideshow": {
          "slide_type": "slide"
        }
      },
      "cell_type": "markdown",
      "source": "# Ejecución condicional\n\n## if - elif - else"
    },
    {
      "metadata": {
        "trusted": true
      },
      "cell_type": "code",
      "source": "%%file /home/nbuser/.blockdiagrc\n[blockdiag]\nfontpath = /usr/share/fonts/truetype/liberation/LiberationSans-Regular.ttf",
      "execution_count": 33,
      "outputs": [
        {
          "output_type": "stream",
          "text": "Overwriting /home/nbuser/.blockdiagrc\n",
          "name": "stdout"
        }
      ]
    },
    {
      "metadata": {
        "slideshow": {
          "slide_type": "skip"
        },
        "trusted": true
      },
      "cell_type": "code",
      "source": "#!conda install -c damianavila82 rise",
      "execution_count": 1,
      "outputs": []
    },
    {
      "metadata": {
        "slideshow": {
          "slide_type": "skip"
        },
        "trusted": true
      },
      "cell_type": "code",
      "source": "!pip install rise\n!pip install hide_code\n!jupyter nbextension install --py --sys-prefix hide_code\n!jupyter nbextension enable --py --sys-prefix hide_code\n!jupyter serverextension enable --py --sys-prefix hide_code",
      "execution_count": 2,
      "outputs": [
        {
          "output_type": "stream",
          "text": "Collecting rise\n\u001b[?25l  Downloading https://files.pythonhosted.org/packages/8a/d6/0d5f899448a5d1af93660d2ba37aa64f44f1f8f0a9e51790260a6b9c518b/rise-5.4.1-py2.py3-none-any.whl (1.8MB)\n\u001b[K    100% |████████████████████████████████| 1.8MB 5.3MB/s eta 0:00:01    22% |███████▏                        | 409kB 10.4MB/s eta 0:00:01\n\u001b[?25hCollecting notebook>=5.5.0 (from rise)\n  Using cached https://files.pythonhosted.org/packages/5e/7c/7fd8e9584779d65dfcad9fa2e09c76131a41f999f853a9c7026ed8585586/notebook-5.6.0-py2.py3-none-any.whl\nRequirement already satisfied: ipykernel in /home/nbuser/anaconda3_420/lib/python3.5/site-packages (from notebook>=5.5.0->rise) (4.7.0)\nCollecting prometheus-client (from notebook>=5.5.0->rise)\n  Using cached https://files.pythonhosted.org/packages/a1/b1/08de091b392fec31da9bd3f5edd9214ec1c6931dd81641610ac20f3ff934/prometheus_client-0.3.1.tar.gz\nRequirement already satisfied: nbformat in /home/nbuser/anaconda3_420/lib/python3.5/site-packages (from notebook>=5.5.0->rise) (4.2.0)\nRequirement already satisfied: traitlets>=4.2.1 in /home/nbuser/anaconda3_420/lib/python3.5/site-packages (from notebook>=5.5.0->rise) (4.3.1)\nCollecting jupyter-client>=5.2.0 (from notebook>=5.5.0->rise)\n  Using cached https://files.pythonhosted.org/packages/94/dd/fe6c4d683b09eb05342bd2816b7779663f71762b4fa9c2d5203d35d17354/jupyter_client-5.2.3-py2.py3-none-any.whl\nRequirement already satisfied: jinja2 in /home/nbuser/anaconda3_420/lib/python3.5/site-packages (from notebook>=5.5.0->rise) (2.8)\nCollecting pyzmq>=17 (from notebook>=5.5.0->rise)\n\u001b[?25l  Downloading https://files.pythonhosted.org/packages/9a/f9/6d7d3d1c83159997e2e7bc74d11e84a83aa1e7f85e6f028341414e7c2141/pyzmq-17.1.2-cp35-cp35m-manylinux1_x86_64.whl (995kB)\n\u001b[K    100% |████████████████████████████████| 1.0MB 11.6MB/s ta 0:00:01\n\u001b[?25hCollecting Send2Trash (from notebook>=5.5.0->rise)\n  Downloading https://files.pythonhosted.org/packages/49/46/c3dc27481d1cc57b9385aff41c474ceb7714f7935b1247194adae45db714/Send2Trash-1.5.0-py3-none-any.whl\nRequirement already satisfied: nbconvert in /home/nbuser/anaconda3_420/lib/python3.5/site-packages (from notebook>=5.5.0->rise) (4.2.0)\nCollecting terminado>=0.8.1 (from notebook>=5.5.0->rise)\n  Using cached https://files.pythonhosted.org/packages/2e/20/a26211a24425923d46e1213b376a6ee60dc30bcdf1b0c345e2c3769deb1c/terminado-0.8.1-py2.py3-none-any.whl\nRequirement already satisfied: tornado>=4 in /home/nbuser/anaconda3_420/lib/python3.5/site-packages (from notebook>=5.5.0->rise) (4.4.1)\nRequirement already satisfied: ipython-genutils in /home/nbuser/anaconda3_420/lib/python3.5/site-packages (from notebook>=5.5.0->rise) (0.1.0)\nRequirement already satisfied: jupyter-core>=4.4.0 in /home/nbuser/anaconda3_420/lib/python3.5/site-packages (from notebook>=5.5.0->rise) (4.4.0)\nRequirement already satisfied: ipython>=4.0.0 in /home/nbuser/anaconda3_420/lib/python3.5/site-packages (from ipykernel->notebook>=5.5.0->rise) (6.2.1)\nRequirement already satisfied: python-dateutil>=2.1 in /home/nbuser/anaconda3_420/lib/python3.5/site-packages (from jupyter-client>=5.2.0->notebook>=5.5.0->rise) (2.5.3)\nRequirement already satisfied: MarkupSafe in /home/nbuser/anaconda3_420/lib/python3.5/site-packages (from jinja2->notebook>=5.5.0->rise) (0.23)\nRequirement already satisfied: ptyprocess; os_name != \"nt\" in /home/nbuser/anaconda3_420/lib/python3.5/site-packages (from terminado>=0.8.1->notebook>=5.5.0->rise) (0.5.1)\nRequirement already satisfied: setuptools>=18.5 in /home/nbuser/anaconda3_420/lib/python3.5/site-packages (from ipython>=4.0.0->ipykernel->notebook>=5.5.0->rise) (40.0.0)\nRequirement already satisfied: jedi>=0.10 in /home/nbuser/anaconda3_420/lib/python3.5/site-packages (from ipython>=4.0.0->ipykernel->notebook>=5.5.0->rise) (0.11.0)\nRequirement already satisfied: decorator in /home/nbuser/anaconda3_420/lib/python3.5/site-packages (from ipython>=4.0.0->ipykernel->notebook>=5.5.0->rise) (4.0.10)\nRequirement already satisfied: pickleshare in /home/nbuser/anaconda3_420/lib/python3.5/site-packages (from ipython>=4.0.0->ipykernel->notebook>=5.5.0->rise) (0.7.4)\nRequirement already satisfied: simplegeneric>0.8 in /home/nbuser/anaconda3_420/lib/python3.5/site-packages (from ipython>=4.0.0->ipykernel->notebook>=5.5.0->rise) (0.8.1)\nRequirement already satisfied: prompt_toolkit<2.0.0,>=1.0.4 in /home/nbuser/anaconda3_420/lib/python3.5/site-packages (from ipython>=4.0.0->ipykernel->notebook>=5.5.0->rise) (1.0.15)\nRequirement already satisfied: pygments in /home/nbuser/anaconda3_420/lib/python3.5/site-packages (from ipython>=4.0.0->ipykernel->notebook>=5.5.0->rise) (2.1.3)\nRequirement already satisfied: pexpect in /home/nbuser/anaconda3_420/lib/python3.5/site-packages (from ipython>=4.0.0->ipykernel->notebook>=5.5.0->rise) (4.0.1)\nRequirement already satisfied: six>=1.5 in /home/nbuser/anaconda3_420/lib/python3.5/site-packages (from python-dateutil>=2.1->jupyter-client>=5.2.0->notebook>=5.5.0->rise) (1.10.0)\nRequirement already satisfied: parso==0.1.* in /home/nbuser/anaconda3_420/lib/python3.5/site-packages (from jedi>=0.10->ipython>=4.0.0->ipykernel->notebook>=5.5.0->rise) (0.1.1)\nRequirement already satisfied: wcwidth in /home/nbuser/anaconda3_420/lib/python3.5/site-packages (from prompt_toolkit<2.0.0,>=1.0.4->ipython>=4.0.0->ipykernel->notebook>=5.5.0->rise) (0.1.7)\nBuilding wheels for collected packages: prometheus-client\n  Running setup.py bdist_wheel for prometheus-client ... \u001b[?25ldone\n\u001b[?25h  Stored in directory: /home/nbuser/.cache/pip/wheels/04/6b/a4/4ccef2edcc797b5553edc6c8bed4d219dafdb019e225c2c348\nSuccessfully built prometheus-client\nInstalling collected packages: prometheus-client, pyzmq, jupyter-client, Send2Trash, terminado, notebook, rise\n  Found existing installation: pyzmq 15.4.0\n\u001b[31mCannot uninstall 'pyzmq'. It is a distutils installed project and thus we cannot accurately determine which files belong to it which would lead to only a partial uninstall.\u001b[0m\nCollecting hide_code\n  Downloading https://files.pythonhosted.org/packages/04/5b/e0512cf6e62c80c305add427bae8808001163909419e158e92d8c7e4012f/hide_code-0.5.2.tar.gz\nRequirement already satisfied: jupyter in /home/nbuser/anaconda3_420/lib/python3.5/site-packages (from hide_code) (1.0.0)\nCollecting pdfkit (from hide_code)\n  Downloading https://files.pythonhosted.org/packages/57/da/48fdd627794cde49f4ee7854d219f3a65714069b722b8d0e3599cd066185/pdfkit-0.6.1-py3-none-any.whl\nCollecting nbconvert>=5.0 (from hide_code)\n  Using cached https://files.pythonhosted.org/packages/39/ea/280d6c0d92f8e3ca15fd798bbcc2ea141489f9539de7133d8fe10ea4b049/nbconvert-5.3.1-py2.py3-none-any.whl\nCollecting notebook>=5.1 (from hide_code)\n  Using cached https://files.pythonhosted.org/packages/5e/7c/7fd8e9584779d65dfcad9fa2e09c76131a41f999f853a9c7026ed8585586/notebook-5.6.0-py2.py3-none-any.whl\nRequirement already satisfied: entrypoints>=0.2.2 in /home/nbuser/anaconda3_420/lib/python3.5/site-packages (from nbconvert>=5.0->hide_code) (0.2.3)\nRequirement already satisfied: jupyter-core in /home/nbuser/anaconda3_420/lib/python3.5/site-packages (from nbconvert>=5.0->hide_code) (4.4.0)\nRequirement already satisfied: jinja2 in /home/nbuser/anaconda3_420/lib/python3.5/site-packages (from nbconvert>=5.0->hide_code) (2.8)\nRequirement already satisfied: traitlets>=4.2 in /home/nbuser/anaconda3_420/lib/python3.5/site-packages (from nbconvert>=5.0->hide_code) (4.3.1)\nCollecting testpath (from nbconvert>=5.0->hide_code)\n  Using cached https://files.pythonhosted.org/packages/15/19/d7bc380c479a184e4a5a9ce516e4e2a773165f89b445f7cdced83d94de25/testpath-0.3.1-py2.py3-none-any.whl\nCollecting mistune>=0.7.4 (from nbconvert>=5.0->hide_code)\n  Using cached https://files.pythonhosted.org/packages/c8/8c/87f4d359438ba0321a2ae91936030110bfcc62fef752656321a72b8c1af9/mistune-0.8.3-py2.py3-none-any.whl\nRequirement already satisfied: pygments in /home/nbuser/anaconda3_420/lib/python3.5/site-packages (from nbconvert>=5.0->hide_code) (2.1.3)\nCollecting bleach (from nbconvert>=5.0->hide_code)\n  Downloading https://files.pythonhosted.org/packages/94/aa/0f7ce53f8688bb9f80c0cffacc3964ddfe08321c509c0bfe5062848951f9/bleach-2.1.4-py2.py3-none-any.whl\nCollecting pandocfilters>=1.4.1 (from nbconvert>=5.0->hide_code)\n",
          "name": "stdout"
        },
        {
          "output_type": "stream",
          "text": "  Using cached https://files.pythonhosted.org/packages/4c/ea/236e2584af67bb6df960832731a6e5325fd4441de001767da328c33368ce/pandocfilters-1.4.2.tar.gz\nCollecting nbformat>=4.4 (from nbconvert>=5.0->hide_code)\n  Using cached https://files.pythonhosted.org/packages/da/27/9a654d2b6cc1eaa517d1c5a4405166c7f6d72f04f6e7eea41855fe808a46/nbformat-4.4.0-py2.py3-none-any.whl\nRequirement already satisfied: ipython-genutils in /home/nbuser/anaconda3_420/lib/python3.5/site-packages (from notebook>=5.1->hide_code) (0.1.0)\nCollecting pyzmq>=17 (from notebook>=5.1->hide_code)\n  Using cached https://files.pythonhosted.org/packages/9a/f9/6d7d3d1c83159997e2e7bc74d11e84a83aa1e7f85e6f028341414e7c2141/pyzmq-17.1.2-cp35-cp35m-manylinux1_x86_64.whl\nRequirement already satisfied: tornado>=4 in /home/nbuser/anaconda3_420/lib/python3.5/site-packages (from notebook>=5.1->hide_code) (4.4.1)\nRequirement already satisfied: ipykernel in /home/nbuser/anaconda3_420/lib/python3.5/site-packages (from notebook>=5.1->hide_code) (4.7.0)\nCollecting Send2Trash (from notebook>=5.1->hide_code)\n  Using cached https://files.pythonhosted.org/packages/49/46/c3dc27481d1cc57b9385aff41c474ceb7714f7935b1247194adae45db714/Send2Trash-1.5.0-py3-none-any.whl\nRequirement already satisfied: prometheus-client in /home/nbuser/anaconda3_420/lib/python3.5/site-packages (from notebook>=5.1->hide_code) (0.3.1)\nCollecting terminado>=0.8.1 (from notebook>=5.1->hide_code)\n  Using cached https://files.pythonhosted.org/packages/2e/20/a26211a24425923d46e1213b376a6ee60dc30bcdf1b0c345e2c3769deb1c/terminado-0.8.1-py2.py3-none-any.whl\nCollecting jupyter-client>=5.2.0 (from notebook>=5.1->hide_code)\n  Using cached https://files.pythonhosted.org/packages/94/dd/fe6c4d683b09eb05342bd2816b7779663f71762b4fa9c2d5203d35d17354/jupyter_client-5.2.3-py2.py3-none-any.whl\nRequirement already satisfied: MarkupSafe in /home/nbuser/anaconda3_420/lib/python3.5/site-packages (from jinja2->nbconvert>=5.0->hide_code) (0.23)\nCollecting html5lib!=1.0b1,!=1.0b2,!=1.0b3,!=1.0b4,!=1.0b5,!=1.0b6,!=1.0b7,!=1.0b8,>=0.99999999pre (from bleach->nbconvert>=5.0->hide_code)\n  Using cached https://files.pythonhosted.org/packages/a5/62/bbd2be0e7943ec8504b517e62bab011b4946e1258842bc159e5dfde15b96/html5lib-1.0.1-py2.py3-none-any.whl\nRequirement already satisfied: six in /home/nbuser/anaconda3_420/lib/python3.5/site-packages (from bleach->nbconvert>=5.0->hide_code) (1.10.0)\nRequirement already satisfied: jsonschema!=2.5.0,>=2.4 in /home/nbuser/anaconda3_420/lib/python3.5/site-packages (from nbformat>=4.4->nbconvert>=5.0->hide_code) (2.5.1)\nRequirement already satisfied: ipython>=4.0.0 in /home/nbuser/anaconda3_420/lib/python3.5/site-packages (from ipykernel->notebook>=5.1->hide_code) (6.2.1)\nRequirement already satisfied: ptyprocess; os_name != \"nt\" in /home/nbuser/anaconda3_420/lib/python3.5/site-packages (from terminado>=0.8.1->notebook>=5.1->hide_code) (0.5.1)\nRequirement already satisfied: python-dateutil>=2.1 in /home/nbuser/anaconda3_420/lib/python3.5/site-packages (from jupyter-client>=5.2.0->notebook>=5.1->hide_code) (2.5.3)\nCollecting webencodings (from html5lib!=1.0b1,!=1.0b2,!=1.0b3,!=1.0b4,!=1.0b5,!=1.0b6,!=1.0b7,!=1.0b8,>=0.99999999pre->bleach->nbconvert>=5.0->hide_code)\n  Using cached https://files.pythonhosted.org/packages/f4/24/2a3e3df732393fed8b3ebf2ec078f05546de641fe1b667ee316ec1dcf3b7/webencodings-0.5.1-py2.py3-none-any.whl\nRequirement already satisfied: setuptools>=18.5 in /home/nbuser/anaconda3_420/lib/python3.5/site-packages (from ipython>=4.0.0->ipykernel->notebook>=5.1->hide_code) (40.0.0)\nRequirement already satisfied: jedi>=0.10 in /home/nbuser/anaconda3_420/lib/python3.5/site-packages (from ipython>=4.0.0->ipykernel->notebook>=5.1->hide_code) (0.11.0)\nRequirement already satisfied: decorator in /home/nbuser/anaconda3_420/lib/python3.5/site-packages (from ipython>=4.0.0->ipykernel->notebook>=5.1->hide_code) (4.0.10)\nRequirement already satisfied: pickleshare in /home/nbuser/anaconda3_420/lib/python3.5/site-packages (from ipython>=4.0.0->ipykernel->notebook>=5.1->hide_code) (0.7.4)\nRequirement already satisfied: simplegeneric>0.8 in /home/nbuser/anaconda3_420/lib/python3.5/site-packages (from ipython>=4.0.0->ipykernel->notebook>=5.1->hide_code) (0.8.1)\nRequirement already satisfied: prompt_toolkit<2.0.0,>=1.0.4 in /home/nbuser/anaconda3_420/lib/python3.5/site-packages (from ipython>=4.0.0->ipykernel->notebook>=5.1->hide_code) (1.0.15)\nRequirement already satisfied: pexpect in /home/nbuser/anaconda3_420/lib/python3.5/site-packages (from ipython>=4.0.0->ipykernel->notebook>=5.1->hide_code) (4.0.1)\nRequirement already satisfied: parso==0.1.* in /home/nbuser/anaconda3_420/lib/python3.5/site-packages (from jedi>=0.10->ipython>=4.0.0->ipykernel->notebook>=5.1->hide_code) (0.1.1)\nRequirement already satisfied: wcwidth in /home/nbuser/anaconda3_420/lib/python3.5/site-packages (from prompt_toolkit<2.0.0,>=1.0.4->ipython>=4.0.0->ipykernel->notebook>=5.1->hide_code) (0.1.7)\nBuilding wheels for collected packages: hide-code, pandocfilters\n  Running setup.py bdist_wheel for hide-code ... \u001b[?25lerror\n  Complete output from command /home/nbuser/anaconda3_420/bin/python -u -c \"import setuptools, tokenize;__file__='/tmp/pip-install-geoja9fv/hide-code/setup.py';f=getattr(tokenize, 'open', open)(__file__);code=f.read().replace('\\r\\n', '\\n');f.close();exec(compile(code, __file__, 'exec'))\" bdist_wheel -d /tmp/pip-wheel-h7rmrik_ --python-tag cp35:\n  running bdist_wheel\n  running build\n  running build_py\n  creating build\n  creating build/lib\n  creating build/lib/hide_code\n  copying hide_code/hide_code_html_exporter.py -> build/lib/hide_code\n  copying hide_code/hide_code_pdf_exporter.py -> build/lib/hide_code\n  copying hide_code/hide_code.py -> build/lib/hide_code\n  copying hide_code/hide_code_config.py -> build/lib/hide_code\n  copying hide_code/hide_code_preprocessor.py -> build/lib/hide_code\n  copying hide_code/hide_code_slides_exporter.py -> build/lib/hide_code\n  copying hide_code/utils.py -> build/lib/hide_code\n  copying hide_code/__init__.py -> build/lib/hide_code\n  copying hide_code/hide_code_latex_exporter.py -> build/lib/hide_code\n  copying hide_code/hide_code.js -> build/lib/hide_code\n  copying hide_code/auto-load-server-extension.txt -> build/lib/hide_code\n  copying hide_code/LICENSE.txt -> build/lib/hide_code\n  copying hide_code/auto-load.txt -> build/lib/hide_code\n  creating build/lib/hide_code/Templates\n  copying hide_code/Templates/hide_code_article.tplx -> build/lib/hide_code/Templates\n  copying hide_code/Templates/hide_code_base_style.tplx -> build/lib/hide_code/Templates\n  copying hide_code/Templates/hide_code_slides.tpl -> build/lib/hide_code/Templates\n  copying hide_code/Templates/hide_code_full.tpl -> build/lib/hide_code/Templates\n  copying hide_code/Templates/hide_code_basic.tpl -> build/lib/hide_code/Templates\n  copying hide_code/hide_code_config.json -> build/lib/hide_code\n  installing to build/bdist.linux-x86_64/wheel\n  running install\n  running install_lib\n  creating build/bdist.linux-x86_64\n  creating build/bdist.linux-x86_64/wheel\n  creating build/bdist.linux-x86_64/wheel/hide_code\n  copying build/lib/hide_code/hide_code_html_exporter.py -> build/bdist.linux-x86_64/wheel/hide_code\n  copying build/lib/hide_code/auto-load-server-extension.txt -> build/bdist.linux-x86_64/wheel/hide_code\n  copying build/lib/hide_code/hide_code_pdf_exporter.py -> build/bdist.linux-x86_64/wheel/hide_code\n  creating build/bdist.linux-x86_64/wheel/hide_code/Templates\n  copying build/lib/hide_code/Templates/hide_code_article.tplx -> build/bdist.linux-x86_64/wheel/hide_code/Templates\n  copying build/lib/hide_code/Templates/hide_code_base_style.tplx -> build/bdist.linux-x86_64/wheel/hide_code/Templates\n  copying build/lib/hide_code/Templates/hide_code_slides.tpl -> build/bdist.linux-x86_64/wheel/hide_code/Templates\n  copying build/lib/hide_code/Templates/hide_code_full.tpl -> build/bdist.linux-x86_64/wheel/hide_code/Templates\n  copying build/lib/hide_code/Templates/hide_code_basic.tpl -> build/bdist.linux-x86_64/wheel/hide_code/Templates\n  copying build/lib/hide_code/hide_code.py -> build/bdist.linux-x86_64/wheel/hide_code\n  copying build/lib/hide_code/hide_code_config.py -> build/bdist.linux-x86_64/wheel/hide_code\n  copying build/lib/hide_code/hide_code.js -> build/bdist.linux-x86_64/wheel/hide_code\n  copying build/lib/hide_code/hide_code_preprocessor.py -> build/bdist.linux-x86_64/wheel/hide_code\n  copying build/lib/hide_code/hide_code_config.json -> build/bdist.linux-x86_64/wheel/hide_code\n  copying build/lib/hide_code/hide_code_slides_exporter.py -> build/bdist.linux-x86_64/wheel/hide_code\n  copying build/lib/hide_code/utils.py -> build/bdist.linux-x86_64/wheel/hide_code\n  copying build/lib/hide_code/__init__.py -> build/bdist.linux-x86_64/wheel/hide_code\n  copying build/lib/hide_code/LICENSE.txt -> build/bdist.linux-x86_64/wheel/hide_code\n  copying build/lib/hide_code/auto-load.txt -> build/bdist.linux-x86_64/wheel/hide_code\n  copying build/lib/hide_code/hide_code_latex_exporter.py -> build/bdist.linux-x86_64/wheel/hide_code\n  running install_egg_info\n  running egg_info\n  writing requirements to hide_code.egg-info/requires.txt\n  writing entry points to hide_code.egg-info/entry_points.txt\n  writing top-level names to hide_code.egg-info/top_level.txt\n  writing hide_code.egg-info/PKG-INFO\n  writing dependency_links to hide_code.egg-info/dependency_links.txt\n  reading manifest file 'hide_code.egg-info/SOURCES.txt'\n  writing manifest file 'hide_code.egg-info/SOURCES.txt'\n  Copying hide_code.egg-info to build/bdist.linux-x86_64/wheel/hide_code-0.5.2-py3.5.egg-info\n  running install_scripts\n  error: [Errno 2] No such file or directory: 'LICENSE'\n  \n  ----------------------------------------\n\u001b[31m  Failed building wheel for hide-code\u001b[0m\n\u001b[?25h  Running setup.py clean for hide-code\n",
          "name": "stdout"
        },
        {
          "output_type": "stream",
          "text": "  Running setup.py bdist_wheel for pandocfilters ... \u001b[?25ldone\n\u001b[?25h  Stored in directory: /home/nbuser/.cache/pip/wheels/39/01/56/f1b08a6275acc59e846fa4c1e1b65dbc1919f20157d9e66c20\nSuccessfully built pandocfilters\nFailed to build hide-code\nInstalling collected packages: pdfkit, testpath, mistune, webencodings, html5lib, bleach, pandocfilters, nbformat, nbconvert, pyzmq, Send2Trash, terminado, jupyter-client, notebook, hide-code\n  Found existing installation: mistune 0.7.3\n    Uninstalling mistune-0.7.3:\n      Successfully uninstalled mistune-0.7.3\n  Found existing installation: nbformat 4.2.0\n\u001b[31mCannot uninstall 'nbformat'. It is a distutils installed project and thus we cannot accurately determine which files belong to it which would lead to only a partial uninstall.\u001b[0m\nTraceback (most recent call last):\n  File \"/home/nbuser/anaconda3_420/bin/jupyter-nbextension\", line 6, in <module>\n    sys.exit(notebook.nbextensions.main())\n  File \"/home/nbuser/anaconda3_420/lib/python3.5/site-packages/jupyter_core/application.py\", line 266, in launch_instance\n    return super(JupyterApp, cls).launch_instance(argv=argv, **kwargs)\n  File \"/home/nbuser/anaconda3_420/lib/python3.5/site-packages/traitlets/config/application.py\", line 658, in launch_instance\n    app.start()\n  File \"/home/nbuser/anaconda3_420/lib/python3.5/site-packages/notebook/nbextensions.py\", line 900, in start\n    super(NBExtensionApp, self).start()\n  File \"/home/nbuser/anaconda3_420/lib/python3.5/site-packages/jupyter_core/application.py\", line 255, in start\n    self.subapp.start()\n  File \"/home/nbuser/anaconda3_420/lib/python3.5/site-packages/notebook/nbextensions.py\", line 678, in start\n    self.install_extensions()\n  File \"/home/nbuser/anaconda3_420/lib/python3.5/site-packages/notebook/nbextensions.py\", line 657, in install_extensions\n    **kwargs\n  File \"/home/nbuser/anaconda3_420/lib/python3.5/site-packages/notebook/nbextensions.py\", line 211, in install_nbextension_python\n    m, nbexts = _get_nbextension_metadata(module)\n  File \"/home/nbuser/anaconda3_420/lib/python3.5/site-packages/notebook/nbextensions.py\", line 1034, in _get_nbextension_metadata\n    m = import_item(module)\n  File \"/home/nbuser/anaconda3_420/lib/python3.5/site-packages/traitlets/utils/importstring.py\", line 42, in import_item\n    return __import__(parts[0])\nImportError: No module named 'hide_code'\nTraceback (most recent call last):\n  File \"/home/nbuser/anaconda3_420/bin/jupyter-nbextension\", line 6, in <module>\n    sys.exit(notebook.nbextensions.main())\n  File \"/home/nbuser/anaconda3_420/lib/python3.5/site-packages/jupyter_core/application.py\", line 266, in launch_instance\n    return super(JupyterApp, cls).launch_instance(argv=argv, **kwargs)\n  File \"/home/nbuser/anaconda3_420/lib/python3.5/site-packages/traitlets/config/application.py\", line 658, in launch_instance\n    app.start()\n  File \"/home/nbuser/anaconda3_420/lib/python3.5/site-packages/notebook/nbextensions.py\", line 900, in start\n    super(NBExtensionApp, self).start()\n  File \"/home/nbuser/anaconda3_420/lib/python3.5/site-packages/jupyter_core/application.py\", line 255, in start\n    self.subapp.start()\n  File \"/home/nbuser/anaconda3_420/lib/python3.5/site-packages/notebook/nbextensions.py\", line 808, in start\n    self.toggle_nbextension_python(self.extra_args[0])\n  File \"/home/nbuser/anaconda3_420/lib/python3.5/site-packages/notebook/nbextensions.py\", line 784, in toggle_nbextension_python\n    logger=self.log)\n  File \"/home/nbuser/anaconda3_420/lib/python3.5/site-packages/notebook/nbextensions.py\", line 445, in enable_nbextension_python\n    logger=logger)\n  File \"/home/nbuser/anaconda3_420/lib/python3.5/site-packages/notebook/nbextensions.py\", line 360, in _set_nbextension_state_python\n    m, nbexts = _get_nbextension_metadata(module)\n  File \"/home/nbuser/anaconda3_420/lib/python3.5/site-packages/notebook/nbextensions.py\", line 1034, in _get_nbextension_metadata\n    m = import_item(module)\n  File \"/home/nbuser/anaconda3_420/lib/python3.5/site-packages/traitlets/utils/importstring.py\", line 42, in import_item\n    return __import__(parts[0])\nImportError: No module named 'hide_code'\nTraceback (most recent call last):\n  File \"/home/nbuser/anaconda3_420/bin/jupyter-serverextension\", line 6, in <module>\n    sys.exit(notebook.serverextensions.main())\n  File \"/home/nbuser/anaconda3_420/lib/python3.5/site-packages/jupyter_core/application.py\", line 266, in launch_instance\n    return super(JupyterApp, cls).launch_instance(argv=argv, **kwargs)\n  File \"/home/nbuser/anaconda3_420/lib/python3.5/site-packages/traitlets/config/application.py\", line 658, in launch_instance\n    app.start()\n  File \"/home/nbuser/anaconda3_420/lib/python3.5/site-packages/notebook/serverextensions.py\", line 293, in start\n    super(ServerExtensionApp, self).start()\n  File \"/home/nbuser/anaconda3_420/lib/python3.5/site-packages/jupyter_core/application.py\", line 255, in start\n    self.subapp.start()\n  File \"/home/nbuser/anaconda3_420/lib/python3.5/site-packages/notebook/serverextensions.py\", line 210, in start\n    self.toggle_server_extension_python(arg)\n  File \"/home/nbuser/anaconda3_420/lib/python3.5/site-packages/notebook/serverextensions.py\", line 199, in toggle_server_extension_python\n    m, server_exts = _get_server_extension_metadata(package)\n  File \"/home/nbuser/anaconda3_420/lib/python3.5/site-packages/notebook/serverextensions.py\", line 327, in _get_server_extension_metadata\n    m = import_item(module)\n  File \"/home/nbuser/anaconda3_420/lib/python3.5/site-packages/traitlets/utils/importstring.py\", line 42, in import_item\n    return __import__(parts[0])\nImportError: No module named 'hide_code'\n",
          "name": "stdout"
        }
      ]
    },
    {
      "metadata": {
        "slideshow": {
          "slide_type": "skip"
        },
        "trusted": true
      },
      "cell_type": "code",
      "source": "!pip install blockdiag\n!mkdir diag",
      "execution_count": 3,
      "outputs": [
        {
          "output_type": "stream",
          "text": "Collecting blockdiag\n\u001b[?25l  Downloading https://files.pythonhosted.org/packages/e6/37/a3a4d09c8cbe16b303ed75fd07381e5460b37a25fe247645f2251477887a/blockdiag-1.5.4-py2.py3-none-any.whl (2.7MB)\n\u001b[K    100% |████████████████████████████████| 2.7MB 4.5MB/s eta 0:00:01    18% |█████▉                          | 491kB 6.0MB/s eta 0:00:01\n\u001b[?25hCollecting funcparserlib (from blockdiag)\n  Downloading https://files.pythonhosted.org/packages/cb/f7/b4a59c3ccf67c0082546eaeb454da1a6610e924d2e7a2a21f337ecae7b40/funcparserlib-0.3.6.tar.gz\nRequirement already satisfied: Pillow in /home/nbuser/anaconda3_420/lib/python3.5/site-packages (from blockdiag) (4.3.0)\nCollecting webcolors (from blockdiag)\n  Downloading https://files.pythonhosted.org/packages/1d/44/c4902683be73beba20afd299705e11f0a753a01cc7f9d6a070841848605b/webcolors-1.8.1-py2.py3-none-any.whl\nRequirement already satisfied: setuptools in /home/nbuser/anaconda3_420/lib/python3.5/site-packages (from blockdiag) (40.0.0)\nRequirement already satisfied: olefile in /home/nbuser/anaconda3_420/lib/python3.5/site-packages (from Pillow->blockdiag) (0.44)\nBuilding wheels for collected packages: funcparserlib\n  Running setup.py bdist_wheel for funcparserlib ... \u001b[?25ldone\n\u001b[?25h  Stored in directory: /home/nbuser/.cache/pip/wheels/03/eb/48/ade4df39d3eb30e31518e91e4ee0572ca6c1292a94f782f9da\nSuccessfully built funcparserlib\nInstalling collected packages: funcparserlib, webcolors, blockdiag\nSuccessfully installed blockdiag-1.5.4 funcparserlib-0.3.6 webcolors-1.8.1\nmkdir: cannot create directory ‘diag’: File exists\n",
          "name": "stdout"
        }
      ]
    },
    {
      "metadata": {
        "slideshow": {
          "slide_type": "skip"
        },
        "trusted": true
      },
      "cell_type": "code",
      "source": "A = B = B1 = B2 = C = None\ncondicion = cond1 = cond2 = True\nfrom IPython.display import Image, SVG",
      "execution_count": 21,
      "outputs": []
    },
    {
      "metadata": {
        "slideshow": {
          "slide_type": "slide"
        }
      },
      "cell_type": "markdown",
      "source": "# Ejecución secuencial\n\n* Normalmente las instrucciones se ejecutan en secuencia"
    },
    {
      "metadata": {
        "scrolled": true,
        "slideshow": {
          "slide_type": "skip"
        },
        "trusted": true
      },
      "cell_type": "code",
      "source": "%%file diag/seq.bd\nblockdiag {\n    default_fontsize = 24\n    span_height = 80\n    default_node_color = \"orange\"\n\n    default_fontsize = 24\n    A -> B -> C\n}",
      "execution_count": 34,
      "outputs": [
        {
          "output_type": "stream",
          "text": "Overwriting diag/seq.bd\n",
          "name": "stdout"
        }
      ]
    },
    {
      "metadata": {
        "slideshow": {
          "slide_type": "skip"
        },
        "trusted": true
      },
      "cell_type": "code",
      "source": "!blockdiag -Tsvg diag/seq.bd",
      "execution_count": 35,
      "outputs": []
    },
    {
      "metadata": {
        "hideCode": true,
        "hidePrompt": true,
        "scrolled": true,
        "trusted": true
      },
      "cell_type": "code",
      "source": "SVG(\"diag/seq.svg\")",
      "execution_count": 36,
      "outputs": [
        {
          "output_type": "execute_result",
          "execution_count": 36,
          "data": {
            "text/plain": "<IPython.core.display.SVG object>",
            "image/svg+xml": "<svg viewBox=\"0 0 640 200\" xmlns=\"http://www.w3.org/2000/svg\" xmlns:inkspace=\"http://www.inkscape.org/namespaces/inkscape\" xmlns:xlink=\"http://www.w3.org/1999/xlink\">\n  <defs id=\"defs_block\">\n    <filter height=\"1.504\" id=\"filter_blur\" inkspace:collect=\"always\" width=\"1.1575\" x=\"-0.07875\" y=\"-0.252\">\n      <feGaussianBlur id=\"feGaussianBlur3780\" inkspace:collect=\"always\" stdDeviation=\"4.2\"/>\n    </filter>\n  </defs>\n  <title>blockdiag</title>\n  <desc>blockdiag {\n    default_fontsize = 24\n    span_height = 80\n    default_node_color = &quot;orange&quot;\n\n    default_fontsize = 24\n    A -&gt; B -&gt; C\n}</desc>\n  <rect fill=\"rgb(0,0,0)\" height=\"40\" stroke=\"rgb(0,0,0)\" style=\"filter:url(#filter_blur);opacity:0.7;fill-opacity:1\" width=\"128\" x=\"67\" y=\"86\"/>\n  <rect fill=\"rgb(0,0,0)\" height=\"40\" stroke=\"rgb(0,0,0)\" style=\"filter:url(#filter_blur);opacity:0.7;fill-opacity:1\" width=\"128\" x=\"259\" y=\"86\"/>\n  <rect fill=\"rgb(0,0,0)\" height=\"40\" stroke=\"rgb(0,0,0)\" style=\"filter:url(#filter_blur);opacity:0.7;fill-opacity:1\" width=\"128\" x=\"451\" y=\"86\"/>\n  <rect fill=\"rgb(255,165,0)\" height=\"40\" stroke=\"rgb(0,0,0)\" width=\"128\" x=\"64\" y=\"80\"/>\n  <text fill=\"rgb(0,0,0)\" font-family=\"sans-serif\" font-size=\"24\" font-style=\"normal\" font-weight=\"normal\" text-anchor=\"middle\" textLength=\"16\" x=\"128.0\" y=\"111\">A</text>\n  <rect fill=\"rgb(255,165,0)\" height=\"40\" stroke=\"rgb(0,0,0)\" width=\"128\" x=\"256\" y=\"80\"/>\n  <text fill=\"rgb(0,0,0)\" font-family=\"sans-serif\" font-size=\"24\" font-style=\"normal\" font-weight=\"normal\" text-anchor=\"middle\" textLength=\"16\" x=\"320.0\" y=\"111\">B</text>\n  <rect fill=\"rgb(255,165,0)\" height=\"40\" stroke=\"rgb(0,0,0)\" width=\"128\" x=\"448\" y=\"80\"/>\n  <text fill=\"rgb(0,0,0)\" font-family=\"sans-serif\" font-size=\"24\" font-style=\"normal\" font-weight=\"normal\" text-anchor=\"middle\" textLength=\"17\" x=\"512.5\" y=\"111\">C</text>\n  <path d=\"M 192 100 L 248 100\" fill=\"none\" stroke=\"rgb(0,0,0)\"/>\n  <polygon fill=\"rgb(0,0,0)\" points=\"255,100 248,96 248,104 255,100\" stroke=\"rgb(0,0,0)\"/>\n  <path d=\"M 384 100 L 440 100\" fill=\"none\" stroke=\"rgb(0,0,0)\"/>\n  <polygon fill=\"rgb(0,0,0)\" points=\"447,100 440,96 440,104 447,100\" stroke=\"rgb(0,0,0)\"/>\n</svg>"
          },
          "metadata": {}
        }
      ]
    },
    {
      "metadata": {
        "trusted": false
      },
      "cell_type": "code",
      "source": "A\nB\nC",
      "execution_count": 299,
      "outputs": []
    },
    {
      "metadata": {
        "slideshow": {
          "slide_type": "slide"
        }
      },
      "cell_type": "markdown",
      "source": "# Ejecución condicional (if)\n\n* If añade un camino alternativo que solo se ejecuta si se cumple una condición"
    },
    {
      "metadata": {
        "scrolled": true,
        "slideshow": {
          "slide_type": "skip"
        },
        "trusted": true
      },
      "cell_type": "code",
      "source": "%%file diag/if.bd\nblockdiag {\n    A -> IF,B -> C\n    \n    default_fontsize = 24\n    span_height = 80\n    default_node_color = \"orange\"\n    \n    IF[label=\"Condición\", shape=\"flowchart.condition\", width=180, fontsize=18]    \n    IF -> B [folded,label=\"True\",fontsize=14]\n    IF -> C [label=\"False\",fontsize=14]\n    A -> B [style=none]\n}",
      "execution_count": 40,
      "outputs": [
        {
          "output_type": "stream",
          "text": "Overwriting diag/if.bd\n",
          "name": "stdout"
        }
      ]
    },
    {
      "metadata": {
        "hideCode": false,
        "hidePrompt": false,
        "slideshow": {
          "slide_type": "skip"
        },
        "trusted": true
      },
      "cell_type": "code",
      "source": "!blockdiag -Tsvg diag/if.bd",
      "execution_count": 41,
      "outputs": []
    },
    {
      "metadata": {
        "hideCode": true,
        "hidePrompt": true,
        "trusted": true
      },
      "cell_type": "code",
      "source": "SVG(\"diag/if.svg\")",
      "execution_count": 42,
      "outputs": [
        {
          "output_type": "execute_result",
          "execution_count": 42,
          "data": {
            "text/plain": "<IPython.core.display.SVG object>",
            "image/svg+xml": "<svg viewBox=\"0 0 692 320\" xmlns=\"http://www.w3.org/2000/svg\" xmlns:inkspace=\"http://www.inkscape.org/namespaces/inkscape\" xmlns:xlink=\"http://www.w3.org/1999/xlink\">\n  <defs id=\"defs_block\">\n    <filter height=\"1.504\" id=\"filter_blur\" inkspace:collect=\"always\" width=\"1.1575\" x=\"-0.07875\" y=\"-0.252\">\n      <feGaussianBlur id=\"feGaussianBlur3780\" inkspace:collect=\"always\" stdDeviation=\"4.2\"/>\n    </filter>\n  </defs>\n  <title>blockdiag</title>\n  <desc>blockdiag {\n    A -&gt; IF,B -&gt; C\n    \n    default_fontsize = 24\n    span_height = 80\n    default_node_color = &quot;orange&quot;\n    \n    IF[label=&quot;Condición&quot;, shape=&quot;flowchart.condition&quot;, width=180, fontsize=18]    \n    IF -&gt; B [folded,label=&quot;True&quot;,fontsize=14]\n    IF -&gt; C [label=&quot;False&quot;,fontsize=14]\n    A -&gt; B [style=none]\n}</desc>\n  <rect fill=\"rgb(0,0,0)\" height=\"40\" stroke=\"rgb(0,0,0)\" style=\"filter:url(#filter_blur);opacity:0.7;fill-opacity:1\" width=\"128\" x=\"67\" y=\"86\"/>\n  <polygon fill=\"rgb(0,0,0)\" points=\"349,78 447,106 349,134 251,106 349,78\" stroke=\"rgb(0,0,0)\" style=\"filter:url(#filter_blur);opacity:0.7;fill-opacity:1\"/>\n  <rect fill=\"rgb(0,0,0)\" height=\"40\" stroke=\"rgb(0,0,0)\" style=\"filter:url(#filter_blur);opacity:0.7;fill-opacity:1\" width=\"128\" x=\"285\" y=\"206\"/>\n  <rect fill=\"rgb(0,0,0)\" height=\"40\" stroke=\"rgb(0,0,0)\" style=\"filter:url(#filter_blur);opacity:0.7;fill-opacity:1\" width=\"128\" x=\"503\" y=\"86\"/>\n  <rect fill=\"rgb(255,165,0)\" height=\"40\" stroke=\"rgb(0,0,0)\" width=\"128\" x=\"64\" y=\"80\"/>\n  <text fill=\"rgb(0,0,0)\" font-family=\"sans-serif\" font-size=\"24\" font-style=\"normal\" font-weight=\"normal\" text-anchor=\"middle\" textLength=\"16\" x=\"128.0\" y=\"111\">A</text>\n  <polygon fill=\"rgb(255,165,0)\" points=\"346,72 444,100 346,128 248,100 346,72\" stroke=\"rgb(0,0,0)\"/>\n  <text fill=\"rgb(0,0,0)\" font-family=\"sans-serif\" font-size=\"18\" font-style=\"normal\" font-weight=\"normal\" text-anchor=\"middle\" textLength=\"80\" x=\"346.0\" y=\"109\">Condición</text>\n  <rect fill=\"rgb(255,165,0)\" height=\"40\" stroke=\"rgb(0,0,0)\" width=\"128\" x=\"282\" y=\"200\"/>\n  <text fill=\"rgb(0,0,0)\" font-family=\"sans-serif\" font-size=\"24\" font-style=\"normal\" font-weight=\"normal\" text-anchor=\"middle\" textLength=\"16\" x=\"346.0\" y=\"231\">B</text>\n  <rect fill=\"rgb(255,165,0)\" height=\"40\" stroke=\"rgb(0,0,0)\" width=\"128\" x=\"500\" y=\"80\"/>\n  <text fill=\"rgb(0,0,0)\" font-family=\"sans-serif\" font-size=\"24\" font-style=\"normal\" font-weight=\"normal\" text-anchor=\"middle\" textLength=\"17\" x=\"564.5\" y=\"111\">C</text>\n  <path d=\"M 192 100 L 240 100\" fill=\"none\" stroke=\"rgb(0,0,0)\"/>\n  <polygon fill=\"rgb(0,0,0)\" points=\"247,100 240,96 240,104 247,100\" stroke=\"rgb(0,0,0)\"/>\n  <path d=\"M 346 128 L 346 192\" fill=\"none\" stroke=\"rgb(0,0,0)\"/>\n  <polygon fill=\"rgb(0,0,0)\" points=\"346,199 342,192 350,192 346,199\" stroke=\"rgb(0,0,0)\"/>\n  <path d=\"M 444 100 L 492 100\" fill=\"none\" stroke=\"rgb(0,0,0)\"/>\n  <polygon fill=\"rgb(0,0,0)\" points=\"499,100 492,96 492,104 499,100\" stroke=\"rgb(0,0,0)\"/>\n  <path d=\"M 410 220 L 484 220\" fill=\"none\" stroke=\"rgb(0,0,0)\"/>\n  <path d=\"M 484 220 L 484 100\" fill=\"none\" stroke=\"rgb(0,0,0)\"/>\n  <path d=\"M 484 100 L 492 100\" fill=\"none\" stroke=\"rgb(0,0,0)\"/>\n  <polygon fill=\"rgb(0,0,0)\" points=\"499,100 492,96 492,104 499,100\" stroke=\"rgb(0,0,0)\"/>\n  <rect fill=\"white\" height=\"17\" stroke=\"rgb(0,0,0)\" width=\"46\" x=\"384\" y=\"132\"/>\n  <text fill=\"rgb(0,0,0)\" font-family=\"sans-serif\" font-size=\"14\" font-style=\"normal\" font-weight=\"normal\" text-anchor=\"middle\" textLength=\"30\" x=\"407.0\" y=\"147\">True</text>\n  <rect fill=\"white\" height=\"17\" stroke=\"rgb(0,0,0)\" width=\"51\" x=\"443\" y=\"72\"/>\n  <text fill=\"rgb(0,0,0)\" font-family=\"sans-serif\" font-size=\"14\" font-style=\"normal\" font-weight=\"normal\" text-anchor=\"middle\" textLength=\"35\" x=\"468.5\" y=\"87\">False</text>\n</svg>"
          },
          "metadata": {}
        }
      ]
    },
    {
      "metadata": {
        "hidePrompt": true,
        "trusted": false
      },
      "cell_type": "code",
      "source": "A\nif condicion:\n    B\nC",
      "execution_count": 311,
      "outputs": []
    },
    {
      "metadata": {
        "slideshow": {
          "slide_type": "slide"
        }
      },
      "cell_type": "markdown",
      "source": "# Ejecución condicional (if-else)\n\n* If-else añade dos caminos alternativos que se ejecutan si se cumple/no se cumple una condición"
    },
    {
      "metadata": {
        "scrolled": true,
        "slideshow": {
          "slide_type": "skip"
        },
        "trusted": true
      },
      "cell_type": "code",
      "source": "%%file diag/if-else.bd\nblockdiag {\n    A -> IF -> B1,B2 -> C\n    \n    default_fontsize = 24\n    default_node_color = \"orange\"\n    \n    IF[label=\"Condición\", shape=\"flowchart.condition\", width=180, fontsize=20]    \n    \n    A -> B1,B2 [style=none]\n    //IF -> C [style=none]\n    IF -> B1,B2 [fontsize=14]\n    IF -> B1 [label=\"True\"]\n    IF -> B2 [label=\"False\"]\n}",
      "execution_count": 43,
      "outputs": [
        {
          "output_type": "stream",
          "text": "Overwriting diag/if-else.bd\n",
          "name": "stdout"
        }
      ]
    },
    {
      "metadata": {
        "slideshow": {
          "slide_type": "skip"
        },
        "trusted": true
      },
      "cell_type": "code",
      "source": "!blockdiag -Tsvg diag/if-else.bd",
      "execution_count": 44,
      "outputs": []
    },
    {
      "metadata": {
        "hideCode": true,
        "hidePrompt": true,
        "trusted": true
      },
      "cell_type": "code",
      "source": "SVG(\"diag/if-else.svg\")",
      "execution_count": 45,
      "outputs": [
        {
          "output_type": "execute_result",
          "execution_count": 45,
          "data": {
            "text/plain": "<IPython.core.display.SVG object>",
            "image/svg+xml": "<svg viewBox=\"0 0 884 200\" xmlns=\"http://www.w3.org/2000/svg\" xmlns:inkspace=\"http://www.inkscape.org/namespaces/inkscape\" xmlns:xlink=\"http://www.w3.org/1999/xlink\">\n  <defs id=\"defs_block\">\n    <filter height=\"1.504\" id=\"filter_blur\" inkspace:collect=\"always\" width=\"1.1575\" x=\"-0.07875\" y=\"-0.252\">\n      <feGaussianBlur id=\"feGaussianBlur3780\" inkspace:collect=\"always\" stdDeviation=\"4.2\"/>\n    </filter>\n  </defs>\n  <title>blockdiag</title>\n  <desc>blockdiag {\n    A -&gt; IF -&gt; B1,B2 -&gt; C\n    \n    default_fontsize = 24\n    default_node_color = &quot;orange&quot;\n    \n    IF[label=&quot;Condición&quot;, shape=&quot;flowchart.condition&quot;, width=180, fontsize=20]    \n    \n    A -&gt; B1,B2 [style=none]\n    //IF -&gt; C [style=none]\n    IF -&gt; B1,B2 [fontsize=14]\n    IF -&gt; B1 [label=&quot;True&quot;]\n    IF -&gt; B2 [label=&quot;False&quot;]\n}</desc>\n  <rect fill=\"rgb(0,0,0)\" height=\"40\" stroke=\"rgb(0,0,0)\" style=\"filter:url(#filter_blur);opacity:0.7;fill-opacity:1\" width=\"128\" x=\"67\" y=\"46\"/>\n  <polygon fill=\"rgb(0,0,0)\" points=\"349,38 447,66 349,94 251,66 349,38\" stroke=\"rgb(0,0,0)\" style=\"filter:url(#filter_blur);opacity:0.7;fill-opacity:1\"/>\n  <rect fill=\"rgb(0,0,0)\" height=\"40\" stroke=\"rgb(0,0,0)\" style=\"filter:url(#filter_blur);opacity:0.7;fill-opacity:1\" width=\"128\" x=\"503\" y=\"46\"/>\n  <rect fill=\"rgb(0,0,0)\" height=\"40\" stroke=\"rgb(0,0,0)\" style=\"filter:url(#filter_blur);opacity:0.7;fill-opacity:1\" width=\"128\" x=\"503\" y=\"126\"/>\n  <rect fill=\"rgb(0,0,0)\" height=\"40\" stroke=\"rgb(0,0,0)\" style=\"filter:url(#filter_blur);opacity:0.7;fill-opacity:1\" width=\"128\" x=\"695\" y=\"46\"/>\n  <rect fill=\"rgb(255,165,0)\" height=\"40\" stroke=\"rgb(0,0,0)\" width=\"128\" x=\"64\" y=\"40\"/>\n  <text fill=\"rgb(0,0,0)\" font-family=\"sans-serif\" font-size=\"24\" font-style=\"normal\" font-weight=\"normal\" text-anchor=\"middle\" textLength=\"16\" x=\"128.0\" y=\"71\">A</text>\n  <polygon fill=\"rgb(255,165,0)\" points=\"346,32 444,60 346,88 248,60 346,32\" stroke=\"rgb(0,0,0)\"/>\n  <text fill=\"rgb(0,0,0)\" font-family=\"sans-serif\" font-size=\"20\" font-style=\"normal\" font-weight=\"normal\" text-anchor=\"middle\" textLength=\"87\" x=\"346.5\" y=\"70\">Condición</text>\n  <rect fill=\"rgb(255,165,0)\" height=\"40\" stroke=\"rgb(0,0,0)\" width=\"128\" x=\"500\" y=\"40\"/>\n  <text fill=\"rgb(0,0,0)\" font-family=\"sans-serif\" font-size=\"24\" font-style=\"normal\" font-weight=\"normal\" text-anchor=\"middle\" textLength=\"29\" x=\"564.5\" y=\"71\">B1</text>\n  <rect fill=\"rgb(255,165,0)\" height=\"40\" stroke=\"rgb(0,0,0)\" width=\"128\" x=\"500\" y=\"120\"/>\n  <text fill=\"rgb(0,0,0)\" font-family=\"sans-serif\" font-size=\"24\" font-style=\"normal\" font-weight=\"normal\" text-anchor=\"middle\" textLength=\"29\" x=\"564.5\" y=\"151\">B2</text>\n  <rect fill=\"rgb(255,165,0)\" height=\"40\" stroke=\"rgb(0,0,0)\" width=\"128\" x=\"692\" y=\"40\"/>\n  <text fill=\"rgb(0,0,0)\" font-family=\"sans-serif\" font-size=\"24\" font-style=\"normal\" font-weight=\"normal\" text-anchor=\"middle\" textLength=\"17\" x=\"756.5\" y=\"71\">C</text>\n  <path d=\"M 192 60 L 240 60\" fill=\"none\" stroke=\"rgb(0,0,0)\"/>\n  <polygon fill=\"rgb(0,0,0)\" points=\"247,60 240,56 240,64 247,60\" stroke=\"rgb(0,0,0)\"/>\n  <path d=\"M 444 60 L 492 60\" fill=\"none\" stroke=\"rgb(0,0,0)\"/>\n  <polygon fill=\"rgb(0,0,0)\" points=\"499,60 492,56 492,64 499,60\" stroke=\"rgb(0,0,0)\"/>\n  <path d=\"M 444 60 L 468 60\" fill=\"none\" stroke=\"rgb(0,0,0)\"/>\n  <path d=\"M 468 60 L 468 140\" fill=\"none\" stroke=\"rgb(0,0,0)\"/>\n  <path d=\"M 468 140 L 492 140\" fill=\"none\" stroke=\"rgb(0,0,0)\"/>\n  <polygon fill=\"rgb(0,0,0)\" points=\"499,140 492,136 492,144 499,140\" stroke=\"rgb(0,0,0)\"/>\n  <path d=\"M 628 60 L 684 60\" fill=\"none\" stroke=\"rgb(0,0,0)\"/>\n  <polygon fill=\"rgb(0,0,0)\" points=\"691,60 684,56 684,64 691,60\" stroke=\"rgb(0,0,0)\"/>\n  <path d=\"M 628 140 L 676 140\" fill=\"none\" stroke=\"rgb(0,0,0)\"/>\n  <path d=\"M 676 140 L 676 60\" fill=\"none\" stroke=\"rgb(0,0,0)\"/>\n  <path d=\"M 676 60 L 684 60\" fill=\"none\" stroke=\"rgb(0,0,0)\"/>\n  <polygon fill=\"rgb(0,0,0)\" points=\"691,60 684,56 684,64 691,60\" stroke=\"rgb(0,0,0)\"/>\n  <rect fill=\"white\" height=\"17\" stroke=\"rgb(0,0,0)\" width=\"46\" x=\"445\" y=\"37\"/>\n  <text fill=\"rgb(0,0,0)\" font-family=\"sans-serif\" font-size=\"14\" font-style=\"normal\" font-weight=\"normal\" text-anchor=\"middle\" textLength=\"30\" x=\"468.0\" y=\"52\">True</text>\n  <rect fill=\"white\" height=\"17\" stroke=\"rgb(0,0,0)\" width=\"51\" x=\"443\" y=\"117\"/>\n  <text fill=\"rgb(0,0,0)\" font-family=\"sans-serif\" font-size=\"14\" font-style=\"normal\" font-weight=\"normal\" text-anchor=\"middle\" textLength=\"35\" x=\"468.5\" y=\"132\">False</text>\n</svg>"
          },
          "metadata": {}
        }
      ]
    },
    {
      "metadata": {
        "trusted": false
      },
      "cell_type": "code",
      "source": "A\nif condicion:\n    B1\nelse:\n    B2\nC",
      "execution_count": null,
      "outputs": []
    },
    {
      "metadata": {
        "slideshow": {
          "slide_type": "slide"
        }
      },
      "cell_type": "markdown",
      "source": "# Ejecución condicional múltiple (if-elif-else)\n\n* Las escaleras de if añaden múltiples caminos alternativos."
    },
    {
      "metadata": {
        "scrolled": true,
        "slideshow": {
          "slide_type": "skip"
        },
        "trusted": true
      },
      "cell_type": "code",
      "source": "%%file diag/if-elif-else.bd\nblockdiag {\n    A -> IF1,IF2,IF3,B\n    IF1 -> B1\n    IF2 -> B2\n    IF3 -> B3\n    B1,B2,B3,B -> C\n    \n    default_fontsize = 24\n    default_node_color = \"orange\"\n    \n    IF1,IF2,IF3[shape=\"flowchart.condition\", fontsize=20]\n    IF1[label=\"cond1\"]\n    IF2[label=\"cond2\"]\n    IF3,B3[shape=\"dots\"]\n    \n    A -> IF2,IF3,B [style=none]\n    IF1 -> B1\n    IF2 -> B2\n    IF3 -> B3 [style=none]\n    IF1 -> IF2 [folded]\n    IF2 -> IF3 [folded]\n    IF3 -> B [label=\"else\", folded]\n}",
      "execution_count": 46,
      "outputs": [
        {
          "output_type": "stream",
          "text": "Overwriting diag/if-elif-else.bd\n",
          "name": "stdout"
        }
      ]
    },
    {
      "metadata": {
        "slideshow": {
          "slide_type": "skip"
        },
        "trusted": true
      },
      "cell_type": "code",
      "source": "!blockdiag -Tsvg diag/if-elif-else.bd",
      "execution_count": 47,
      "outputs": []
    },
    {
      "metadata": {
        "hideCode": true,
        "hidePrompt": true,
        "trusted": true
      },
      "cell_type": "code",
      "source": "SVG(\"diag/if-elif-else.svg\")",
      "execution_count": 49,
      "outputs": [
        {
          "output_type": "execute_result",
          "execution_count": 49,
          "data": {
            "text/plain": "<IPython.core.display.SVG object>",
            "image/svg+xml": "<svg viewBox=\"0 0 832 360\" xmlns=\"http://www.w3.org/2000/svg\" xmlns:inkspace=\"http://www.inkscape.org/namespaces/inkscape\" xmlns:xlink=\"http://www.w3.org/1999/xlink\">\n  <defs id=\"defs_block\">\n    <filter height=\"1.504\" id=\"filter_blur\" inkspace:collect=\"always\" width=\"1.1575\" x=\"-0.07875\" y=\"-0.252\">\n      <feGaussianBlur id=\"feGaussianBlur3780\" inkspace:collect=\"always\" stdDeviation=\"4.2\"/>\n    </filter>\n  </defs>\n  <title>blockdiag</title>\n  <desc>blockdiag {\n    A -&gt; IF1,IF2,IF3,B\n    IF1 -&gt; B1\n    IF2 -&gt; B2\n    IF3 -&gt; B3\n    B1,B2,B3,B -&gt; C\n    \n    default_fontsize = 24\n    default_node_color = &quot;orange&quot;\n    \n    IF1,IF2,IF3[shape=&quot;flowchart.condition&quot;, fontsize=20]\n    IF1[label=&quot;cond1&quot;]\n    IF2[label=&quot;cond2&quot;]\n    IF3,B3[shape=&quot;dots&quot;]\n    \n    A -&gt; IF2,IF3,B [style=none]\n    IF1 -&gt; B1\n    IF2 -&gt; B2\n    IF3 -&gt; B3 [style=none]\n    IF1 -&gt; IF2 [folded]\n    IF2 -&gt; IF3 [folded]\n    IF3 -&gt; B [label=&quot;else&quot;, folded]\n}</desc>\n  <rect fill=\"rgb(0,0,0)\" height=\"40\" stroke=\"rgb(0,0,0)\" style=\"filter:url(#filter_blur);opacity:0.7;fill-opacity:1\" width=\"128\" x=\"67\" y=\"46\"/>\n  <polygon fill=\"rgb(0,0,0)\" points=\"323,38 395,66 323,94 251,66 323,38\" stroke=\"rgb(0,0,0)\" style=\"filter:url(#filter_blur);opacity:0.7;fill-opacity:1\"/>\n  <polygon fill=\"rgb(0,0,0)\" points=\"323,118 395,146 323,174 251,146 323,118\" stroke=\"rgb(0,0,0)\" style=\"filter:url(#filter_blur);opacity:0.7;fill-opacity:1\"/>\n  <rect fill=\"rgb(0,0,0)\" height=\"40\" stroke=\"rgb(0,0,0)\" style=\"filter:url(#filter_blur);opacity:0.7;fill-opacity:1\" width=\"128\" x=\"259\" y=\"286\"/>\n  <rect fill=\"rgb(0,0,0)\" height=\"40\" stroke=\"rgb(0,0,0)\" style=\"filter:url(#filter_blur);opacity:0.7;fill-opacity:1\" width=\"128\" x=\"451\" y=\"46\"/>\n  <rect fill=\"rgb(0,0,0)\" height=\"40\" stroke=\"rgb(0,0,0)\" style=\"filter:url(#filter_blur);opacity:0.7;fill-opacity:1\" width=\"128\" x=\"451\" y=\"126\"/>\n  <rect fill=\"rgb(0,0,0)\" height=\"40\" stroke=\"rgb(0,0,0)\" style=\"filter:url(#filter_blur);opacity:0.7;fill-opacity:1\" width=\"128\" x=\"643\" y=\"46\"/>\n  <rect fill=\"rgb(255,165,0)\" height=\"40\" stroke=\"rgb(0,0,0)\" width=\"128\" x=\"64\" y=\"40\"/>\n  <text fill=\"rgb(0,0,0)\" font-family=\"sans-serif\" font-size=\"24\" font-style=\"normal\" font-weight=\"normal\" text-anchor=\"middle\" textLength=\"16\" x=\"128.0\" y=\"71\">A</text>\n  <polygon fill=\"rgb(255,165,0)\" points=\"320,32 392,60 320,88 248,60 320,32\" stroke=\"rgb(0,0,0)\"/>\n  <text fill=\"rgb(0,0,0)\" font-family=\"sans-serif\" font-size=\"20\" font-style=\"normal\" font-weight=\"normal\" text-anchor=\"middle\" textLength=\"54\" x=\"320.0\" y=\"70\">cond1</text>\n  <polygon fill=\"rgb(255,165,0)\" points=\"320,112 392,140 320,168 248,140 320,112\" stroke=\"rgb(0,0,0)\"/>\n  <text fill=\"rgb(0,0,0)\" font-family=\"sans-serif\" font-size=\"20\" font-style=\"normal\" font-weight=\"normal\" text-anchor=\"middle\" textLength=\"54\" x=\"320.0\" y=\"150\">cond2</text>\n  <ellipse cx=\"320.0\" cy=\"220.0\" fill=\"rgb(0,0,0)\" rx=\"4.0\" ry=\"4.0\" stroke=\"rgb(0,0,0)\"/>\n  <ellipse cx=\"320.0\" cy=\"200.0\" fill=\"rgb(0,0,0)\" rx=\"4.0\" ry=\"4.0\" stroke=\"rgb(0,0,0)\"/>\n  <ellipse cx=\"320.0\" cy=\"240.0\" fill=\"rgb(0,0,0)\" rx=\"4.0\" ry=\"4.0\" stroke=\"rgb(0,0,0)\"/>\n  <rect fill=\"rgb(255,165,0)\" height=\"40\" stroke=\"rgb(0,0,0)\" width=\"128\" x=\"256\" y=\"280\"/>\n  <text fill=\"rgb(0,0,0)\" font-family=\"sans-serif\" font-size=\"24\" font-style=\"normal\" font-weight=\"normal\" text-anchor=\"middle\" textLength=\"16\" x=\"320.0\" y=\"311\">B</text>\n  <rect fill=\"rgb(255,165,0)\" height=\"40\" stroke=\"rgb(0,0,0)\" width=\"128\" x=\"448\" y=\"40\"/>\n  <text fill=\"rgb(0,0,0)\" font-family=\"sans-serif\" font-size=\"24\" font-style=\"normal\" font-weight=\"normal\" text-anchor=\"middle\" textLength=\"29\" x=\"512.5\" y=\"71\">B1</text>\n  <rect fill=\"rgb(255,165,0)\" height=\"40\" stroke=\"rgb(0,0,0)\" width=\"128\" x=\"448\" y=\"120\"/>\n  <text fill=\"rgb(0,0,0)\" font-family=\"sans-serif\" font-size=\"24\" font-style=\"normal\" font-weight=\"normal\" text-anchor=\"middle\" textLength=\"29\" x=\"512.5\" y=\"151\">B2</text>\n  <ellipse cx=\"512.0\" cy=\"220.0\" fill=\"rgb(0,0,0)\" rx=\"4.0\" ry=\"4.0\" stroke=\"rgb(0,0,0)\"/>\n  <ellipse cx=\"512.0\" cy=\"200.0\" fill=\"rgb(0,0,0)\" rx=\"4.0\" ry=\"4.0\" stroke=\"rgb(0,0,0)\"/>\n  <ellipse cx=\"512.0\" cy=\"240.0\" fill=\"rgb(0,0,0)\" rx=\"4.0\" ry=\"4.0\" stroke=\"rgb(0,0,0)\"/>\n  <rect fill=\"rgb(255,165,0)\" height=\"40\" stroke=\"rgb(0,0,0)\" width=\"128\" x=\"640\" y=\"40\"/>\n  <text fill=\"rgb(0,0,0)\" font-family=\"sans-serif\" font-size=\"24\" font-style=\"normal\" font-weight=\"normal\" text-anchor=\"middle\" textLength=\"17\" x=\"704.5\" y=\"71\">C</text>\n  <path d=\"M 192 60 L 240 60\" fill=\"none\" stroke=\"rgb(0,0,0)\"/>\n  <polygon fill=\"rgb(0,0,0)\" points=\"247,60 240,56 240,64 247,60\" stroke=\"rgb(0,0,0)\"/>\n  <path d=\"M 320 88 L 320 104\" fill=\"none\" stroke=\"rgb(0,0,0)\"/>\n  <polygon fill=\"rgb(0,0,0)\" points=\"320,111 316,104 324,104 320,111\" stroke=\"rgb(0,0,0)\"/>\n  <path d=\"M 392 60 L 440 60\" fill=\"none\" stroke=\"rgb(0,0,0)\"/>\n  <polygon fill=\"rgb(0,0,0)\" points=\"447,60 440,56 440,64 447,60\" stroke=\"rgb(0,0,0)\"/>\n  <path d=\"M 392 140 L 440 140\" fill=\"none\" stroke=\"rgb(0,0,0)\"/>\n  <polygon fill=\"rgb(0,0,0)\" points=\"447,140 440,136 440,144 447,140\" stroke=\"rgb(0,0,0)\"/>\n  <path d=\"M 320 168 L 320 192\" fill=\"none\" stroke=\"rgb(0,0,0)\"/>\n  <polygon fill=\"rgb(0,0,0)\" points=\"320,199 316,192 324,192 320,199\" stroke=\"rgb(0,0,0)\"/>\n  <path d=\"M 320 240 L 320 272\" fill=\"none\" stroke=\"rgb(0,0,0)\"/>\n  <polygon fill=\"rgb(0,0,0)\" points=\"320,279 316,272 324,272 320,279\" stroke=\"rgb(0,0,0)\"/>\n  <path d=\"M 384 300 L 624 300\" fill=\"none\" stroke=\"rgb(0,0,0)\"/>\n  <path d=\"M 624 300 L 624 60\" fill=\"none\" stroke=\"rgb(0,0,0)\"/>\n  <path d=\"M 624 60 L 632 60\" fill=\"none\" stroke=\"rgb(0,0,0)\"/>\n  <polygon fill=\"rgb(0,0,0)\" points=\"639,60 632,56 632,64 639,60\" stroke=\"rgb(0,0,0)\"/>\n  <path d=\"M 576 60 L 632 60\" fill=\"none\" stroke=\"rgb(0,0,0)\"/>\n  <polygon fill=\"rgb(0,0,0)\" points=\"639,60 632,56 632,64 639,60\" stroke=\"rgb(0,0,0)\"/>\n  <path d=\"M 576 140 L 624 140\" fill=\"none\" stroke=\"rgb(0,0,0)\"/>\n  <path d=\"M 624 140 L 624 60\" fill=\"none\" stroke=\"rgb(0,0,0)\"/>\n  <path d=\"M 624 60 L 632 60\" fill=\"none\" stroke=\"rgb(0,0,0)\"/>\n  <polygon fill=\"rgb(0,0,0)\" points=\"639,60 632,56 632,64 639,60\" stroke=\"rgb(0,0,0)\"/>\n  <path d=\"M 576 220 L 624 220\" fill=\"none\" stroke=\"rgb(0,0,0)\"/>\n  <path d=\"M 624 220 L 624 60\" fill=\"none\" stroke=\"rgb(0,0,0)\"/>\n  <path d=\"M 624 60 L 632 60\" fill=\"none\" stroke=\"rgb(0,0,0)\"/>\n  <polygon fill=\"rgb(0,0,0)\" points=\"639,60 632,56 632,64 639,60\" stroke=\"rgb(0,0,0)\"/>\n  <rect fill=\"white\" height=\"0\" stroke=\"rgb(0,0,0)\" width=\"0\" x=\"344\" y=\"240\"/>\n  <rect fill=\"white\" height=\"0\" stroke=\"rgb(0,0,0)\" width=\"0\" x=\"344\" y=\"240\"/>\n  <rect fill=\"white\" height=\"18\" stroke=\"rgb(0,0,0)\" width=\"43\" x=\"347\" y=\"241\"/>\n  <text fill=\"rgb(0,0,0)\" font-family=\"sans-serif\" font-size=\"15\" font-style=\"normal\" font-weight=\"normal\" text-anchor=\"middle\" textLength=\"27\" x=\"368.5\" y=\"257\">else</text>\n</svg>"
          },
          "metadata": {}
        }
      ]
    },
    {
      "metadata": {
        "trusted": false
      },
      "cell_type": "code",
      "source": "A\nif cond1: B1\nelif cond2: B2\nelse: B\nC",
      "execution_count": 488,
      "outputs": []
    },
    {
      "metadata": {
        "slideshow": {
          "slide_type": "slide"
        }
      },
      "cell_type": "markdown",
      "source": "# Ejemplo 1\n\n* Escribir una función `calificacion` que devuelva la calificación alfanumérica correspondiente a una calificación numérica."
    },
    {
      "metadata": {
        "trusted": false
      },
      "cell_type": "code",
      "source": "",
      "execution_count": null,
      "outputs": []
    },
    {
      "metadata": {
        "hidePrompt": true,
        "slideshow": {
          "slide_type": "fragment"
        },
        "trusted": false
      },
      "cell_type": "code",
      "source": "def calificacion(x):\n    if x < 5:\n        return \"Suspenso\"\n    if x < 7:\n        return \"Aprobado\"\n    if x < 9:\n        return \"Notable\"\n    return \"Sobresaliente\"",
      "execution_count": 15,
      "outputs": []
    },
    {
      "metadata": {
        "slideshow": {
          "slide_type": "slide"
        }
      },
      "cell_type": "markdown",
      "source": "# Ejemplo 2\n\n* En EEUU es frecuente un esquema de calificaciones basados en competición entre los estudiantes.  El 20% mejor recibe una A, el 20% siguiente una B, el 20% siguiente un C, el 20% siguiente una D y el 20% peor una F.  Escribir una función `letter_grade` que devuelva la letra correspondiente a un percentil dado.  El percentil es la proporción de estudiantes que tiene un resultado peor que el del alumno.  Por ejemplo, un percentil 1.0 significaría que todos los demás alumnos tienen peor calificación."
    },
    {
      "metadata": {
        "trusted": false
      },
      "cell_type": "code",
      "source": "",
      "execution_count": null,
      "outputs": []
    },
    {
      "metadata": {
        "slideshow": {
          "slide_type": "fragment"
        },
        "trusted": false
      },
      "cell_type": "code",
      "source": "def letter_grade(x):\n    if x < 0.2:\n        return \"F\"\n    if x < 0.4:\n        return \"D\"\n    if x < 0.6:\n        return \"C\"\n    if x < 0.8:\n        return \"B\"\n    return \"A\"",
      "execution_count": 8,
      "outputs": []
    },
    {
      "metadata": {
        "slideshow": {
          "slide_type": "slide"
        }
      },
      "cell_type": "markdown",
      "source": "# Ejemplo 3\n\n* Imprime un mensaje si `n` es divisible por 2 y/o por 3."
    },
    {
      "metadata": {
        "trusted": false
      },
      "cell_type": "code",
      "source": "def es_divisible_por(n,d): return n % d == 0\n\nn = 1245412",
      "execution_count": 6,
      "outputs": []
    },
    {
      "metadata": {
        "trusted": false
      },
      "cell_type": "code",
      "source": "if es_divisible_por(n, 2):\n    if es_divisible_por(n, 3):\n        print('Divisible por 2 y por 3')\n    else:\n        print('Divisible por 2 pero no por 3')\nelif es_divisible_por(n, 3):\n    print('Divisible por 3 pero no por 2')\nelse:\n    print('No divisible por 2 ni por 3')",
      "execution_count": 7,
      "outputs": [
        {
          "name": "stdout",
          "output_type": "stream",
          "text": "Divisible por 2 pero no por 3\n"
        }
      ]
    },
    {
      "metadata": {
        "slideshow": {
          "slide_type": "slide"
        }
      },
      "cell_type": "markdown",
      "source": "# Ejemplo 4\n\n* Escribe una función `es_bisiesto` que devuelva `True` cuando el argumento es un año bisiesto y `False` en caso contrario."
    },
    {
      "metadata": {
        "trusted": false
      },
      "cell_type": "code",
      "source": "",
      "execution_count": null,
      "outputs": []
    },
    {
      "metadata": {
        "slideshow": {
          "slide_type": "fragment"
        },
        "trusted": false
      },
      "cell_type": "code",
      "source": "def es_bisiesto(x):\n    if es_divisible_por(x, 400):\n        return True\n    if es_divisible_por(x, 100):\n        return False\n    if es_divisible_por(x, 4):\n        return True\n    return False",
      "execution_count": 21,
      "outputs": []
    },
    {
      "metadata": {
        "slideshow": {
          "slide_type": "fragment"
        },
        "trusted": false
      },
      "cell_type": "code",
      "source": "def es_bisiesto(x):\n    return es_divisible_por(x, 400) or not es_divisible_por(x, 100) and es_divisible_por(x, 4)",
      "execution_count": 23,
      "outputs": []
    }
  ],
  "metadata": {
    "celltoolbar": "Hide code",
    "kernelspec": {
      "name": "python3",
      "display_name": "Python 3",
      "language": "python"
    },
    "language_info": {
      "mimetype": "text/x-python",
      "nbconvert_exporter": "python",
      "name": "python",
      "pygments_lexer": "ipython3",
      "version": "3.5.4",
      "file_extension": ".py",
      "codemirror_mode": {
        "version": 3,
        "name": "ipython"
      }
    }
  },
  "nbformat": 4,
  "nbformat_minor": 2
}