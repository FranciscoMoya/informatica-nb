{
 "cells": [
  {
   "cell_type": "code",
   "execution_count": 1,
   "metadata": {
    "hideCode": false,
    "hidePrompt": false,
    "slideshow": {
     "slide_type": "skip"
    }
   },
   "outputs": [],
   "source": [
    "A = B = B1 = B2 = C = None\n",
    "condicion = cond1 = cond2 = True"
   ]
  },
  {
   "cell_type": "markdown",
   "metadata": {
    "hideCode": false,
    "hidePrompt": false,
    "slideshow": {
     "slide_type": "slide"
    }
   },
   "source": [
    "# Ejecución condicional\n",
    "\n",
    "## if - elif - else"
   ]
  },
  {
   "attachments": {
    "seq.svg": {
     "image/svg+xml": [
      "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"
     ]
    }
   },
   "cell_type": "markdown",
   "metadata": {
    "hideCode": false,
    "hidePrompt": false,
    "slideshow": {
     "slide_type": "slide"
    }
   },
   "source": [
    "# Ejecución secuencial\n",
    "\n",
    "* Normalmente las instrucciones se ejecutan en secuencia\n",
    "\n",
    "![seq.svg](attachment:seq.svg)"
   ]
  },
  {
   "cell_type": "code",
   "execution_count": 5,
   "metadata": {
    "hideCode": false,
    "hidePrompt": false
   },
   "outputs": [],
   "source": [
    "A\n",
    "B\n",
    "C"
   ]
  },
  {
   "attachments": {
    "if.svg": {
     "image/svg+xml": [
      "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"
     ]
    }
   },
   "cell_type": "markdown",
   "metadata": {
    "hideCode": false,
    "hidePrompt": false,
    "slideshow": {
     "slide_type": "slide"
    }
   },
   "source": [
    "# Ejecución condicional (if)\n",
    "\n",
    "* If añade un camino alternativo que solo se ejecuta si se cumple una condición\n",
    "\n",
    "![if.svg](attachment:if.svg)"
   ]
  },
  {
   "cell_type": "code",
   "execution_count": 9,
   "metadata": {
    "hideCode": false,
    "hidePrompt": false
   },
   "outputs": [],
   "source": [
    "A\n",
    "if condicion:\n",
    "    B\n",
    "C"
   ]
  },
  {
   "attachments": {
    "if-else.svg": {
     "image/svg+xml": [
      "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"
     ]
    }
   },
   "cell_type": "markdown",
   "metadata": {
    "hideCode": false,
    "hidePrompt": false,
    "slideshow": {
     "slide_type": "slide"
    }
   },
   "source": [
    "# Ejecución condicional (if-else)\n",
    "\n",
    "* If-else añade dos caminos alternativos que se ejecutan si se cumple/no se cumple una condición\n",
    "\n",
    "![if-else.svg](attachment:if-else.svg)"
   ]
  },
  {
   "cell_type": "code",
   "execution_count": 13,
   "metadata": {
    "hideCode": false,
    "hidePrompt": false
   },
   "outputs": [],
   "source": [
    "A\n",
    "if condicion:\n",
    "    B1\n",
    "else:\n",
    "    B2\n",
    "C"
   ]
  },
  {
   "attachments": {
    "if-elif-else.svg": {
     "image/svg+xml": [
      "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"
     ]
    }
   },
   "cell_type": "markdown",
   "metadata": {
    "hideCode": false,
    "hidePrompt": false,
    "slideshow": {
     "slide_type": "slide"
    }
   },
   "source": [
    "# Ejecución condicional múltiple (if-elif-else)\n",
    "\n",
    "* Las escaleras de if añaden múltiples caminos alternativos.\n",
    "\n",
    "![if-elif-else.svg](attachment:if-elif-else.svg)"
   ]
  },
  {
   "cell_type": "code",
   "execution_count": 17,
   "metadata": {
    "hideCode": false,
    "hidePrompt": false
   },
   "outputs": [],
   "source": [
    "A\n",
    "if cond1: B1\n",
    "elif cond2: B2\n",
    "else: B\n",
    "C"
   ]
  },
  {
   "cell_type": "markdown",
   "metadata": {
    "hideCode": false,
    "hidePrompt": false,
    "slideshow": {
     "slide_type": "slide"
    }
   },
   "source": [
    "# Ejemplo 1\n",
    "\n",
    "* Escribir una función `calificacion` que devuelva la calificación alfanumérica correspondiente a una calificación numérica."
   ]
  },
  {
   "cell_type": "code",
   "execution_count": 31,
   "metadata": {
    "hideCode": false,
    "hidePrompt": false
   },
   "outputs": [],
   "source": [
    "def calificacion(n):\n",
    "    if n < 5:\n",
    "        return 'Suspenso'\n",
    "    if n < 7:\n",
    "        return 'Aprobado'\n",
    "    if n < 9:\n",
    "        return 'Notable'\n",
    "    return 'Sobresaliente'"
   ]
  },
  {
   "cell_type": "markdown",
   "metadata": {
    "hideCode": false,
    "hidePrompt": false,
    "slideshow": {
     "slide_type": "slide"
    }
   },
   "source": [
    "# Ejemplo 2\n",
    "\n",
    "* En EEUU es frecuente un esquema de calificaciones basados en competición entre los estudiantes.  El 20% mejor recibe una A, el 20% siguiente una B, el 20% siguiente un C, el 20% siguiente una D y el 20% peor una F.  Escribir una función `letter_grade` que devuelva la letra correspondiente a un percentil dado.  El percentil es la proporción de estudiantes que tiene un resultado peor que el del alumno.  Por ejemplo, un percentil 1.0 significaría que todos los demás alumnos tienen peor calificación."
   ]
  },
  {
   "cell_type": "code",
   "execution_count": 8,
   "metadata": {
    "hideCode": false,
    "hidePrompt": false,
    "slideshow": {
     "slide_type": "fragment"
    }
   },
   "outputs": [],
   "source": [
    "def letter_grade(x):\n",
    "    if x < 0.2:\n",
    "        return \"F\"\n",
    "    if x < 0.4:\n",
    "        return \"D\"\n",
    "    if x < 0.6:\n",
    "        return \"C\"\n",
    "    if x < 0.8:\n",
    "        return \"B\"\n",
    "    return \"A\""
   ]
  },
  {
   "cell_type": "markdown",
   "metadata": {
    "hideCode": false,
    "hidePrompt": false,
    "slideshow": {
     "slide_type": "slide"
    }
   },
   "source": [
    "# Ejemplo 3\n",
    "\n",
    "* Imprime un mensaje si `n` es divisible por 2 y/o por 3."
   ]
  },
  {
   "cell_type": "code",
   "execution_count": 19,
   "metadata": {
    "hideCode": false,
    "hidePrompt": false
   },
   "outputs": [],
   "source": [
    "def es_divisible_por(n,d): \n",
    "    return n % d == 0\n",
    "\n",
    "n = 1245412"
   ]
  },
  {
   "cell_type": "code",
   "execution_count": 7,
   "metadata": {
    "hideCode": false,
    "hidePrompt": false
   },
   "outputs": [
    {
     "name": "stdout",
     "output_type": "stream",
     "text": [
      "Divisible por 2 pero no por 3\n"
     ]
    }
   ],
   "source": [
    "if es_divisible_por(n, 2):\n",
    "    if es_divisible_por(n, 3):\n",
    "        print('Divisible por 2 y por 3')\n",
    "    else:\n",
    "        print('Divisible por 2 pero no por 3')\n",
    "elif es_divisible_por(n, 3):\n",
    "    print('Divisible por 3 pero no por 2')\n",
    "else:\n",
    "    print('No divisible por 2 ni por 3')"
   ]
  },
  {
   "cell_type": "markdown",
   "metadata": {
    "hideCode": false,
    "hidePrompt": false,
    "slideshow": {
     "slide_type": "slide"
    }
   },
   "source": [
    "# Ejemplo 4\n",
    "\n",
    "* Escribe una función `es_bisiesto` que devuelva `True` cuando el argumento es un año bisiesto y `False` en caso contrario."
   ]
  },
  {
   "cell_type": "code",
   "execution_count": 20,
   "metadata": {
    "hideCode": false,
    "hidePrompt": true,
    "slideshow": {
     "slide_type": "fragment"
    }
   },
   "outputs": [],
   "source": [
    "def es_bisiesto(x):\n",
    "    if es_divisible_por(x, 400):\n",
    "        return True\n",
    "    if es_divisible_por(x, 100):\n",
    "        return False\n",
    "    if es_divisible_por(x, 4):\n",
    "        return True\n",
    "    return False"
   ]
  },
  {
   "cell_type": "code",
   "execution_count": 23,
   "metadata": {
    "hideCode": false,
    "hidePrompt": true,
    "slideshow": {
     "slide_type": "fragment"
    }
   },
   "outputs": [],
   "source": [
    "def es_bisiesto(x):\n",
    "    return es_divisible_por(x, 400) or not es_divisible_por(x, 100) and es_divisible_por(x, 4)"
   ]
  },
  {
   "cell_type": "code",
   "execution_count": 23,
   "metadata": {},
   "outputs": [
    {
     "data": {
      "text/plain": [
       "False"
      ]
     },
     "execution_count": 23,
     "metadata": {},
     "output_type": "execute_result"
    }
   ],
   "source": [
    "es_bisiesto(1900)"
   ]
  },
  {
   "cell_type": "markdown",
   "metadata": {},
   "source": [
    "Archivos para generar las imágenes"
   ]
  },
  {
   "cell_type": "code",
   "execution_count": null,
   "metadata": {
    "hideCode": false,
    "hidePrompt": false,
    "scrolled": true,
    "slideshow": {
     "slide_type": "skip"
    }
   },
   "outputs": [],
   "source": [
    "%%file diag/seq.bd\n",
    "blockdiag {\n",
    "    default_fontsize = 24\n",
    "    span_height = 80\n",
    "    default_node_color = \"orange\"\n",
    "\n",
    "    default_fontsize = 24\n",
    "    A -> B -> C\n",
    "}"
   ]
  },
  {
   "cell_type": "code",
   "execution_count": 6,
   "metadata": {
    "hideCode": false,
    "hidePrompt": false,
    "scrolled": true,
    "slideshow": {
     "slide_type": "skip"
    }
   },
   "outputs": [
    {
     "name": "stdout",
     "output_type": "stream",
     "text": [
      "Overwriting diag/if.bd\n"
     ]
    }
   ],
   "source": [
    "%%file diag/if.bd\n",
    "blockdiag {\n",
    "    A -> IF,B -> C\n",
    "    \n",
    "    default_fontsize = 24\n",
    "    span_height = 80\n",
    "    default_node_color = \"orange\"\n",
    "    \n",
    "    IF[label=\"Condición\", shape=\"flowchart.condition\", width=180, fontsize=18]    \n",
    "    IF -> B [folded,label=\"True\",fontsize=14]\n",
    "    IF -> C [label=\"False\",fontsize=14]\n",
    "    A -> B [style=none]\n",
    "}"
   ]
  },
  {
   "cell_type": "code",
   "execution_count": 10,
   "metadata": {
    "hideCode": false,
    "hidePrompt": false,
    "scrolled": true,
    "slideshow": {
     "slide_type": "skip"
    }
   },
   "outputs": [
    {
     "name": "stdout",
     "output_type": "stream",
     "text": [
      "Overwriting diag/if-else.bd\n"
     ]
    }
   ],
   "source": [
    "%%file diag/if-else.bd\n",
    "blockdiag {\n",
    "    A -> IF -> B1,B2 -> C\n",
    "    \n",
    "    default_fontsize = 24\n",
    "    default_node_color = \"orange\"\n",
    "    \n",
    "    IF[label=\"Condición\", shape=\"flowchart.condition\", width=180, fontsize=20]    \n",
    "    \n",
    "    A -> B1,B2 [style=none]\n",
    "    //IF -> C [style=none]\n",
    "    IF -> B1,B2 [fontsize=14]\n",
    "    IF -> B1 [label=\"True\"]\n",
    "    IF -> B2 [label=\"False\"]\n",
    "}"
   ]
  },
  {
   "cell_type": "code",
   "execution_count": 14,
   "metadata": {
    "hideCode": false,
    "hidePrompt": false,
    "scrolled": true,
    "slideshow": {
     "slide_type": "skip"
    }
   },
   "outputs": [
    {
     "name": "stdout",
     "output_type": "stream",
     "text": [
      "Overwriting diag/if-elif-else.bd\n"
     ]
    }
   ],
   "source": [
    "%%file diag/if-elif-else.bd\n",
    "blockdiag {\n",
    "    A -> IF1,IF2,IF3,B\n",
    "    IF1 -> B1\n",
    "    IF2 -> B2\n",
    "    IF3 -> B3\n",
    "    B1,B2,B3,B -> C\n",
    "    \n",
    "    default_fontsize = 24\n",
    "    default_node_color = \"orange\"\n",
    "    \n",
    "    IF1,IF2,IF3[shape=\"flowchart.condition\", fontsize=20]\n",
    "    IF1[label=\"cond1\"]\n",
    "    IF2[label=\"cond2\"]\n",
    "    IF3,B3[shape=\"dots\"]\n",
    "    \n",
    "    A -> IF2,IF3,B [style=none]\n",
    "    IF1 -> B1\n",
    "    IF2 -> B2\n",
    "    IF3 -> B3 [style=none]\n",
    "    IF1 -> IF2 [folded]\n",
    "    IF2 -> IF3 [folded]\n",
    "    IF3 -> B [label=\"else\", folded]\n",
    "}"
   ]
  },
  {
   "cell_type": "code",
   "execution_count": 15,
   "metadata": {
    "hideCode": false,
    "hidePrompt": false,
    "slideshow": {
     "slide_type": "skip"
    }
   },
   "outputs": [],
   "source": [
    "!blockdiag -Tsvg diag/seq.bd\n",
    "!blockdiag -Tsvg diag/if.bd\n",
    "!blockdiag -Tsvg diag/if-else.bd\n",
    "!blockdiag -Tsvg diag/if-elif-else.bd"
   ]
  }
 ],
 "metadata": {
  "celltoolbar": "Hide code",
  "hide_code_all_hidden": true,
  "kernelspec": {
   "display_name": "Python 3",
   "language": "python",
   "name": "python3"
  },
  "language_info": {
   "codemirror_mode": {
    "name": "ipython",
    "version": 3
   },
   "file_extension": ".py",
   "mimetype": "text/x-python",
   "name": "python",
   "nbconvert_exporter": "python",
   "pygments_lexer": "ipython3",
   "version": "3.6.3"
  }
 },
 "nbformat": 4,
 "nbformat_minor": 2
}
