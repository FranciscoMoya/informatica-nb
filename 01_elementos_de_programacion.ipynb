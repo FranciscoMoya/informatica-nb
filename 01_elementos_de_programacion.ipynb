{
  "nbformat": 4,
  "nbformat_minor": 0,
  "metadata": {
    "celltoolbar": "Attachments",
    "kernelspec": {
      "name": "python3",
      "display_name": "Python 3",
      "language": "python"
    },
    "language_info": {
      "mimetype": "text/x-python",
      "nbconvert_exporter": "python",
      "name": "python",
      "pygments_lexer": "ipython3",
      "version": "3.5.4",
      "file_extension": ".py",
      "codemirror_mode": {
        "version": 3,
        "name": "ipython"
      }
    },
    "colab": {
      "name": "01_elementos_de_programacion.ipynb",
      "provenance": [],
      "include_colab_link": true
    }
  },
  "cells": [
    {
      "cell_type": "markdown",
      "metadata": {
        "id": "view-in-github",
        "colab_type": "text"
      },
      "source": [
        "<a href=\"https://colab.research.google.com/github/FranciscoMoya/informatica-nb/blob/master/01_elementos_de_programacion.ipynb\" target=\"_parent\"><img src=\"https://colab.research.google.com/assets/colab-badge.svg\" alt=\"Open In Colab\"/></a>"
      ]
    },
    {
      "cell_type": "markdown",
      "metadata": {
        "collapsed": true,
        "id": "0CXzbqEe4hd4"
      },
      "source": [
        "# Elementos de un programa\n",
        "\n",
        "* Primitivas\n",
        "* Composición\n",
        "* Abstracción"
      ]
    },
    {
      "cell_type": "markdown",
      "metadata": {
        "id": "okuro1dk4hd4"
      },
      "source": [
        "# Primitivas\n",
        "\n",
        "* Expresiones\n",
        "* Sentencias"
      ]
    },
    {
      "cell_type": "markdown",
      "metadata": {
        "id": "LV9oUqVt4hd5"
      },
      "source": [
        "# Expresiones primitivas\n",
        "\n",
        "* Números enteros\n",
        "* Números reales\n",
        "* Verdadero/falso (booleanos)\n",
        "* Texto"
      ]
    },
    {
      "cell_type": "code",
      "metadata": {
        "trusted": false,
        "id": "HVgBmDMj4hd5",
        "outputId": "17a751c4-16f1-474e-e862-42d49f1ac211",
        "colab": {
          "base_uri": "https://localhost:8080/",
          "height": 34
        }
      },
      "source": [
        "12, 1.5, False, 'Texto'"
      ],
      "execution_count": null,
      "outputs": [
        {
          "output_type": "execute_result",
          "data": {
            "text/plain": [
              "(12, 1.5, False, 'Texto')"
            ]
          },
          "metadata": {
            "tags": []
          },
          "execution_count": 1
        }
      ]
    },
    {
      "cell_type": "markdown",
      "metadata": {
        "id": "QjhwwQDM4hd9"
      },
      "source": [
        "## Expresiones compuestas\n",
        "\n",
        "* Operandos\n",
        "* Operadores\n",
        "\n",
        "```\n",
        "1/2 + 1/4\n",
        "```"
      ]
    },
    {
      "cell_type": "code",
      "metadata": {
        "trusted": false,
        "id": "_uhUN-lA4hd-",
        "outputId": "deb73782-1ad6-4c83-e6db-50cd36de807d",
        "colab": {
          "base_uri": "https://localhost:8080/",
          "height": 35
        }
      },
      "source": [
        "(1/2)+(1/4)"
      ],
      "execution_count": null,
      "outputs": [
        {
          "output_type": "execute_result",
          "data": {
            "text/plain": [
              "0.75"
            ]
          },
          "metadata": {
            "tags": []
          },
          "execution_count": 5
        }
      ]
    },
    {
      "cell_type": "markdown",
      "metadata": {
        "id": "Jy5PhCJq4heB"
      },
      "source": [
        "# Expresión de llamada a función\n",
        "\n",
        "* Función = operador\n",
        "* Operador antes de operandos\n",
        "* Operandos entre paréntesis"
      ]
    },
    {
      "cell_type": "code",
      "metadata": {
        "trusted": false,
        "id": "DYtB6tdN4heB",
        "outputId": "2fd46b29-7ca3-4ff0-f1b6-1532fdae545f",
        "colab": {
          "base_uri": "https://localhost:8080/",
          "height": 35
        }
      },
      "source": [
        "max(7.5,9.5)"
      ],
      "execution_count": null,
      "outputs": [
        {
          "output_type": "execute_result",
          "data": {
            "text/plain": [
              "9.5"
            ]
          },
          "metadata": {
            "tags": []
          },
          "execution_count": 6
        }
      ]
    },
    {
      "cell_type": "markdown",
      "metadata": {
        "id": "2s0RXS9h4heD"
      },
      "source": [
        "# Notación infija vs. llamada\n",
        "\n",
        "* Número de operandos\n",
        "* Anidamiento explícito\n",
        "* Notación homogénea"
      ]
    },
    {
      "cell_type": "code",
      "metadata": {
        "trusted": false,
        "id": "fXMrdr5d4heD",
        "outputId": "cad381f7-7c20-4f04-c6ea-933dbe1388e3",
        "colab": {
          "base_uri": "https://localhost:8080/",
          "height": 34
        }
      },
      "source": [
        "max(1.5,5.5,min(5.0,4.0),min(4.5,2.1))"
      ],
      "execution_count": null,
      "outputs": [
        {
          "output_type": "execute_result",
          "data": {
            "text/plain": [
              "5.5"
            ]
          },
          "metadata": {
            "tags": []
          },
          "execution_count": 3
        }
      ]
    },
    {
      "cell_type": "markdown",
      "metadata": {
        "id": "8eob-Wms4heG"
      },
      "source": [
        "# Importar elementos\n",
        "\n"
      ]
    },
    {
      "cell_type": "code",
      "metadata": {
        "trusted": false,
        "id": "9WBFmcR04heG",
        "outputId": "bb82c4a3-79c0-4add-861e-0d7b9894a56b",
        "colab": {
          "base_uri": "https://localhost:8080/",
          "height": 34
        }
      },
      "source": [
        "from math import sqrt\n",
        "sqrt(256)"
      ],
      "execution_count": null,
      "outputs": [
        {
          "output_type": "execute_result",
          "data": {
            "text/plain": [
              "16.0"
            ]
          },
          "metadata": {
            "tags": []
          },
          "execution_count": 4
        }
      ]
    },
    {
      "cell_type": "code",
      "metadata": {
        "trusted": false,
        "id": "yKBB31Xi4heI",
        "outputId": "87b9c7f4-1dfa-4466-a190-734d4a38908f",
        "colab": {
          "base_uri": "https://localhost:8080/",
          "height": 34
        }
      },
      "source": [
        "from operator import add, sub, mul\n",
        "sub(100, mul(7, add(8,4)))"
      ],
      "execution_count": null,
      "outputs": [
        {
          "output_type": "execute_result",
          "data": {
            "text/plain": [
              "16"
            ]
          },
          "metadata": {
            "tags": []
          },
          "execution_count": 5
        }
      ]
    },
    {
      "cell_type": "markdown",
      "metadata": {
        "id": "6P5CRZ-z4heL"
      },
      "source": [
        "# Importar bibliotecas\n",
        "\n"
      ]
    },
    {
      "cell_type": "code",
      "metadata": {
        "trusted": false,
        "id": "N_YEW8884heL",
        "outputId": "3cae29bd-eafe-4415-dc88-87a73c9baa83",
        "colab": {
          "base_uri": "https://localhost:8080/",
          "height": 35
        }
      },
      "source": [
        "import math\n",
        "math.sqrt(256)"
      ],
      "execution_count": null,
      "outputs": [
        {
          "output_type": "execute_result",
          "data": {
            "text/plain": [
              "3.141592653589793"
            ]
          },
          "metadata": {
            "tags": []
          },
          "execution_count": 8
        }
      ]
    },
    {
      "cell_type": "code",
      "metadata": {
        "trusted": false,
        "id": "5gICry-R4heN",
        "outputId": "4463e5cf-5686-48fe-892c-17484d68d193",
        "colab": {
          "base_uri": "https://localhost:8080/",
          "height": 34
        }
      },
      "source": [
        "import operator as op\n",
        "op.sub(100, op.mul(7, op.add(8,4)))"
      ],
      "execution_count": null,
      "outputs": [
        {
          "output_type": "execute_result",
          "data": {
            "text/plain": [
              "16"
            ]
          },
          "metadata": {
            "tags": []
          },
          "execution_count": 7
        }
      ]
    },
    {
      "cell_type": "markdown",
      "metadata": {
        "id": "oOnqgcBB4heP"
      },
      "source": [
        "# Nombres\n",
        "\n",
        "* Abstracción primitiva"
      ]
    },
    {
      "cell_type": "code",
      "metadata": {
        "trusted": false,
        "id": "i7eT5zaW4heP"
      },
      "source": [
        "radio = 10\n",
        "pi = 3.1415926535\n",
        "area = pi * radio ** 2"
      ],
      "execution_count": null,
      "outputs": []
    },
    {
      "cell_type": "markdown",
      "metadata": {
        "id": "vKh87w1r4heR"
      },
      "source": [
        "## Las funciones no son diferentes..."
      ]
    },
    {
      "cell_type": "code",
      "metadata": {
        "trusted": false,
        "id": "ov7iqyoN4heS",
        "outputId": "780a3fb3-993e-44db-d548-2691ff7e1ea1",
        "colab": {
          "base_uri": "https://localhost:8080/",
          "height": 34
        }
      },
      "source": [
        "f = max\n",
        "f(2,5,7)"
      ],
      "execution_count": null,
      "outputs": [
        {
          "output_type": "execute_result",
          "data": {
            "text/plain": [
              "7"
            ]
          },
          "metadata": {
            "tags": []
          },
          "execution_count": 9
        }
      ]
    },
    {
      "cell_type": "code",
      "metadata": {
        "trusted": false,
        "id": "Q2RSDIqV4heU",
        "outputId": "b8cf12c1-fb3c-4749-acc6-fc4afc93ca53",
        "colab": {
          "base_uri": "https://localhost:8080/",
          "height": 34
        }
      },
      "source": [
        "f = min\n",
        "f(2,5,7)"
      ],
      "execution_count": null,
      "outputs": [
        {
          "output_type": "execute_result",
          "data": {
            "text/plain": [
              "2"
            ]
          },
          "metadata": {
            "tags": []
          },
          "execution_count": 10
        }
      ]
    },
    {
      "cell_type": "markdown",
      "metadata": {
        "id": "h1Mhyb804heW"
      },
      "source": [
        "# Evaluar expresiones\n",
        "\n",
        "* Evaluar operador\n",
        "* Evaluar operandos\n",
        "* Aplicar operador a operandos"
      ]
    },
    {
      "cell_type": "markdown",
      "metadata": {
        "id": "w7ijWuBy4heW"
      },
      "source": [
        "![expr-compuesta-func.png](//rawgit.com/FranciscoMoya/notebooks-eii/master/img/expr-compuesta-func.png)"
      ]
    },
    {
      "cell_type": "markdown",
      "metadata": {
        "id": "7NpVus2K4heW"
      },
      "source": [
        "![expr-compuesta-inl.png](//rawgit.com/FranciscoMoya/notebooks-eii/master/img/expr-compuesta-inl.png)"
      ]
    },
    {
      "cell_type": "markdown",
      "metadata": {
        "id": "mMYtbWNs4heX"
      },
      "source": [
        "# Consistencia de tipos"
      ]
    },
    {
      "cell_type": "code",
      "metadata": {
        "trusted": false,
        "id": "pMrATD6S4heX"
      },
      "source": [
        "cadena = 'Hola, '\n",
        "entero = 2"
      ],
      "execution_count": null,
      "outputs": []
    },
    {
      "cell_type": "code",
      "metadata": {
        "trusted": false,
        "id": "Qi8QGa0j4heZ",
        "outputId": "348c102c-2f8e-43d9-ae89-27db2c2e454c",
        "colab": {
          "base_uri": "https://localhost:8080/",
          "height": 35
        }
      },
      "source": [
        "cadena + 'Paco'"
      ],
      "execution_count": null,
      "outputs": [
        {
          "output_type": "execute_result",
          "data": {
            "application/vnd.google.colaboratory.intrinsic+json": {
              "type": "string"
            },
            "text/plain": [
              "'Hola, Paco'"
            ]
          },
          "metadata": {
            "tags": []
          },
          "execution_count": 10
        }
      ]
    },
    {
      "cell_type": "code",
      "metadata": {
        "trusted": false,
        "id": "hqsdPQ5j4heb",
        "outputId": "58464163-d300-452f-b02c-4b7ec2002233",
        "colab": {
          "base_uri": "https://localhost:8080/",
          "height": 35
        }
      },
      "source": [
        "entero + 3"
      ],
      "execution_count": null,
      "outputs": [
        {
          "output_type": "execute_result",
          "data": {
            "text/plain": [
              "5"
            ]
          },
          "metadata": {
            "tags": []
          },
          "execution_count": 11
        }
      ]
    },
    {
      "cell_type": "markdown",
      "metadata": {
        "id": "nUaJvoSZ4hec"
      },
      "source": [
        "# Consistencia de tipos (2)"
      ]
    },
    {
      "cell_type": "code",
      "metadata": {
        "trusted": false,
        "id": "Z7c-X1jz4hed",
        "outputId": "fbf97ee4-e6ef-4fa3-af34-36b476d38821",
        "colab": {
          "base_uri": "https://localhost:8080/",
          "height": 164
        }
      },
      "source": [
        "cadena + entero"
      ],
      "execution_count": null,
      "outputs": [
        {
          "output_type": "error",
          "ename": "TypeError",
          "evalue": "ignored",
          "traceback": [
            "\u001b[0;31m---------------------------------------------------------------------------\u001b[0m",
            "\u001b[0;31mTypeError\u001b[0m                                 Traceback (most recent call last)",
            "\u001b[0;32m<ipython-input-14-15a8a047da42>\u001b[0m in \u001b[0;36m<module>\u001b[0;34m()\u001b[0m\n\u001b[0;32m----> 1\u001b[0;31m \u001b[0mcadena\u001b[0m \u001b[0;34m+\u001b[0m \u001b[0mentero\u001b[0m\u001b[0;34m\u001b[0m\u001b[0;34m\u001b[0m\u001b[0m\n\u001b[0m",
            "\u001b[0;31mTypeError\u001b[0m: must be str, not int"
          ]
        }
      ]
    },
    {
      "cell_type": "code",
      "metadata": {
        "trusted": false,
        "id": "dL_T3i384hef",
        "outputId": "75636033-50c8-4fe8-f722-7a12774b3c42",
        "colab": {
          "base_uri": "https://localhost:8080/",
          "height": 34
        }
      },
      "source": [
        "type(cadena), type(entero)"
      ],
      "execution_count": null,
      "outputs": [
        {
          "output_type": "execute_result",
          "data": {
            "text/plain": [
              "(str, int)"
            ]
          },
          "metadata": {
            "tags": []
          },
          "execution_count": 15
        }
      ]
    },
    {
      "cell_type": "markdown",
      "metadata": {
        "id": "4abmMzpm4heg"
      },
      "source": [
        "# Hola Mundo revisado (1)\n"
      ]
    },
    {
      "cell_type": "code",
      "metadata": {
        "trusted": false,
        "id": "jOhS1Jm54heh"
      },
      "source": [
        "def saludar(nombre):\n",
        "  print('Hola,', nombre)"
      ],
      "execution_count": null,
      "outputs": []
    },
    {
      "cell_type": "code",
      "metadata": {
        "trusted": false,
        "id": "7vNSmvzZ4hej",
        "outputId": "22a3dfe5-5b80-4410-a4ba-322499b29b35",
        "colab": {
          "base_uri": "https://localhost:8080/",
          "height": 52
        }
      },
      "source": [
        "saludar('Mundo')\n",
        "saludar('Paco')"
      ],
      "execution_count": null,
      "outputs": [
        {
          "output_type": "stream",
          "text": [
            "Hola, Mundo\n",
            "Hola, Paco\n"
          ],
          "name": "stdout"
        }
      ]
    },
    {
      "cell_type": "markdown",
      "metadata": {
        "id": "W5ie68x54hel"
      },
      "source": [
        "# Hola Mundo revisado (2)\n"
      ]
    },
    {
      "cell_type": "code",
      "metadata": {
        "trusted": false,
        "id": "e1GtEF8D4hel"
      },
      "source": [
        "def saludo(nombre):\n",
        "    return 'Hola, ' + nombre"
      ],
      "execution_count": null,
      "outputs": []
    },
    {
      "cell_type": "code",
      "metadata": {
        "trusted": false,
        "id": "f1zX7i_p4hem",
        "outputId": "0aafd151-adea-48a1-cdc8-64a3d301a777",
        "colab": {
          "base_uri": "https://localhost:8080/",
          "height": 51
        }
      },
      "source": [
        "print(saludo('Mundo'))\n",
        "print(saludo('Paco'))"
      ],
      "execution_count": null,
      "outputs": [
        {
          "output_type": "stream",
          "text": [
            "Hola, Mundo\n",
            "Hola, Paco\n"
          ],
          "name": "stdout"
        }
      ]
    },
    {
      "cell_type": "markdown",
      "metadata": {
        "id": "dzEunwou4heo"
      },
      "source": [
        "# Funciones puras e impuras\n",
        "\n",
        "* **Pura**\n",
        "  * Resultado depende solo de args\n",
        "* **Impura**\n",
        "  * Tiene efectos de lado\n",
        "  * No es idempotente\n",
        "  * No se componen con facilidad"
      ]
    },
    {
      "cell_type": "markdown",
      "metadata": {
        "id": "YAP3IuR14heo"
      },
      "source": [
        "# Créditos\n",
        "\n",
        "* Extractos de la primera parte de [Composing Programs](http://www.composingprograms.com/) de John De Nero, basado en [Structure and Interpretation of Computer Programs](https://mitpress.mit.edu/sicp/) de Harold Abelson, Gerald Jay Sussman y Julie Sussman\n",
        "* Extractos de la segunda parte de MIT Open Courseware (6.00 [Introduction to Computer Science and Programming](http://ocw.mit.edu/courses/electrical-engineering-and-computer-science/6-00-introduction-to-computer-science-and-programming-fall-2008/)) de Eric Grimson y John Guttag"
      ]
    }
  ]
}