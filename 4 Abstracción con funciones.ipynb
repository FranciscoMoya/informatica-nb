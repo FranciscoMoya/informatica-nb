{
 "cells": [
  {
   "cell_type": "code",
   "execution_count": null,
   "metadata": {
    "hideCode": false,
    "hidePrompt": false,
    "slideshow": {
     "slide_type": "skip"
    }
   },
   "outputs": [],
   "source": [
    "!pip install blockdiag\n",
    "!mkdir diag"
   ]
  },
  {
   "cell_type": "code",
   "execution_count": 189,
   "metadata": {
    "hideCode": false,
    "hidePrompt": true,
    "slideshow": {
     "slide_type": "skip"
    }
   },
   "outputs": [],
   "source": [
    "from IPython.display import Image,SVG"
   ]
  },
  {
   "cell_type": "markdown",
   "metadata": {
    "collapsed": true,
    "hideCode": false,
    "hidePrompt": false,
    "slideshow": {
     "slide_type": "slide"
    }
   },
   "source": [
    "# Abstracción con funciones\n",
    "\n",
    "* Ámbitos de declaración\n",
    "* Especificación de software\n",
    "* Recursión\n",
    "* Diseño descendente (*top-down*)"
   ]
  },
  {
   "cell_type": "markdown",
   "metadata": {
    "collapsed": true,
    "hideCode": false,
    "hidePrompt": false,
    "slideshow": {
     "slide_type": "slide"
    }
   },
   "source": [
    "# Funciones en Python\n",
    "\n",
    "* Elementos de la definición\n",
    "  * Palabra reservada `def` y **nombre**\n",
    "  * Parámetros formales\n",
    "  * Cuerpo de la función\n",
    "    * Sentencia `return`"
   ]
  },
  {
   "cell_type": "code",
   "execution_count": 1,
   "metadata": {
    "hideCode": false,
    "hidePrompt": false
   },
   "outputs": [],
   "source": [
    "def max(x, y):\n",
    "    if x > y:\n",
    "        return x\n",
    "    return y"
   ]
  },
  {
   "cell_type": "markdown",
   "metadata": {
    "hideCode": false,
    "hidePrompt": false,
    "slideshow": {
     "slide_type": "notes"
    }
   },
   "source": [
    "La palabra `def` es una palabra reservada que le dice a Python que se va a definir una función. El nombre (en este caso `max`) se usa para referirse a esta función.  La secuencia de nombres entre paréntesis (`x , y` en este ejemplo) son los parámetros formales de la función.\n",
    "\n",
    "El cuerpo de la función es cualquier fragmento de código Python.  Además tenemos una sentencia especial, `return`, que solo puede usarse en el cuerpo de una función.  Como cualquier expresión, la expresión de llamada o invocación a una función también tiene un valor, que es devuelto con ayuda de `return`.\n",
    "\n",
    "Por ejemplo `max(3,4)*max(3,2)` es 12 , porque la primera invocación de `max` devuelve 4 y la segunda devuelve 3.  Es importante recordar que `return` termina la invocación de la función.  Por ese motivo no es necesaria una cláusula `else` en este caso."
   ]
  },
  {
   "cell_type": "markdown",
   "metadata": {
    "hideCode": false,
    "hidePrompt": false,
    "slideshow": {
     "slide_type": "slide"
    }
   },
   "source": [
    "# Expresión de llamada\n",
    "\n",
    "* Llamar, invocar, usar una función."
   ]
  },
  {
   "cell_type": "code",
   "execution_count": 165,
   "metadata": {
    "slideshow": {
     "slide_type": "skip"
    }
   },
   "outputs": [
    {
     "name": "stdout",
     "output_type": "stream",
     "text": [
      "Overwriting diag/maxfn.svg\n"
     ]
    }
   ],
   "source": [
    "%%file diag/maxfn.svg\n",
    "<svg width=\"250\" height=\"120\">\n",
    "<rect x=\"0\" y=\"0\" width=\"100%\" height=\"100%\" fill=\"pink\" stroke-width=\"0\"/>\n",
    "<text style=\"font-family: monospace; font-size: 150%;\">\n",
    " <tspan dy=\"1em\" x=\"5\" >def max(x,y):</tspan>\n",
    " <tspan dy=\"1em\" x=\"2em\" >if x > y:</tspan>\n",
    " <tspan dy=\"1em\" x=\"4em\" >return x</tspan>\n",
    " <tspan dy=\"1em\" x=\"2em\" >return y</tspan>\n",
    "</text>\n",
    "</svg>"
   ]
  },
  {
   "cell_type": "code",
   "execution_count": 166,
   "metadata": {
    "slideshow": {
     "slide_type": "skip"
    }
   },
   "outputs": [
    {
     "name": "stdout",
     "output_type": "stream",
     "text": [
      "Overwriting diag/maxfncall.svg\n"
     ]
    }
   ],
   "source": [
    "%%file diag/maxfncall.svg\n",
    "<svg width=\"250\" height=\"30\">\n",
    "<rect x=\"0\" y=\"0\" width=\"100%\" height=\"100%\" fill=\"pink\" stroke-width=\"0\"/>\n",
    "<text style=\"font-family: monospace; font-size: 150%;\">\n",
    " <tspan dy=\"1em\" x=\"5\" >max(3,4)</tspan>\n",
    "</text>\n",
    "</svg>"
   ]
  },
  {
   "cell_type": "code",
   "execution_count": 209,
   "metadata": {
    "hideCode": false,
    "hidePrompt": false,
    "scrolled": false,
    "slideshow": {
     "slide_type": "skip"
    }
   },
   "outputs": [
    {
     "name": "stdout",
     "output_type": "stream",
     "text": [
      "Overwriting diag/fun-call.bd\n"
     ]
    }
   ],
   "source": [
    "%%file diag/fun-call.bd\n",
    "blockdiag {\n",
    "    default_fontsize = 18\n",
    "    default_node_color = \"orange\"\n",
    "    default_group_color = \"lightgray\"\n",
    "    span_width = 80\n",
    "    span_height = 25\n",
    "    \n",
    "    x,y,3,4 [width=20, height=30]\n",
    "    x,y [style=none, color=lightyellow]\n",
    "    fun [label=\"\", background=\"diag/maxfn.png\", color=\"pink\", height=80, width=150]\n",
    "    call [label=\"\", background=\"diag/maxfncall.png\", color=pink, height=80, width=150]\n",
    "\n",
    "    group { color=white; group { label=\"Parámetros formales\"; fontsize=14; orientation=portrait; x; y; }; fun; }\n",
    "    group { color=white; group{ label=\"Marco de pila\"; fontsize=14; orientation=portrait; 3; 4;}; call; }\n",
    "    x -> 3 [style=dashed]; y -> 4 [style=dashed]\n",
    "    x -> y [style=none]\n",
    "    3 -> 4 [style=none]\n",
    "    fun -> call [style=none]\n",
    "}"
   ]
  },
  {
   "cell_type": "code",
   "execution_count": 210,
   "metadata": {
    "hideCode": false,
    "hidePrompt": false,
    "slideshow": {
     "slide_type": "skip"
    }
   },
   "outputs": [],
   "source": [
    "!magick convert diag/maxfn.svg diag/maxfn.png\n",
    "!magick convert diag/maxfncall.svg diag/maxfncall.png\n",
    "!blockdiag -Tsvg -f C:/Windows/Fonts/consola.ttf diag/fun-call.bd"
   ]
  },
  {
   "cell_type": "code",
   "execution_count": 212,
   "metadata": {
    "hideCode": true,
    "hidePrompt": true,
    "scrolled": true
   },
   "outputs": [
    {
     "data": {
      "image/svg+xml": [
       "<svg viewBox=\"0 0 540 240\" xmlns=\"http://www.w3.org/2000/svg\" xmlns:inkspace=\"http://www.inkscape.org/namespaces/inkscape\" xmlns:xlink=\"http://www.w3.org/1999/xlink\">\n",
       "  <defs id=\"defs_block\">\n",
       "    <filter height=\"1.504\" id=\"filter_blur\" inkspace:collect=\"always\" width=\"1.1575\" x=\"-0.07875\" y=\"-0.252\">\n",
       "      <feGaussianBlur id=\"feGaussianBlur3780\" inkspace:collect=\"always\" stdDeviation=\"4.2\"/>\n",
       "    </filter>\n",
       "  </defs>\n",
       "  <title>blockdiag</title>\n",
       "  <desc>blockdiag {\n",
       "    default_fontsize = 18\n",
       "    default_node_color = &quot;orange&quot;\n",
       "    default_group_color = &quot;lightgray&quot;\n",
       "    span_width = 80\n",
       "    span_height = 25\n",
       "    \n",
       "    x,y,3,4 [width=20, height=30]\n",
       "    x,y [style=none, color=lightyellow]\n",
       "    fun [label=&quot;&quot;, background=&quot;diag/maxfn.png&quot;, color=&quot;pink&quot;, height=80, width=150]\n",
       "    call [label=&quot;&quot;, background=&quot;diag/maxfncall.png&quot;, color=pink, height=80, width=150]\n",
       "\n",
       "    group { color=white; group { label=&quot;Parámetros formales&quot;; fontsize=14; orientation=portrait; x; y; }; fun; }\n",
       "    group { color=white; group{ label=&quot;Marco de pila&quot;; fontsize=14; orientation=portrait; 3; 4;}; call; }\n",
       "    x -&gt; 3 [style=dashed]; y -&gt; 4 [style=dashed]\n",
       "    x -&gt; y [style=none]\n",
       "    3 -&gt; 4 [style=none]\n",
       "    fun -&gt; call [style=none]\n",
       "}</desc>\n",
       "  <rect fill=\"rgb(255,255,255)\" height=\"202\" style=\"filter:url(#filter_blur)\" width=\"170\" x=\"70\" y=\"19\"/>\n",
       "  <rect fill=\"rgb(211,211,211)\" height=\"97\" style=\"filter:url(#filter_blur)\" width=\"170\" x=\"70\" y=\"19\"/>\n",
       "  <rect fill=\"rgb(255,255,255)\" height=\"202\" style=\"filter:url(#filter_blur)\" width=\"170\" x=\"300\" y=\"19\"/>\n",
       "  <rect fill=\"rgb(211,211,211)\" height=\"97\" style=\"filter:url(#filter_blur)\" width=\"170\" x=\"300\" y=\"19\"/>\n",
       "  <rect fill=\"rgb(0,0,0)\" height=\"30\" stroke=\"rgb(0,0,0)\" style=\"filter:url(#filter_blur);opacity:0.7;fill-opacity:1\" width=\"20\" x=\"148\" y=\"31\"/>\n",
       "  <rect fill=\"rgb(0,0,0)\" height=\"30\" stroke=\"rgb(0,0,0)\" style=\"filter:url(#filter_blur);opacity:0.7;fill-opacity:1\" width=\"20\" x=\"148\" y=\"86\"/>\n",
       "  <rect fill=\"rgb(0,0,0)\" height=\"80\" stroke=\"rgb(0,0,0)\" style=\"filter:url(#filter_blur);opacity:0.7;fill-opacity:1\" width=\"150\" x=\"83\" y=\"141\"/>\n",
       "  <rect fill=\"rgb(0,0,0)\" height=\"30\" stroke=\"rgb(0,0,0)\" style=\"filter:url(#filter_blur);opacity:0.7;fill-opacity:1\" width=\"20\" x=\"378\" y=\"31\"/>\n",
       "  <rect fill=\"rgb(0,0,0)\" height=\"30\" stroke=\"rgb(0,0,0)\" style=\"filter:url(#filter_blur);opacity:0.7;fill-opacity:1\" width=\"20\" x=\"378\" y=\"86\"/>\n",
       "  <rect fill=\"rgb(0,0,0)\" height=\"80\" stroke=\"rgb(0,0,0)\" style=\"filter:url(#filter_blur);opacity:0.7;fill-opacity:1\" width=\"150\" x=\"313\" y=\"141\"/>\n",
       "  <rect fill=\"rgb(255,255,224)\" height=\"30\" stroke=\"rgb(0,0,0)\" stroke-dasharray=\"0 65535\" width=\"20\" x=\"145\" y=\"25\"/>\n",
       "  <text fill=\"rgb(0,0,0)\" font-family=\"sans-serif\" font-size=\"18\" font-style=\"normal\" font-weight=\"normal\" text-anchor=\"middle\" textLength=\"10\" x=\"155.0\" y=\"47\">x</text>\n",
       "  <rect fill=\"rgb(255,255,224)\" height=\"30\" stroke=\"rgb(0,0,0)\" stroke-dasharray=\"0 65535\" width=\"20\" x=\"145\" y=\"80\"/>\n",
       "  <text fill=\"rgb(0,0,0)\" font-family=\"sans-serif\" font-size=\"18\" font-style=\"normal\" font-weight=\"normal\" text-anchor=\"middle\" textLength=\"10\" x=\"155.0\" y=\"104\">y</text>\n",
       "  <rect fill=\"rgb(255,192,203)\" height=\"80\" stroke=\"rgb(255,192,203)\" width=\"150\" x=\"80\" y=\"135\"/>\n",
       "  <image height=\"80\" width=\"150\" x=\"80\" xlink:href=\"diag/maxfn.png\" y=\"135\"/>\n",
       "  <rect fill=\"none\" height=\"80\" stroke=\"rgb(0,0,0)\" width=\"150\" x=\"80\" y=\"135\"/>\n",
       "  <rect fill=\"rgb(255,165,0)\" height=\"30\" stroke=\"rgb(0,0,0)\" width=\"20\" x=\"375\" y=\"25\"/>\n",
       "  <text fill=\"rgb(0,0,0)\" font-family=\"sans-serif\" font-size=\"18\" font-style=\"normal\" font-weight=\"normal\" text-anchor=\"middle\" textLength=\"10\" x=\"385.0\" y=\"47\">3</text>\n",
       "  <rect fill=\"rgb(255,165,0)\" height=\"30\" stroke=\"rgb(0,0,0)\" width=\"20\" x=\"375\" y=\"80\"/>\n",
       "  <text fill=\"rgb(0,0,0)\" font-family=\"sans-serif\" font-size=\"18\" font-style=\"normal\" font-weight=\"normal\" text-anchor=\"middle\" textLength=\"10\" x=\"385.0\" y=\"102\">4</text>\n",
       "  <rect fill=\"rgb(255,192,203)\" height=\"80\" stroke=\"rgb(255,192,203)\" width=\"150\" x=\"310\" y=\"135\"/>\n",
       "  <image height=\"80\" width=\"150\" x=\"310\" xlink:href=\"diag/maxfncall.png\" y=\"135\"/>\n",
       "  <rect fill=\"none\" height=\"80\" stroke=\"rgb(0,0,0)\" width=\"150\" x=\"310\" y=\"135\"/>\n",
       "  <path d=\"M 165 40 L 367 40\" fill=\"none\" stroke=\"rgb(0,0,0)\" stroke-dasharray=\"4\"/>\n",
       "  <polygon fill=\"rgb(0,0,0)\" points=\"374,40 367,36 367,44 374,40\" stroke=\"rgb(0,0,0)\"/>\n",
       "  <path d=\"M 165 95 L 367 95\" fill=\"none\" stroke=\"rgb(0,0,0)\" stroke-dasharray=\"4\"/>\n",
       "  <polygon fill=\"rgb(0,0,0)\" points=\"374,95 367,91 367,99 374,95\" stroke=\"rgb(0,0,0)\"/>\n",
       "  <path d=\"M 165 40 L 367 40\" fill=\"none\" stroke=\"rgb(0,0,0)\" stroke-dasharray=\"4\"/>\n",
       "  <polygon fill=\"rgb(0,0,0)\" points=\"374,40 367,36 367,44 374,40\" stroke=\"rgb(0,0,0)\"/>\n",
       "  <path d=\"M 165 95 L 367 95\" fill=\"none\" stroke=\"rgb(0,0,0)\" stroke-dasharray=\"4\"/>\n",
       "  <polygon fill=\"rgb(0,0,0)\" points=\"374,95 367,91 367,99 374,95\" stroke=\"rgb(0,0,0)\"/>\n",
       "  <text fill=\"rgb(0,0,0)\" font-family=\"sans-serif\" font-size=\"11\" font-style=\"normal\" font-weight=\"normal\" text-anchor=\"middle\" textLength=\"114\" x=\"155.0\" y=\"24\">Parámetros formales</text>\n",
       "  <text fill=\"rgb(0,0,0)\" font-family=\"sans-serif\" font-size=\"8\" font-style=\"normal\" font-weight=\"normal\" text-anchor=\"middle\" textLength=\"52\" x=\"385.0\" y=\"23\">Marco de pila</text>\n",
       "</svg>"
      ],
      "text/plain": [
       "<IPython.core.display.SVG object>"
      ]
     },
     "execution_count": 212,
     "metadata": {},
     "output_type": "execute_result"
    }
   ],
   "source": [
    "SVG(\"diag/fun-call.svg\")"
   ]
  },
  {
   "cell_type": "markdown",
   "metadata": {
    "hideCode": false,
    "hidePrompt": false,
    "slideshow": {
     "slide_type": "notes"
    }
   },
   "source": [
    "Cuando se llama a una función (se invoca, se llama), primero se evalúan las expresiones para construir los valores de los parámetros o argumentos. Entonces los parámetros formales se asocian a los parámetros reales que se le han pasado (que se han escrito entre paréntesis en la expresión de llamada). Este proceso de asociación es similar a la asignación.\n",
    "\n",
    "Entonces el **punto de ejecución** (la instrucción siguiente a ejecutar) cambia a la primera instrucción del cuerpo de la función, y el código de la función se va ejecutando hasta que se encuentra una sentencia `return` o terminan las sentencias del cuerpo. Si se acaban las sentencias la función devuelve `None`. También ocurre lo mismo cuando no hay expresión después de `return`.\n",
    "\n",
    "El valor retornado es el valor de la expresión de llamada.\n",
    "\n",
    "Al terminar, el **punto de ejecución** se transfiere de nuevo al código que viene inmediatamente a continuación de la llamada."
   ]
  },
  {
   "cell_type": "markdown",
   "metadata": {
    "hideCode": false,
    "hidePrompt": false,
    "slideshow": {
     "slide_type": "slide"
    }
   },
   "source": [
    "# Abstracción lambda\n",
    "\n",
    "* ¡`x` e `y` se refieren a `w` y `z`!"
   ]
  },
  {
   "cell_type": "code",
   "execution_count": 263,
   "metadata": {
    "slideshow": {
     "slide_type": "skip"
    }
   },
   "outputs": [
    {
     "name": "stdout",
     "output_type": "stream",
     "text": [
      "Overwriting diag/maxfncall2.svg\n"
     ]
    }
   ],
   "source": [
    "%%file diag/maxfncall2.svg\n",
    "<svg width=\"250\" height=\"120\">\n",
    "<rect x=\"0\" y=\"0\" width=\"100%\" height=\"100%\" fill=\"pink\" stroke-width=\"0\"/>\n",
    "<text style=\"font-family: monospace; font-size: 150%;\">\n",
    " <tspan dy=\"1em\" x=\"5\" >max(w,z)</tspan>\n",
    "</text>\n",
    "</svg>"
   ]
  },
  {
   "cell_type": "code",
   "execution_count": 264,
   "metadata": {
    "hideCode": false,
    "hidePrompt": false,
    "scrolled": false,
    "slideshow": {
     "slide_type": "skip"
    }
   },
   "outputs": [
    {
     "name": "stdout",
     "output_type": "stream",
     "text": [
      "Overwriting diag/lambda-abstr.bd\n"
     ]
    }
   ],
   "source": [
    "%%file diag/lambda-abstr.bd\n",
    "blockdiag {\n",
    "    default_fontsize = 24\n",
    "    default_node_color = \"orange\"\n",
    "    default_group_color = \"lightgray\"\n",
    "    \n",
    "    fun [label=\"\", background=\"diag/maxfn.png\", height=120, width=250, color=pink]\n",
    "    call [label=\"\", background=\"diag/maxfncall2.png\", height=120, width=250, color=pink]\n",
    "\n",
    "    call -> fun [style=dashed]\n",
    "}"
   ]
  },
  {
   "cell_type": "code",
   "execution_count": 265,
   "metadata": {
    "hideCode": false,
    "hidePrompt": false,
    "slideshow": {
     "slide_type": "skip"
    }
   },
   "outputs": [],
   "source": [
    "!magick convert diag/maxfncall2.svg diag/maxfncall2.png\n",
    "!blockdiag -Tsvg -f C:\\Windows\\Fonts\\Consola.ttf diag/lambda-abstr.bd"
   ]
  },
  {
   "cell_type": "code",
   "execution_count": 266,
   "metadata": {
    "hideCode": true,
    "hidePrompt": true
   },
   "outputs": [
    {
     "data": {
      "image/svg+xml": [
       "<svg viewBox=\"0 0 692 200\" xmlns=\"http://www.w3.org/2000/svg\" xmlns:inkspace=\"http://www.inkscape.org/namespaces/inkscape\" xmlns:xlink=\"http://www.w3.org/1999/xlink\">\n",
       "  <defs id=\"defs_block\">\n",
       "    <filter height=\"1.504\" id=\"filter_blur\" inkspace:collect=\"always\" width=\"1.1575\" x=\"-0.07875\" y=\"-0.252\">\n",
       "      <feGaussianBlur id=\"feGaussianBlur3780\" inkspace:collect=\"always\" stdDeviation=\"4.2\"/>\n",
       "    </filter>\n",
       "  </defs>\n",
       "  <title>blockdiag</title>\n",
       "  <desc>blockdiag {\n",
       "    default_fontsize = 24\n",
       "    default_node_color = &quot;orange&quot;\n",
       "    default_group_color = &quot;lightgray&quot;\n",
       "    \n",
       "    fun [label=&quot;&quot;, background=&quot;diag/maxfn.png&quot;, height=120, width=250, color=pink]\n",
       "    call [label=&quot;&quot;, background=&quot;diag/maxfncall2.png&quot;, height=120, width=250, color=pink]\n",
       "\n",
       "    call -&gt; fun [style=dashed]\n",
       "}</desc>\n",
       "  <rect fill=\"rgb(0,0,0)\" height=\"120\" stroke=\"rgb(0,0,0)\" style=\"filter:url(#filter_blur);opacity:0.7;fill-opacity:1\" width=\"250\" x=\"381\" y=\"46\"/>\n",
       "  <rect fill=\"rgb(0,0,0)\" height=\"120\" stroke=\"rgb(0,0,0)\" style=\"filter:url(#filter_blur);opacity:0.7;fill-opacity:1\" width=\"250\" x=\"67\" y=\"46\"/>\n",
       "  <rect fill=\"rgb(255,192,203)\" height=\"120\" stroke=\"rgb(255,192,203)\" width=\"250\" x=\"378\" y=\"40\"/>\n",
       "  <image height=\"120\" width=\"250\" x=\"378\" xlink:href=\"diag/maxfn.png\" y=\"40\"/>\n",
       "  <rect fill=\"none\" height=\"120\" stroke=\"rgb(0,0,0)\" width=\"250\" x=\"378\" y=\"40\"/>\n",
       "  <rect fill=\"rgb(255,192,203)\" height=\"120\" stroke=\"rgb(255,192,203)\" width=\"250\" x=\"64\" y=\"40\"/>\n",
       "  <image height=\"120\" width=\"250\" x=\"64\" xlink:href=\"diag/maxfncall2.png\" y=\"40\"/>\n",
       "  <rect fill=\"none\" height=\"120\" stroke=\"rgb(0,0,0)\" width=\"250\" x=\"64\" y=\"40\"/>\n",
       "  <path d=\"M 314 100 L 370 100\" fill=\"none\" stroke=\"rgb(0,0,0)\" stroke-dasharray=\"4\"/>\n",
       "  <polygon fill=\"rgb(0,0,0)\" points=\"377,100 370,96 370,104 377,100\" stroke=\"rgb(0,0,0)\"/>\n",
       "</svg>"
      ],
      "text/plain": [
       "<IPython.core.display.SVG object>"
      ]
     },
     "execution_count": 266,
     "metadata": {},
     "output_type": "execute_result"
    }
   ],
   "source": [
    "SVG(\"diag/lambda-abstr.svg\")"
   ]
  },
  {
   "cell_type": "markdown",
   "metadata": {
    "hideCode": false,
    "hidePrompt": false,
    "slideshow": {
     "slide_type": "notes"
    }
   },
   "source": [
    "Los parámetros proporcionan un concepto llamado **abstracción lambda**. Tiene que ver con que podemos escribir código que no se refiere a objetos específicos, sino que puede trabjar con cualquier objeto que se le pase como argumento."
   ]
  },
  {
   "cell_type": "markdown",
   "metadata": {
    "hideCode": false,
    "hidePrompt": false,
    "slideshow": {
     "slide_type": "slide"
    }
   },
   "source": [
    "# Argumentos por defecto\n"
   ]
  },
  {
   "cell_type": "code",
   "execution_count": 329,
   "metadata": {
    "hideCode": false,
    "hidePrompt": false
   },
   "outputs": [],
   "source": [
    "def impr_nombre(nombre, apellido, inverso = False):\n",
    "    if inverso:\n",
    "        print(apellido + ', ' + nombre)\n",
    "    else:\n",
    "        print(nombre, apellido)"
   ]
  },
  {
   "cell_type": "code",
   "execution_count": 330,
   "metadata": {
    "hideCode": false,
    "hidePrompt": false
   },
   "outputs": [
    {
     "name": "stdout",
     "output_type": "stream",
     "text": [
      "Francisco Moya\n",
      "Moya, Francisco\n"
     ]
    }
   ],
   "source": [
    "impr_nombre('Francisco', 'Moya')\n",
    "impr_nombre('Francisco', 'Moya', True)"
   ]
  },
  {
   "cell_type": "markdown",
   "metadata": {
    "hideCode": false,
    "hidePrompt": false,
    "slideshow": {
     "slide_type": "slide"
    }
   },
   "source": [
    "# Argumentos etiquetados\n"
   ]
  },
  {
   "cell_type": "code",
   "execution_count": 331,
   "metadata": {
    "hideCode": false,
    "hidePrompt": false
   },
   "outputs": [
    {
     "name": "stdout",
     "output_type": "stream",
     "text": [
      "Luis Moya\n",
      "Luis Moya\n",
      "Luis Moya\n",
      "Luis Moya\n"
     ]
    }
   ],
   "source": [
    "impr_nombre('Luis', 'Moya')\n",
    "impr_nombre('Luis', 'Moya', \n",
    "            inverso = False)\n",
    "impr_nombre('Luis', \n",
    "            apellido = 'Moya', \n",
    "            inverso = False)\n",
    "impr_nombre(apellido = 'Moya', \n",
    "            nombre = 'Luis', \n",
    "            inverso = False)"
   ]
  },
  {
   "cell_type": "markdown",
   "metadata": {
    "hideCode": true,
    "hidePrompt": true,
    "slideshow": {
     "slide_type": "slide"
    }
   },
   "source": [
    "# Ámbito (scope)"
   ]
  },
  {
   "cell_type": "code",
   "execution_count": 332,
   "metadata": {
    "hideCode": false,
    "hidePrompt": false
   },
   "outputs": [
    {
     "name": "stdout",
     "output_type": "stream",
     "text": [
      "x = 4\n",
      "z = 4\n",
      "x = 3\n",
      "y = 2\n"
     ]
    }
   ],
   "source": [
    "def f(x):\n",
    "    y = 1\n",
    "    x = x + y\n",
    "    print('x =', x)\n",
    "    return x\n",
    "x = 3; y = 2\n",
    "z = f(x)\n",
    "print('z =', z)\n",
    "print('x =', x)\n",
    "print('y =', y)"
   ]
  },
  {
   "cell_type": "markdown",
   "metadata": {
    "hideCode": false,
    "hidePrompt": false,
    "slideshow": {
     "slide_type": "notes"
    }
   },
   "source": [
    "En el nivel superior, fuera de cualquier función, el intérprete mantiene una tabla de símbolos con los nombres asignados a los objetos correspondientes.\n",
    "\n",
    "Cuando se llama a una función se crea una nueva tabla de símbolos (se llama normalmente **marco de pila**). Esta tabla mantiene los símbolos definidos dentro de la función, incluidos los parámetros formales.  Si desde esta función se llama a otra, se crea una nueva tabla de símbolos y así sucesivamente.\n",
    "\n",
    "Cuando una función termina la tabla de símbolos correspondiente deja de existir. En Python se puede saber el ámbito de una variable simplemente mirando al texto del programa. Ésto se conoce como ámbitos léxicos o estáticos.\n"
   ]
  },
  {
   "cell_type": "markdown",
   "metadata": {
    "hideCode": false,
    "hidePrompt": false,
    "slideshow": {
     "slide_type": "slide"
    }
   },
   "source": [
    "# Ámbitos anidados (nested scopes)"
   ]
  },
  {
   "cell_type": "code",
   "execution_count": 337,
   "metadata": {
    "hideCode": false,
    "hidePrompt": false,
    "pixiedust": {
     "displayParams": {}
    }
   },
   "outputs": [
    {
     "name": "stdout",
     "output_type": "stream",
     "text": [
      "x = 4\n",
      "z = 4\n",
      "x = abc\n",
      "x = 4\n",
      "x = 3\n",
      "z = <function f.<locals>.g at 0x000001A3D273F048>\n",
      "x = abc\n"
     ]
    }
   ],
   "source": [
    "def f(x):\n",
    "    def g():\n",
    "        x = 'abc'\n",
    "        print('x =',x)\n",
    "    def h():\n",
    "        z = x\n",
    "        print('z =',z)\n",
    "    x = x + 1\n",
    "    print('x =',x)\n",
    "    h()\n",
    "    g()\n",
    "    print('x =', x)\n",
    "    return g\n",
    "x = 3\n",
    "z = f(x)\n",
    "print('x =', x)\n",
    "print('z =', z)\n",
    "z()"
   ]
  },
  {
   "cell_type": "markdown",
   "metadata": {
    "hideCode": false,
    "hidePrompt": false,
    "slideshow": {
     "slide_type": "slide"
    }
   },
   "source": [
    "# Ejemplo\n",
    "\n",
    "* ¿Qué imprime?"
   ]
  },
  {
   "cell_type": "code",
   "execution_count": null,
   "metadata": {
    "hideCode": false,
    "hidePrompt": false,
    "pixiedust": {
     "displayParams": {}
    }
   },
   "outputs": [],
   "source": [
    "def f():\n",
    "    print(x)\n",
    "def g():\n",
    "    print(x)\n",
    "    x = 1\n",
    "x = 3\n",
    "f()\n",
    "x = 3\n",
    "g()"
   ]
  },
  {
   "cell_type": "markdown",
   "metadata": {
    "hideCode": false,
    "hidePrompt": false,
    "slideshow": {
     "slide_type": "notes"
    }
   },
   "source": [
    "La asignación de x en la función g hace que el símbolo x se considere un nombre local de g.  Por tanto su uso antes de la asignación se considera un error.  El mismo código que en f no genera ningún problema, porque se refiere a la variable global x, en g es un error porque se refiere a la variable local x que aún no ha sido asignada."
   ]
  },
  {
   "cell_type": "markdown",
   "metadata": {
    "hideCode": false,
    "hidePrompt": false,
    "slideshow": {
     "slide_type": "slide"
    }
   },
   "source": [
    "# Docstrings\n"
   ]
  },
  {
   "cell_type": "code",
   "execution_count": 339,
   "metadata": {
    "hideCode": false,
    "hidePrompt": false,
    "pixiedust": {
     "displayParams": {}
    }
   },
   "outputs": [],
   "source": [
    "def f(x):\n",
    "    'Devuelve el cuadrado de x'\n",
    "    return x**2"
   ]
  },
  {
   "cell_type": "code",
   "execution_count": 342,
   "metadata": {
    "hideCode": false,
    "hidePrompt": false
   },
   "outputs": [
    {
     "name": "stdout",
     "output_type": "stream",
     "text": [
      "Help on function f in module __main__:\n",
      "\n",
      "f(x)\n",
      "    Devuelve el cuadrado de x\n",
      "\n"
     ]
    }
   ],
   "source": [
    "help(f)"
   ]
  },
  {
   "cell_type": "markdown",
   "metadata": {
    "hideCode": false,
    "hidePrompt": false,
    "slideshow": {
     "slide_type": "slide"
    }
   },
   "source": [
    "# Documentando software\n"
   ]
  },
  {
   "cell_type": "code",
   "execution_count": 339,
   "metadata": {
    "hideCode": false,
    "hidePrompt": false,
    "pixiedust": {
     "displayParams": {}
    }
   },
   "outputs": [],
   "source": [
    "def findRoot(x, power, epsilon):\n",
    "    if x < 0 and power%2 == 0:\n",
    "        return None\n",
    "    low = min(-1.0, x)\n",
    "    high = max(1.0, x)\n",
    "    ans = (high + low)/2.0\n",
    "    while abs(ans**power - x) >= epsilon:\n",
    "        if ans**power < x:\n",
    "            low = ans\n",
    "        else:\n",
    "            high = ans\n",
    "        ans = (high + low)/2.0\n",
    "    return ans"
   ]
  },
  {
   "cell_type": "markdown",
   "metadata": {
    "hideCode": false,
    "hidePrompt": false,
    "slideshow": {
     "slide_type": "slide"
    }
   },
   "source": [
    "# Documentando software\n",
    "\n",
    "* **Asume...** Suposiciones, precondiciones.\n",
    "* **Devuelve...** Garantías, postcondiciones.\n"
   ]
  },
  {
   "cell_type": "code",
   "execution_count": 344,
   "metadata": {
    "hideCode": false,
    "hidePrompt": false,
    "pixiedust": {
     "displayParams": {}
    }
   },
   "outputs": [],
   "source": [
    "def findRoot(x, power, epsilon):\n",
    "    ''' Asume x, epsilon son int o float, power es int, epsilon > 0, power >= 1\n",
    "        Devuelve un float y tal que y**power está a menos de epsilon de x.\n",
    "        Si no existe ese float devuelve None '''\n",
    "    \n",
    "    if x < 0 and power%2 == 0:\n",
    "        return None\n",
    "    low = min(-1.0, x)\n",
    "    high = max(1.0, x)\n",
    "    ans = (high + low)/2.0\n",
    "    while abs(ans**power - x) >= epsilon:\n",
    "        if ans**power < x:\n",
    "            low = ans\n",
    "        else:\n",
    "            high = ans\n",
    "        ans = (high + low)/2.0\n",
    "    return ans"
   ]
  },
  {
   "cell_type": "markdown",
   "metadata": {
    "hideCode": false,
    "hidePrompt": false,
    "slideshow": {
     "slide_type": "notes"
    }
   },
   "source": [
    "Una especificación de una función define un contrato entre el que la implementa y los que escriben programas que van a usarla (los clientes). Este contrato tiene dos partes: Los supuestos iniciales que se asumen en la implementación de la función y las garantías que ofrece.\n",
    "\n",
    "Los supuestos son habitualmente restricciones en el tipo y los valores de los argumentos, como en la primera línea de la doctring. Las garantías describen las condiciones que debe cumplir la propia función."
   ]
  },
  {
   "cell_type": "markdown",
   "metadata": {
    "hideCode": false,
    "hidePrompt": false,
    "slideshow": {
     "slide_type": "slide"
    }
   },
   "source": [
    "# Descomposición y abstracción\n",
    "\n",
    "* **Descomposición** crea estructura\n",
    "    * Problema dividido\n",
    "    * Posibilidad de reuso\n",
    "* **Abstracción** oculta detalle\n",
    "    * Información relevante disponible\n",
    "    * Información irrelevante se olvida"
   ]
  },
  {
   "cell_type": "markdown",
   "metadata": {
    "hideCode": false,
    "hidePrompt": false,
    "slideshow": {
     "slide_type": "notes"
    }
   },
   "source": [
    "Las funciones permiten crear objetos computacionales complejos que se comportan como primitivas. Esto lo consiguen proporcionando un mecanismo para descomponer y abstraer.\n",
    "\n",
    "La descomposición crea estructura. Permite romper el problema en subproblemas que son razonablemente auto-contenidos y que podrían reutilizarse en otros contextos.\n",
    "\n",
    "La abstracción oculta detalle haciendo ver el código como una caja negra. Es decir, algo cuyo interior no puede verse, ni se tiene que ver, ni debe verse.  La esencia de la programación es preservar la información relevante en cada contexto mientras se oculta la no relevante. La clave es encontrar la relación de relevancia que es apropiada tanto para los clientes como para el creador de la abstracción. En esto consiste el arte de programar de manera efectiva."
   ]
  },
  {
   "cell_type": "markdown",
   "metadata": {
    "hideCode": false,
    "hidePrompt": false,
    "slideshow": {
     "slide_type": "slide"
    }
   },
   "source": [
    "# Pruebas unitarias"
   ]
  },
  {
   "cell_type": "code",
   "execution_count": 345,
   "metadata": {
    "hideCode": false,
    "hidePrompt": false
   },
   "outputs": [],
   "source": [
    "def testFindRoot():\n",
    "    epsilon = 0.0001\n",
    "    for x in (0.25, -0.25, 2, -2):\n",
    "        for power in range(1, 4):\n",
    "            print('Testing x = ' + str(x) + \\\n",
    "             ' and power = ' + str(power))\n",
    "            result = findRoot(x, power, epsilon)\n",
    "            if result == None:\n",
    "                print('  No root')\n",
    "            else:\n",
    "                print('  ', result**power, '~=', x)"
   ]
  },
  {
   "cell_type": "code",
   "execution_count": null,
   "metadata": {
    "hideCode": false,
    "hidePrompt": false
   },
   "outputs": [],
   "source": [
    "testFindRoot()"
   ]
  },
  {
   "cell_type": "markdown",
   "metadata": {
    "hideCode": false,
    "hidePrompt": false,
    "slideshow": {
     "slide_type": "slide"
    }
   },
   "source": [
    "# Pruebas unitarias con unittest"
   ]
  },
  {
   "cell_type": "code",
   "execution_count": 365,
   "metadata": {
    "hideCode": false,
    "hidePrompt": false
   },
   "outputs": [],
   "source": [
    "import unittest\n",
    "\n",
    "epsilon = 0.000001\n",
    "class TestFindRoot(unittest.TestCase):\n",
    "    \n",
    "    def testTipicos(self):\n",
    "        self.compruebaValoresRaices((0.25, 2), (1, 2, 3))\n",
    "        self.compruebaValoresRaices((-0.25, -2), (1, 3))\n",
    "\n",
    "    def testNegativos(self):\n",
    "        self.compruebaValoresRaicesNone((-0.25, -2), (2,))\n",
    "        \n",
    "    def compruebaValoresRaices(self, valores, raices):\n",
    "        for x in valores:\n",
    "            self.compruebaRaices(x, raices)\n",
    "\n",
    "    def compruebaValoresRaicesNone(self, valores, raices):\n",
    "        for x in valores:\n",
    "            self.compruebaRaicesNone(x, raices)\n",
    "\n",
    "    def compruebaRaices(self, x, raices):\n",
    "        for power in raices:\n",
    "            self.assertAlmostEqual(findRoot(x, power, epsilon)**power, x, places=5)\n",
    "\n",
    "    def compruebaRaicesNone(self, x, raices):\n",
    "        for power in raices:\n",
    "            self.assertEqual(findRoot(x, power, epsilon), None)        "
   ]
  },
  {
   "cell_type": "markdown",
   "metadata": {
    "hideCode": false,
    "hidePrompt": false,
    "slideshow": {
     "slide_type": "slide"
    }
   },
   "source": [
    "# Pruebas unitarias con unittest (runner)\n",
    "\n",
    "* Busca todas las pruebas (clases derivadas de `unittest.TestCase`)\n",
    "* Ejecuta todas las pruebas (funciones que empiezan por `test`)"
   ]
  },
  {
   "cell_type": "code",
   "execution_count": 367,
   "metadata": {
    "hideCode": false,
    "hidePrompt": false
   },
   "outputs": [
    {
     "name": "stderr",
     "output_type": "stream",
     "text": [
      "..\n",
      "----------------------------------------------------------------------\n",
      "Ran 2 tests in 0.003s\n",
      "\n",
      "OK\n"
     ]
    },
    {
     "data": {
      "text/plain": [
       "<unittest.main.TestProgram at 0x1a3dbac5908>"
      ]
     },
     "execution_count": 367,
     "metadata": {},
     "output_type": "execute_result"
    }
   ],
   "source": [
    "unittest.main(argv=['first-arg-is-ignored'], exit=False)"
   ]
  },
  {
   "cell_type": "markdown",
   "metadata": {
    "hideCode": false,
    "hidePrompt": false,
    "slideshow": {
     "slide_type": "slide"
    }
   },
   "source": [
    "# Función recursiva\n",
    "\n",
    "* Caso base\n",
    "* Recurrencia o caso inductivo"
   ]
  },
  {
   "cell_type": "code",
   "execution_count": 368,
   "metadata": {
    "hideCode": false,
    "hidePrompt": false
   },
   "outputs": [],
   "source": [
    "def fib(n):\n",
    "    '''Asume n int, n >= 0\n",
    "       Devuelve n-simo término de sucesión de Fibonacci (int)''' \n",
    "    if n < 2:\n",
    "        return 1\n",
    "    return fib(n-1) + fib(n-2)"
   ]
  },
  {
   "cell_type": "markdown",
   "metadata": {
    "hideCode": false,
    "hidePrompt": false,
    "slideshow": {
     "slide_type": "notes"
    }
   },
   "source": [
    "Las funciones recursivas son una forma natural de expresar las definiciones inductivas, en las que se define algún caso base y el valor n-simo en función de algún otro anterior.\n",
    "\n",
    "Son muy sencillas de entender, pero a veces pueden no ser nada eficientes.  Por ejemplo ¿cuántas veces se calcula fib(2) cuando llamamos a fib(5)?\n",
    "\n",
    "Una función recursiva no tiene nada de particular respecto al caso de una función que llama a otra función, pero evidentemente para que termine alguna vez tiene que tener dos partes:\n",
    "\n",
    "* Uno o varios casos base, en los que el resultado se puede obtener directamente.\n",
    "* Una recurrencia, o caso inductivo, o caso recursivo, en los que el resultado se determina en función de los resultados para casos más cercanos a los casos base."
   ]
  },
  {
   "cell_type": "markdown",
   "metadata": {
    "hideCode": false,
    "hideOutput": false,
    "hidePrompt": false,
    "slideshow": {
     "slide_type": "slide"
    }
   },
   "source": [
    "# Ejercicio\n",
    "\n",
    "* Factorial de un número\n",
    "    * Recursivo e iterativo\n"
   ]
  },
  {
   "cell_type": "code",
   "execution_count": null,
   "metadata": {
    "hideCode": false,
    "hidePrompt": false
   },
   "outputs": [],
   "source": []
  },
  {
   "cell_type": "code",
   "execution_count": 369,
   "metadata": {
    "hideCode": false,
    "hidePrompt": false,
    "slideshow": {
     "slide_type": "fragment"
    }
   },
   "outputs": [],
   "source": [
    "def fact(n):\n",
    "    if n < 1: return 1\n",
    "    return n * fact(n-1)\n",
    "\n",
    "def fact_i(n):\n",
    "    ret = 1\n",
    "    for i in range(2,n+1):\n",
    "        ret *= i\n",
    "    return ret"
   ]
  },
  {
   "cell_type": "markdown",
   "metadata": {
    "hideCode": false,
    "hidePrompt": false,
    "slideshow": {
     "slide_type": "slide"
    }
   },
   "source": [
    "# Cadenas de texto\n",
    "## Subcadenas"
   ]
  },
  {
   "cell_type": "code",
   "execution_count": 381,
   "metadata": {
    "hideCode": false,
    "hidePrompt": false
   },
   "outputs": [
    {
     "data": {
      "text/plain": [
       "'abcde'"
      ]
     },
     "execution_count": 381,
     "metadata": {},
     "output_type": "execute_result"
    }
   ],
   "source": [
    "s = u'abcdefghijklmnñopqrstuvwxyz'\n",
    "\n",
    "s[:5]"
   ]
  },
  {
   "cell_type": "code",
   "execution_count": 378,
   "metadata": {
    "hideCode": false,
    "hidePrompt": false
   },
   "outputs": [
    {
     "data": {
      "text/plain": [
       "'fghij'"
      ]
     },
     "execution_count": 378,
     "metadata": {},
     "output_type": "execute_result"
    }
   ],
   "source": [
    "s[5:10]"
   ]
  },
  {
   "cell_type": "code",
   "execution_count": 379,
   "metadata": {
    "hideCode": false,
    "hidePrompt": false
   },
   "outputs": [
    {
     "data": {
      "text/plain": [
       "'klmnñopqrstuvwxyz'"
      ]
     },
     "execution_count": 379,
     "metadata": {},
     "output_type": "execute_result"
    }
   ],
   "source": [
    "s[10:]"
   ]
  },
  {
   "cell_type": "code",
   "execution_count": 380,
   "metadata": {
    "hideCode": false,
    "hidePrompt": false
   },
   "outputs": [
    {
     "data": {
      "text/plain": [
       "'vwxyz'"
      ]
     },
     "execution_count": 380,
     "metadata": {},
     "output_type": "execute_result"
    }
   ],
   "source": [
    "s[-5:]"
   ]
  },
  {
   "cell_type": "code",
   "execution_count": null,
   "metadata": {
    "hideCode": false,
    "hidePrompt": false,
    "slideshow": {
     "slide_type": "-"
    }
   },
   "outputs": [],
   "source": []
  },
  {
   "cell_type": "markdown",
   "metadata": {
    "hideCode": false,
    "hidePrompt": false,
    "slideshow": {
     "slide_type": "slide"
    }
   },
   "source": [
    "# Ejercicio\n",
    "\n",
    "* Definir `es_palindromo(s)` que devuelve `True` si la cadena `s` es palíndromo.\n"
   ]
  },
  {
   "cell_type": "code",
   "execution_count": 6,
   "metadata": {
    "hideCode": false,
    "hidePrompt": false
   },
   "outputs": [
    {
     "data": {
      "text/plain": [
       "True"
      ]
     },
     "execution_count": 6,
     "metadata": {},
     "output_type": "execute_result"
    }
   ],
   "source": [
    "es_palindromo('dabalearrozalazorraelabad')"
   ]
  },
  {
   "cell_type": "code",
   "execution_count": 4,
   "metadata": {
    "hideCode": false,
    "hidePrompt": false,
    "slideshow": {
     "slide_type": "fragment"
    }
   },
   "outputs": [],
   "source": [
    "def es_palindromo(s):\n",
    "    if len(s) < 2:\n",
    "        return True\n",
    "    return s[0] == s[-1] and es_palindromo(s[1:-1])"
   ]
  },
  {
   "cell_type": "markdown",
   "metadata": {
    "hideCode": false,
    "hidePrompt": false,
    "slideshow": {
     "slide_type": "slide"
    }
   },
   "source": [
    "# Módulos\n"
   ]
  },
  {
   "cell_type": "code",
   "execution_count": 8,
   "metadata": {},
   "outputs": [
    {
     "name": "stdout",
     "output_type": "stream",
     "text": [
      "Writing lab1.py\n"
     ]
    }
   ],
   "source": [
    "%%file lab1.py\n",
    "def my_email():\n",
    "    return 'francisco.moya@uclm.es'"
   ]
  },
  {
   "cell_type": "code",
   "execution_count": 9,
   "metadata": {},
   "outputs": [
    {
     "data": {
      "text/plain": [
       "'francisco.moya@uclm.es'"
      ]
     },
     "execution_count": 9,
     "metadata": {},
     "output_type": "execute_result"
    }
   ],
   "source": [
    "from lab1 import *\n",
    "my_email()"
   ]
  },
  {
   "cell_type": "code",
   "execution_count": 10,
   "metadata": {},
   "outputs": [
    {
     "data": {
      "text/plain": [
       "'francisco.moya@uclm.es'"
      ]
     },
     "execution_count": 10,
     "metadata": {},
     "output_type": "execute_result"
    }
   ],
   "source": [
    "import lab1\n",
    "lab1.my_email()"
   ]
  },
  {
   "cell_type": "code",
   "execution_count": 11,
   "metadata": {},
   "outputs": [
    {
     "data": {
      "text/plain": [
       "'francisco.moya@uclm.es'"
      ]
     },
     "execution_count": 11,
     "metadata": {},
     "output_type": "execute_result"
    }
   ],
   "source": [
    "import lab1 as x\n",
    "x.my_email()"
   ]
  }
 ],
 "metadata": {
  "celltoolbar": "Hide code",
  "hide_code_all_hidden": true,
  "kernelspec": {
   "display_name": "Python 3",
   "language": "python",
   "name": "python3"
  },
  "language_info": {
   "codemirror_mode": {
    "name": "ipython",
    "version": 3
   },
   "file_extension": ".py",
   "mimetype": "text/x-python",
   "name": "python",
   "nbconvert_exporter": "python",
   "pygments_lexer": "ipython3",
   "version": "3.6.3"
  }
 },
 "nbformat": 4,
 "nbformat_minor": 2
}
