{
 "cells": [
  {
   "cell_type": "code",
   "execution_count": null,
   "metadata": {
    "hideCode": true,
    "hidePrompt": true,
    "slideshow": {
     "slide_type": "skip"
    }
   },
   "outputs": [],
   "source": [
    "!pip install blockdiag\n",
    "!mkdir diag"
   ]
  },
  {
   "cell_type": "code",
   "execution_count": 2,
   "metadata": {
    "hideCode": true,
    "hidePrompt": true,
    "slideshow": {
     "slide_type": "skip"
    }
   },
   "outputs": [],
   "source": [
    "from IPython.display import Image"
   ]
  },
  {
   "cell_type": "markdown",
   "metadata": {
    "collapsed": true,
    "hideCode": true,
    "hidePrompt": true,
    "slideshow": {
     "slide_type": "slide"
    }
   },
   "source": [
    "# Abstracción con funciones\n",
    "\n",
    "* Ámbitos de declaración\n",
    "* Especificación de software\n",
    "* Recursión\n",
    "* Diseño descendente (*top-down*)"
   ]
  },
  {
   "cell_type": "markdown",
   "metadata": {
    "collapsed": true,
    "hideCode": true,
    "hidePrompt": true,
    "slideshow": {
     "slide_type": "slide"
    }
   },
   "source": [
    "# Funciones en Python\n",
    "\n",
    "* Elementos de la definición\n",
    "  * Palabra reservada `def` y **nombre**\n",
    "  * Parámetros formales\n",
    "  * Cuerpo de la función\n",
    "    * Sentencia `return`"
   ]
  },
  {
   "cell_type": "code",
   "execution_count": 1,
   "metadata": {
    "hideCode": true,
    "hidePrompt": true
   },
   "outputs": [],
   "source": [
    "def max(x, y):\n",
    "    if x > y:\n",
    "        return x\n",
    "    return y"
   ]
  },
  {
   "cell_type": "markdown",
   "metadata": {
    "hideCode": true,
    "hidePrompt": true,
    "slideshow": {
     "slide_type": "notes"
    }
   },
   "source": [
    "La palabra `def` es una palabra reservada que le dice a Python que se va a definir una función. El nombre (en este caso `max`) se usa para referirse a esta función.  La secuencia de nombres entre paréntesis (`x , y` en este ejemplo) son los parámetros formales de la función.\n",
    "\n",
    "El cuerpo de la función es cualquier fragmento de código Python.  Además tenemos una sentencia especial, `return`, que solo puede usarse en el cuerpo de una función.  Como cualquier expresión, la expresión de llamada o invocación a una función también tiene un valor, que es devuelto con ayuda de `return`.\n",
    "\n",
    "Por ejemplo `max(3,4)*max(3,2)` es 12 , porque la primera invocación de `max` devuelve 4 y la segunda devuelve 3.  Es importante recordar que `return` termina la invocación de la función.  Por ese motivo no es necesaria una cláusula `else` en este caso."
   ]
  },
  {
   "cell_type": "markdown",
   "metadata": {
    "hideCode": true,
    "hidePrompt": true,
    "slideshow": {
     "slide_type": "slide"
    }
   },
   "source": [
    "# Expresión de llamada\n",
    "\n",
    "* Llamar, invocar, usar una función."
   ]
  },
  {
   "cell_type": "code",
   "execution_count": 324,
   "metadata": {
    "hideCode": true,
    "hidePrompt": true,
    "scrolled": false,
    "slideshow": {
     "slide_type": "skip"
    }
   },
   "outputs": [
    {
     "name": "stdout",
     "output_type": "stream",
     "text": [
      "Overwriting diag/fun-call.bd\n"
     ]
    }
   ],
   "source": [
    "%%file diag/fun-call.bd\n",
    "blockdiag {\n",
    "    default_fontsize = 24\n",
    "    default_node_color = \"orange\"\n",
    "    default_group_color = \"lightgray\"\n",
    "    span_width = 150\n",
    "    \n",
    "    x,y,3,4 [width=30, height=35]\n",
    "    x,y [style=none, color=lightyellow]\n",
    "    fun [label=\"\n",
    "· def max(x,y):    ·\n",
    "·     if x > y:    ·\n",
    "·         return x ·\n",
    "·     return y     · \n",
    "\", height=100, width=270, color=pink]\n",
    "    call [label=\"max(3,4)\",color=pink]\n",
    "\n",
    "    group { color=white; fun; group { label=\"Parámetros formales\"; fontsize=14; orientation=portrait; x; y; }; }\n",
    "    group { color=white; group{ label=\"Marco de pila\"; orientation=portrait; 3; 4;}; call; }\n",
    "    x -> 3 [style=dashed]; y -> 4 [style=dashed]\n",
    "    y -> 3 [style=none]\n",
    "    x -> y [style=none]\n",
    "    3 -> 4 [style=none]\n",
    "}"
   ]
  },
  {
   "cell_type": "code",
   "execution_count": 325,
   "metadata": {
    "hideCode": true,
    "hidePrompt": true,
    "slideshow": {
     "slide_type": "skip"
    }
   },
   "outputs": [],
   "source": [
    "!blockdiag -f C:\\Windows\\Fonts\\Consola.ttf diag/fun-call.bd"
   ]
  },
  {
   "cell_type": "code",
   "execution_count": 328,
   "metadata": {
    "hideCode": true,
    "hidePrompt": true,
    "scrolled": true
   },
   "outputs": [
    {
     "data": {
      "image/png": "[encoded data removed]",
      "text/plain": [
       "<IPython.core.display.Image object>"
      ]
     },
     "execution_count": 328,
     "metadata": {},
     "output_type": "execute_result"
    }
   ],
   "source": [
    "Image(\"diag/fun-call.png\")"
   ]
  },
  {
   "cell_type": "markdown",
   "metadata": {
    "hideCode": true,
    "hidePrompt": true,
    "slideshow": {
     "slide_type": "notes"
    }
   },
   "source": [
    "Cuando se llama a una función (se invoca, se llama), primero se evalúan las expresiones para construir los valores de los parámetros o argumentos. Entonces los parámetros formales se asocian a los parámetros reales que se le han pasado (que se han escrito entre paréntesis en la expresión de llamada). Este proceso de asociación es similar a la asignación.\n",
    "\n",
    "Entonces el **punto de ejecución** (la instrucción siguiente a ejecutar) cambia a la primera instrucción del cuerpo de la función, y el código de la función se va ejecutando hasta que se encuentra una sentencia `return` o terminan las sentencias del cuerpo. Si se acaban las sentencias la función devuelve `None`. También ocurre lo mismo cuando no hay expresión después de `return`.\n",
    "\n",
    "El valor retornado es el valor de la expresión de llamada.\n",
    "\n",
    "Al terminar, el **punto de ejecución** se transfiere de nuevo al código que viene inmediatamente a continuación de la llamada."
   ]
  },
  {
   "cell_type": "markdown",
   "metadata": {
    "hideCode": true,
    "hidePrompt": true,
    "slideshow": {
     "slide_type": "slide"
    }
   },
   "source": [
    "# Abstracción lambda\n",
    "\n",
    "* ¡`x` e `y` se refieren a `w` y `z`!"
   ]
  },
  {
   "cell_type": "code",
   "execution_count": 280,
   "metadata": {
    "hideCode": true,
    "hidePrompt": true,
    "scrolled": false,
    "slideshow": {
     "slide_type": "skip"
    }
   },
   "outputs": [
    {
     "name": "stdout",
     "output_type": "stream",
     "text": [
      "Overwriting diag/lambda-abstr.bd\n"
     ]
    }
   ],
   "source": [
    "%%file diag/lambda-abstr.bd\n",
    "blockdiag {\n",
    "    default_fontsize = 24\n",
    "    default_node_color = \"orange\"\n",
    "    default_group_color = \"lightgray\"\n",
    "    \n",
    "    fun [label=\"\n",
    "· def max(x,y):    ·\n",
    "·     if x > y:    ·\n",
    "·         return x ·\n",
    "·     return y     · \n",
    "\", height=100, width=270, color=pink]\n",
    "    call [label=\"max(w,z)\",color=pink]\n",
    "\n",
    "    call -> fun [style=dashed]\n",
    "}"
   ]
  },
  {
   "cell_type": "code",
   "execution_count": 281,
   "metadata": {
    "hideCode": true,
    "hidePrompt": true,
    "slideshow": {
     "slide_type": "skip"
    }
   },
   "outputs": [],
   "source": [
    "!blockdiag -f C:\\Windows\\Fonts\\Consola.ttf diag/lambda-abstr.bd"
   ]
  },
  {
   "cell_type": "code",
   "execution_count": 282,
   "metadata": {
    "hideCode": true,
    "hidePrompt": true,
    "scrolled": true
   },
   "outputs": [
    {
     "data": {
      "image/png": "[encoded data removed]",
      "text/plain": [
       "<IPython.core.display.Image object>"
      ]
     },
     "execution_count": 282,
     "metadata": {},
     "output_type": "execute_result"
    }
   ],
   "source": [
    "Image(\"diag/lambda-abstr.png\")"
   ]
  },
  {
   "cell_type": "markdown",
   "metadata": {
    "hideCode": true,
    "hidePrompt": true,
    "slideshow": {
     "slide_type": "notes"
    }
   },
   "source": [
    "Los parámetros proporcionan un concepto llamado **abstracción lambda**. Tiene que ver con que podemos escribir código que no se refiere a objetos específicos, sino que puede trabjar con cualquier objeto que se le pase como argumento."
   ]
  },
  {
   "cell_type": "markdown",
   "metadata": {
    "hideCode": true,
    "hidePrompt": true,
    "slideshow": {
     "slide_type": "slide"
    }
   },
   "source": [
    "# Argumentos por defecto\n"
   ]
  },
  {
   "cell_type": "code",
   "execution_count": 329,
   "metadata": {
    "hideCode": true,
    "hidePrompt": true
   },
   "outputs": [],
   "source": [
    "def impr_nombre(nombre, apellido, inverso = False):\n",
    "    if inverso:\n",
    "        print(apellido + ', ' + nombre)\n",
    "    else:\n",
    "        print(nombre, apellido)"
   ]
  },
  {
   "cell_type": "code",
   "execution_count": 330,
   "metadata": {
    "hideCode": true,
    "hidePrompt": true
   },
   "outputs": [
    {
     "name": "stdout",
     "output_type": "stream",
     "text": [
      "Francisco Moya\n",
      "Moya, Francisco\n"
     ]
    }
   ],
   "source": [
    "impr_nombre('Francisco', 'Moya')\n",
    "impr_nombre('Francisco', 'Moya', True)"
   ]
  },
  {
   "cell_type": "markdown",
   "metadata": {
    "hideCode": true,
    "hidePrompt": true,
    "slideshow": {
     "slide_type": "slide"
    }
   },
   "source": [
    "# Argumentos etiquetados\n"
   ]
  },
  {
   "cell_type": "code",
   "execution_count": 331,
   "metadata": {
    "hideCode": true,
    "hidePrompt": true
   },
   "outputs": [
    {
     "name": "stdout",
     "output_type": "stream",
     "text": [
      "Luis Moya\n",
      "Luis Moya\n",
      "Luis Moya\n",
      "Luis Moya\n"
     ]
    }
   ],
   "source": [
    "impr_nombre('Luis', 'Moya')\n",
    "impr_nombre('Luis', 'Moya', \n",
    "            inverso = False)\n",
    "impr_nombre('Luis', \n",
    "            apellido = 'Moya', \n",
    "            inverso = False)\n",
    "impr_nombre(apellido = 'Moya', \n",
    "            nombre = 'Luis', \n",
    "            inverso = False)"
   ]
  },
  {
   "cell_type": "markdown",
   "metadata": {
    "hideCode": true,
    "hidePrompt": true,
    "slideshow": {
     "slide_type": "slide"
    }
   },
   "source": [
    "# Ámbito (scope)"
   ]
  },
  {
   "cell_type": "code",
   "execution_count": 332,
   "metadata": {
    "hideCode": true,
    "hidePrompt": true
   },
   "outputs": [
    {
     "name": "stdout",
     "output_type": "stream",
     "text": [
      "x = 4\n",
      "z = 4\n",
      "x = 3\n",
      "y = 2\n"
     ]
    }
   ],
   "source": [
    "def f(x):\n",
    "    y = 1\n",
    "    x = x + y\n",
    "    print('x =', x)\n",
    "    return x\n",
    "x = 3; y = 2\n",
    "z = f(x)\n",
    "print('z =', z)\n",
    "print('x =', x)\n",
    "print('y =', y)"
   ]
  },
  {
   "cell_type": "markdown",
   "metadata": {
    "hideCode": true,
    "hidePrompt": true,
    "slideshow": {
     "slide_type": "notes"
    }
   },
   "source": [
    "En el nivel superior, fuera de cualquier función, el intérprete mantiene una tabla de símbolos con los nombres asignados a los objetos correspondientes.\n",
    "\n",
    "Cuando se llama a una función se crea una nueva tabla de símbolos (se llama normalmente **marco de pila**). Esta tabla mantiene los símbolos definidos dentro de la función, incluidos los parámetros formales.  Si desde esta función se llama a otra, se crea una nueva tabla de símbolos y así sucesivamente.\n",
    "\n",
    "Cuando una función termina la tabla de símbolos correspondiente deja de existir. En Python se puede saber el ámbito de una variable simplemente mirando al texto del programa. Ésto se conoce como ámbitos léxicos o estáticos.\n"
   ]
  },
  {
   "cell_type": "markdown",
   "metadata": {
    "hideCode": true,
    "hidePrompt": true,
    "slideshow": {
     "slide_type": "slide"
    }
   },
   "source": [
    "# Ámbitos anidados (nested scopes)"
   ]
  },
  {
   "cell_type": "code",
   "execution_count": 337,
   "metadata": {
    "hideCode": true,
    "hidePrompt": true,
    "pixiedust": {
     "displayParams": {}
    }
   },
   "outputs": [
    {
     "name": "stdout",
     "output_type": "stream",
     "text": [
      "x = 4\n",
      "z = 4\n",
      "x = abc\n",
      "x = 4\n",
      "x = 3\n",
      "z = <function f.<locals>.g at 0x000001A3D273F048>\n",
      "x = abc\n"
     ]
    }
   ],
   "source": [
    "def f(x):\n",
    "    def g():\n",
    "        x = 'abc'\n",
    "        print('x =',x)\n",
    "    def h():\n",
    "        z = x\n",
    "        print('z =',z)\n",
    "    x = x + 1\n",
    "    print('x =',x)\n",
    "    h()\n",
    "    g()\n",
    "    print('x =', x)\n",
    "    return g\n",
    "x = 3\n",
    "z = f(x)\n",
    "print('x =', x)\n",
    "print('z =', z)\n",
    "z()"
   ]
  },
  {
   "cell_type": "markdown",
   "metadata": {
    "hideCode": true,
    "hidePrompt": true,
    "slideshow": {
     "slide_type": "slide"
    }
   },
   "source": [
    "# Ejemplo\n",
    "\n",
    "* ¿Qué imprime?"
   ]
  },
  {
   "cell_type": "code",
   "execution_count": null,
   "metadata": {
    "hideCode": true,
    "hidePrompt": true,
    "pixiedust": {
     "displayParams": {}
    }
   },
   "outputs": [],
   "source": [
    "def f():\n",
    "    print(x)\n",
    "def g():\n",
    "    print(x)\n",
    "    x = 1\n",
    "x = 3\n",
    "f()\n",
    "x = 3\n",
    "g()"
   ]
  },
  {
   "cell_type": "markdown",
   "metadata": {
    "hideCode": true,
    "hidePrompt": true,
    "slideshow": {
     "slide_type": "notes"
    }
   },
   "source": [
    "La asignación de x en la función g hace que el símbolo x se considere un nombre local de g.  Por tanto su uso antes de la asignación se considera un error.  El mismo código que en f no genera ningún problema, porque se refiere a la variable global x, en g es un error porque se refiere a la variable local x que aún no ha sido asignada."
   ]
  },
  {
   "cell_type": "markdown",
   "metadata": {
    "hideCode": true,
    "hidePrompt": true,
    "slideshow": {
     "slide_type": "slide"
    }
   },
   "source": [
    "# Docstrings\n"
   ]
  },
  {
   "cell_type": "code",
   "execution_count": 339,
   "metadata": {
    "hideCode": true,
    "hidePrompt": true,
    "pixiedust": {
     "displayParams": {}
    }
   },
   "outputs": [],
   "source": [
    "def f(x):\n",
    "    'Devuelve el cuadrado de x'\n",
    "    return x**2"
   ]
  },
  {
   "cell_type": "code",
   "execution_count": 342,
   "metadata": {
    "hideCode": true,
    "hidePrompt": true
   },
   "outputs": [
    {
     "name": "stdout",
     "output_type": "stream",
     "text": [
      "Help on function f in module __main__:\n",
      "\n",
      "f(x)\n",
      "    Devuelve el cuadrado de x\n",
      "\n"
     ]
    }
   ],
   "source": [
    "help(f)"
   ]
  },
  {
   "cell_type": "markdown",
   "metadata": {
    "hideCode": true,
    "hidePrompt": true,
    "slideshow": {
     "slide_type": "slide"
    }
   },
   "source": [
    "# Documentando software\n"
   ]
  },
  {
   "cell_type": "code",
   "execution_count": 339,
   "metadata": {
    "hideCode": true,
    "hidePrompt": true,
    "pixiedust": {
     "displayParams": {}
    }
   },
   "outputs": [],
   "source": [
    "def findRoot(x, power, epsilon):\n",
    "    if x < 0 and power%2 == 0:\n",
    "        return None\n",
    "    low = min(-1.0, x)\n",
    "    high = max(1.0, x)\n",
    "    ans = (high + low)/2.0\n",
    "    while abs(ans**power - x) >= epsilon:\n",
    "        if ans**power < x:\n",
    "            low = ans\n",
    "        else:\n",
    "            high = ans\n",
    "        ans = (high + low)/2.0\n",
    "    return ans"
   ]
  },
  {
   "cell_type": "markdown",
   "metadata": {
    "hideCode": true,
    "hidePrompt": true,
    "slideshow": {
     "slide_type": "slide"
    }
   },
   "source": [
    "# Documentando software\n",
    "\n",
    "* **Asume...** Suposiciones, precondiciones.\n",
    "* **Devuelve...** Garantías, postcondiciones.\n"
   ]
  },
  {
   "cell_type": "code",
   "execution_count": 344,
   "metadata": {
    "hideCode": true,
    "hidePrompt": true,
    "pixiedust": {
     "displayParams": {}
    }
   },
   "outputs": [],
   "source": [
    "def findRoot(x, power, epsilon):\n",
    "    ''' Asume x, epsilon son int o float, power es int, epsilon > 0, power >= 1\n",
    "        Devuelve un float y tal que y**power está a menos de epsilon de x.\n",
    "        Si no existe ese float devuelve None '''\n",
    "    \n",
    "    if x < 0 and power%2 == 0:\n",
    "        return None\n",
    "    low = min(-1.0, x)\n",
    "    high = max(1.0, x)\n",
    "    ans = (high + low)/2.0\n",
    "    while abs(ans**power - x) >= epsilon:\n",
    "        if ans**power < x:\n",
    "            low = ans\n",
    "        else:\n",
    "            high = ans\n",
    "        ans = (high + low)/2.0\n",
    "    return ans"
   ]
  },
  {
   "cell_type": "markdown",
   "metadata": {
    "hideCode": true,
    "hidePrompt": true,
    "slideshow": {
     "slide_type": "notes"
    }
   },
   "source": [
    "Una especificación de una función define un contrato entre el que la implementa y los que escriben programas que van a usarla (los clientes). Este contrato tiene dos partes: Los supuestos iniciales que se asumen en la implementación de la función y las garantías que ofrece.\n",
    "\n",
    "Los supuestos son habitualmente restricciones en el tipo y los valores de los argumentos, como en la primera línea de la doctring. Las garantías describen las condiciones que debe cumplir la propia función."
   ]
  },
  {
   "cell_type": "markdown",
   "metadata": {
    "hideCode": true,
    "hidePrompt": true,
    "slideshow": {
     "slide_type": "slide"
    }
   },
   "source": [
    "# Descomposición y abstracción\n",
    "\n",
    "* **Descomposición** crea estructura\n",
    "    * Problema dividido\n",
    "    * Posibilidad de reuso\n",
    "* **Abstracción** oculta detalle\n",
    "    * Información relevante disponible\n",
    "    * Información irrelevante se olvida"
   ]
  },
  {
   "cell_type": "markdown",
   "metadata": {
    "hideCode": true,
    "hidePrompt": true,
    "slideshow": {
     "slide_type": "notes"
    }
   },
   "source": [
    "Las funciones permiten crear objetos computacionales complejos que se comportan como primitivas. Esto lo consiguen proporcionando un mecanismo para descomponer y abstraer.\n",
    "\n",
    "La descomposición crea estructura. Permite romper el problema en subproblemas que son razonablemente auto-contenidos y que podrían reutilizarse en otros contextos.\n",
    "\n",
    "La abstracción oculta detalle haciendo ver el código como una caja negra. Es decir, algo cuyo interior no puede verse, ni se tiene que ver, ni debe verse.  La esencia de la programación es preservar la información relevante en cada contexto mientras se oculta la no relevante. La clave es encontrar la relación de relevancia que es apropiada tanto para los clientes como para el creador de la abstracción. En esto consiste el arte de programar de manera efectiva."
   ]
  },
  {
   "cell_type": "markdown",
   "metadata": {
    "hideCode": true,
    "hidePrompt": true,
    "slideshow": {
     "slide_type": "slide"
    }
   },
   "source": [
    "# Pruebas unitarias"
   ]
  },
  {
   "cell_type": "code",
   "execution_count": 345,
   "metadata": {
    "hideCode": true,
    "hidePrompt": true
   },
   "outputs": [],
   "source": [
    "def testFindRoot():\n",
    "    epsilon = 0.0001\n",
    "    for x in (0.25, -0.25, 2, -2):\n",
    "        for power in range(1, 4):\n",
    "            print('Testing x = ' + str(x) + \\\n",
    "             ' and power = ' + str(power))\n",
    "            result = findRoot(x, power, epsilon)\n",
    "            if result == None:\n",
    "                print('  No root')\n",
    "            else:\n",
    "                print('  ', result**power, '~=', x)"
   ]
  },
  {
   "cell_type": "code",
   "execution_count": null,
   "metadata": {
    "hideCode": true,
    "hidePrompt": true
   },
   "outputs": [],
   "source": [
    "testFindRoot()"
   ]
  },
  {
   "cell_type": "markdown",
   "metadata": {
    "hideCode": true,
    "hidePrompt": true,
    "slideshow": {
     "slide_type": "slide"
    }
   },
   "source": [
    "# Pruebas unitarias con unittest"
   ]
  },
  {
   "cell_type": "code",
   "execution_count": 365,
   "metadata": {
    "hideCode": true,
    "hidePrompt": true
   },
   "outputs": [],
   "source": [
    "import unittest\n",
    "\n",
    "epsilon = 0.000001\n",
    "class TestFindRoot(unittest.TestCase):\n",
    "    \n",
    "    def testTipicos(self):\n",
    "        self.compruebaValoresRaices((0.25, 2), (1, 2, 3))\n",
    "        self.compruebaValoresRaices((-0.25, -2), (1, 3))\n",
    "\n",
    "    def testNegativos(self):\n",
    "        self.compruebaValoresRaicesNone((-0.25, -2), (2,))\n",
    "        \n",
    "    def compruebaValoresRaices(self, valores, raices):\n",
    "        for x in valores:\n",
    "            self.compruebaRaices(x, raices)\n",
    "\n",
    "    def compruebaValoresRaicesNone(self, valores, raices):\n",
    "        for x in valores:\n",
    "            self.compruebaRaicesNone(x, raices)\n",
    "\n",
    "    def compruebaRaices(self, x, raices):\n",
    "        for power in raices:\n",
    "            self.assertAlmostEqual(findRoot(x, power, epsilon)**power, x, places=5)\n",
    "\n",
    "    def compruebaRaicesNone(self, x, raices):\n",
    "        for power in raices:\n",
    "            self.assertEqual(findRoot(x, power, epsilon), None)        "
   ]
  },
  {
   "cell_type": "markdown",
   "metadata": {
    "hideCode": true,
    "hidePrompt": true,
    "slideshow": {
     "slide_type": "slide"
    }
   },
   "source": [
    "# Pruebas unitarias con unittest (runner)\n",
    "\n",
    "* Busca todas las pruebas (clases derivadas de `unittest.TestCase`)\n",
    "* Ejecuta todas las pruebas (funciones que empiezan por `test`)"
   ]
  },
  {
   "cell_type": "code",
   "execution_count": 367,
   "metadata": {
    "hideCode": true,
    "hidePrompt": true
   },
   "outputs": [
    {
     "name": "stderr",
     "output_type": "stream",
     "text": [
      "..\n",
      "----------------------------------------------------------------------\n",
      "Ran 2 tests in 0.003s\n",
      "\n",
      "OK\n"
     ]
    },
    {
     "data": {
      "text/plain": [
       "<unittest.main.TestProgram at 0x1a3dbac5908>"
      ]
     },
     "execution_count": 367,
     "metadata": {},
     "output_type": "execute_result"
    }
   ],
   "source": [
    "unittest.main(argv=['first-arg-is-ignored'], exit=False)"
   ]
  },
  {
   "cell_type": "markdown",
   "metadata": {
    "hideCode": true,
    "hidePrompt": true,
    "slideshow": {
     "slide_type": "slide"
    }
   },
   "source": [
    "# Función recursiva\n",
    "\n",
    "* Caso base\n",
    "* Recurrencia o caso inductivo"
   ]
  },
  {
   "cell_type": "code",
   "execution_count": 368,
   "metadata": {
    "hideCode": true,
    "hidePrompt": true
   },
   "outputs": [],
   "source": [
    "def fib(n):\n",
    "    '''Asume n int, n >= 0\n",
    "       Devuelve n-simo término de sucesión de Fibonacci (int)''' \n",
    "    if n < 2:\n",
    "        return 1\n",
    "    return fib(n-1) + fib(n-2)"
   ]
  },
  {
   "cell_type": "markdown",
   "metadata": {
    "hideCode": true,
    "hidePrompt": true,
    "slideshow": {
     "slide_type": "notes"
    }
   },
   "source": [
    "Las funciones recursivas son una forma natural de expresar las definiciones inductivas, en las que se define algún caso base y el valor n-simo en función de algún otro anterior.\n",
    "\n",
    "Son muy sencillas de entender, pero a veces pueden no ser nada eficientes.  Por ejemplo ¿cuántas veces se calcula fib(2) cuando llamamos a fib(5)?\n",
    "\n",
    "Una función recursiva no tiene nada de particular respecto al caso de una función que llama a otra función, pero evidentemente para que termine alguna vez tiene que tener dos partes:\n",
    "\n",
    "* Uno o varios casos base, en los que el resultado se puede obtener directamente.\n",
    "* Una recurrencia, o caso inductivo, o caso recursivo, en los que el resultado se determina en función de los resultados para casos más cercanos a los casos base."
   ]
  },
  {
   "cell_type": "markdown",
   "metadata": {
    "hideCode": false,
    "hideOutput": false,
    "hidePrompt": false,
    "slideshow": {
     "slide_type": "slide"
    }
   },
   "source": [
    "# Ejercicio\n",
    "\n",
    "* Factorial de un número\n",
    "    * Recursivo e iterativo\n"
   ]
  },
  {
   "cell_type": "code",
   "execution_count": null,
   "metadata": {
    "hideCode": false,
    "hidePrompt": false
   },
   "outputs": [],
   "source": []
  },
  {
   "cell_type": "code",
   "execution_count": 369,
   "metadata": {
    "hideCode": false,
    "hidePrompt": false,
    "slideshow": {
     "slide_type": "fragment"
    }
   },
   "outputs": [],
   "source": [
    "def fact(n):\n",
    "    if n < 1: return 1\n",
    "    return n * fact(n-1)\n",
    "\n",
    "def fact_i(n):\n",
    "    ret = 1\n",
    "    for i in range(2,n+1):\n",
    "        ret *= i\n",
    "    return ret"
   ]
  },
  {
   "cell_type": "markdown",
   "metadata": {
    "hideCode": true,
    "hidePrompt": true,
    "slideshow": {
     "slide_type": "slide"
    }
   },
   "source": [
    "# Cadenas de texto\n",
    "## Subcadenas"
   ]
  },
  {
   "cell_type": "code",
   "execution_count": 381,
   "metadata": {
    "hideCode": false,
    "hidePrompt": false
   },
   "outputs": [
    {
     "data": {
      "text/plain": [
       "'abcde'"
      ]
     },
     "execution_count": 381,
     "metadata": {},
     "output_type": "execute_result"
    }
   ],
   "source": [
    "s = u'abcdefghijklmnñopqrstuvwxyz'\n",
    "\n",
    "s[:5]"
   ]
  },
  {
   "cell_type": "code",
   "execution_count": 378,
   "metadata": {
    "hideCode": false,
    "hidePrompt": false
   },
   "outputs": [
    {
     "data": {
      "text/plain": [
       "'fghij'"
      ]
     },
     "execution_count": 378,
     "metadata": {},
     "output_type": "execute_result"
    }
   ],
   "source": [
    "s[5:10]"
   ]
  },
  {
   "cell_type": "code",
   "execution_count": 379,
   "metadata": {
    "hideCode": false,
    "hidePrompt": false
   },
   "outputs": [
    {
     "data": {
      "text/plain": [
       "'klmnñopqrstuvwxyz'"
      ]
     },
     "execution_count": 379,
     "metadata": {},
     "output_type": "execute_result"
    }
   ],
   "source": [
    "s[10:]"
   ]
  },
  {
   "cell_type": "code",
   "execution_count": 380,
   "metadata": {
    "hideCode": false,
    "hidePrompt": false
   },
   "outputs": [
    {
     "data": {
      "text/plain": [
       "'vwxyz'"
      ]
     },
     "execution_count": 380,
     "metadata": {},
     "output_type": "execute_result"
    }
   ],
   "source": [
    "s[-5:]"
   ]
  },
  {
   "cell_type": "code",
   "execution_count": null,
   "metadata": {
    "hideCode": false,
    "hidePrompt": false,
    "slideshow": {
     "slide_type": "slide"
    }
   },
   "outputs": [],
   "source": []
  },
  {
   "cell_type": "markdown",
   "metadata": {
    "hideCode": false,
    "hidePrompt": true,
    "slideshow": {
     "slide_type": "slide"
    }
   },
   "source": [
    "# Ejercicio\n",
    "\n",
    "* Definir `es_palindromo(s)` que devuelve `True` si la cadena `s` es palíndromo.\n"
   ]
  },
  {
   "cell_type": "code",
   "execution_count": null,
   "metadata": {
    "hideCode": false,
    "hidePrompt": false
   },
   "outputs": [],
   "source": []
  },
  {
   "cell_type": "code",
   "execution_count": 382,
   "metadata": {
    "hideCode": false,
    "hidePrompt": false,
    "slideshow": {
     "slide_type": "fragment"
    }
   },
   "outputs": [],
   "source": [
    "def es_palindromo(s):\n",
    "    if len(s) < 2:\n",
    "        return True\n",
    "    return s[0] == s[-1] and es_palindromo(s[1:-1])"
   ]
  },
  {
   "cell_type": "markdown",
   "metadata": {
    "hideCode": false,
    "hidePrompt": false,
    "slideshow": {
     "slide_type": "slide"
    }
   },
   "source": [
    "# Ejercicio\n"
   ]
  },
  {
   "cell_type": "code",
   "execution_count": null,
   "metadata": {},
   "outputs": [],
   "source": []
  }
 ],
 "metadata": {
  "celltoolbar": "Slideshow",
  "hide_code_all_hidden": true,
  "kernelspec": {
   "display_name": "Python 3",
   "language": "python",
   "name": "python3"
  },
  "language_info": {
   "codemirror_mode": {
    "name": "ipython",
    "version": 3
   },
   "file_extension": ".py",
   "mimetype": "text/x-python",
   "name": "python",
   "nbconvert_exporter": "python",
   "pygments_lexer": "ipython3",
   "version": "3.6.3"
  }
 },
 "nbformat": 4,
 "nbformat_minor": 2
}
