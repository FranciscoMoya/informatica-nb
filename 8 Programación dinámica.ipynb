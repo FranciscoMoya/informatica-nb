{
  "cells": [
    {
      "metadata": {
        "slideshow": {
          "slide_type": "slide"
        }
      },
      "cell_type": "markdown",
      "source": "## Recursión ingenua"
    },
    {
      "metadata": {
        "slideshow": {
          "slide_type": "-"
        },
        "trusted": false
      },
      "cell_type": "code",
      "source": "def fib(n, nivel=0):\n    if n==0 or n==1:\n        print(\" \"*nivel,\"fib({}) = {}\".format(n, 1))\n        return 1\n    print(\" \"*nivel,\"fib({}) [\".format(n))\n    result = fib(n-1,nivel+4) + fib(n-2,nivel+4)\n    print(\" \"*nivel,\"] = {}\".format(n,result))\n    return result",
      "execution_count": 2,
      "outputs": []
    },
    {
      "metadata": {
        "scrolled": false,
        "slideshow": {
          "slide_type": "subslide"
        },
        "trusted": false
      },
      "cell_type": "code",
      "source": "fib(5)",
      "execution_count": 4,
      "outputs": [
        {
          "name": "stdout",
          "output_type": "stream",
          "text": " fib(5) [\n     fib(4) [\n         fib(3) [\n             fib(2) [\n                 fib(1) = 1\n                 fib(0) = 1\n             ] = 2\n             fib(1) = 1\n         ] = 3\n         fib(2) [\n             fib(1) = 1\n             fib(0) = 1\n         ] = 2\n     ] = 4\n     fib(3) [\n         fib(2) [\n             fib(1) = 1\n             fib(0) = 1\n         ] = 2\n         fib(1) = 1\n     ] = 3\n ] = 5\n"
        },
        {
          "data": {
            "text/plain": "8"
          },
          "execution_count": 4,
          "metadata": {},
          "output_type": "execute_result"
        }
      ]
    },
    {
      "metadata": {
        "slideshow": {
          "slide_type": "slide"
        },
        "trusted": true
      },
      "cell_type": "code",
      "source": "def fib(n):\n    if n < 2:\n        return n\n    return fib(n-1) + fib(n-2)",
      "execution_count": 1,
      "outputs": []
    },
    {
      "metadata": {
        "trusted": true
      },
      "cell_type": "code",
      "source": "from functools import lru_cache\n\n@lru_cache()\ndef fib(n):\n    if n < 2:\n        return n\n    return fib(n-1) + fib(n-2)",
      "execution_count": 3,
      "outputs": []
    },
    {
      "metadata": {
        "trusted": true
      },
      "cell_type": "code",
      "source": "%time fib(35)",
      "execution_count": 4,
      "outputs": [
        {
          "output_type": "stream",
          "text": "CPU times: user 969 µs, sys: 0 ns, total: 969 µs\nWall time: 1.01 ms\n",
          "name": "stdout"
        },
        {
          "output_type": "execute_result",
          "execution_count": 4,
          "data": {
            "text/plain": "9227465"
          },
          "metadata": {}
        }
      ]
    },
    {
      "metadata": {
        "trusted": true
      },
      "cell_type": "code",
      "source": "def fib(n, mem = {}):\n    if n < 2:\n        return n\n    if n in mem:\n        return mem[n]\n    res = fib(n-1, mem) + fib(n-2, mem)\n    mem[n] = res\n    return res",
      "execution_count": 6,
      "outputs": []
    },
    {
      "metadata": {
        "trusted": true
      },
      "cell_type": "code",
      "source": "%time fib(350)",
      "execution_count": 7,
      "outputs": [
        {
          "output_type": "stream",
          "text": "CPU times: user 1.18 ms, sys: 152 µs, total: 1.33 ms\nWall time: 1.34 ms\n",
          "name": "stdout"
        },
        {
          "output_type": "execute_result",
          "execution_count": 7,
          "data": {
            "text/plain": "6254449428820551641549772190170184190608177514674331726439961915653414425"
          },
          "metadata": {}
        }
      ]
    },
    {
      "metadata": {
        "slideshow": {
          "slide_type": "slide"
        }
      },
      "cell_type": "markdown",
      "source": "# Problema de la mochila 0/1\n\n¿Cómo decide un ladrón qué se lleva?"
    },
    {
      "metadata": {
        "slideshow": {
          "slide_type": "skip"
        }
      },
      "cell_type": "markdown",
      "source": "Es difícil la vida de un ladrón.  A veces se encuentra en una casa con muchas cosas que llevarse y con tan solo un saco o mochila pequeña.  Si carga mucho se romperá y se quedará sin nada. Pero ¿qué elegir?  \n\nEste problema es un clásico, el problema de la mochila 0/1.  El 0/1 se refiere a que solo hay dos opciones para cada cosa, cogerla o no.  No hay posibilidad de cogerla a medias.\n\nEste problema no tiene solución en tiempo polinómico. El un problema cuya solución óptima se calcula en tiempo exponencial.  Por ejemplo, se puede usar enumeración exhaustiva.\n"
    },
    {
      "metadata": {},
      "cell_type": "markdown",
      "source": "# Problema de la mochila 0/1\n\n* Elemento representado por (valor, peso)\n* Mochila acomoda elementos hasta peso $w$\n* Sea $I$ el vector de elementos disponibles\n* Sea $V$ vector que indica si se coge o no\n* Encontrar V que maximiza\n\t$$\\sum V_i \\cdot I_i^{valor}$$\n    \n  sujeto a la restricción\n\n\t$$\\sum V_i \\cdot I_i^{peso} \\leq w$$\n\n"
    },
    {
      "metadata": {
        "slideshow": {
          "slide_type": "slide"
        },
        "trusted": true
      },
      "cell_type": "code",
      "source": "def prueba0():\n    nombres = ['a', 'b', 'c', 'd']\n    valores = [6, 7, 8, 9]\n    pesos   = [3, 3, 2, 5]\n    elems   = zip(nombres, valores, pesos)\n    val, saco = mochila01(list(elems), 5)\n    for e in saco:\n        print(e)\n    print('Valor total =', val)\n\ndef valor(e): return e[1]\ndef peso(e): return e[2]",
      "execution_count": 13,
      "outputs": []
    },
    {
      "metadata": {
        "trusted": true
      },
      "cell_type": "code",
      "source": "def mochila01(elems, w):\n    maxv = 0\n    mejor = tuple()\n    for i in range(2**len(elems)):\n        nuevo = saco(elems, i)\n        nuevov = valorSaco(nuevo)\n        if nuevov > maxv:\n            maxv, mejor = nuevov, nuevo\n    return nuevov, mejor\n\n\ndef saco(elems, n):\n    return tuple(e for i,e in enumerate(elems) if bitSet(n, i))\n\ndef valorSaco(elems):\n    return sum(valor(e) for e in elems)\n\ndef bitSet(n, b):\n    return n & (1<<b) != 0\n",
      "execution_count": 16,
      "outputs": []
    },
    {
      "metadata": {
        "trusted": true
      },
      "cell_type": "code",
      "source": "prueba0()",
      "execution_count": 17,
      "outputs": [
        {
          "output_type": "stream",
          "text": "('a', 6, 3)\n('b', 7, 3)\n('c', 8, 2)\n('d', 9, 5)\nValor total = 30\n",
          "name": "stdout"
        }
      ]
    },
    {
      "metadata": {
        "slideshow": {
          "slide_type": "slide"
        }
      },
      "cell_type": "markdown",
      "source": "# Otra forma: Arbol de decisión\n\n<img src=\"diag/decision-tree.svg\" width=\"50%\" align=\"right\" style=\"display:float;\"/>\n\n* Arbol binario\n* Cada nodo con una tupla\n   * Elementos a coger\n   * Elementos que no se ha tomado decisión\n   * *Valor de elementos a coger*\n   * *Espacio disponible aún*\n* Izquierda: toma $e_i$\n* Derecha: no toma $e_i$\n"
    },
    {
      "metadata": {
        "slideshow": {
          "slide_type": "skip"
        },
        "trusted": true
      },
      "cell_type": "code",
      "source": "%%file diag/decision-tree.bd\nblockdiag {\n    default_fontsize = 18\n    default_node_color = \"orange\"\n\n    E -> E0\n    E -> E1 [label=\"toma E0\", fontsize=10]\n    E0 -> E00\n    E0 -> E01 [label=\"toma E1\", fontsize=10]\n    E1 -> E10\n    E1 -> E11 [label=\"toma E1\", fontsize=10]\n    //E00 -> E000\n    //E00 -> E001\n    //E01 -> E010\n    //E01 -> E011\n    //E10 -> E100\n    //E10 -> E101\n    //E11 -> E110\n    //E11 -> E111\n\n    E,E0,E1,E00,E01,E10,E11 [width = 50, shape=roundedbox]\n    //E000,E001,E010,E011,E100,E101,E110,E111 [width = 50, shape=roundedbox]\n    E [label=\"\"]\n    E0 [label=\"0\"]\n    E1 [label=\"1\"]\n    E00 [label=\"00\"]\n    E01 [label=\"01\"]\n    E10 [label=\"10\"]\n    E11 [label=\"11\"]\n    //E000 [label=\"000\"]\n    //E001 [label=\"001\"]\n    //E010 [label=\"010\"]\n    //E011 [label=\"011\"]\n    //E100 [label=\"100\"]\n    //E101 [label=\"101\"]\n    //E110 [label=\"110\"]\n    //E111 [label=\"111\"]\n}",
      "execution_count": 1,
      "outputs": [
        {
          "output_type": "stream",
          "text": "Overwriting diag/decision-tree.bd\n",
          "name": "stdout"
        }
      ]
    },
    {
      "metadata": {
        "trusted": true
      },
      "cell_type": "code",
      "source": "!blockdiag -Tsvg diag/decision-tree.bd",
      "execution_count": 2,
      "outputs": [
        {
          "output_type": "stream",
          "text": "/bin/sh: blockdiag: command not found\r\n",
          "name": "stdout"
        }
      ]
    },
    {
      "metadata": {
        "trusted": true
      },
      "cell_type": "code",
      "source": "from IPython.display import SVG\n\nSVG('diag/decision-tree.svg')",
      "execution_count": 3,
      "outputs": [
        {
          "output_type": "execute_result",
          "execution_count": 3,
          "data": {
            "text/plain": "<IPython.core.display.SVG object>",
            "image/svg+xml": "<svg viewBox=\"0 0 406 360\" xmlns=\"http://www.w3.org/2000/svg\" xmlns:inkspace=\"http://www.inkscape.org/namespaces/inkscape\" xmlns:xlink=\"http://www.w3.org/1999/xlink\">\n  <defs id=\"defs_block\">\n    <filter height=\"1.504\" id=\"filter_blur\" inkspace:collect=\"always\" width=\"1.1575\" x=\"-0.07875\" y=\"-0.252\">\n      <feGaussianBlur id=\"feGaussianBlur3780\" inkspace:collect=\"always\" stdDeviation=\"4.2\"/>\n    </filter>\n  </defs>\n  <title>blockdiag</title>\n  <desc>blockdiag {\n    default_fontsize = 18\n    default_node_color = &quot;orange&quot;\n\n    E -&gt; E0\n    E -&gt; E1 [label=&quot;toma E0&quot;, fontsize=10]\n    E0 -&gt; E00\n    E0 -&gt; E01 [label=&quot;toma E1&quot;, fontsize=10]\n    E1 -&gt; E10\n    E1 -&gt; E11 [label=&quot;toma E1&quot;, fontsize=10]\n    //E00 -&gt; E000\n    //E00 -&gt; E001\n    //E01 -&gt; E010\n    //E01 -&gt; E011\n    //E10 -&gt; E100\n    //E10 -&gt; E101\n    //E11 -&gt; E110\n    //E11 -&gt; E111\n\n    E,E0,E1,E00,E01,E10,E11 [width = 50, shape=roundedbox]\n    //E000,E001,E010,E011,E100,E101,E110,E111 [width = 50, shape=roundedbox]\n    E [label=&quot;&quot;]\n    E0 [label=&quot;0&quot;]\n    E1 [label=&quot;1&quot;]\n    E00 [label=&quot;00&quot;]\n    E01 [label=&quot;01&quot;]\n    E10 [label=&quot;10&quot;]\n    E11 [label=&quot;11&quot;]\n    //E000 [label=&quot;000&quot;]\n    //E001 [label=&quot;001&quot;]\n    //E010 [label=&quot;010&quot;]\n    //E011 [label=&quot;011&quot;]\n    //E100 [label=&quot;100&quot;]\n    //E101 [label=&quot;101&quot;]\n    //E110 [label=&quot;110&quot;]\n    //E111 [label=&quot;111&quot;]\n}</desc>\n  <path d=\"M 75 46 L 109 46 A8,8 0 0 1 117 54 L 117 78 A8,8 0 0 1 109 86 L 75 86 A8,8 0 0 1 67 78 L 67 54 A8,8 0 0 1 75 46\" fill=\"rgb(0,0,0)\" stroke=\"rgb(0,0,0)\" style=\"filter:url(#filter_blur);opacity:0.7;fill-opacity:1\"/>\n  <path d=\"M 189 46 L 223 46 A8,8 0 0 1 231 54 L 231 78 A8,8 0 0 1 223 86 L 189 86 A8,8 0 0 1 181 78 L 181 54 A8,8 0 0 1 189 46\" fill=\"rgb(0,0,0)\" stroke=\"rgb(0,0,0)\" style=\"filter:url(#filter_blur);opacity:0.7;fill-opacity:1\"/>\n  <path d=\"M 189 206 L 223 206 A8,8 0 0 1 231 214 L 231 238 A8,8 0 0 1 223 246 L 189 246 A8,8 0 0 1 181 238 L 181 214 A8,8 0 0 1 189 206\" fill=\"rgb(0,0,0)\" stroke=\"rgb(0,0,0)\" style=\"filter:url(#filter_blur);opacity:0.7;fill-opacity:1\"/>\n  <path d=\"M 303 46 L 337 46 A8,8 0 0 1 345 54 L 345 78 A8,8 0 0 1 337 86 L 303 86 A8,8 0 0 1 295 78 L 295 54 A8,8 0 0 1 303 46\" fill=\"rgb(0,0,0)\" stroke=\"rgb(0,0,0)\" style=\"filter:url(#filter_blur);opacity:0.7;fill-opacity:1\"/>\n  <path d=\"M 303 126 L 337 126 A8,8 0 0 1 345 134 L 345 158 A8,8 0 0 1 337 166 L 303 166 A8,8 0 0 1 295 158 L 295 134 A8,8 0 0 1 303 126\" fill=\"rgb(0,0,0)\" stroke=\"rgb(0,0,0)\" style=\"filter:url(#filter_blur);opacity:0.7;fill-opacity:1\"/>\n  <path d=\"M 303 206 L 337 206 A8,8 0 0 1 345 214 L 345 238 A8,8 0 0 1 337 246 L 303 246 A8,8 0 0 1 295 238 L 295 214 A8,8 0 0 1 303 206\" fill=\"rgb(0,0,0)\" stroke=\"rgb(0,0,0)\" style=\"filter:url(#filter_blur);opacity:0.7;fill-opacity:1\"/>\n  <path d=\"M 303 286 L 337 286 A8,8 0 0 1 345 294 L 345 318 A8,8 0 0 1 337 326 L 303 326 A8,8 0 0 1 295 318 L 295 294 A8,8 0 0 1 303 286\" fill=\"rgb(0,0,0)\" stroke=\"rgb(0,0,0)\" style=\"filter:url(#filter_blur);opacity:0.7;fill-opacity:1\"/>\n  <path d=\"M 72 40 L 106 40 A8,8 0 0 1 114 48 L 114 72 A8,8 0 0 1 106 80 L 72 80 A8,8 0 0 1 64 72 L 64 48 A8,8 0 0 1 72 40\" fill=\"rgb(255,165,0)\" stroke=\"rgb(0,0,0)\"/>\n  <path d=\"M 186 40 L 220 40 A8,8 0 0 1 228 48 L 228 72 A8,8 0 0 1 220 80 L 186 80 A8,8 0 0 1 178 72 L 178 48 A8,8 0 0 1 186 40\" fill=\"rgb(255,165,0)\" stroke=\"rgb(0,0,0)\"/>\n  <text fill=\"rgb(0,0,0)\" font-family=\"sans-serif\" font-size=\"18\" font-style=\"normal\" font-weight=\"normal\" text-anchor=\"middle\" textLength=\"9\" x=\"203.5\" y=\"68\">0</text>\n  <path d=\"M 186 200 L 220 200 A8,8 0 0 1 228 208 L 228 232 A8,8 0 0 1 220 240 L 186 240 A8,8 0 0 1 178 232 L 178 208 A8,8 0 0 1 186 200\" fill=\"rgb(255,165,0)\" stroke=\"rgb(0,0,0)\"/>\n  <text fill=\"rgb(0,0,0)\" font-family=\"sans-serif\" font-size=\"18\" font-style=\"normal\" font-weight=\"normal\" text-anchor=\"middle\" textLength=\"9\" x=\"203.5\" y=\"228\">1</text>\n  <path d=\"M 300 40 L 334 40 A8,8 0 0 1 342 48 L 342 72 A8,8 0 0 1 334 80 L 300 80 A8,8 0 0 1 292 72 L 292 48 A8,8 0 0 1 300 40\" fill=\"rgb(255,165,0)\" stroke=\"rgb(0,0,0)\"/>\n  <text fill=\"rgb(0,0,0)\" font-family=\"sans-serif\" font-size=\"18\" font-style=\"normal\" font-weight=\"normal\" text-anchor=\"middle\" textLength=\"18\" x=\"317.0\" y=\"68\">00</text>\n  <path d=\"M 300 120 L 334 120 A8,8 0 0 1 342 128 L 342 152 A8,8 0 0 1 334 160 L 300 160 A8,8 0 0 1 292 152 L 292 128 A8,8 0 0 1 300 120\" fill=\"rgb(255,165,0)\" stroke=\"rgb(0,0,0)\"/>\n  <text fill=\"rgb(0,0,0)\" font-family=\"sans-serif\" font-size=\"18\" font-style=\"normal\" font-weight=\"normal\" text-anchor=\"middle\" textLength=\"18\" x=\"317.0\" y=\"148\">01</text>\n  <path d=\"M 300 200 L 334 200 A8,8 0 0 1 342 208 L 342 232 A8,8 0 0 1 334 240 L 300 240 A8,8 0 0 1 292 232 L 292 208 A8,8 0 0 1 300 200\" fill=\"rgb(255,165,0)\" stroke=\"rgb(0,0,0)\"/>\n  <text fill=\"rgb(0,0,0)\" font-family=\"sans-serif\" font-size=\"18\" font-style=\"normal\" font-weight=\"normal\" text-anchor=\"middle\" textLength=\"18\" x=\"317.0\" y=\"228\">10</text>\n  <path d=\"M 300 280 L 334 280 A8,8 0 0 1 342 288 L 342 312 A8,8 0 0 1 334 320 L 300 320 A8,8 0 0 1 292 312 L 292 288 A8,8 0 0 1 300 280\" fill=\"rgb(255,165,0)\" stroke=\"rgb(0,0,0)\"/>\n  <text fill=\"rgb(0,0,0)\" font-family=\"sans-serif\" font-size=\"18\" font-style=\"normal\" font-weight=\"normal\" text-anchor=\"middle\" textLength=\"18\" x=\"317.0\" y=\"308\">11</text>\n  <path d=\"M 114 60 L 170 60\" fill=\"none\" stroke=\"rgb(0,0,0)\"/>\n  <polygon fill=\"rgb(0,0,0)\" points=\"177,60 170,56 170,64 177,60\" stroke=\"rgb(0,0,0)\"/>\n  <path d=\"M 114 60 L 146 60\" fill=\"none\" stroke=\"rgb(0,0,0)\"/>\n  <path d=\"M 146 60 L 146 220\" fill=\"none\" stroke=\"rgb(0,0,0)\"/>\n  <path d=\"M 146 220 L 170 220\" fill=\"none\" stroke=\"rgb(0,0,0)\"/>\n  <polygon fill=\"rgb(0,0,0)\" points=\"177,220 170,216 170,224 177,220\" stroke=\"rgb(0,0,0)\"/>\n  <path d=\"M 228 60 L 284 60\" fill=\"none\" stroke=\"rgb(0,0,0)\"/>\n  <polygon fill=\"rgb(0,0,0)\" points=\"291,60 284,56 284,64 291,60\" stroke=\"rgb(0,0,0)\"/>\n  <path d=\"M 228 60 L 260 60\" fill=\"none\" stroke=\"rgb(0,0,0)\"/>\n  <path d=\"M 260 60 L 260 140\" fill=\"none\" stroke=\"rgb(0,0,0)\"/>\n  <path d=\"M 260 140 L 284 140\" fill=\"none\" stroke=\"rgb(0,0,0)\"/>\n  <polygon fill=\"rgb(0,0,0)\" points=\"291,140 284,136 284,144 291,140\" stroke=\"rgb(0,0,0)\"/>\n  <path d=\"M 228 220 L 284 220\" fill=\"none\" stroke=\"rgb(0,0,0)\"/>\n  <polygon fill=\"rgb(0,0,0)\" points=\"291,220 284,216 284,224 291,220\" stroke=\"rgb(0,0,0)\"/>\n  <path d=\"M 228 220 L 260 220\" fill=\"none\" stroke=\"rgb(0,0,0)\"/>\n  <path d=\"M 260 220 L 260 300\" fill=\"none\" stroke=\"rgb(0,0,0)\"/>\n  <path d=\"M 260 300 L 284 300\" fill=\"none\" stroke=\"rgb(0,0,0)\"/>\n  <polygon fill=\"rgb(0,0,0)\" points=\"291,300 284,296 284,304 291,300\" stroke=\"rgb(0,0,0)\"/>\n  <rect fill=\"white\" height=\"13\" stroke=\"rgb(0,0,0)\" width=\"51\" x=\"121\" y=\"199\"/>\n  <text fill=\"rgb(0,0,0)\" font-family=\"sans-serif\" font-size=\"10\" font-style=\"normal\" font-weight=\"normal\" text-anchor=\"middle\" textLength=\"35\" x=\"146.5\" y=\"210\">toma E0</text>\n  <rect fill=\"white\" height=\"13\" stroke=\"rgb(0,0,0)\" width=\"51\" x=\"235\" y=\"119\"/>\n  <text fill=\"rgb(0,0,0)\" font-family=\"sans-serif\" font-size=\"10\" font-style=\"normal\" font-weight=\"normal\" text-anchor=\"middle\" textLength=\"35\" x=\"260.5\" y=\"130\">toma E1</text>\n  <rect fill=\"white\" height=\"13\" stroke=\"rgb(0,0,0)\" width=\"51\" x=\"235\" y=\"279\"/>\n  <text fill=\"rgb(0,0,0)\" font-family=\"sans-serif\" font-size=\"10\" font-style=\"normal\" font-weight=\"normal\" text-anchor=\"middle\" textLength=\"35\" x=\"260.5\" y=\"290\">toma E1</text>\n</svg>"
          },
          "metadata": {}
        }
      ]
    },
    {
      "metadata": {
        "trusted": false
      },
      "cell_type": "code",
      "source": "",
      "execution_count": null,
      "outputs": []
    }
  ],
  "metadata": {
    "celltoolbar": "Slideshow",
    "kernelspec": {
      "name": "python3",
      "display_name": "Python 3",
      "language": "python"
    },
    "language_info": {
      "mimetype": "text/x-python",
      "nbconvert_exporter": "python",
      "name": "python",
      "pygments_lexer": "ipython3",
      "version": "3.5.4",
      "file_extension": ".py",
      "codemirror_mode": {
        "version": 3,
        "name": "ipython"
      }
    }
  },
  "nbformat": 4,
  "nbformat_minor": 2
}