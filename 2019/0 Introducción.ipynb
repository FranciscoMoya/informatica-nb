{
 "cells": [
  {
   "cell_type": "markdown",
   "metadata": {
    "slideshow": {
     "slide_type": "notes"
    }
   },
   "source": [
    "Si te perdiste la clase tienes la introducción en [este enlace](https://franciscomoya.github.io/informatica-doc/docs/intro.html)."
   ]
  },
  {
   "cell_type": "markdown",
   "metadata": {
    "slideshow": {
     "slide_type": "slide"
    }
   },
   "source": [
    "# Tema 0. Introducción\n",
    "\n",
    "## Aprender a programar programando"
   ]
  },
  {
   "cell_type": "markdown",
   "metadata": {
    "slideshow": {
     "slide_type": "slide"
    }
   },
   "source": [
    "## Hola Mundo"
   ]
  },
  {
   "cell_type": "code",
   "execution_count": null,
   "metadata": {},
   "outputs": [],
   "source": [
    "print('Hola, Mundo')"
   ]
  },
  {
   "cell_type": "markdown",
   "metadata": {
    "slideshow": {
     "slide_type": "subslide"
    }
   },
   "source": [
    "## Hola Mundo"
   ]
  },
  {
   "cell_type": "code",
   "execution_count": 3,
   "metadata": {},
   "outputs": [
    {
     "name": "stdout",
     "output_type": "stream",
     "text": [
      "Hola, Mundo\n"
     ]
    }
   ],
   "source": [
    "print('Hola,', 'Mundo')"
   ]
  },
  {
   "cell_type": "code",
   "execution_count": 4,
   "metadata": {},
   "outputs": [
    {
     "name": "stdout",
     "output_type": "stream",
     "text": [
      "Hola, Mundo\n"
     ]
    }
   ],
   "source": [
    "print('Hola,', end=' ')\n",
    "print('Mundo')"
   ]
  },
  {
   "cell_type": "markdown",
   "metadata": {
    "slideshow": {
     "slide_type": "slide"
    }
   },
   "source": [
    "## Variables"
   ]
  },
  {
   "cell_type": "code",
   "execution_count": 6,
   "metadata": {},
   "outputs": [
    {
     "name": "stdout",
     "output_type": "stream",
     "text": [
      "Hola, Paco\n"
     ]
    }
   ],
   "source": [
    "persona = 'Paco'\n",
    "print('Hola,', persona)"
   ]
  },
  {
   "cell_type": "markdown",
   "metadata": {
    "slideshow": {
     "slide_type": "skip"
    }
   },
   "source": [
    "La memoria del ordenador puede verse como un conjunto de casillas numeradas que pueden contener valores. Estos valores pueden corresponder a números en el programa, o a códigos que representan caracteres o cadenas de texto.\n",
    "\n",
    "Las variables de Python permiten poner nombre a algunas de estas casillas y también podemos indicar qué tipo de valor queremos guardar. Por ejemplo, en este caso la variables pers almacena una cadena de texto. A este tipo de órdenes se les llama sentencias de asignación."
   ]
  },
  {
   "cell_type": "markdown",
   "metadata": {
    "slideshow": {
     "slide_type": "slide"
    }
   },
   "source": [
    "## Ejecución condicional"
   ]
  },
  {
   "cell_type": "markdown",
   "metadata": {
    "slideshow": {
     "slide_type": "skip"
    }
   },
   "source": [
    "Las variables permiten escribir expresiones relativamente complejas y hacer que el comportamiento del programa varíe dependiendo del valor de dichas variables. Éste es un ejemplo de sentencia de ejecución condicional."
   ]
  },
  {
   "cell_type": "code",
   "execution_count": null,
   "metadata": {},
   "outputs": [],
   "source": [
    "if n > 100:\n",
    "    print('Demasiado')"
   ]
  },
  {
   "cell_type": "markdown",
   "metadata": {
    "slideshow": {
     "slide_type": "slide"
    }
   },
   "source": [
    "## Repetición"
   ]
  },
  {
   "cell_type": "markdown",
   "metadata": {
    "slideshow": {
     "slide_type": "skip"
    }
   },
   "source": [
    "Los ordenadores se usan muchas veces para tareas repetitivas. Vamos por ejemplo a escribir la tabla de multiplicar del 3."
   ]
  },
  {
   "cell_type": "code",
   "execution_count": 19,
   "metadata": {},
   "outputs": [
    {
     "name": "stdout",
     "output_type": "stream",
     "text": [
      "3 x 0 = 0\n",
      "3 x 1 = 3\n",
      "3 x 2 = 6\n",
      "3 x 3 = 9\n",
      "3 x 4 = 12\n",
      "3 x 5 = 15\n",
      "3 x 6 = 18\n",
      "3 x 7 = 21\n",
      "3 x 8 = 24\n",
      "3 x 9 = 27\n"
     ]
    }
   ],
   "source": [
    "tabla = 3\n",
    "i = 0\n",
    "while i < 10:\n",
    "    print(tabla,'x',i,'=',tabla*i)\n",
    "    i = i + 1"
   ]
  },
  {
   "cell_type": "markdown",
   "metadata": {
    "slideshow": {
     "slide_type": "slide"
    }
   },
   "source": [
    "## Ejecución paso a paso\n",
    "\n",
    "* Vamos a ejecutar el ejemplo paso a paso."
   ]
  },
  {
   "cell_type": "markdown",
   "metadata": {
    "hideCode": true,
    "hideOutput": false,
    "hidePrompt": true,
    "pixiedust": {
     "displayParams": {}
    },
    "slideshow": {
     "slide_type": "-"
    }
   },
   "source": [
    "[Examínalo en Python Tutor](http://pythontutor.com/composingprograms.html#code=tabla%20%3D%203%0Ai%20%3D%200%0Awhile%20i%20%3C%2010%3A%0A%20%20%20%20print%28tabla,%20'x',%20i,%20'%3D',%20tabla*i%29%0A%20%20%20%20i%20%3D%20i%20%2B%201&cumulative=true&curInstr=0&mode=display&origin=composingprograms.js&py=3&rawInputLstJSON=%5B%5D)"
   ]
  },
  {
   "cell_type": "markdown",
   "metadata": {
    "collapsed": true,
    "slideshow": {
     "slide_type": "slide"
    }
   },
   "source": [
    "# Concepto de algoritmo"
   ]
  },
  {
   "cell_type": "markdown",
   "metadata": {
    "collapsed": true,
    "slideshow": {
     "slide_type": "subslide"
    }
   },
   "source": [
    "## Conocimiento declarativo\n",
    "\n",
    "$\\sqrt{x}$ es un $y$ tal que $y\\cdot y = x$"
   ]
  },
  {
   "cell_type": "markdown",
   "metadata": {
    "collapsed": true,
    "slideshow": {
     "slide_type": "subslide"
    }
   },
   "source": [
    "## Conocimiento imperativo\n",
    "\n",
    "1. Elige una conjetura $g$\n",
    "1. Si $g\\cdot g \\simeq x$, la respuesta es $g$\n",
    "1. Si no, elegir nueva conjetura $$g = \\frac{g + x/g}{2}$$\n",
    "1. Volver al paso 2"
   ]
  },
  {
   "cell_type": "markdown",
   "metadata": {
    "slideshow": {
     "slide_type": "subslide"
    }
   },
   "source": [
    "## Algoritmo\n",
    "\n",
    "Lista finita de instrucciones que describen un cómputo. \n",
    "\n",
    "Cuando se ejecuta sobre un **conjunto de entradas** que se proporcionan, pasa por un conjunto de **estados** bien definido, y eventualmente **produce una salida**\n"
   ]
  },
  {
   "cell_type": "markdown",
   "metadata": {
    "collapsed": true,
    "slideshow": {
     "slide_type": "slide"
    }
   },
   "source": [
    "# Programa fijo vs. almacenado\n",
    "\n",
    "<img style=\"display:float; width:30%\" src=\"https://target.scene7.com/is/image/Target/13646060_Alt01?wid=488&hei=488&fmt=pjpeg\" align=\"left\">\n",
    "<img style=\"display:float; width:40%\" src=\"https://www.recruitment.guru/wp-content/uploads/2017/09/Computer.jpg\" align=\"right\">"
   ]
  },
  {
   "cell_type": "markdown",
   "metadata": {
    "collapsed": true,
    "slideshow": {
     "slide_type": "slide"
    }
   },
   "source": [
    "# La tesis de Church - Turing\n",
    "\n",
    "* <img src=\"https://upload.wikimedia.org/wikipedia/commons/thumb/a/ab/Alan_Turing_Aged_16_%28cropped%29.jpg/250px-Alan_Turing_Aged_16_%28cropped%29.jpg\" align=\"right\" style=\"display:float\"> Si una función es **computable**, la máquina de Turing *puede programarse* para computarla.<img src=\"https://upload.wikimedia.org/wikipedia/en/b/bb/Turing_machine_1.JPG\" style=\"display:float-left; width:50%\">"
   ]
  },
  {
   "cell_type": "markdown",
   "metadata": {
    "slideshow": {
     "slide_type": "slide"
    }
   },
   "source": [
    "# La tesis de Church - Turing\n",
    "\n",
    "* Un lenguaje es **Turing complete** si puede usarse para simular la máquina de Turing.\n",
    "\n",
    "  * [Busca con Google](https://www.google.es/search?q=turing+machine+python&rlz=1C1GCEA_enES765ES765&oq=turing+machine+python&aqs=chrome..69i57j69i60.5802j0j8&sourceid=chrome&ie=UTF-8)"
   ]
  },
  {
   "cell_type": "markdown",
   "metadata": {},
   "source": [
    "* **Python es Turing Complete**\n",
    "  * ¡Incluso el subconjunto que hemos visto es *Turing complete*!\n",
    "  * Puede representar cualquier función computable"
   ]
  },
  {
   "cell_type": "markdown",
   "metadata": {
    "slideshow": {
     "slide_type": "slide"
    }
   },
   "source": [
    "# Elementos de un lenguaje de programación\n",
    "\n",
    "* Primitivas\n",
    "  * Palabras reservadas\n",
    "  * Literales\n",
    "  * Operadores infijos\n",
    "* Sintaxis\n",
    "* Semántica estática\n",
    "* Semántica"
   ]
  },
  {
   "cell_type": "markdown",
   "metadata": {
    "slideshow": {
     "slide_type": "slide"
    }
   },
   "source": [
    "# Créditos\n",
    "\n",
    "Extractos de MIT Open Courseware (6.00 [Introduction to Computer Science and Programming](http://ocw.mit.edu/courses/electrical-engineering-and-computer-science/6-00-introduction-to-computer-science-and-programming-fall-2008/)) de Eric Grimson y John Guttag\n"
   ]
  }
 ],
 "metadata": {
  "celltoolbar": "Slideshow",
  "kernelspec": {
   "display_name": "Python 3",
   "language": "python",
   "name": "python3"
  },
  "language_info": {
   "codemirror_mode": {
    "name": "ipython",
    "version": 3
   },
   "file_extension": ".py",
   "mimetype": "text/x-python",
   "name": "python",
   "nbconvert_exporter": "python",
   "pygments_lexer": "ipython3",
   "version": "3.6.3"
  }
 },
 "nbformat": 4,
 "nbformat_minor": 2
}
