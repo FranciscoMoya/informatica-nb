{
  "nbformat": 4,
  "nbformat_minor": 0,
  "metadata": {
    "kernelspec": {
      "name": "python3",
      "display_name": "Python 3"
    },
    "colab": {
      "name": "9 Métodos estocásticos.ipynb",
      "provenance": []
    }
  },
  "cells": [
    {
      "cell_type": "code",
      "metadata": {
        "collapsed": true,
        "id": "SEGkhznqqV_J"
      },
      "source": [
        ""
      ],
      "execution_count": null,
      "outputs": []
    },
    {
      "cell_type": "markdown",
      "metadata": {
        "id": "9NvzAgFpp6DY"
      },
      "source": [
        "# Métodos estocásticos\n",
        "\n",
        "Se refiere a procesos cuya evolución en el tiempo es aleatoria, así que tendremos que hacer algo de incapié en la generación de números aleatorios."
      ]
    },
    {
      "cell_type": "code",
      "metadata": {
        "id": "IOMdmCTArmY0"
      },
      "source": [
        "import random"
      ],
      "execution_count": 2,
      "outputs": []
    },
    {
      "cell_type": "markdown",
      "metadata": {
        "id": "8sIttwI-qeWW"
      },
      "source": [
        "No te limites a los cuatro ejemplos.  Mira la ayuda del módulo ejecutando `help(random)`.  Vamos a repasar algunas de las construcciones más frecuentes."
      ]
    },
    {
      "cell_type": "code",
      "metadata": {
        "colab": {
          "base_uri": "https://localhost:8080/"
        },
        "id": "SwQDngW2sUWv",
        "outputId": "30bcc068-89a4-4a9d-a383-4b26cf13fc14"
      },
      "source": [
        "random.randrange(0, 100)"
      ],
      "execution_count": 3,
      "outputs": [
        {
          "output_type": "execute_result",
          "data": {
            "text/plain": [
              "46"
            ]
          },
          "metadata": {
            "tags": []
          },
          "execution_count": 3
        }
      ]
    },
    {
      "cell_type": "code",
      "metadata": {
        "id": "6ClHqMHdqvZt",
        "outputId": "882f3dc1-14dc-405d-ce49-a1d06cbfdbda",
        "colab": {
          "base_uri": "https://localhost:8080/",
          "height": 35
        }
      },
      "source": [
        "random.choice('aeiou')"
      ],
      "execution_count": 4,
      "outputs": [
        {
          "output_type": "execute_result",
          "data": {
            "application/vnd.google.colaboratory.intrinsic+json": {
              "type": "string"
            },
            "text/plain": [
              "'i'"
            ]
          },
          "metadata": {
            "tags": []
          },
          "execution_count": 4
        }
      ]
    },
    {
      "cell_type": "code",
      "metadata": {
        "id": "YA88ODfprAcl",
        "outputId": "3cc49566-8e48-4dc9-9b59-56dd489da371",
        "colab": {
          "base_uri": "https://localhost:8080/"
        }
      },
      "source": [
        "random.choices('aeiou',[12.53, 13.68, 6.25, 8.68, 3.93]) # https://es.wikipedia.org/wiki/Frecuencia_de_aparici%C3%B3n_de_letras"
      ],
      "execution_count": 5,
      "outputs": [
        {
          "output_type": "execute_result",
          "data": {
            "text/plain": [
              "['a']"
            ]
          },
          "metadata": {
            "tags": []
          },
          "execution_count": 5
        }
      ]
    },
    {
      "cell_type": "code",
      "metadata": {
        "id": "kxfhN7NYro6g",
        "outputId": "58dbdb01-bcd6-49e2-a8be-146f782823f9",
        "colab": {
          "base_uri": "https://localhost:8080/"
        }
      },
      "source": [
        "random.uniform(1,100)"
      ],
      "execution_count": 6,
      "outputs": [
        {
          "output_type": "execute_result",
          "data": {
            "text/plain": [
              "63.370388936730166"
            ]
          },
          "metadata": {
            "tags": []
          },
          "execution_count": 6
        }
      ]
    },
    {
      "cell_type": "markdown",
      "metadata": {
        "id": "hFaTh5czq833"
      },
      "source": [
        "Todo se basa en generadores pseudoaleatorios con un periodo muy muy grande, pero para empezar se elige uno de forma completamente aleatoria.  Esa primera elección (semilla) viene del sistema operativo.  Pero podemos cambiarla a mano."
      ]
    },
    {
      "cell_type": "code",
      "metadata": {
        "id": "tQrifKxHurbl"
      },
      "source": [
        "random.seed(0)"
      ],
      "execution_count": null,
      "outputs": []
    },
    {
      "cell_type": "markdown",
      "metadata": {
        "id": "CIjUA-p-sF2A"
      },
      "source": [
        "Entonces la secuencia es repetible, y eso facilita la depuración de errores."
      ]
    },
    {
      "cell_type": "code",
      "metadata": {
        "id": "GRXLPPIusOSW",
        "outputId": "15312b63-5fd6-4028-d0b3-fe9fc1255bbc",
        "colab": {
          "base_uri": "https://localhost:8080/"
        }
      },
      "source": [
        "random.seed(0)\n",
        "print([random.randrange(0,10) for i in range(10)])\n",
        "random.seed(0)\n",
        "print([random.randrange(0,10) for i in range(10)])"
      ],
      "execution_count": 7,
      "outputs": [
        {
          "output_type": "stream",
          "text": [
            "[6, 6, 0, 4, 8, 7, 6, 4, 7, 5]\n",
            "[6, 6, 0, 4, 8, 7, 6, 4, 7, 5]\n"
          ],
          "name": "stdout"
        }
      ]
    },
    {
      "cell_type": "markdown",
      "metadata": {
        "id": "rxLlNEncsjLi"
      },
      "source": [
        "## 1. Paseo aleatorio (random walk)\n",
        "\n",
        "Modelado de borracho en cuadrícula. Siguiente paso aleatorio en cualquier dirección. ¿Tiende a separarse del origen?\n",
        "\n",
        "Conectado con multitud de procesos físicos (e.g. difusión) y de otro tipo (e.g. precio de acciones)."
      ]
    },
    {
      "cell_type": "markdown",
      "metadata": {
        "id": "l-0zJMVJtWvj"
      },
      "source": [
        "Empezamos modelando la posición."
      ]
    },
    {
      "cell_type": "code",
      "metadata": {
        "id": "llx4_Cy_ux3g"
      },
      "source": [
        "class Location(object):\r\n",
        "  def __init__(self, x, y):\r\n",
        "    self.x, self.y = x, y\r\n",
        "  \r\n",
        "  def getX(self): return self.x\r\n",
        "  def getY(self): return self.y\r\n",
        "\r\n",
        "  def distanceFrom(self, otra):\r\n",
        "    return ((self.x - otra.getX())**2 + (self.y-otra.getY())**2)**0.5\r\n",
        "\r\n",
        "  def move(self, dx, dy):\r\n",
        "    return Location(self.x + dx, self.y + dy)"
      ],
      "execution_count": 14,
      "outputs": []
    },
    {
      "cell_type": "markdown",
      "metadata": {
        "id": "lM7-6zyAt5P6"
      },
      "source": [
        "El borracho puede tener diversos comportamientos.  Lo modelamos como una jerarquía de clases.  La parte común (posición y acceso a la posición) se queda en la clase base `Drunk`, la parte específica (movimiento) queda en la especialización correspondiente de `Drunk`."
      ]
    },
    {
      "cell_type": "code",
      "metadata": {
        "id": "A_9VNsnNtwCo"
      },
      "source": [
        "class Drunk(object):\n",
        "  def __init__(self):\n",
        "    self.loc = Location(0,0)\n",
        "\n",
        "  def getLocation(self):\n",
        "    return self.loc\n",
        "\n",
        "class UniformDrunk(Drunk):\n",
        "  def move(self):\n",
        "    dx, dy = random.choice([(-1,0),(1,0),(0,-1),(0,1)])\n",
        "    self.loc = self.loc.move(dx,dy)\n",
        "\n",
        "class NorthDrunk(Drunk):\n",
        "  def move(self):\n",
        "    dx, dy = random.choices([(-1,0),(1,0),(0,-1),(0,1)], [0.2,0.2,0.2,0.4])\n",
        "    self.loc = self.loc.move(dx,dy)"
      ],
      "execution_count": 15,
      "outputs": []
    },
    {
      "cell_type": "markdown",
      "metadata": {
        "id": "WfJhvUAPuzbJ"
      },
      "source": [
        "Por último podemos modelar la cuadrícula en la que se mueve. Casi todo se delega en la clase que sabe."
      ]
    },
    {
      "cell_type": "code",
      "metadata": {
        "id": "OYXFwaZkt0yg"
      },
      "source": [
        "class Field(object):\n",
        "  def __init__(self):\n",
        "    self.drunk = None\n",
        "\n",
        "  def addDrunk(self, drunk):\n",
        "    if self.drunk:\n",
        "      raise ValueError('Ya hay borracho')\n",
        "    self.drunk = drunk\n",
        "\n",
        "  def move(self): \n",
        "    self.drunk.move()\n",
        "    return self.distance()\n",
        "\n",
        "  def distance(self):\n",
        "    return self.drunk.getLocation().distanceFrom(Location(0,0))\n"
      ],
      "execution_count": 16,
      "outputs": []
    },
    {
      "cell_type": "markdown",
      "metadata": {
        "id": "5ncvjPmfvM7c"
      },
      "source": [
        "Para usarlo simplemente creamos un tablero y añadimos un borracho."
      ]
    },
    {
      "cell_type": "code",
      "metadata": {
        "id": "unB6D4Fa1Chd"
      },
      "source": [
        "field = Field()\r\n",
        "field.addDrunk(UniformDrunk())\r\n"
      ],
      "execution_count": 17,
      "outputs": []
    },
    {
      "cell_type": "markdown",
      "metadata": {
        "id": "64f0CzJDvXmT"
      },
      "source": [
        "Simular la evolución de la distancia al origen es trivial."
      ]
    },
    {
      "cell_type": "code",
      "metadata": {
        "id": "Z6ul4y9n1T-L"
      },
      "source": [
        "d = [field.move() for _ in range(100)]"
      ],
      "execution_count": 24,
      "outputs": []
    },
    {
      "cell_type": "code",
      "metadata": {
        "id": "5UVZB4Vr1-ab"
      },
      "source": [
        "import matplotlib.pyplot as plt"
      ],
      "execution_count": 19,
      "outputs": []
    },
    {
      "cell_type": "code",
      "metadata": {
        "colab": {
          "base_uri": "https://localhost:8080/",
          "height": 282
        },
        "id": "RQP90mi82BAi",
        "outputId": "abd0d983-8b83-4f5e-d4df-bad17b05fc7d"
      },
      "source": [
        "plt.plot(d)"
      ],
      "execution_count": 25,
      "outputs": [
        {
          "output_type": "execute_result",
          "data": {
            "text/plain": [
              "[<matplotlib.lines.Line2D at 0x7f4fc054f828>]"
            ]
          },
          "metadata": {
            "tags": []
          },
          "execution_count": 25
        },
        {
          "output_type": "display_data",
          "data": {
            "image/png": "[encoded data removed]",
            "text/plain": [
              "<Figure size 432x288 with 1 Axes>"
            ]
          },
          "metadata": {
            "tags": [],
            "needs_background": "light"
          }
        }
      ]
    },
    {
      "cell_type": "code",
      "metadata": {
        "id": "1UwD7wHu2jb4"
      },
      "source": [
        ""
      ],
      "execution_count": null,
      "outputs": []
    },
    {
      "cell_type": "markdown",
      "metadata": {
        "id": "JlwKufsdv6lw"
      },
      "source": [
        "## 2. Simulación de Montecarlo\n",
        "\n",
        "El método usado para calcular el grosor de hormigón necesario para protegerse de una explosión atómica."
      ]
    },
    {
      "cell_type": "markdown",
      "metadata": {
        "id": "7urWgG75wZ6D"
      },
      "source": [
        "### Problema de Pascal (s. XVII)\n",
        "\n",
        "¿Compensa apostar a que sacaremos doble 6 en 24 jugadas?\n",
        "\n",
        "En la época era un problema difícil, ahora es trivial pero vamos a resolverlo por simulación."
      ]
    },
    {
      "cell_type": "code",
      "metadata": {
        "id": "FUyohLuEwm0w"
      },
      "source": [
        "def dado():\n",
        "  return random.choice(range(1,7))\n",
        "\n",
        "def apuesta_pascal():\n",
        "  for i in range(24):\n",
        "    if (dado(),dado()) == (6,6):\n",
        "      return True\n",
        "  return False\n",
        "\n",
        "def comprueba_pascal(intentos):\n",
        "  return sum(apuesta_pascal() for i in range(intentos))/intentos"
      ],
      "execution_count": 27,
      "outputs": []
    },
    {
      "cell_type": "code",
      "metadata": {
        "id": "myyq-xNNw8yk",
        "outputId": "6bc0dc63-8030-4bd1-9e1f-479a3167d92b",
        "colab": {
          "base_uri": "https://localhost:8080/"
        }
      },
      "source": [
        "comprueba_pascal(100000)"
      ],
      "execution_count": 36,
      "outputs": [
        {
          "output_type": "execute_result",
          "data": {
            "text/plain": [
              "0.49098"
            ]
          },
          "metadata": {
            "tags": []
          },
          "execution_count": 36
        }
      ]
    },
    {
      "cell_type": "markdown",
      "metadata": {
        "id": "YawM2tdqySMw"
      },
      "source": [
        "La teoría dice que es:\n",
        "\n",
        "$$ P = 1 - \\left(\\frac{35}{36}\\right)^{24} $$"
      ]
    },
    {
      "cell_type": "code",
      "metadata": {
        "id": "fAGVsHUUyHzy",
        "outputId": "90baf392-72c8-451a-ad68-6ce37e1c6de7",
        "colab": {
          "base_uri": "https://localhost:8080/"
        }
      },
      "source": [
        "1 - (35/36)**24"
      ],
      "execution_count": 35,
      "outputs": [
        {
          "output_type": "execute_result",
          "data": {
            "text/plain": [
              "0.4914038761309034"
            ]
          },
          "metadata": {
            "tags": []
          },
          "execution_count": 35
        }
      ]
    },
    {
      "cell_type": "markdown",
      "metadata": {
        "id": "3_yezy1fzDRP"
      },
      "source": [
        "### Juego de Craps\n",
        "\n",
        "Es un [juego de dados](https://casinoalto.com/reglas/craps/) típico en casinos.\n",
        "\n",
        "El lanzador tiene que apostar a **línea de pase** o a **barra de no pase**.  Usaremos la simplificación del libro de texto, en la que las dos posibles apuestas funcionan así:\n",
        "\n",
        "*   Si apuesta a **línea de pase** en la primera tirada gana si sale 7 u 11 y pierde con 2,3 o 12.  El resto de números obliga a seguir tirando. El resultado obtenido se convierte en el `punto` y debe volver a obtenerlo antes de sacar un 7 para ganar.\n",
        "\n",
        "*   Si a puesta a **barra de no pase** en la primera tirada gana con un 2 o un 3, empata con un 12, y pierde con 7 u 11.  El resto de los números obliga a seguir tirando.  El resultado obtenido se convierte en el `punto` y debe obtener un 7 antes de volver a obtener el `punto` para ganar.\n",
        "\n"
      ]
    },
    {
      "cell_type": "code",
      "metadata": {
        "id": "mbmR9Bw7y4Nr"
      },
      "source": [
        "reglas_craps = {\n",
        "    'línea de pase' : {\n",
        "        'primera': {\n",
        "            'win':  lambda x,_: x in (7,11) ,\n",
        "            'loss': lambda x,_: x in (2,3,12) ,\n",
        "        },\n",
        "        'resto': {\n",
        "            'win':  lambda x, punto: x == punto ,\n",
        "            'loss': lambda x, punto: x == 7\n",
        "        }\n",
        "    },\n",
        "    'barra de no pase': {\n",
        "        'primera': {\n",
        "            'win':  lambda x,_: x in (2,3) ,\n",
        "            'loss': lambda x,_: x in (7,11) ,\n",
        "            'push': lambda x,_: x == 12\n",
        "        },\n",
        "        'resto': {\n",
        "            'win':  lambda x, punto: x == 7 ,\n",
        "            'loss': lambda x, punto: x == punto,\n",
        "        }        \n",
        "    }\n",
        "}\n",
        "\n",
        "class CrapsGame(object):\n",
        "  def __init__(self):\n",
        "    self.results = { apuesta: { k:0 for k in reglas_craps[apuesta]['primera'] } for apuesta in reglas_craps }\n",
        "\n",
        "  def play(self):\n",
        "    punto = dado() + dado()\n",
        "    done = [ self.tirada(apuesta, punto) for apuesta in self.results ]\n",
        "    while True:\n",
        "      if all(done): return\n",
        "      x = dado() + dado()\n",
        "      done = [ self.tirada(apuesta, x, punto) if not ok else ok for apuesta,ok in zip(self.results.keys(), done) ]\n",
        "\n",
        "  def tirada(self, apuesta, x, punto = 0):\n",
        "      r = self.results[apuesta]\n",
        "      f = reglas_craps[apuesta]['resto' if punto else 'primera']\n",
        "      for key in f:\n",
        "        if f[key](x, punto):\n",
        "          r[key] += 1\n",
        "          return True\n",
        "      return False\n",
        "  \n",
        "  def runs(self, n):\n",
        "    for i in range(n):\n",
        "      self.play()\n"
      ],
      "execution_count": 46,
      "outputs": []
    },
    {
      "cell_type": "code",
      "metadata": {
        "id": "mqGiCfCsCoD2",
        "outputId": "2692d18d-92cc-42c9-d7bb-714b49aba9a2",
        "colab": {
          "base_uri": "https://localhost:8080/"
        }
      },
      "source": [
        "g = CrapsGame()\n",
        "g.runs(100000)\n",
        "g.results"
      ],
      "execution_count": 47,
      "outputs": [
        {
          "output_type": "execute_result",
          "data": {
            "text/plain": [
              "{'barra de no pase': {'loss': 49259, 'push': 2837, 'win': 47904},\n",
              " 'línea de pase': {'loss': 50741, 'win': 49259}}"
            ]
          },
          "metadata": {
            "tags": []
          },
          "execution_count": 47
        }
      ]
    },
    {
      "cell_type": "code",
      "metadata": {
        "id": "BCL4-TrHDFts"
      },
      "source": [
        ""
      ],
      "execution_count": null,
      "outputs": []
    }
  ]
}