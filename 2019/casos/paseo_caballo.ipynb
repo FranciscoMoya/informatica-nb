{
  "nbformat": 4,
  "nbformat_minor": 0,
  "metadata": {
    "kernelspec": {
      "name": "python36",
      "display_name": "Python 3.6",
      "language": "python"
    },
    "language_info": {
      "mimetype": "text/x-python",
      "nbconvert_exporter": "python",
      "name": "python",
      "pygments_lexer": "ipython3",
      "version": "3.6.6",
      "file_extension": ".py",
      "codemirror_mode": {
        "version": 3,
        "name": "ipython"
      }
    },
    "colab": {
      "name": "paseo_caballo.ipynb",
      "provenance": []
    }
  },
  "cells": [
    {
      "cell_type": "markdown",
      "metadata": {
        "id": "fVuJbatpJ3eJ"
      },
      "source": [
        "Primero veamos si la fuerza bruta podría valer.  Para ello conviene analizar la figura siguiente que muestra desde cuántas casillas se puede acceder a cada casilla.  Basta multiplicar todo.\n",
        "\n",
        "![accesibilidad](https://runestone.academy/runestone/books/published/pythonds/_images/moveCount.png)"
      ]
    },
    {
      "cell_type": "code",
      "metadata": {
        "trusted": true,
        "id": "Jx454Haw5uJ9",
        "outputId": "937b9929-a4db-42da-e3b4-6f874eec832c"
      },
      "source": [
        "8**16 * 6**16 * 4**20 * 3**8 * 2**4"
      ],
      "execution_count": null,
      "outputs": [
        {
          "output_type": "execute_result",
          "data": {
            "text/plain": [
              "91653624689233987245068783089656480594395136"
            ]
          },
          "metadata": {
            "tags": []
          },
          "execution_count": 3
        }
      ]
    },
    {
      "cell_type": "markdown",
      "metadata": {
        "id": "H1P9VwV-L9Cn"
      },
      "source": [
        "La fuerza bruta es impracticable.  Vamos a usar backtracking.  Backtracking no es más que divide y vencerás salvo por el hecho de que algunas tentativas puede que no tengan éxito y tendremos que ser capaces de recuperarnos.\n",
        "\n",
        "Todas las casillas que habría que visitar:"
      ]
    },
    {
      "cell_type": "code",
      "metadata": {
        "trusted": true,
        "id": "6fr7SkF55uJ-"
      },
      "source": [
        "todas_casillas = set((x,y) for x in range(8) for y in range(8))"
      ],
      "execution_count": 2,
      "outputs": []
    },
    {
      "cell_type": "markdown",
      "metadata": {
        "id": "vLsF9azaMYKD"
      },
      "source": [
        "Aplicamos divide y vencerás:\n",
        "* Entradas: secuencia de casillas ya visitadas, casillas aún por visitar\n",
        "* Salidas: secuencia completa de casillas y si ha podido acabar"
      ]
    },
    {
      "cell_type": "code",
      "metadata": {
        "trusted": true,
        "id": "KOwkJMpx5uJ-"
      },
      "source": [
        "def caballo(visitadas = ((0,0),), por_visitar = todas_casillas - {(0,0)}):\n",
        "    if len(por_visitar) == 0:\n",
        "        return visitadas, True\n",
        "    \n",
        "    posicion_actual = visitadas[-1]\n",
        "    #posibles = alcanzables(posicion_actual, por_visitar) # exploración ingenua\n",
        "    posibles = sorted(alcanzables(posicion_actual, por_visitar), \\\n",
        "                      key = lambda x: len(alcanzables(x, por_visitar)))\n",
        "    for siguiente in posibles:\n",
        "        quedan = por_visitar - {siguiente}\n",
        "        ruta, termina = caballo(visitadas + (siguiente,), quedan)\n",
        "        if termina:\n",
        "            return ruta, True\n",
        "    return visitadas, False\n",
        "        \n",
        "def alcanzables(pos, casillas):\n",
        "    x0,y0 = pos\n",
        "    return tuple((x0+i,y0+j) for i,j in ((2,1),(2,-1),(-2,1),(-2,-1),\n",
        "                                         (1,2),(-1,2),(1,-2),(-1,-2)) \\\n",
        "                if 8 > x0+i >= 0 and 8 > y0+j >= 0 \\\n",
        "                 and (x0+i,y0+j) in casillas)"
      ],
      "execution_count": 3,
      "outputs": []
    },
    {
      "cell_type": "code",
      "metadata": {
        "trusted": true,
        "scrolled": true,
        "id": "ewZc9eJ25uJ-",
        "outputId": "e55877b8-93ca-4eaf-b9ff-dbc0bfe36db5",
        "colab": {
          "base_uri": "https://localhost:8080/"
        }
      },
      "source": [
        "caballo()"
      ],
      "execution_count": 4,
      "outputs": [
        {
          "output_type": "execute_result",
          "data": {
            "text/plain": [
              "(((0, 0),\n",
              "  (2, 1),\n",
              "  (4, 0),\n",
              "  (6, 1),\n",
              "  (7, 3),\n",
              "  (6, 5),\n",
              "  (7, 7),\n",
              "  (5, 6),\n",
              "  (7, 5),\n",
              "  (6, 7),\n",
              "  (4, 6),\n",
              "  (2, 7),\n",
              "  (0, 6),\n",
              "  (1, 4),\n",
              "  (0, 2),\n",
              "  (1, 0),\n",
              "  (3, 1),\n",
              "  (5, 0),\n",
              "  (7, 1),\n",
              "  (5, 2),\n",
              "  (6, 0),\n",
              "  (7, 2),\n",
              "  (6, 4),\n",
              "  (7, 6),\n",
              "  (5, 7),\n",
              "  (3, 6),\n",
              "  (1, 7),\n",
              "  (0, 5),\n",
              "  (2, 6),\n",
              "  (0, 7),\n",
              "  (1, 5),\n",
              "  (0, 3),\n",
              "  (1, 1),\n",
              "  (3, 0),\n",
              "  (5, 1),\n",
              "  (7, 0),\n",
              "  (6, 2),\n",
              "  (7, 4),\n",
              "  (6, 6),\n",
              "  (4, 7),\n",
              "  (5, 5),\n",
              "  (6, 3),\n",
              "  (4, 4),\n",
              "  (2, 3),\n",
              "  (4, 2),\n",
              "  (5, 4),\n",
              "  (3, 5),\n",
              "  (4, 3),\n",
              "  (2, 2),\n",
              "  (0, 1),\n",
              "  (2, 0),\n",
              "  (4, 1),\n",
              "  (5, 3),\n",
              "  (3, 4),\n",
              "  (1, 3),\n",
              "  (3, 2),\n",
              "  (2, 4),\n",
              "  (4, 5),\n",
              "  (3, 7),\n",
              "  (1, 6),\n",
              "  (0, 4),\n",
              "  (2, 5),\n",
              "  (3, 3),\n",
              "  (1, 2)),\n",
              " True)"
            ]
          },
          "metadata": {
            "tags": []
          },
          "execution_count": 4
        }
      ]
    },
    {
      "cell_type": "markdown",
      "metadata": {
        "id": "7lon-GSbPCNW"
      },
      "source": [
        "Aunque es preferible (mucho más claro) con excepciones.\n",
        "* Entradas: secuencia de visitadas y las que quedan por visitar.\n",
        "* Salidas: secuencia completa\n",
        "\n",
        "Dejo comentada la exploración ingenua que muy probablemente no llegaría a terminar en un tiempo razonable."
      ]
    },
    {
      "cell_type": "code",
      "metadata": {
        "trusted": true,
        "id": "hQ1Dishp5uJ-"
      },
      "source": [
        "def caballo(visitadas = ((0,0),), por_visitar = todas_casillas - {(0,0)}):\n",
        "    if len(por_visitar) == 0:\n",
        "        return visitadas\n",
        "    \n",
        "    posicion_actual = visitadas[-1]\n",
        "    #posibles = alcanzables(posicion_actual, por_visitar) # exploración ingenua\n",
        "    posibles = sorted(alcanzables(posicion_actual, por_visitar), \\\n",
        "                      key = lambda x: len(alcanzables(x, por_visitar)))\n",
        "    for siguiente in posibles:\n",
        "        quedan = por_visitar - { siguiente }\n",
        "        try: return caballo(visitadas + (siguiente,), quedan)\n",
        "        except ValueError: pass\n",
        "    raise ValueError('Con esta secuencia de visitadas no hay solución')\n",
        "        \n",
        "def alcanzables(pos, casillas):\n",
        "    x0,y0 = pos\n",
        "    return tuple((x0+i,y0+j) for i,j in ((2,1),(2,-1),(-2,1),(-2,-1),\n",
        "                                         (1,2),(-1,2),(1,-2),(-1,-2)) \\\n",
        "                if 8 > x0+i >= 0 and 8 > y0+j >= 0 \\\n",
        "                 and (x0+i,y0+j) in casillas)"
      ],
      "execution_count": 8,
      "outputs": []
    },
    {
      "cell_type": "code",
      "metadata": {
        "trusted": true,
        "id": "VpZY9cxM5uJ-",
        "outputId": "068d1976-2d40-452c-d943-c346f0002478",
        "colab": {
          "base_uri": "https://localhost:8080/"
        }
      },
      "source": [
        "caballo(((1,0),), todas_casillas - {(1,0)})"
      ],
      "execution_count": 9,
      "outputs": [
        {
          "output_type": "execute_result",
          "data": {
            "text/plain": [
              "((1, 0),\n",
              " (0, 2),\n",
              " (2, 1),\n",
              " (0, 0),\n",
              " (1, 2),\n",
              " (0, 4),\n",
              " (1, 6),\n",
              " (3, 7),\n",
              " (5, 6),\n",
              " (7, 7),\n",
              " (6, 5),\n",
              " (5, 7),\n",
              " (7, 6),\n",
              " (6, 4),\n",
              " (7, 2),\n",
              " (6, 0),\n",
              " (4, 1),\n",
              " (2, 0),\n",
              " (0, 1),\n",
              " (1, 3),\n",
              " (0, 5),\n",
              " (1, 7),\n",
              " (3, 6),\n",
              " (2, 4),\n",
              " (0, 3),\n",
              " (1, 1),\n",
              " (3, 0),\n",
              " (2, 2),\n",
              " (1, 4),\n",
              " (0, 6),\n",
              " (2, 7),\n",
              " (1, 5),\n",
              " (0, 7),\n",
              " (2, 6),\n",
              " (4, 7),\n",
              " (6, 6),\n",
              " (4, 5),\n",
              " (3, 3),\n",
              " (2, 5),\n",
              " (4, 6),\n",
              " (6, 7),\n",
              " (7, 5),\n",
              " (5, 4),\n",
              " (7, 3),\n",
              " (6, 1),\n",
              " (4, 0),\n",
              " (5, 2),\n",
              " (7, 1),\n",
              " (5, 0),\n",
              " (3, 1),\n",
              " (2, 3),\n",
              " (3, 5),\n",
              " (4, 3),\n",
              " (6, 2),\n",
              " (7, 0),\n",
              " (5, 1),\n",
              " (3, 2),\n",
              " (4, 4),\n",
              " (6, 3),\n",
              " (4, 2),\n",
              " (3, 4),\n",
              " (5, 5),\n",
              " (7, 4),\n",
              " (5, 3))"
            ]
          },
          "metadata": {
            "tags": []
          },
          "execution_count": 9
        }
      ]
    },
    {
      "cell_type": "code",
      "metadata": {
        "id": "mh36f7FcPTBO"
      },
      "source": [
        ""
      ],
      "execution_count": null,
      "outputs": []
    }
  ]
}