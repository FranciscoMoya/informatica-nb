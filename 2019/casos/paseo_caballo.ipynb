{
  "cells": [
    {
      "metadata": {
        "trusted": true
      },
      "cell_type": "code",
      "source": "8**16*6**16*4**20*3**8*2**4",
      "execution_count": 3,
      "outputs": [
        {
          "output_type": "execute_result",
          "execution_count": 3,
          "data": {
            "text/plain": "91653624689233987245068783089656480594395136"
          },
          "metadata": {}
        }
      ]
    },
    {
      "metadata": {
        "trusted": true
      },
      "cell_type": "code",
      "source": "casillas = set((x,y) for x in range(8) for y in range(8))",
      "execution_count": 23,
      "outputs": []
    },
    {
      "metadata": {
        "trusted": true
      },
      "cell_type": "code",
      "source": "def caballo(visitadas=((0,0),), casillas=set((x,y) for x in range(8) for y in range(8) if (x,y) != (0,0))):\n    if len(casillas) == 0:\n        return visitadas, True\n    \n    pos = visitadas[-1]\n    #posibles = alcanzables(pos, casillas) # exploración ingenua\n    posibles = sorted(alcanzables(pos, casillas), \\\n                      key = lambda x: len(alcanzables(x,casillas)))\n    for siguiente in posibles:\n        quedan = set(x for x in casillas if x != siguiente)\n        ruta, termina = caballo(visitadas + (siguiente,), quedan)\n        if termina:\n            return ruta, True\n    return visitadas, False\n        \ndef alcanzables(pos, casillas):\n    x0,y0 = pos\n    return tuple((x0+i,y0+j) for i,j in ((2,1),(2,-1),(-2,1),(-2,-1),\n                                         (1,2),(-1,2),(1,-2),(-1,-2)) \\\n                if 8 > x0+i >= 0 and 8 > y0+j >= 0 \\\n                 and (x0+i,y0+j) in casillas)",
      "execution_count": 10,
      "outputs": []
    },
    {
      "metadata": {
        "trusted": true,
        "scrolled": true
      },
      "cell_type": "code",
      "source": "caballo()",
      "execution_count": 11,
      "outputs": [
        {
          "output_type": "execute_result",
          "execution_count": 11,
          "data": {
            "text/plain": "(((0, 0),\n  (2, 1),\n  (4, 0),\n  (6, 1),\n  (7, 3),\n  (6, 5),\n  (7, 7),\n  (5, 6),\n  (7, 5),\n  (6, 7),\n  (4, 6),\n  (2, 7),\n  (0, 6),\n  (1, 4),\n  (0, 2),\n  (1, 0),\n  (3, 1),\n  (5, 0),\n  (7, 1),\n  (5, 2),\n  (6, 0),\n  (7, 2),\n  (6, 4),\n  (7, 6),\n  (5, 7),\n  (3, 6),\n  (1, 7),\n  (0, 5),\n  (2, 6),\n  (0, 7),\n  (1, 5),\n  (0, 3),\n  (1, 1),\n  (3, 0),\n  (5, 1),\n  (7, 0),\n  (6, 2),\n  (7, 4),\n  (6, 6),\n  (4, 7),\n  (5, 5),\n  (6, 3),\n  (4, 4),\n  (2, 3),\n  (4, 2),\n  (5, 4),\n  (3, 5),\n  (4, 3),\n  (2, 2),\n  (0, 1),\n  (2, 0),\n  (4, 1),\n  (5, 3),\n  (3, 4),\n  (1, 3),\n  (3, 2),\n  (2, 4),\n  (4, 5),\n  (3, 7),\n  (1, 6),\n  (0, 4),\n  (2, 5),\n  (3, 3),\n  (1, 2)),\n True)"
          },
          "metadata": {}
        }
      ]
    },
    {
      "metadata": {
        "trusted": true
      },
      "cell_type": "code",
      "source": "def caballo(visitadas=((0,0),), casillas=set((x,y) for x in range(8) for y in range(8) if (x,y) != (0,0))):\n    if len(casillas) == 0:\n        return visitadas, True\n    \n    pos = visitadas[-1]\n    #posibles = alcanzables(pos, casillas) # exploración ingenua\n    posibles = sorted(alcanzables(pos, casillas), \\\n                      key = lambda x: len(alcanzables(x,casillas)))\n    for siguiente in posibles:\n        quedan = set(x for x in casillas if x != siguiente)\n        ruta, termina = caballo(visitadas + (siguiente,), quedan)\n        if termina:\n            return ruta, True\n    return visitadas, False\n        \ndef alcanzables(pos, casillas):\n    x0,y0 = pos\n    moves = ((2,1),(2,-1),(-2,1),(-2,-1),(1,2),(-1,2),(1,-2),(-1,-2))\n    valid = ((x0+i,y0+j) for i,j in moves)\n    return tuple((x,y) for x,y in valid \\\n                 if 8 > x >= 0 and 8 > y >= 0 \\\n                    and (x,y) in casillas)",
      "execution_count": 28,
      "outputs": []
    },
    {
      "metadata": {
        "trusted": true
      },
      "cell_type": "code",
      "source": "",
      "execution_count": null,
      "outputs": []
    }
  ],
  "metadata": {
    "kernelspec": {
      "name": "python36",
      "display_name": "Python 3.6",
      "language": "python"
    },
    "language_info": {
      "mimetype": "text/x-python",
      "nbconvert_exporter": "python",
      "name": "python",
      "pygments_lexer": "ipython3",
      "version": "3.6.6",
      "file_extension": ".py",
      "codemirror_mode": {
        "version": 3,
        "name": "ipython"
      }
    }
  },
  "nbformat": 4,
  "nbformat_minor": 2
}