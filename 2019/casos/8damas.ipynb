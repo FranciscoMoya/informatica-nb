{
  "cells": [
    {
      "metadata": {},
      "cell_type": "markdown",
      "source": "Problema de las 8 damas\n=======================\n\nAveriguar todas las posibles posiciones de 8 damas en un tablero de ajedrez sin que se coman unas a otras.\n\n\nAnálisis previo\n---------------\n\nCada una de las 8 damas debe estar en una fila distinta. Cada una de las 8 damas debe estar en una columna distinta.\n\nPor tanto una posible forma de modelar una solución tentativa es mediante un vector o lista de 8 números. Cada posición del vector o lista corresponde a la dama de la fila correspondiente y su valor corresponde a la columna dentro de esa fila en la que está situada la dama.\n\nLa solución puede por tanto encontrarse por enumeración exhaustiva, comprobando todas las posibles permutaciones.  Resolvamos primero el problema de encontrar todas las posibles [permutaciones de n elementos](Permutaciones.ipynb) y luego seguimos."
    },
    {
      "metadata": {
        "trusted": false
      },
      "cell_type": "code",
      "source": "def ocho_damas():\n    for p in permutaciones(list(range(8))):\n        if es_solucion(p):\n            return p",
      "execution_count": 32,
      "outputs": []
    },
    {
      "metadata": {},
      "cell_type": "markdown",
      "source": "Ya está, es así de simple.  Hemos acabado el problema, solo quedan detalles.  Como ya habrás detectado hemos usado fuerza bruta (enumeración exhaustiva).  Podemos hacerlo sin problemas porque `factorial(8)`, que es el número de posibles permutaciones de 8 elementos, es un número modesto.\n\nPara comprobar si es solución solo tenemos que comprobar las diagonales.  Ya sabemos que solo hay una dama en cada fila y en cada columna por la forma en que hemos modelado el problema.\n\nPara ello tenemos que comprobar que en cada diagonal solo hay una dama, y lo mismo con las diagonales inversas.  Podemos extraer el comportamiento común si pasamos una función que determina en qué diagonal o diagonal inversa se encuentra cada dama."
    },
    {
      "metadata": {
        "trusted": false
      },
      "cell_type": "code",
      "source": "def es_solucion(sol):\n    return  comprobar_diagonales(sol, find_diag) \\\n        and comprobar_diagonales(sol, find_diag_inv)",
      "execution_count": 33,
      "outputs": []
    },
    {
      "metadata": {},
      "cell_type": "markdown",
      "source": "Una posible forma de codificar las 15 diagonales es asignando el número 0 a la diagonal principal, números positivos correlativos a las que están por encima, y números negativos a las que están por debajo. Por eso usamos 15 contadores en un diccionario cuyas claves corresponden a los números entre -7 y 7."
    },
    {
      "metadata": {
        "trusted": false
      },
      "cell_type": "code",
      "source": "def comprobar_diagonales(sol, diag_func):\n    c = { i:0 for i in range(-7,8) }\n    for x,y in enumerate(sol):\n        c[diag_func(x,y)] += 1\n    return max(c.values()) == 1",
      "execution_count": 34,
      "outputs": []
    },
    {
      "metadata": {},
      "cell_type": "markdown",
      "source": "Dadas las coordenadas de una casilla podemos encontrar la diagonal en la que se encuentra siguiendo el criterio de arriba con un sencillo cálculo."
    },
    {
      "metadata": {
        "trusted": false
      },
      "cell_type": "code",
      "source": "def find_diag(x,y):\n    return x - y\n\ndef find_diag_inv(x,y):\n    return 7 - x - y",
      "execution_count": 35,
      "outputs": []
    },
    {
      "metadata": {},
      "cell_type": "markdown",
      "source": "Para probarlo necesitamos proporcionar una definición de `permutaciones`.  Elige la que quieras de [nuestro análisis previo](Permutaciones.ipynb)."
    },
    {
      "metadata": {
        "trusted": false
      },
      "cell_type": "code",
      "source": "from itertools import permutations as permutaciones\nv = ocho_damas()\nprint(v)",
      "execution_count": 36,
      "outputs": [
        {
          "name": "stdout",
          "output_type": "stream",
          "text": "(0, 4, 7, 5, 2, 6, 1, 3)\n"
        }
      ]
    },
    {
      "metadata": {},
      "cell_type": "markdown",
      "source": "Solo nos queda imprimir la solución."
    },
    {
      "metadata": {
        "trusted": false
      },
      "cell_type": "code",
      "source": "def imprime_solucion(sol):\n    for i in range(8):\n        imprime_linea(sol[i])\n    print(sol)",
      "execution_count": 37,
      "outputs": []
    },
    {
      "metadata": {
        "trusted": false
      },
      "cell_type": "code",
      "source": "def imprime_linea(col):\n    print('.'*col + '*' + '.'*(7-col))",
      "execution_count": 38,
      "outputs": []
    },
    {
      "metadata": {
        "trusted": false
      },
      "cell_type": "code",
      "source": "imprime_solucion(v)",
      "execution_count": 39,
      "outputs": [
        {
          "name": "stdout",
          "output_type": "stream",
          "text": "*.......\n....*...\n.......*\n.....*..\n..*.....\n......*.\n.*......\n...*....\n(0, 4, 7, 5, 2, 6, 1, 3)\n"
        }
      ]
    },
    {
      "metadata": {},
      "cell_type": "markdown",
      "source": "Si queremos buscar otra solución podemos partir de otra permutación inicial."
    },
    {
      "metadata": {
        "collapsed": true,
        "trusted": false
      },
      "cell_type": "code",
      "source": "def ocho_damas(inicial = None):\n    for p in permutaciones(inicial if inicial is not None \n                           else list(range(8))):\n        if es_solucion(p):\n            return p",
      "execution_count": 40,
      "outputs": []
    },
    {
      "metadata": {},
      "cell_type": "markdown",
      "source": "Ahora basta indicar una permutación inicial diferente."
    },
    {
      "metadata": {
        "trusted": false
      },
      "cell_type": "code",
      "source": "from random import shuffle\nv = list(range(8))\nshuffle(v)\nimprime_solucion(ocho_damas(v))",
      "execution_count": 41,
      "outputs": [
        {
          "name": "stdout",
          "output_type": "stream",
          "text": ".....*..\n.*......\n......*.\n*.......\n...*....\n.......*\n....*...\n..*.....\n(5, 1, 6, 0, 3, 7, 4, 2)\n"
        }
      ]
    },
    {
      "metadata": {},
      "cell_type": "markdown",
      "source": "Otra posibilidad es convertirlo en un generador para que pueda producir todas las posibles soluciones."
    },
    {
      "metadata": {
        "collapsed": true,
        "trusted": false
      },
      "cell_type": "code",
      "source": "def ocho_damas(inicial = None):\n    for p in permutaciones(inicial if inicial is not None \n                           else list(range(8))):\n        if es_solucion(p):\n            yield p",
      "execution_count": 42,
      "outputs": []
    },
    {
      "metadata": {},
      "cell_type": "markdown",
      "source": "Ahora podemos, por ejemplo imprimir las 4 primeras soluciones."
    },
    {
      "metadata": {
        "trusted": false
      },
      "cell_type": "code",
      "source": "soluciones = ocho_damas()\nfor s in range(4):\n    imprime_solucion(next(soluciones))",
      "execution_count": 43,
      "outputs": [
        {
          "name": "stdout",
          "output_type": "stream",
          "text": "*.......\n....*...\n.......*\n.....*..\n..*.....\n......*.\n.*......\n...*....\n(0, 4, 7, 5, 2, 6, 1, 3)\n*.......\n.....*..\n.......*\n..*.....\n......*.\n...*....\n.*......\n....*...\n(0, 5, 7, 2, 6, 3, 1, 4)\n*.......\n......*.\n...*....\n.....*..\n.......*\n.*......\n....*...\n..*.....\n(0, 6, 3, 5, 7, 1, 4, 2)\n*.......\n......*.\n....*...\n.......*\n.*......\n...*....\n.....*..\n..*.....\n(0, 6, 4, 7, 1, 3, 5, 2)\n"
        }
      ]
    },
    {
      "metadata": {
        "trusted": true
      },
      "cell_type": "code",
      "source": "64*63*62*61*60*59*58*57",
      "execution_count": 1,
      "outputs": [
        {
          "output_type": "execute_result",
          "execution_count": 1,
          "data": {
            "text/plain": "178462987637760"
          },
          "metadata": {}
        }
      ]
    },
    {
      "metadata": {
        "trusted": true
      },
      "cell_type": "code",
      "source": "from math import factorial",
      "execution_count": 2,
      "outputs": []
    },
    {
      "metadata": {
        "trusted": true
      },
      "cell_type": "code",
      "source": "factorial(8)",
      "execution_count": 3,
      "outputs": [
        {
          "output_type": "execute_result",
          "execution_count": 3,
          "data": {
            "text/plain": "40320"
          },
          "metadata": {}
        }
      ]
    },
    {
      "metadata": {
        "trusted": true
      },
      "cell_type": "code",
      "source": "L=tuple(range(8))",
      "execution_count": 4,
      "outputs": []
    },
    {
      "metadata": {
        "trusted": true
      },
      "cell_type": "code",
      "source": "L",
      "execution_count": 5,
      "outputs": [
        {
          "output_type": "execute_result",
          "execution_count": 5,
          "data": {
            "text/plain": "(0, 1, 2, 3, 4, 5, 6, 7)"
          },
          "metadata": {}
        }
      ]
    },
    {
      "metadata": {
        "trusted": true
      },
      "cell_type": "code",
      "source": "def permutaciones(L):\n    if len(L) < 2:\n        yield L\n        return\n    for x in L:\n        yield from permutaciones_empiezan_por(x,L)\n\ndef permutaciones_empiezan_por(x, L):\n    resto = tuple(i for i in L if i != x)\n    for p in permutaciones(resto):\n        yield (x,) + p\n\nprint(*permutaciones((1,2,3)))",
      "execution_count": 6,
      "outputs": [
        {
          "output_type": "stream",
          "text": "(1, 2, 3) (1, 3, 2) (2, 1, 3) (2, 3, 1) (3, 1, 2) (3, 2, 1)\n",
          "name": "stdout"
        }
      ]
    },
    {
      "metadata": {
        "trusted": true
      },
      "cell_type": "code",
      "source": "def ocho_damas():\n    for p in permutaciones(tuple(range(8))):\n        if comprobar(p):\n            yield p\n            \ndef comprobar(L):\n    return comprobar_diag(L) and comprobar_diag_inv(L)\n\ndef comprobar_diag(L):\n    diag = set(x-y for y,x in enumerate(L))\n    return len(diag) == 8\n\ndef comprobar_diag_inv(L):\n    diag = set(7-x-y for y,x in enumerate(L))\n    return len(diag) == 8\n",
      "execution_count": 1,
      "outputs": []
    },
    {
      "metadata": {
        "trusted": true
      },
      "cell_type": "code",
      "source": "",
      "execution_count": null,
      "outputs": []
    }
  ],
  "metadata": {
    "kernelspec": {
      "name": "python36",
      "display_name": "Python 3.6",
      "language": "python"
    },
    "language_info": {
      "mimetype": "text/x-python",
      "nbconvert_exporter": "python",
      "name": "python",
      "pygments_lexer": "ipython3",
      "version": "3.6.6",
      "file_extension": ".py",
      "codemirror_mode": {
        "version": 3,
        "name": "ipython"
      }
    }
  },
  "nbformat": 4,
  "nbformat_minor": 2
}