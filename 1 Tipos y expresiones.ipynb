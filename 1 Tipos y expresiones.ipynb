{
  "cells": [
    {
      "metadata": {
        "slideshow": {
          "slide_type": "notes"
        }
      },
      "cell_type": "markdown",
      "source": "Por si te perdiste la clase la introducción completa puedes encontrarla en [este enlace](https://franciscomoya.github.io/informatica-doc/docs/elem.html)."
    },
    {
      "metadata": {
        "slideshow": {
          "slide_type": "notes"
        },
        "trusted": true
      },
      "cell_type": "code",
      "source": "from IPython.display import Image",
      "execution_count": 1,
      "outputs": []
    },
    {
      "metadata": {
        "collapsed": true,
        "slideshow": {
          "slide_type": "slide"
        }
      },
      "cell_type": "markdown",
      "source": "# Elementos de un programa\n\n* Primitivas\n* Composición\n* Abstracción"
    },
    {
      "metadata": {
        "slideshow": {
          "slide_type": "slide"
        }
      },
      "cell_type": "markdown",
      "source": "# Primitivas\n\n* Expresiones\n* Sentencias"
    },
    {
      "metadata": {
        "slideshow": {
          "slide_type": "subslide"
        }
      },
      "cell_type": "markdown",
      "source": "# Expresiones primitivas\n\n* Números enteros\n* Números reales\n* Verdadero/falso (booleanos)\n* Texto"
    },
    {
      "metadata": {
        "trusted": false
      },
      "cell_type": "code",
      "source": "12, 1.5, False, 'Texto'",
      "execution_count": 7,
      "outputs": [
        {
          "data": {
            "text/plain": "(12, 1.5, False, 'Texto')"
          },
          "execution_count": 7,
          "metadata": {},
          "output_type": "execute_result"
        }
      ]
    },
    {
      "metadata": {
        "slideshow": {
          "slide_type": "subslide"
        }
      },
      "cell_type": "markdown",
      "source": "## Expresiones compuestas\n\n* Operandos\n* Operadores\n\n```\n1/2 + 1/4\n```"
    },
    {
      "metadata": {
        "trusted": false
      },
      "cell_type": "code",
      "source": "",
      "execution_count": null,
      "outputs": []
    },
    {
      "metadata": {
        "slideshow": {
          "slide_type": "slide"
        }
      },
      "cell_type": "markdown",
      "source": "# Expresión de llamada a función\n\n* Función = operador\n* Operador antes de operandos\n* Operandos entre paréntesis"
    },
    {
      "metadata": {
        "trusted": false
      },
      "cell_type": "code",
      "source": "max(7.5,9.5)",
      "execution_count": 8,
      "outputs": [
        {
          "data": {
            "text/plain": "9.5"
          },
          "execution_count": 8,
          "metadata": {},
          "output_type": "execute_result"
        }
      ]
    },
    {
      "metadata": {
        "slideshow": {
          "slide_type": "subslide"
        }
      },
      "cell_type": "markdown",
      "source": "# Notación infija vs. llamada\n\n* Número de operandos\n* Anidamiento explícito\n* Notación homogénea"
    },
    {
      "metadata": {
        "trusted": false
      },
      "cell_type": "code",
      "source": "max(1.5,5.5,min(5.0,4.0),min(4.5,2.1))",
      "execution_count": 10,
      "outputs": [
        {
          "data": {
            "text/plain": "5.5"
          },
          "execution_count": 10,
          "metadata": {},
          "output_type": "execute_result"
        }
      ]
    },
    {
      "metadata": {
        "slideshow": {
          "slide_type": "slide"
        }
      },
      "cell_type": "markdown",
      "source": "# Importar elementos\n\n"
    },
    {
      "metadata": {
        "trusted": false
      },
      "cell_type": "code",
      "source": "from math import sqrt\nsqrt(256)",
      "execution_count": 1,
      "outputs": [
        {
          "data": {
            "text/plain": "16.0"
          },
          "execution_count": 1,
          "metadata": {},
          "output_type": "execute_result"
        }
      ]
    },
    {
      "metadata": {
        "trusted": false
      },
      "cell_type": "code",
      "source": "from operator import add, sub, mul\nsub(100, mul(7, add(8,4)))",
      "execution_count": 12,
      "outputs": [
        {
          "data": {
            "text/plain": "16"
          },
          "execution_count": 12,
          "metadata": {},
          "output_type": "execute_result"
        }
      ]
    },
    {
      "metadata": {
        "slideshow": {
          "slide_type": "slide"
        }
      },
      "cell_type": "markdown",
      "source": "# Importar bibliotecas\n\n"
    },
    {
      "metadata": {
        "trusted": false
      },
      "cell_type": "code",
      "source": "import math\nmath.sqrt(256)",
      "execution_count": 2,
      "outputs": [
        {
          "data": {
            "text/plain": "16.0"
          },
          "execution_count": 2,
          "metadata": {},
          "output_type": "execute_result"
        }
      ]
    },
    {
      "metadata": {
        "trusted": false
      },
      "cell_type": "code",
      "source": "import operator as op\nop.sub(100, op.mul(7, op.add(8,4)))",
      "execution_count": 3,
      "outputs": [
        {
          "data": {
            "text/plain": "16"
          },
          "execution_count": 3,
          "metadata": {},
          "output_type": "execute_result"
        }
      ]
    },
    {
      "metadata": {
        "slideshow": {
          "slide_type": "slide"
        }
      },
      "cell_type": "markdown",
      "source": "# Nombres\n\n* Abstracción primitiva"
    },
    {
      "metadata": {
        "trusted": false
      },
      "cell_type": "code",
      "source": "radio = 10\npi = 3.1415926535\narea = pi * radio ** 2",
      "execution_count": null,
      "outputs": []
    },
    {
      "metadata": {
        "slideshow": {
          "slide_type": "subslide"
        }
      },
      "cell_type": "markdown",
      "source": "## Las funciones no son diferentes..."
    },
    {
      "metadata": {
        "trusted": false
      },
      "cell_type": "code",
      "source": "f = max\nf(2,5,7)",
      "execution_count": 13,
      "outputs": [
        {
          "data": {
            "text/plain": "7"
          },
          "execution_count": 13,
          "metadata": {},
          "output_type": "execute_result"
        }
      ]
    },
    {
      "metadata": {
        "trusted": false
      },
      "cell_type": "code",
      "source": "f = min\nf(2,5,7)",
      "execution_count": 14,
      "outputs": [
        {
          "data": {
            "text/plain": "2"
          },
          "execution_count": 14,
          "metadata": {},
          "output_type": "execute_result"
        }
      ]
    },
    {
      "metadata": {
        "slideshow": {
          "slide_type": "slide"
        }
      },
      "cell_type": "markdown",
      "source": "# Evaluar expresiones\n\n* Evaluar operador\n* Evaluar operandos\n* Aplicar operador a operandos"
    },
    {
      "metadata": {
        "trusted": true,
        "slideshow": {
          "slide_type": "subslide"
        }
      },
      "cell_type": "markdown",
      "source": "<img src=\"https://rawgit.com/FranciscoMoya/notebooks-eii/master/img/expr-compuesta-func.png\">"
    },
    {
      "metadata": {
        "slideshow": {
          "slide_type": "skip"
        },
        "trusted": true
      },
      "cell_type": "code",
      "source": "!pip install pixiedust\n#!pip install matplotlib\n#!pip install pandas\nimport pixiedust\n# Los print en ejecución paso a paso no funcionan.  Un workaround es \n# poner un breakpoint después de cada print y pulsar el botón Run para\n# ejecutar los print.",
      "execution_count": 2,
      "outputs": [
        {
          "output_type": "stream",
          "text": "Collecting pixiedust\n\u001b[?25l  Downloading https://files.pythonhosted.org/packages/a8/d1/e3df504005abd892fc5ddfabcb23f5d1fc4d74290f0efe4767e23293d9f5/pixiedust-1.1.11.tar.gz (190kB)\n\u001b[K    100% |████████████████████████████████| 194kB 3.7MB/s ta 0:00:01\n\u001b[?25hCollecting mpld3 (from pixiedust)\n\u001b[?25l  Downloading https://files.pythonhosted.org/packages/91/95/a52d3a83d0a29ba0d6898f6727e9858fe7a43f6c2ce81a5fe7e05f0f4912/mpld3-0.3.tar.gz (788kB)\n\u001b[K    100% |████████████████████████████████| 798kB 2.7MB/s eta 0:00:01\n\u001b[?25hRequirement already satisfied: lxml in /home/nbuser/anaconda3_420/lib/python3.5/site-packages (from pixiedust) (3.6.4)\nCollecting geojson (from pixiedust)\n  Downloading https://files.pythonhosted.org/packages/8d/39/231105abbfd2332f108cdbfe736e56324949fa9e80e536ae60a082cf96a9/geojson-2.4.0-py2.py3-none-any.whl\nCollecting astunparse (from pixiedust)\n  Downloading https://files.pythonhosted.org/packages/8b/ea/d38686f1718e307d83673d905dcffd142640a31a217e4e76d1de78f21b20/astunparse-1.5.0-py2.py3-none-any.whl\nCollecting markdown (from pixiedust)\n\u001b[?25l  Downloading https://files.pythonhosted.org/packages/6d/7d/488b90f470b96531a3f5788cf12a93332f543dbab13c423a5e7ce96a0493/Markdown-2.6.11-py2.py3-none-any.whl (78kB)\n\u001b[K    100% |████████████████████████████████| 81kB 4.1MB/s ta 0:00:01\n\u001b[?25hCollecting colour (from pixiedust)\n  Downloading https://files.pythonhosted.org/packages/74/46/e81907704ab203206769dee1385dc77e1407576ff8f50a0681d0a6b541be/colour-0.1.5-py2.py3-none-any.whl\nRequirement already satisfied: wheel<1.0,>=0.23.0 in /home/nbuser/anaconda3_420/lib/python3.5/site-packages (from astunparse->pixiedust) (0.29.0)\nRequirement already satisfied: six<2.0,>=1.6.1 in /home/nbuser/anaconda3_420/lib/python3.5/site-packages (from astunparse->pixiedust) (1.10.0)\nBuilding wheels for collected packages: pixiedust, mpld3\n  Running setup.py bdist_wheel for pixiedust ... \u001b[?25ldone\n\u001b[?25h  Stored in directory: /home/nbuser/.cache/pip/wheels/2a/fd/3b/985d85a6f3f6b508693cc40948fd6e68569ccebc15baf491e1\n  Running setup.py bdist_wheel for mpld3 ... \u001b[?25ldone\n\u001b[?25h  Stored in directory: /home/nbuser/.cache/pip/wheels/c0/47/fb/8a64f89aecfe0059830479308ad42d62e898a3e3cefdf6ba28\nSuccessfully built pixiedust mpld3\nInstalling collected packages: mpld3, geojson, astunparse, markdown, colour, pixiedust\nSuccessfully installed astunparse-1.5.0 colour-0.1.5 geojson-2.4.0 markdown-2.6.11 mpld3-0.3 pixiedust-1.1.11\nPixiedust database opened successfully\nTable VERSION_TRACKER created successfully\nTable METRICS_TRACKER created successfully\n\nShare anonymous install statistics? (opt-out instructions)\n\nPixieDust will record metadata on its environment the next time the package is installed or updated. The data is anonymized and aggregated to help plan for future releases, and records only the following values:\n\n{\n   \"data_sent\": currentDate,\n   \"runtime\": \"python\",\n   \"application_version\": currentPixiedustVersion,\n   \"space_id\": nonIdentifyingUniqueId,\n   \"config\": {\n       \"repository_id\": \"https://github.com/ibm-watson-data-lab/pixiedust\",\n       \"target_runtimes\": [\"Data Science Experience\"],\n       \"event_id\": \"web\",\n       \"event_organizer\": \"dev-journeys\"\n   }\n}\nYou can opt out by calling pixiedust.optOut() in a new cell.\n",
          "name": "stdout"
        },
        {
          "output_type": "display_data",
          "data": {
            "text/plain": "<IPython.core.display.HTML object>",
            "text/html": "\n        <div style=\"margin:10px\">\n            <a href=\"https://github.com/ibm-watson-data-lab/pixiedust\" target=\"_new\">\n                <img src=\"https://github.com/ibm-watson-data-lab/pixiedust/raw/master/docs/_static/pd_icon32.png\" style=\"float:left;margin-right:10px\"/>\n            </a>\n            <span>Pixiedust version 1.1.11</span>\n        </div>\n        "
          },
          "metadata": {}
        },
        {
          "output_type": "stream",
          "text": "Pixiedust runtime updated. Please restart kernel\nTable USER_PREFERENCES created successfully\nTable service_connections created successfully\n",
          "name": "stdout"
        }
      ]
    },
    {
      "metadata": {
        "hideCode": false,
        "hideOutput": false,
        "hidePrompt": true,
        "pixiedust": {
          "displayParams": {}
        },
        "slideshow": {
          "slide_type": "subslide"
        },
        "trusted": true
      },
      "cell_type": "code",
      "source": "%%pixie_debugger -b 4 5\ndef add(a,b): return a + b\ndef mul(a,b): return a * b\n\nmul(add(2,mul(4,6)),add(3,5))",
      "execution_count": 3,
      "outputs": [
        {
          "data": {
            "text/plain": "<IPython.core.display.HTML object>",
            "text/html": "<style type=\"text/css\">.pd_warning{display:none;}</style><div class=\"pd_warning\"><em>Hey, there's something awesome here! To see it, open this notebook outside GitHub, in a viewer like Jupyter</em></div>"
          },
          "metadata": {
            "pixieapp_metadata": null
          },
          "output_type": "display_data"
        }
      ]
    },
    {
      "metadata": {
        "slideshow": {
          "slide_type": "subslide"
        },
        "trusted": true
      },
      "cell_type": "markdown",
      "source": "<img src=\"https://rawgit.com/FranciscoMoya/notebooks-eii/master/img/expr-compuesta-inl.png\">"
    },
    {
      "metadata": {
        "slideshow": {
          "slide_type": "slide"
        }
      },
      "cell_type": "markdown",
      "source": "# Consistencia de tipos"
    },
    {
      "metadata": {
        "trusted": false
      },
      "cell_type": "code",
      "source": "cadena = 'Hola, '\nentero = 2",
      "execution_count": null,
      "outputs": []
    },
    {
      "metadata": {
        "trusted": false
      },
      "cell_type": "code",
      "source": "cadena + 'Paco'",
      "execution_count": 23,
      "outputs": [
        {
          "data": {
            "text/plain": "'Hola, Paco'"
          },
          "execution_count": 23,
          "metadata": {},
          "output_type": "execute_result"
        }
      ]
    },
    {
      "metadata": {
        "trusted": false
      },
      "cell_type": "code",
      "source": "entero + 3",
      "execution_count": 24,
      "outputs": [
        {
          "data": {
            "text/plain": "5"
          },
          "execution_count": 24,
          "metadata": {},
          "output_type": "execute_result"
        }
      ]
    },
    {
      "metadata": {
        "slideshow": {
          "slide_type": "slide"
        }
      },
      "cell_type": "markdown",
      "source": "# Consistencia de tipos (2)"
    },
    {
      "metadata": {
        "trusted": false
      },
      "cell_type": "code",
      "source": "cadena + entero",
      "execution_count": 25,
      "outputs": [
        {
          "ename": "TypeError",
          "evalue": "must be str, not int",
          "output_type": "error",
          "traceback": [
            "\u001b[1;31m---------------------------------------------------------------------------\u001b[0m",
            "\u001b[1;31mTypeError\u001b[0m                                 Traceback (most recent call last)",
            "\u001b[1;32m<ipython-input-25-15a8a047da42>\u001b[0m in \u001b[0;36m<module>\u001b[1;34m()\u001b[0m\n\u001b[1;32m----> 1\u001b[1;33m \u001b[0mcadena\u001b[0m \u001b[1;33m+\u001b[0m \u001b[0mentero\u001b[0m\u001b[1;33m\u001b[0m\u001b[0m\n\u001b[0m",
            "\u001b[1;31mTypeError\u001b[0m: must be str, not int"
          ]
        }
      ]
    },
    {
      "metadata": {
        "trusted": false
      },
      "cell_type": "code",
      "source": "type(cadena), type(entero)",
      "execution_count": 26,
      "outputs": [
        {
          "data": {
            "text/plain": "(str, int)"
          },
          "execution_count": 26,
          "metadata": {},
          "output_type": "execute_result"
        }
      ]
    },
    {
      "metadata": {
        "slideshow": {
          "slide_type": "slide"
        }
      },
      "cell_type": "markdown",
      "source": "# Hola Mundo revisado (1)\n"
    },
    {
      "metadata": {
        "trusted": false
      },
      "cell_type": "code",
      "source": "def saludar(nombre):\n    print('Hola,', nombre)",
      "execution_count": 15,
      "outputs": []
    },
    {
      "metadata": {
        "trusted": false
      },
      "cell_type": "code",
      "source": "saludar('Mundo')\nsaludar('Paco')",
      "execution_count": 16,
      "outputs": [
        {
          "name": "stdout",
          "output_type": "stream",
          "text": "Hola, Mundo\nHola, Paco\n"
        }
      ]
    },
    {
      "metadata": {
        "slideshow": {
          "slide_type": "slide"
        }
      },
      "cell_type": "markdown",
      "source": "# Hola Mundo revisado (2)\n"
    },
    {
      "metadata": {
        "trusted": false
      },
      "cell_type": "code",
      "source": "def saludo(nombre):\n    return 'Hola, ' + nombre",
      "execution_count": 17,
      "outputs": []
    },
    {
      "metadata": {
        "trusted": false
      },
      "cell_type": "code",
      "source": "print(saludo('Mundo'))\nprint(saludo('Paco'))",
      "execution_count": 18,
      "outputs": [
        {
          "name": "stdout",
          "output_type": "stream",
          "text": "Hola, Mundo\nHola, Paco\n"
        }
      ]
    },
    {
      "metadata": {
        "slideshow": {
          "slide_type": "slide"
        }
      },
      "cell_type": "markdown",
      "source": "# Funciones puras e impuras\n\n* **Pura**\n  * Resultado depende solo de args\n* **Impura**\n  * Tiene efectos de lado\n  * No es idempotente\n  * No se componen con facilidad"
    },
    {
      "metadata": {
        "slideshow": {
          "slide_type": "slide"
        }
      },
      "cell_type": "markdown",
      "source": "# Créditos\n\n* Extractos de la primera parte de [Composing Programs](http://www.composingprograms.com/) de John De Nero, basado en [Structure and Interpretation of Computer Programs](https://mitpress.mit.edu/sicp/) de Harold Abelson, Gerald Jay Sussman y Julie Sussman\n* Extractos de la segunda parte de MIT Open Courseware (6.00 [Introduction to Computer Science and Programming](http://ocw.mit.edu/courses/electrical-engineering-and-computer-science/6-00-introduction-to-computer-science-and-programming-fall-2008/)) de Eric Grimson y John Guttag"
    }
  ],
  "metadata": {
    "celltoolbar": "Slideshow",
    "kernelspec": {
      "name": "python3",
      "display_name": "Python 3",
      "language": "python"
    },
    "language_info": {
      "mimetype": "text/x-python",
      "nbconvert_exporter": "python",
      "name": "python",
      "pygments_lexer": "ipython3",
      "version": "3.5.4",
      "file_extension": ".py",
      "codemirror_mode": {
        "version": 3,
        "name": "ipython"
      }
    }
  },
  "nbformat": 4,
  "nbformat_minor": 2
}