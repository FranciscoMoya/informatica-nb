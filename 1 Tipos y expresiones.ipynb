{
  "cells": [
    {
      "metadata": {
        "slideshow": {
          "slide_type": "notes"
        }
      },
      "cell_type": "markdown",
      "source": "Por si te perdiste la clase la introducción completa puedes encontrarla en [este enlace](https://franciscomoya.github.io/informatica-doc/docs/elem.html)."
    },
    {
      "metadata": {
        "collapsed": true,
        "slideshow": {
          "slide_type": "slide"
        }
      },
      "cell_type": "markdown",
      "source": "# Elementos de un programa\n\n* Primitivas\n* Composición\n* Abstracción"
    },
    {
      "metadata": {
        "slideshow": {
          "slide_type": "slide"
        }
      },
      "cell_type": "markdown",
      "source": "# Primitivas\n\n* Expresiones\n* Sentencias"
    },
    {
      "metadata": {
        "slideshow": {
          "slide_type": "subslide"
        }
      },
      "cell_type": "markdown",
      "source": "# Expresiones primitivas\n\n* Números enteros\n* Números reales\n* Verdadero/falso (booleanos)\n* Texto"
    },
    {
      "metadata": {
        "trusted": false
      },
      "cell_type": "code",
      "source": "12, 1.5, False, 'Texto'",
      "execution_count": 7,
      "outputs": [
        {
          "data": {
            "text/plain": "(12, 1.5, False, 'Texto')"
          },
          "execution_count": 7,
          "metadata": {},
          "output_type": "execute_result"
        }
      ]
    },
    {
      "metadata": {
        "slideshow": {
          "slide_type": "subslide"
        }
      },
      "cell_type": "markdown",
      "source": "## Expresiones compuestas\n\n* Operandos\n* Operadores\n\n```\n1/2 + 1/4\n```"
    },
    {
      "metadata": {
        "trusted": false
      },
      "cell_type": "code",
      "source": "",
      "execution_count": null,
      "outputs": []
    },
    {
      "metadata": {
        "slideshow": {
          "slide_type": "slide"
        }
      },
      "cell_type": "markdown",
      "source": "# Expresión de llamada a función\n\n* Función = operador\n* Operador antes de operandos\n* Operandos entre paréntesis"
    },
    {
      "metadata": {
        "trusted": false
      },
      "cell_type": "code",
      "source": "max(7.5,9.5)",
      "execution_count": 8,
      "outputs": [
        {
          "data": {
            "text/plain": "9.5"
          },
          "execution_count": 8,
          "metadata": {},
          "output_type": "execute_result"
        }
      ]
    },
    {
      "metadata": {
        "slideshow": {
          "slide_type": "subslide"
        }
      },
      "cell_type": "markdown",
      "source": "# Notación infija vs. llamada\n\n* Número de operandos\n* Anidamiento explícito\n* Notación homogénea"
    },
    {
      "metadata": {
        "trusted": false
      },
      "cell_type": "code",
      "source": "max(1.5,5.5,min(5.0,4.0),min(4.5,2.1))",
      "execution_count": 10,
      "outputs": [
        {
          "data": {
            "text/plain": "5.5"
          },
          "execution_count": 10,
          "metadata": {},
          "output_type": "execute_result"
        }
      ]
    },
    {
      "metadata": {
        "slideshow": {
          "slide_type": "slide"
        }
      },
      "cell_type": "markdown",
      "source": "# Importar elementos\n\n"
    },
    {
      "metadata": {
        "trusted": false
      },
      "cell_type": "code",
      "source": "from math import sqrt\nsqrt(256)",
      "execution_count": 1,
      "outputs": [
        {
          "data": {
            "text/plain": "16.0"
          },
          "execution_count": 1,
          "metadata": {},
          "output_type": "execute_result"
        }
      ]
    },
    {
      "metadata": {
        "trusted": false
      },
      "cell_type": "code",
      "source": "from operator import add, sub, mul\nsub(100, mul(7, add(8,4)))",
      "execution_count": 12,
      "outputs": [
        {
          "data": {
            "text/plain": "16"
          },
          "execution_count": 12,
          "metadata": {},
          "output_type": "execute_result"
        }
      ]
    },
    {
      "metadata": {
        "slideshow": {
          "slide_type": "slide"
        }
      },
      "cell_type": "markdown",
      "source": "# Importar bibliotecas\n\n"
    },
    {
      "metadata": {
        "trusted": false
      },
      "cell_type": "code",
      "source": "import math\nmath.sqrt(256)",
      "execution_count": 2,
      "outputs": [
        {
          "data": {
            "text/plain": "16.0"
          },
          "execution_count": 2,
          "metadata": {},
          "output_type": "execute_result"
        }
      ]
    },
    {
      "metadata": {
        "trusted": false
      },
      "cell_type": "code",
      "source": "import operator as op\nop.sub(100, op.mul(7, op.add(8,4)))",
      "execution_count": 3,
      "outputs": [
        {
          "data": {
            "text/plain": "16"
          },
          "execution_count": 3,
          "metadata": {},
          "output_type": "execute_result"
        }
      ]
    },
    {
      "metadata": {
        "slideshow": {
          "slide_type": "slide"
        }
      },
      "cell_type": "markdown",
      "source": "# Nombres\n\n* Abstracción primitiva"
    },
    {
      "metadata": {
        "trusted": false
      },
      "cell_type": "code",
      "source": "radio = 10\npi = 3.1415926535\narea = pi * radio ** 2",
      "execution_count": null,
      "outputs": []
    },
    {
      "metadata": {
        "slideshow": {
          "slide_type": "subslide"
        }
      },
      "cell_type": "markdown",
      "source": "## Las funciones no son diferentes..."
    },
    {
      "metadata": {
        "trusted": false
      },
      "cell_type": "code",
      "source": "f = max\nf(2,5,7)",
      "execution_count": 13,
      "outputs": [
        {
          "data": {
            "text/plain": "7"
          },
          "execution_count": 13,
          "metadata": {},
          "output_type": "execute_result"
        }
      ]
    },
    {
      "metadata": {
        "trusted": false
      },
      "cell_type": "code",
      "source": "f = min\nf(2,5,7)",
      "execution_count": 14,
      "outputs": [
        {
          "data": {
            "text/plain": "2"
          },
          "execution_count": 14,
          "metadata": {},
          "output_type": "execute_result"
        }
      ]
    },
    {
      "metadata": {
        "slideshow": {
          "slide_type": "slide"
        }
      },
      "cell_type": "markdown",
      "source": "# Evaluar expresiones\n\n* Evaluar operador\n* Evaluar operandos\n* Aplicar operador a operandos"
    },
    {
      "metadata": {
        "slideshow": {
          "slide_type": "subslide"
        }
      },
      "cell_type": "markdown",
      "source": "![expr-compuesta-func.png](//rawgit.com/FranciscoMoya/notebooks-eii/master/img/expr-compuesta-func.png)"
    },
    {
      "metadata": {
        "slideshow": {
          "slide_type": "subslide"
        }
      },
      "cell_type": "markdown",
      "source": "![expr-compuesta-inl.png](//rawgit.com/FranciscoMoya/notebooks-eii/master/img/expr-compuesta-inl.png)"
    },
    {
      "metadata": {
        "slideshow": {
          "slide_type": "slide"
        }
      },
      "cell_type": "markdown",
      "source": "# Consistencia de tipos"
    },
    {
      "metadata": {
        "trusted": false
      },
      "cell_type": "code",
      "source": "cadena = 'Hola, '\nentero = 2",
      "execution_count": null,
      "outputs": []
    },
    {
      "metadata": {
        "trusted": false
      },
      "cell_type": "code",
      "source": "cadena + 'Paco'",
      "execution_count": 23,
      "outputs": [
        {
          "data": {
            "text/plain": "'Hola, Paco'"
          },
          "execution_count": 23,
          "metadata": {},
          "output_type": "execute_result"
        }
      ]
    },
    {
      "metadata": {
        "trusted": false
      },
      "cell_type": "code",
      "source": "entero + 3",
      "execution_count": 24,
      "outputs": [
        {
          "data": {
            "text/plain": "5"
          },
          "execution_count": 24,
          "metadata": {},
          "output_type": "execute_result"
        }
      ]
    },
    {
      "metadata": {
        "slideshow": {
          "slide_type": "slide"
        }
      },
      "cell_type": "markdown",
      "source": "# Consistencia de tipos (2)"
    },
    {
      "metadata": {
        "trusted": false
      },
      "cell_type": "code",
      "source": "cadena + entero",
      "execution_count": 25,
      "outputs": [
        {
          "ename": "TypeError",
          "evalue": "must be str, not int",
          "output_type": "error",
          "traceback": [
            "\u001b[1;31m---------------------------------------------------------------------------\u001b[0m",
            "\u001b[1;31mTypeError\u001b[0m                                 Traceback (most recent call last)",
            "\u001b[1;32m<ipython-input-25-15a8a047da42>\u001b[0m in \u001b[0;36m<module>\u001b[1;34m()\u001b[0m\n\u001b[1;32m----> 1\u001b[1;33m \u001b[0mcadena\u001b[0m \u001b[1;33m+\u001b[0m \u001b[0mentero\u001b[0m\u001b[1;33m\u001b[0m\u001b[0m\n\u001b[0m",
            "\u001b[1;31mTypeError\u001b[0m: must be str, not int"
          ]
        }
      ]
    },
    {
      "metadata": {
        "trusted": false
      },
      "cell_type": "code",
      "source": "type(cadena), type(entero)",
      "execution_count": 26,
      "outputs": [
        {
          "data": {
            "text/plain": "(str, int)"
          },
          "execution_count": 26,
          "metadata": {},
          "output_type": "execute_result"
        }
      ]
    },
    {
      "metadata": {
        "slideshow": {
          "slide_type": "slide"
        }
      },
      "cell_type": "markdown",
      "source": "# Hola Mundo revisado (1)\n"
    },
    {
      "metadata": {
        "trusted": false
      },
      "cell_type": "code",
      "source": "def saludar(nombre):\n    print('Hola,', nombre)",
      "execution_count": 15,
      "outputs": []
    },
    {
      "metadata": {
        "trusted": false
      },
      "cell_type": "code",
      "source": "saludar('Mundo')\nsaludar('Paco')",
      "execution_count": 16,
      "outputs": [
        {
          "name": "stdout",
          "output_type": "stream",
          "text": "Hola, Mundo\nHola, Paco\n"
        }
      ]
    },
    {
      "metadata": {
        "slideshow": {
          "slide_type": "slide"
        }
      },
      "cell_type": "markdown",
      "source": "# Hola Mundo revisado (2)\n"
    },
    {
      "metadata": {
        "trusted": false
      },
      "cell_type": "code",
      "source": "def saludo(nombre):\n    return 'Hola, ' + nombre",
      "execution_count": 17,
      "outputs": []
    },
    {
      "metadata": {
        "trusted": false
      },
      "cell_type": "code",
      "source": "print(saludo('Mundo'))\nprint(saludo('Paco'))",
      "execution_count": 18,
      "outputs": [
        {
          "name": "stdout",
          "output_type": "stream",
          "text": "Hola, Mundo\nHola, Paco\n"
        }
      ]
    },
    {
      "metadata": {
        "slideshow": {
          "slide_type": "slide"
        }
      },
      "cell_type": "markdown",
      "source": "# Funciones puras e impuras\n\n* **Pura**\n  * Resultado depende solo de args\n* **Impura**\n  * Tiene efectos de lado\n  * No es idempotente\n  * No se componen con facilidad"
    },
    {
      "metadata": {
        "slideshow": {
          "slide_type": "slide"
        }
      },
      "cell_type": "markdown",
      "source": "# Créditos\n\n* Extractos de la primera parte de [Composing Programs](http://www.composingprograms.com/) de John De Nero, basado en [Structure and Interpretation of Computer Programs](https://mitpress.mit.edu/sicp/) de Harold Abelson, Gerald Jay Sussman y Julie Sussman\n* Extractos de la segunda parte de MIT Open Courseware (6.00 [Introduction to Computer Science and Programming](http://ocw.mit.edu/courses/electrical-engineering-and-computer-science/6-00-introduction-to-computer-science-and-programming-fall-2008/)) de Eric Grimson y John Guttag"
    }
  ],
  "metadata": {
    "celltoolbar": "Attachments",
    "kernelspec": {
      "name": "python3",
      "display_name": "Python 3",
      "language": "python"
    },
    "language_info": {
      "mimetype": "text/x-python",
      "nbconvert_exporter": "python",
      "name": "python",
      "pygments_lexer": "ipython3",
      "version": "3.5.4",
      "file_extension": ".py",
      "codemirror_mode": {
        "version": 3,
        "name": "ipython"
      }
    }
  },
  "nbformat": 4,
  "nbformat_minor": 2
}